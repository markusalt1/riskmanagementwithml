{
 "cells": [
  {
   "cell_type": "code",
   "execution_count": 1,
   "source": [
    "import joblib\r\n",
    "import os\r\n",
    "import numpy as np\r\n",
    "\r\n",
    "#folder with saved estimations produced by PTF_sim.ipynb\r\n",
    "filepath = \".../Resultate_final/PTF/saved_sim/\""
   ],
   "outputs": [],
   "metadata": {}
  },
  {
   "cell_type": "code",
   "execution_count": 2,
   "source": [
    "#load results\r\n",
    "results_NN = []\r\n",
    "results_RF = []\r\n",
    "\r\n",
    "for filename in os.listdir(filepath):\r\n",
    "    results_NN.append(joblib.load(filepath+filename)[0])\r\n",
    "    results_RF.append(joblib.load(filepath+filename)[1])\r\n",
    "    \r\n",
    "results_NN_avg = np.mean(results_NN,axis=0)\r\n",
    "results_RF_avg = np.mean(results_RF,axis=0)\r\n",
    "results_NN_var = np.var(results_NN,axis=0)\r\n",
    "results_RF_var = np.var(results_RF,axis=0)"
   ],
   "outputs": [],
   "metadata": {}
  },
  {
   "cell_type": "markdown",
   "source": [
    "Averages and variances of resulting estimations and metrics. To see which value corresponds to what quantity, see how results are output at the end of PTF_sim.ipynb."
   ],
   "metadata": {}
  },
  {
   "cell_type": "code",
   "execution_count": 3,
   "source": [
    "results_NN_avg"
   ],
   "outputs": [
    {
     "output_type": "execute_result",
     "data": {
      "text/plain": [
       "array([ 1.15679403e+03,  1.15736459e+03, -6.71936154e-02, -5.73550722e+00,\n",
       "       -6.69023114e-04, -6.56350587e-03,  1.10034073e+02,  1.10644089e+02,\n",
       "        1.07608682e+02])"
      ]
     },
     "metadata": {},
     "execution_count": 3
    }
   ],
   "metadata": {}
  },
  {
   "cell_type": "code",
   "execution_count": 4,
   "source": [
    "results_RF_avg"
   ],
   "outputs": [
    {
     "output_type": "execute_result",
     "data": {
      "text/plain": [
       "array([ 1.03477886e+03,  1.16036785e+03,  1.50480280e-02, -2.92103903e+00,\n",
       "       -1.24045513e-01,  1.17560803e-01,  1.06932166e+02,  1.07534317e+02,\n",
       "        1.04975096e+02])"
      ]
     },
     "metadata": {},
     "execution_count": 4
    }
   ],
   "metadata": {}
  },
  {
   "cell_type": "code",
   "execution_count": 5,
   "source": [
    "results_NN_var"
   ],
   "outputs": [
    {
     "output_type": "execute_result",
     "data": {
      "text/plain": [
       "array([2.79269674e+00, 9.56644053e+00, 1.49703536e-01, 1.32927616e+03,\n",
       "       1.05934057e-02, 1.08023162e-02, 4.72669665e-01, 5.14331695e-01,\n",
       "       3.67878823e-01])"
      ]
     },
     "metadata": {},
     "execution_count": 5
    }
   ],
   "metadata": {}
  },
  {
   "cell_type": "code",
   "execution_count": 6,
   "source": [
    "results_RF_var"
   ],
   "outputs": [
    {
     "output_type": "execute_result",
     "data": {
      "text/plain": [
       "array([2.17175532e+00, 8.82392913e+00, 3.16851891e-03, 2.90162300e+01,\n",
       "       5.78300969e-04, 6.63142341e-04, 2.73872635e-02, 3.78033366e-02,\n",
       "       1.61888007e-02])"
      ]
     },
     "metadata": {},
     "execution_count": 6
    }
   ],
   "metadata": {}
  },
  {
   "cell_type": "code",
   "execution_count": 7,
   "source": [
    "len(os.listdir(filepath))"
   ],
   "outputs": [
    {
     "output_type": "execute_result",
     "data": {
      "text/plain": [
       "101"
      ]
     },
     "metadata": {},
     "execution_count": 7
    }
   ],
   "metadata": {}
  }
 ],
 "metadata": {
  "kernelspec": {
   "display_name": "Python 3 (ipykernel)",
   "language": "python",
   "name": "python3"
  },
  "language_info": {
   "codemirror_mode": {
    "name": "ipython",
    "version": 3
   },
   "file_extension": ".py",
   "mimetype": "text/x-python",
   "name": "python",
   "nbconvert_exporter": "python",
   "pygments_lexer": "ipython3",
   "version": "3.8.0"
  }
 },
 "nbformat": 4,
 "nbformat_minor": 5
}