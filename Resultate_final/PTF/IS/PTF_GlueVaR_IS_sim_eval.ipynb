{
 "cells": [
  {
   "cell_type": "code",
   "execution_count": 1,
   "source": [
    "import joblib\r\n",
    "import os\r\n",
    "import numpy as np\r\n",
    "\r\n",
    "#folder with saved estimations produced by PTF_GlueVaR_IS_sim.ipynb\r\n",
    "filepath = \".../Resultate_final/PTF/IS/PTF_GlueVaR_IS_sim_saved/\""
   ],
   "outputs": [],
   "metadata": {}
  },
  {
   "cell_type": "code",
   "execution_count": 2,
   "source": [
    "results_NN = []\r\n",
    "results_RF = []\r\n",
    "\r\n",
    "for filename in os.listdir(filepath):\r\n",
    "    if filename != '.ipynb_checkpoints':\r\n",
    "        results_NN.append(joblib.load(filepath+filename)[0])\r\n",
    "        results_RF.append(joblib.load(filepath+filename)[1])\r\n",
    "    \r\n",
    "results_NN_avg = np.mean(results_NN,axis=0)\r\n",
    "results_RF_avg = np.mean(results_RF,axis=0)\r\n",
    "results_NN_var = np.var(results_NN,axis=0)\r\n",
    "results_RF_var = np.var(results_RF,axis=0)"
   ],
   "outputs": [],
   "metadata": {}
  },
  {
   "cell_type": "markdown",
   "source": [
    "Averages and variances of resulting estimations and metrics. To see which value corresponds to what quantity, see how results are output at the end of PTF_sim.ipynb."
   ],
   "metadata": {}
  },
  {
   "cell_type": "code",
   "execution_count": 3,
   "source": [
    "results_NN_avg"
   ],
   "outputs": [
    {
     "output_type": "execute_result",
     "data": {
      "text/plain": [
       "array([1.34960507e+03, 1.35046795e+03, 3.33242114e-02, 4.01967110e+00,\n",
       "       2.87275796e-02, 1.71072092e-02, 1.07889519e+02])"
      ]
     },
     "metadata": {},
     "execution_count": 3
    }
   ],
   "metadata": {}
  },
  {
   "cell_type": "code",
   "execution_count": 4,
   "source": [
    "results_RF_avg"
   ],
   "outputs": [
    {
     "output_type": "execute_result",
     "data": {
      "text/plain": [
       "array([ 1.15629231e+03,  1.33103811e+03,  2.70367104e-02, -1.38722588e+00,\n",
       "       -7.74555933e-02,  1.04984356e-01,  1.07353722e+02])"
      ]
     },
     "metadata": {},
     "execution_count": 4
    }
   ],
   "metadata": {}
  },
  {
   "cell_type": "code",
   "execution_count": 5,
   "source": [
    "results_NN_var"
   ],
   "outputs": [
    {
     "output_type": "execute_result",
     "data": {
      "text/plain": [
       "array([6.90400653e+02, 6.76000181e+02, 1.34086243e-01, 1.48271604e+03,\n",
       "       1.28352904e-02, 3.31111896e-03, 1.34955043e-01])"
      ]
     },
     "metadata": {},
     "execution_count": 5
    }
   ],
   "metadata": {}
  },
  {
   "cell_type": "code",
   "execution_count": 6,
   "source": [
    "results_RF_var"
   ],
   "outputs": [
    {
     "output_type": "execute_result",
     "data": {
      "text/plain": [
       "array([7.14717685e+02, 6.63626856e+01, 3.61797480e-03, 3.84162765e+01,\n",
       "       6.80737596e-04, 3.63827309e-04, 4.41779144e-03])"
      ]
     },
     "metadata": {},
     "execution_count": 6
    }
   ],
   "metadata": {}
  },
  {
   "cell_type": "code",
   "execution_count": 7,
   "source": [
    "len(os.listdir(filepath))"
   ],
   "outputs": [
    {
     "output_type": "execute_result",
     "data": {
      "text/plain": [
       "100"
      ]
     },
     "metadata": {},
     "execution_count": 7
    }
   ],
   "metadata": {}
  },
  {
   "cell_type": "code",
   "execution_count": null,
   "source": [],
   "outputs": [],
   "metadata": {}
  }
 ],
 "metadata": {
  "kernelspec": {
   "display_name": "Python 3 (ipykernel)",
   "language": "python",
   "name": "python3"
  },
  "language_info": {
   "codemirror_mode": {
    "name": "ipython",
    "version": 3
   },
   "file_extension": ".py",
   "mimetype": "text/x-python",
   "name": "python",
   "nbconvert_exporter": "python",
   "pygments_lexer": "ipython3",
   "version": "3.8.0"
  }
 },
 "nbformat": 4,
 "nbformat_minor": 5
}