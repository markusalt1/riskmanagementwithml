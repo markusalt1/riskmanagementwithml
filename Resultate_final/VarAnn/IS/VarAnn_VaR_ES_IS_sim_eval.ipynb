{
 "cells": [
  {
   "cell_type": "code",
   "execution_count": 1,
   "source": [
    "import joblib\r\n",
    "import os\r\n",
    "import numpy as np\r\n",
    "\r\n",
    "#folder with saved estimations produced by PTF_VaR_ES_IS_sim.ipynb\r\n",
    "filepath = \".../Resultate_final/VarAnn/IS/VarAnn_VaR_ES_IS_sim_saved/\""
   ],
   "outputs": [],
   "metadata": {}
  },
  {
   "cell_type": "code",
   "execution_count": 2,
   "source": [
    "results_NN = []\r\n",
    "results_RF = []\r\n",
    "\r\n",
    "for filename in os.listdir(filepath):\r\n",
    "    if filename!='.ipynb_checkpoints':\r\n",
    "        results_NN.append(joblib.load(filepath+filename)[0])\r\n",
    "        results_RF.append(joblib.load(filepath+filename)[1])\r\n",
    "    \r\n",
    "results_NN_avg = np.mean(results_NN,axis=0)\r\n",
    "results_RF_avg = np.mean(results_RF,axis=0)\r\n",
    "results_NN_var = np.var(results_NN,axis=0)\r\n",
    "results_RF_var = np.var(results_RF,axis=0)"
   ],
   "outputs": [],
   "metadata": {}
  },
  {
   "cell_type": "markdown",
   "source": [
    "Averages and variances of resulting estimations and metrics. To see which value corresponds to what quantity, see how results are output at the end of PTF_sim.ipynb."
   ],
   "metadata": {}
  },
  {
   "cell_type": "code",
   "execution_count": 3,
   "source": [
    "results_NN_avg"
   ],
   "outputs": [
    {
     "output_type": "execute_result",
     "data": {
      "text/plain": [
       "array([ 3.66095405e+04,  6.24243586e+04, -2.57192663e-02, -3.64624053e+00,\n",
       "       -1.53283256e-02,  3.01980865e-04,  2.39550682e+00, -2.59049305e-01,\n",
       "       -1.24565164e+00,  4.47676332e-01,  9.76068600e-01,  1.26500033e+00,\n",
       "        1.40307482e+02,  1.42382008e+02])"
      ]
     },
     "metadata": {},
     "execution_count": 3
    }
   ],
   "metadata": {}
  },
  {
   "cell_type": "code",
   "execution_count": 4,
   "source": [
    "results_RF_avg"
   ],
   "outputs": [
    {
     "output_type": "execute_result",
     "data": {
      "text/plain": [
       "array([ 1.06477738e+04,  1.91247855e+04,  1.66365967e-02,  1.33045980e+00,\n",
       "       -3.96914896e-02,  4.91444045e-03,  2.48735478e+00, -1.48501867e-01,\n",
       "       -1.02273751e+00,  2.92040666e-01,  9.11218917e-01,  6.58145355e-01,\n",
       "        1.42431613e+02,  1.44137682e+02])"
      ]
     },
     "metadata": {},
     "execution_count": 4
    }
   ],
   "metadata": {}
  },
  {
   "cell_type": "code",
   "execution_count": 5,
   "source": [
    "results_NN_var"
   ],
   "outputs": [
    {
     "output_type": "execute_result",
     "data": {
      "text/plain": [
       "array([6.22068424e+09, 8.00413805e+10, 8.03456082e-01, 1.79953735e+04,\n",
       "       5.63787133e-01, 1.91685809e-06, 2.36934407e-02, 3.45119120e-02,\n",
       "       5.27396765e-02, 8.73145022e-03, 8.91652793e-03, 6.89103351e-02,\n",
       "       1.06505223e+00, 1.00915780e+00])"
      ]
     },
     "metadata": {},
     "execution_count": 5
    }
   ],
   "metadata": {}
  },
  {
   "cell_type": "code",
   "execution_count": 6,
   "source": [
    "results_RF_var"
   ],
   "outputs": [
    {
     "output_type": "execute_result",
     "data": {
      "text/plain": [
       "array([4.26007396e+07, 5.46031291e+09, 2.92822053e-02, 6.47774707e+02,\n",
       "       2.01083240e-02, 7.96215141e-04, 5.50758173e-02, 5.15998883e-03,\n",
       "       4.71811097e-02, 1.23339002e-01, 2.10548007e-03, 2.76237612e-02,\n",
       "       2.19839821e+00, 1.38982443e+00])"
      ]
     },
     "metadata": {},
     "execution_count": 6
    }
   ],
   "metadata": {}
  },
  {
   "cell_type": "code",
   "execution_count": 7,
   "source": [
    "len(os.listdir(filepath))"
   ],
   "outputs": [
    {
     "output_type": "execute_result",
     "data": {
      "text/plain": [
       "101"
      ]
     },
     "metadata": {},
     "execution_count": 7
    }
   ],
   "metadata": {}
  },
  {
   "cell_type": "code",
   "execution_count": null,
   "source": [],
   "outputs": [],
   "metadata": {}
  }
 ],
 "metadata": {
  "kernelspec": {
   "display_name": "Python 3 (ipykernel)",
   "language": "python",
   "name": "python3"
  },
  "language_info": {
   "codemirror_mode": {
    "name": "ipython",
    "version": 3
   },
   "file_extension": ".py",
   "mimetype": "text/x-python",
   "name": "python",
   "nbconvert_exporter": "python",
   "pygments_lexer": "ipython3",
   "version": "3.8.0"
  }
 },
 "nbformat": 4,
 "nbformat_minor": 5
}