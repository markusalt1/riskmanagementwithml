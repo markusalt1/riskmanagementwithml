{
 "cells": [
  {
   "cell_type": "code",
   "execution_count": 1,
   "source": [
    "import joblib\r\n",
    "import os\r\n",
    "import numpy as np\r\n",
    "\r\n",
    "#folder with saved estimations produced by VarAnn_GlueVaR_IS_sim.ipynb\r\n",
    "filepath = \".../Resultate_final/VarAnn/IS/VarAnn_GlueVaR_IS_sim_saved/\""
   ],
   "outputs": [],
   "metadata": {}
  },
  {
   "cell_type": "code",
   "execution_count": 2,
   "source": [
    "results_NN = []\r\n",
    "results_RF = []\r\n",
    "\r\n",
    "for filename in os.listdir(filepath):\r\n",
    "    if filename!='.ipynb_checkpoints':\r\n",
    "        results_NN.append(joblib.load(filepath+filename)[0])\r\n",
    "        results_RF.append(joblib.load(filepath+filename)[1])\r\n",
    "    \r\n",
    "results_NN_avg = np.mean(results_NN,axis=0)\r\n",
    "results_RF_avg = np.mean(results_RF,axis=0)\r\n",
    "results_NN_var = np.var(results_NN,axis=0)\r\n",
    "results_RF_var = np.var(results_RF,axis=0)"
   ],
   "outputs": [],
   "metadata": {}
  },
  {
   "cell_type": "markdown",
   "source": [
    "Averages and variances of resulting estimations and metrics. To see which value corresponds to what quantity, see how results are output at the end of PTF_sim.ipynb."
   ],
   "metadata": {}
  },
  {
   "cell_type": "code",
   "execution_count": 3,
   "source": [
    "results_NN_avg"
   ],
   "outputs": [
    {
     "output_type": "execute_result",
     "data": {
      "text/plain": [
       "array([ 2.70472052e+04,  1.06753182e+05,  4.41648087e-02,  8.93548350e+00,\n",
       "        1.56348613e-02, -2.78610621e-04,  1.89843667e+00, -2.12996409e-01,\n",
       "       -1.01258084e+00,  4.74810479e-01,  9.77577246e-01,  1.22989628e+00,\n",
       "        1.34003064e+02])"
      ]
     },
     "metadata": {},
     "execution_count": 3
    }
   ],
   "metadata": {}
  },
  {
   "cell_type": "code",
   "execution_count": 4,
   "source": [
    "results_RF_avg"
   ],
   "outputs": [
    {
     "output_type": "execute_result",
     "data": {
      "text/plain": [
       "array([ 2.13200343e+04,  9.78553692e+04,  1.67673221e-02,  3.12453264e+00,\n",
       "       -5.62378391e-02,  5.41939694e-03,  1.91457557e+00, -1.15624023e-01,\n",
       "       -9.06488081e-01,  4.66382499e-01,  9.81887688e-01,  1.29379719e+00,\n",
       "        1.35038391e+02])"
      ]
     },
     "metadata": {},
     "execution_count": 4
    }
   ],
   "metadata": {}
  },
  {
   "cell_type": "code",
   "execution_count": 5,
   "source": [
    "results_NN_var"
   ],
   "outputs": [
    {
     "output_type": "execute_result",
     "data": {
      "text/plain": [
       "array([5.79595074e+09, 2.63902261e+11, 6.18217569e-01, 1.19973906e+04,\n",
       "       4.02344875e-01, 3.80719195e-05, 5.24613851e-03, 8.45152525e-03,\n",
       "       7.73011009e-03, 2.76857047e-03, 4.73003100e-03, 2.02409010e-02,\n",
       "       6.33987554e-01])"
      ]
     },
     "metadata": {},
     "execution_count": 5
    }
   ],
   "metadata": {}
  },
  {
   "cell_type": "code",
   "execution_count": 6,
   "source": [
    "results_RF_var"
   ],
   "outputs": [
    {
     "output_type": "execute_result",
     "data": {
      "text/plain": [
       "array([1.84980712e+09, 2.47752829e+11, 4.92998568e-02, 1.41791542e+03,\n",
       "       3.89762406e-02, 9.14465574e-05, 8.21935437e-03, 1.46894613e-03,\n",
       "       6.70081285e-03, 4.28824994e-02, 6.60414083e-04, 1.46763580e-02,\n",
       "       4.27007102e+00])"
      ]
     },
     "metadata": {},
     "execution_count": 6
    }
   ],
   "metadata": {}
  },
  {
   "cell_type": "code",
   "execution_count": 7,
   "source": [
    "len(os.listdir(filepath))"
   ],
   "outputs": [
    {
     "output_type": "execute_result",
     "data": {
      "text/plain": [
       "100"
      ]
     },
     "metadata": {},
     "execution_count": 7
    }
   ],
   "metadata": {}
  },
  {
   "cell_type": "code",
   "execution_count": null,
   "source": [],
   "outputs": [],
   "metadata": {}
  }
 ],
 "metadata": {
  "kernelspec": {
   "display_name": "Python 3 (ipykernel)",
   "language": "python",
   "name": "python3"
  },
  "language_info": {
   "codemirror_mode": {
    "name": "ipython",
    "version": 3
   },
   "file_extension": ".py",
   "mimetype": "text/x-python",
   "name": "python",
   "nbconvert_exporter": "python",
   "pygments_lexer": "ipython3",
   "version": "3.8.0"
  }
 },
 "nbformat": 4,
 "nbformat_minor": 5
}