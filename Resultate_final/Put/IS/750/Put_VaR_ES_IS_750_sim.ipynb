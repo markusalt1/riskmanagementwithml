{
 "cells": [
  {
   "cell_type": "code",
   "execution_count": 1,
   "source": [
    "#Results were produced in stints. This is the number of the last stint.\r\n",
    "run = 1"
   ],
   "outputs": [],
   "metadata": {}
  },
  {
   "cell_type": "code",
   "execution_count": 2,
   "source": [
    "import numpy as np\r\n",
    "import tensorflow as tf\r\n",
    "from sklearn.ensemble import RandomForestRegressor\r\n",
    "from sklearn.metrics import mean_squared_error\r\n",
    "import matplotlib.pyplot as plt\r\n",
    "from scipy import stats\r\n",
    "from scipy import optimize\r\n",
    "import joblib\r\n",
    "\r\n",
    "#folder for saving results\r\n",
    "filepath = \".../Resultate_final/Put/IS/750/Put_VaR_ES_IS_750_sim_saved/\""
   ],
   "outputs": [],
   "metadata": {}
  },
  {
   "cell_type": "code",
   "execution_count": 3,
   "source": [
    "#Market and option parameters as in section 4.1 of 'Assessing Asset-Liability Risk with Neural Networks' (Cheridito, Ery, Wüthrich 2020)\r\n",
    "s_0 = 100\r\n",
    "r = 0.01\r\n",
    "mu = 0.05\r\n",
    "sigma = 0.2\r\n",
    "tau = 1/52\r\n",
    "T = 1/3\r\n",
    "K = 100\r\n",
    "\r\n",
    "#Confidence levels and parameters for Value-at-Risk, Expected Shortfall\r\n",
    "alpha_VaR = 0.995\r\n",
    "alpha_ES = 0.99"
   ],
   "outputs": [],
   "metadata": {}
  },
  {
   "cell_type": "code",
   "execution_count": 4,
   "source": [
    "#Sizes for training set, validation set, test set, and set size for Monte Carlo estimation of the risk measures\r\n",
    "M_1 = 1500000\r\n",
    "M_2 = 500000\r\n",
    "M_3 = 500000\r\n",
    "M_MC = 500000\r\n",
    "#size of the set of data points used to calculate an IS density\r\n",
    "M_IS = 750000\r\n",
    "#quantile for which the IS density will be computed\r\n",
    "alpha_IS = 0.995"
   ],
   "outputs": [],
   "metadata": {}
  },
  {
   "cell_type": "code",
   "execution_count": 5,
   "source": [
    "#Function for calculating simulated values of S_tau and simulated payoffs P_T from simulations of standard normal random variables\r\n",
    "def data_gen(Z,V):\r\n",
    "    #simulate S_tau under P\r\n",
    "    S_tau = s_0 * np.exp( (mu-0.5*sigma**2)*tau + sigma*np.sqrt(tau)*Z)\r\n",
    "    #simulate S_T given S_tau under Q\r\n",
    "    S_T = S_tau * np.exp( (r-0.5*sigma**2)*(T-tau) + sigma*np.sqrt(T-tau)*V)\r\n",
    "    #calculate corresponding discounted payoffs\r\n",
    "    P_T = np.exp(-r*(T-tau)) * np.maximum(K-S_T,0)\r\n",
    "    return S_tau, P_T\r\n",
    "\r\n",
    "#The density function of Z\r\n",
    "def f(y):\r\n",
    "    return stats.norm.pdf(y, loc=0, scale=1)\r\n",
    "\r\n",
    "#The density function of Z_\\theta (note that \\theta is replaced by x; this is needed for the least-squares solver to work)\r\n",
    "def f_theta(x, y):\r\n",
    "    return stats.norm.pdf(y, loc=x[0], scale=x[1])\r\n",
    "\r\n",
    "#This function describes the approximation of the expression inside the sum of m_2(theta)\r\n",
    "def g_q_alpha_hat_reweighted(x,L,q_alpha_hat):\r\n",
    "    return np.sqrt(f(y=L[:,0])/f_theta(y=L[:,0],x=x))*(L[:,-1]>q_alpha_hat)\r\n",
    "\r\n",
    "#bounds for the IS density parameters (for the mean parameter no bound is necessary, the standard deviation however needs to be non-negative)\r\n",
    "bnds_lower = np.array([-np.inf,0])\r\n",
    "bnds_upper = np.array([np.inf,np.inf])"
   ],
   "outputs": [],
   "metadata": {}
  },
  {
   "cell_type": "code",
   "execution_count": 6,
   "source": [
    "for j in range(100):\r\n",
    "    #Generating realisations of standard normal random variables\r\n",
    "    Z_train = np.random.normal(loc=0, scale=1, size=M_1)\r\n",
    "    V_train = np.random.normal(loc=0, scale=1, size=M_1)\r\n",
    "    Z_val = np.random.normal(loc=0, scale=1, size=M_2)\r\n",
    "    V_val = np.random.normal(loc=0, scale=1, size=M_2)\r\n",
    "    Z_test = np.random.normal(loc=0, scale=1, size=M_3)\r\n",
    "    V_test = np.random.normal(loc=0, scale=1, size=M_3)\r\n",
    "    Z_MC = np.random.normal(loc=0, scale=1, size=M_MC)\r\n",
    "    V_MC = np.random.normal(loc=0, scale=1, size=M_MC)\r\n",
    "\r\n",
    "    Z_IS = np.random.normal(loc=0, scale=1, size=M_IS)\r\n",
    "    V_IS = np.random.normal(loc=0, scale=1, size=M_IS)\r\n",
    "    S_tau_IS, P_T_IS = data_gen(Z=Z_IS, V=V_IS)\r\n",
    "\r\n",
    "\r\n",
    "    #define and compile neural network model, setup as in section 4.1 of 'Assessing Asset-Liability Risk with Neural Networks' (Cheridito, Ery, Wüthrich 2020)\r\n",
    "    bi_IS = np.log( np.sum(P_T_IS)/len(P_T_IS))\r\n",
    "    model_IS = tf.keras.models.Sequential([\r\n",
    "        tf.keras.layers.BatchNormalization(input_shape=(1,)),\r\n",
    "        tf.keras.layers.Dense(5, activation='tanh'),\r\n",
    "        tf.keras.layers.Dense(1, activation='exponential', bias_initializer=tf.keras.initializers.Constant(value=bi_IS))])\r\n",
    "    model_IS.compile(loss='mse', optimizer='adam', metrics=['mse'])\r\n",
    "    #train the neural network\r\n",
    "    b=model_IS.fit(x=S_tau_IS, y=P_T_IS, epochs=40, batch_size=10000, verbose=0)\r\n",
    "\r\n",
    "    #computation of \\theta^*_{NN}\r\n",
    "    L_IS = np.column_stack((Z_IS, model_IS.predict(S_tau_IS)[:,0]))\r\n",
    "    L_IS = L_IS[L_IS[:,-1].argsort()[::-1]]\r\n",
    "    q_alpha_IS_hat = L_IS[int(M_IS*(1-alpha_IS)-1), -1]\r\n",
    "    print('q_alpha_IS_hat_NN:', q_alpha_IS_hat)\r\n",
    "    \r\n",
    "    IS_NN = optimize.least_squares(g_q_alpha_hat_reweighted, x0=np.array([0,1]), bounds=(bnds_lower,bnds_upper), args=(L_IS, q_alpha_IS_hat)).x\r\n",
    "    print('IS_NN:', IS_NN)\r\n",
    "    #a runtime warning may occur here but in all trial runs this was not of concern as the optimization algorithm still executed successfully and the result was meaningful\r\n",
    "\r\n",
    "    #calculating DT(Z,\\theta^*_{NN})\r\n",
    "    Z_train_NN = Z_train*IS_NN[1] + IS_NN[0]\r\n",
    "    Z_val_NN = Z_val*IS_NN[1] + IS_NN[0]\r\n",
    "    Z_test_NN = Z_test*IS_NN[1] + IS_NN[0]\r\n",
    "    Z_MC_NN = Z_MC*IS_NN[1] + IS_NN[0]\r\n",
    "    #calculating the risk factors under the IS distribution and corresponding option prices\r\n",
    "    S_tau_train_NN, P_T_train_NN = data_gen(Z=Z_train_NN, V=V_train)\r\n",
    "    S_tau_val_NN, P_T_val_NN = data_gen(Z=Z_val_NN, V=V_val)\r\n",
    "    S_tau_test_NN, P_T_test_NN = data_gen(Z=Z_test_NN, V=V_test)\r\n",
    "    S_tau_MC_NN, P_T_MC_NN = data_gen(Z=Z_MC_NN, V=V_MC)\r\n",
    "\r\n",
    "    #define and compile neural network model, setup as in section 4.1 of 'Assessing Asset-Liability Risk with Neural Networks' (Cheridito, Ery, Wüthrich 2020)\r\n",
    "    bi = np.log( np.sum(P_T_train_NN)/len(P_T_train_NN))\r\n",
    "    model = tf.keras.models.Sequential([\r\n",
    "        tf.keras.layers.BatchNormalization(input_shape=(1,)),\r\n",
    "        tf.keras.layers.Dense(5, activation='tanh'),\r\n",
    "        tf.keras.layers.Dense(1, activation='exponential', bias_initializer=tf.keras.initializers.Constant(value=bi))])\r\n",
    "    model.compile(loss='mse', optimizer='adam', metrics=['mse'])\r\n",
    "    #train the model\r\n",
    "    hist = model.fit(x=S_tau_train_NN, y=P_T_train_NN, epochs=40, batch_size=10000, validation_data=(S_tau_val_NN,P_T_val_NN), verbose=0)\r\n",
    "\r\n",
    "    #Calculating the parts of the test set that fall into B_1 and B_2\r\n",
    "    s_40 = s_0 * np.exp( (mu-0.5*sigma**2)*tau + sigma*np.sqrt(tau)*stats.norm.ppf(0.4, loc=0, scale=1))\r\n",
    "    s_70 = s_0 * np.exp( (mu-0.5*sigma**2)*tau + sigma*np.sqrt(tau)*stats.norm.ppf(0.7, loc=0, scale=1))\r\n",
    "    B_1_NN = S_tau_test_NN < s_40\r\n",
    "    B_2_NN = S_tau_test_NN > s_70\r\n",
    "\r\n",
    "    #computation of the metrics (a), (b), (c) with B_1 and (c) with B_2 for the neural network\r\n",
    "    P_T_pred_NN = model.predict(S_tau_test_NN)[:,0]\r\n",
    "    mse_train_NN = hist.history['mse'][-1]\r\n",
    "    mse_val_NN = hist.history['val_mse'][-1]\r\n",
    "    mc_tmp = P_T_pred_NN - P_T_test_NN\r\n",
    "    metric_a_NN = np.sum(mc_tmp)/len(P_T_test_NN)\r\n",
    "    metric_b_NN = np.sum((mc_tmp)*P_T_pred_NN)/len(P_T_test_NN)\r\n",
    "    metric_c_B_1_NN = np.sum(mc_tmp[B_1_NN])/len(P_T_test_NN)\r\n",
    "    metric_c_B_2_NN = np.sum(mc_tmp[B_2_NN])/len(P_T_test_NN)\r\n",
    "\r\n",
    "    #computation of Value-at-Risk and Expected Shortfall using the neural network\r\n",
    "    P_T_pred_MC_NN = model.predict(S_tau_MC_NN)[:,0]\r\n",
    "    MC = np.column_stack((Z_MC_NN, P_T_pred_MC_NN))\r\n",
    "    MC_sort = MC[MC[:,-1].argsort()[::-1]]\r\n",
    "    w = f(MC_sort[:,0])/(M_MC*f_theta(y=MC_sort[:,0], x=IS_NN))\r\n",
    "\r\n",
    "    j_VaR = 0\r\n",
    "    w_sum_tmp = 0\r\n",
    "    while (w_sum_tmp <= (1-alpha_VaR) and j_VaR<M_MC):\r\n",
    "        w_sum_tmp += w[j_VaR]\r\n",
    "        j_VaR += 1\r\n",
    "    VaR_hat_NN = MC_sort[j_VaR-1,-1]\r\n",
    "    print('VaR_hat_NN:',VaR_hat_NN)\r\n",
    "    \r\n",
    "    j_ES = 0\r\n",
    "    w_sum_tmp = 0\r\n",
    "    while (w_sum_tmp <= (1-alpha_ES) and j_ES<M_MC):\r\n",
    "        w_sum_tmp += w[j_ES]\r\n",
    "        j_ES += 1\r\n",
    "    ES_hat_NN = 1/(1-alpha_ES) * np.sum(w[0:j_ES-1]*MC_sort[0:j_ES-1,1]) + ( 1 - (1 / (1-alpha_ES)) * np.sum(w[0:j_ES-1]) )*MC_sort[j_ES,1]\r\n",
    "    print('ES_hat_NN:',ES_hat_NN)\r\n",
    "\r\n",
    "\r\n",
    "\r\n",
    "    #define and train random forest with the same hyperparameter as in Put_VaR_ES_IS_750.ipynb\r\n",
    "    rfr_IS = RandomForestRegressor(n_estimators=160, criterion='squared_error', min_samples_leaf=500, bootstrap=True, verbose=0, n_jobs=-1)\r\n",
    "    rfr_IS.fit(X=S_tau_IS.reshape(-1,1), y=P_T_IS)\r\n",
    "\r\n",
    "    #computation of \\theta^*_{RF}\r\n",
    "    L_IS = np.column_stack((Z_IS, rfr_IS.predict(S_tau_IS.reshape(-1,1))))\r\n",
    "    L_IS = L_IS[L_IS[:,-1].argsort()[::-1]]\r\n",
    "    q_alpha_IS_hat = L_IS[int(M_IS*(1-alpha_IS)-1), -1]\r\n",
    "    print('q_alpha_IS_hat_RF:', q_alpha_IS_hat)\r\n",
    "    \r\n",
    "    IS_RF = optimize.least_squares(g_q_alpha_hat_reweighted, x0=np.array([0,1]), bounds=(bnds_lower,bnds_upper), args=(L_IS, q_alpha_IS_hat)).x\r\n",
    "    print('IS_RF:', IS_RF)\r\n",
    "    #a runtime warning may occur here but in all trial runs this was not of concern as the optimization algorithm still executed successfully and the result was meaningful\r\n",
    "\r\n",
    "    #calculating DT(Z,\\theta^*_{RF})\r\n",
    "    Z_train_RF = Z_train*IS_RF[1] + IS_RF[0]\r\n",
    "    Z_val_RF = Z_val*IS_RF[1] + IS_RF[0]\r\n",
    "    Z_test_RF = Z_test*IS_RF[1] + IS_RF[0]\r\n",
    "    Z_MC_RF = Z_MC*IS_RF[1] + IS_RF[0]\r\n",
    "    #calculating the risk factors under the IS distribution and corresponding option prices\r\n",
    "    S_tau_train_RF, P_T_train_RF = data_gen(Z=Z_train_RF, V=V_train)\r\n",
    "    S_tau_val_RF, P_T_val_RF = data_gen(Z=Z_val_RF, V=V_val)\r\n",
    "    S_tau_test_RF, P_T_test_RF = data_gen(Z=Z_test_RF, V=V_test)\r\n",
    "    S_tau_MC_RF, P_T_MC_RF = data_gen(Z=Z_MC_RF, V=V_MC)\r\n",
    "    \r\n",
    "    #hypyerparameter tuning with orientation around the value found in Put_VaR_ES_IS_250.ipynb\r\n",
    "    min_samples_leaf_list = [5200,5400,5600]\r\n",
    "    opt_param = 0\r\n",
    "    opt_score = np.inf\r\n",
    "\r\n",
    "    for min_samples_leaf in min_samples_leaf_list:\r\n",
    "        rfr_tuning = RandomForestRegressor(n_estimators=160, min_samples_leaf=min_samples_leaf, bootstrap=True, criterion='squared_error', verbose=0, n_jobs=-1)\r\n",
    "        rfr_tuning.fit(X=S_tau_train_RF.reshape(-1,1), y=P_T_train_RF)\r\n",
    "        score = mean_squared_error(y_true=P_T_val_RF, y_pred=rfr_tuning.predict(S_tau_val_RF.reshape(-1,1)))\r\n",
    "        if score < opt_score:\r\n",
    "            opt_param = min_samples_leaf\r\n",
    "            opt_score = score\r\n",
    "\r\n",
    "    #definition and training of a random forest with hyperparameters found through grid search\r\n",
    "    rfr = RandomForestRegressor(n_estimators=400, criterion='squared_error', min_samples_leaf=int(opt_param), bootstrap=True, verbose=0, warm_start=True, n_jobs=-1)\r\n",
    "    rfr.fit(X=S_tau_train_RF.reshape(-1,1), y=P_T_train_RF)\r\n",
    "\r\n",
    "    #Calculating the parts of the test set that fall into B_1 and B_2\r\n",
    "    s_40 = s_0 * np.exp( (mu-0.5*sigma**2)*tau + sigma*np.sqrt(tau)*stats.norm.ppf(0.4, loc=0, scale=1))\r\n",
    "    s_70 = s_0 * np.exp( (mu-0.5*sigma**2)*tau + sigma*np.sqrt(tau)*stats.norm.ppf(0.7, loc=0, scale=1))\r\n",
    "    B_1_RF = S_tau_test_RF < s_40\r\n",
    "    B_2_RF = S_tau_test_RF > s_70\r\n",
    "\r\n",
    "    #computation of the metrics (a), (b), (c) with B_1 and (c) with B_2 and training/validation MSE for the random forest\r\n",
    "    mse_train_RF = mean_squared_error(y_pred=rfr.predict(S_tau_train_RF.reshape(-1,1)),y_true=P_T_train_RF)\r\n",
    "    P_T_pred_RF = rfr.predict(S_tau_test_RF.reshape(-1,1))\r\n",
    "    mse_val_RF = mean_squared_error(y_pred=P_T_pred_RF,y_true=P_T_test_RF)\r\n",
    "    mc_tmp = P_T_pred_RF - P_T_test_RF\r\n",
    "    metric_a_RF = np.sum(mc_tmp)/len(P_T_test_RF)\r\n",
    "    metric_b_RF = np.sum((mc_tmp)*P_T_pred_RF)/len(P_T_test_RF)\r\n",
    "    metric_c_B_1_RF = np.sum(mc_tmp[B_1_RF])/len(P_T_test_RF)\r\n",
    "    metric_c_B_2_RF = np.sum(mc_tmp[B_2_RF])/len(P_T_test_RF)\r\n",
    "\r\n",
    "    #computation of Value-at-Risk and Expected Shortfall using the random forest\r\n",
    "    P_T_pred_MC_RF = rfr.predict(S_tau_MC_RF.reshape(-1,1))\r\n",
    "    MC = np.column_stack((Z_MC_RF, P_T_pred_MC_RF))\r\n",
    "    MC_sort = MC[MC[:,-1].argsort()[::-1]]\r\n",
    "    w = f(MC_sort[:,0])/(M_MC*f_theta(y=MC_sort[:,0], x=IS_RF))\r\n",
    "\r\n",
    "    j_VaR = 0\r\n",
    "    w_sum_tmp = 0\r\n",
    "    while (w_sum_tmp <= (1-alpha_VaR) and j_VaR<M_MC):\r\n",
    "        w_sum_tmp += w[j_VaR]\r\n",
    "        j_VaR += 1\r\n",
    "    VaR_hat_RF = MC_sort[j_VaR-1,-1]\r\n",
    "    print('VaR_hat_RF:',VaR_hat_RF)\r\n",
    "    \r\n",
    "    j_ES = 0\r\n",
    "    w_sum_tmp = 0\r\n",
    "    while (w_sum_tmp <= (1-alpha_ES) and j_ES<M_MC):\r\n",
    "        w_sum_tmp += w[j_ES]\r\n",
    "        j_ES += 1\r\n",
    "    ES_hat_RF = 1/(1-alpha_ES) * np.sum(w[0:j_ES-1]*MC_sort[0:j_ES-1,1]) + ( 1 - (1 / (1-alpha_ES)) * np.sum(w[0:j_ES-1]) )*MC_sort[j_ES,1]\r\n",
    "    print('ES_hat_RF:',ES_hat_RF)\r\n",
    "\r\n",
    "\r\n",
    "    #save results for further evaluation\r\n",
    "    output = np.array([[mse_train_NN,mse_val_NN,metric_a_NN,metric_b_NN,metric_c_B_1_NN,metric_c_B_2_NN,IS_NN[0],IS_NN[1],VaR_hat_NN,ES_hat_NN],\r\n",
    "                      [mse_train_RF,mse_val_RF,metric_a_RF,metric_b_RF,metric_c_B_1_RF,metric_c_B_2_RF,IS_RF[0],IS_RF[1],VaR_hat_RF,ES_hat_RF]])\r\n",
    "\r\n",
    "    joblib.dump(output,filepath+'output_'+str(run)+'_'+str(j)+'.joblib')\r\n",
    "    #prints just for checking while the notebook is running\r\n",
    "    print(j)"
   ],
   "outputs": [
    {
     "output_type": "stream",
     "name": "stderr",
     "text": [
      "2021-11-07 23:31:11.988695: I tensorflow/core/platform/cpu_feature_guard.cc:142] This TensorFlow binary is optimized with oneAPI Deep Neural Network Library (oneDNN) to use the following CPU instructions in performance-critical operations:  AVX2 AVX512F FMA\n",
      "To enable them in other operations, rebuild TensorFlow with the appropriate compiler flags.\n",
      "2021-11-07 23:31:14.142255: I tensorflow/core/common_runtime/gpu/gpu_device.cc:1510] Created device /job:localhost/replica:0/task:0/device:GPU:0 with 30988 MB memory:  -> device: 0, name: Tesla V100-SXM2-32GB, pci bus id: 0000:3a:00.0, compute capability: 7.0\n",
      "2021-11-07 23:31:14.143942: I tensorflow/core/common_runtime/gpu/gpu_device.cc:1510] Created device /job:localhost/replica:0/task:0/device:GPU:1 with 30988 MB memory:  -> device: 1, name: Tesla V100-SXM2-32GB, pci bus id: 0000:89:00.0, compute capability: 7.0\n",
      "2021-11-07 23:31:14.145510: I tensorflow/core/common_runtime/gpu/gpu_device.cc:1510] Created device /job:localhost/replica:0/task:0/device:GPU:2 with 30988 MB memory:  -> device: 2, name: Tesla V100-SXM2-32GB, pci bus id: 0000:8a:00.0, compute capability: 7.0\n",
      "2021-11-07 23:31:14.146984: I tensorflow/core/common_runtime/gpu/gpu_device.cc:1510] Created device /job:localhost/replica:0/task:0/device:GPU:3 with 30988 MB memory:  -> device: 3, name: Tesla V100-SXM2-32GB, pci bus id: 0000:b2:00.0, compute capability: 7.0\n",
      "2021-11-07 23:31:14.997159: I tensorflow/compiler/mlir/mlir_graph_optimization_pass.cc:185] None of the MLIR Optimization Passes are enabled (registered 2)\n"
     ]
    },
    {
     "output_type": "stream",
     "name": "stdout",
     "text": [
      "q_alpha_IS_hat_NN: 8.265654563903809\n",
      "IS_NN: [-2.82055385  0.44962483]\n",
      "VaR_hat_NN: 8.334747314453125\n",
      "ES_hat_NN: 8.50187779847104\n",
      "q_alpha_IS_hat_RF: 8.381183226757557\n"
     ]
    },
    {
     "output_type": "stream",
     "name": "stderr",
     "text": [
      "/scratch/slurm_tmpdir/job_20162137/ipykernel_3830540/3406871675.py:15: RuntimeWarning: divide by zero encountered in true_divide\n",
      "  return np.sqrt(f(y=L[:,0])/f_theta(y=L[:,0],x=x))*(L[:,-1]>q_alpha_hat)\n",
      "/scratch/slurm_tmpdir/job_20162137/ipykernel_3830540/3406871675.py:15: RuntimeWarning: invalid value encountered in multiply\n",
      "  return np.sqrt(f(y=L[:,0])/f_theta(y=L[:,0],x=x))*(L[:,-1]>q_alpha_hat)\n"
     ]
    },
    {
     "output_type": "stream",
     "name": "stdout",
     "text": [
      "IS_RF: [-2.64792982  0.4816467 ]\n",
      "VaR_hat_RF: 8.328166393199835\n",
      "ES_hat_RF: 8.526246817830318\n",
      "0\n",
      "q_alpha_IS_hat_NN: 8.578174591064453\n"
     ]
    },
    {
     "output_type": "stream",
     "name": "stderr",
     "text": [
      "/scratch/slurm_tmpdir/job_20162137/ipykernel_3830540/3406871675.py:15: RuntimeWarning: divide by zero encountered in true_divide\n",
      "  return np.sqrt(f(y=L[:,0])/f_theta(y=L[:,0],x=x))*(L[:,-1]>q_alpha_hat)\n",
      "/scratch/slurm_tmpdir/job_20162137/ipykernel_3830540/3406871675.py:15: RuntimeWarning: overflow encountered in true_divide\n",
      "  return np.sqrt(f(y=L[:,0])/f_theta(y=L[:,0],x=x))*(L[:,-1]>q_alpha_hat)\n",
      "/scratch/slurm_tmpdir/job_20162137/ipykernel_3830540/3406871675.py:15: RuntimeWarning: invalid value encountered in multiply\n",
      "  return np.sqrt(f(y=L[:,0])/f_theta(y=L[:,0],x=x))*(L[:,-1]>q_alpha_hat)\n"
     ]
    },
    {
     "output_type": "stream",
     "name": "stdout",
     "text": [
      "IS_NN: [-2.8376276   0.38944188]\n",
      "VaR_hat_NN: 8.303644180297852\n",
      "ES_hat_NN: 8.482712419990097\n",
      "q_alpha_IS_hat_RF: 8.247952916446739\n"
     ]
    },
    {
     "output_type": "stream",
     "name": "stderr",
     "text": [
      "/scratch/slurm_tmpdir/job_20162137/ipykernel_3830540/3406871675.py:15: RuntimeWarning: divide by zero encountered in true_divide\n",
      "  return np.sqrt(f(y=L[:,0])/f_theta(y=L[:,0],x=x))*(L[:,-1]>q_alpha_hat)\n",
      "/scratch/slurm_tmpdir/job_20162137/ipykernel_3830540/3406871675.py:15: RuntimeWarning: overflow encountered in true_divide\n",
      "  return np.sqrt(f(y=L[:,0])/f_theta(y=L[:,0],x=x))*(L[:,-1]>q_alpha_hat)\n",
      "/scratch/slurm_tmpdir/job_20162137/ipykernel_3830540/3406871675.py:15: RuntimeWarning: invalid value encountered in multiply\n",
      "  return np.sqrt(f(y=L[:,0])/f_theta(y=L[:,0],x=x))*(L[:,-1]>q_alpha_hat)\n"
     ]
    },
    {
     "output_type": "stream",
     "name": "stdout",
     "text": [
      "IS_RF: [-2.74879923  0.40626697]\n",
      "VaR_hat_RF: 8.367617265173687\n",
      "ES_hat_RF: 8.517013977089777\n",
      "1\n",
      "q_alpha_IS_hat_NN: 8.3352689743042\n"
     ]
    },
    {
     "output_type": "stream",
     "name": "stderr",
     "text": [
      "/scratch/slurm_tmpdir/job_20162137/ipykernel_3830540/3406871675.py:15: RuntimeWarning: divide by zero encountered in true_divide\n",
      "  return np.sqrt(f(y=L[:,0])/f_theta(y=L[:,0],x=x))*(L[:,-1]>q_alpha_hat)\n",
      "/scratch/slurm_tmpdir/job_20162137/ipykernel_3830540/3406871675.py:15: RuntimeWarning: overflow encountered in true_divide\n",
      "  return np.sqrt(f(y=L[:,0])/f_theta(y=L[:,0],x=x))*(L[:,-1]>q_alpha_hat)\n",
      "/scratch/slurm_tmpdir/job_20162137/ipykernel_3830540/3406871675.py:15: RuntimeWarning: invalid value encountered in multiply\n",
      "  return np.sqrt(f(y=L[:,0])/f_theta(y=L[:,0],x=x))*(L[:,-1]>q_alpha_hat)\n"
     ]
    },
    {
     "output_type": "stream",
     "name": "stdout",
     "text": [
      "IS_NN: [-2.83905157  0.39769135]\n",
      "VaR_hat_NN: 8.345904350280762\n",
      "ES_hat_NN: 8.506296566812443\n",
      "q_alpha_IS_hat_RF: 8.565426668641127\n"
     ]
    },
    {
     "output_type": "stream",
     "name": "stderr",
     "text": [
      "/scratch/slurm_tmpdir/job_20162137/ipykernel_3830540/3406871675.py:15: RuntimeWarning: divide by zero encountered in true_divide\n",
      "  return np.sqrt(f(y=L[:,0])/f_theta(y=L[:,0],x=x))*(L[:,-1]>q_alpha_hat)\n",
      "/scratch/slurm_tmpdir/job_20162137/ipykernel_3830540/3406871675.py:15: RuntimeWarning: overflow encountered in true_divide\n",
      "  return np.sqrt(f(y=L[:,0])/f_theta(y=L[:,0],x=x))*(L[:,-1]>q_alpha_hat)\n",
      "/scratch/slurm_tmpdir/job_20162137/ipykernel_3830540/3406871675.py:15: RuntimeWarning: invalid value encountered in multiply\n",
      "  return np.sqrt(f(y=L[:,0])/f_theta(y=L[:,0],x=x))*(L[:,-1]>q_alpha_hat)\n"
     ]
    },
    {
     "output_type": "stream",
     "name": "stdout",
     "text": [
      "IS_RF: [-2.64683535  0.44053104]\n",
      "VaR_hat_RF: 8.329634196536917\n",
      "ES_hat_RF: 8.507238321418047\n",
      "2\n",
      "q_alpha_IS_hat_NN: 8.277463912963867\n"
     ]
    },
    {
     "output_type": "stream",
     "name": "stderr",
     "text": [
      "/scratch/slurm_tmpdir/job_20162137/ipykernel_3830540/3406871675.py:15: RuntimeWarning: divide by zero encountered in true_divide\n",
      "  return np.sqrt(f(y=L[:,0])/f_theta(y=L[:,0],x=x))*(L[:,-1]>q_alpha_hat)\n",
      "/scratch/slurm_tmpdir/job_20162137/ipykernel_3830540/3406871675.py:15: RuntimeWarning: overflow encountered in true_divide\n",
      "  return np.sqrt(f(y=L[:,0])/f_theta(y=L[:,0],x=x))*(L[:,-1]>q_alpha_hat)\n",
      "/scratch/slurm_tmpdir/job_20162137/ipykernel_3830540/3406871675.py:15: RuntimeWarning: invalid value encountered in multiply\n",
      "  return np.sqrt(f(y=L[:,0])/f_theta(y=L[:,0],x=x))*(L[:,-1]>q_alpha_hat)\n"
     ]
    },
    {
     "output_type": "stream",
     "name": "stdout",
     "text": [
      "IS_NN: [-2.83627894  0.42949373]\n",
      "VaR_hat_NN: 8.254746437072754\n",
      "ES_hat_NN: 8.441300174101515\n",
      "q_alpha_IS_hat_RF: 8.337213517844067\n"
     ]
    },
    {
     "output_type": "stream",
     "name": "stderr",
     "text": [
      "/scratch/slurm_tmpdir/job_20162137/ipykernel_3830540/3406871675.py:15: RuntimeWarning: overflow encountered in true_divide\n",
      "  return np.sqrt(f(y=L[:,0])/f_theta(y=L[:,0],x=x))*(L[:,-1]>q_alpha_hat)\n",
      "/scratch/slurm_tmpdir/job_20162137/ipykernel_3830540/3406871675.py:15: RuntimeWarning: invalid value encountered in multiply\n",
      "  return np.sqrt(f(y=L[:,0])/f_theta(y=L[:,0],x=x))*(L[:,-1]>q_alpha_hat)\n"
     ]
    },
    {
     "output_type": "stream",
     "name": "stdout",
     "text": [
      "IS_RF: [-2.8042824   0.43565306]\n",
      "VaR_hat_RF: 8.355257009343093\n",
      "ES_hat_RF: 8.504338020006134\n",
      "3\n",
      "q_alpha_IS_hat_NN: 8.159981727600098\n"
     ]
    },
    {
     "output_type": "stream",
     "name": "stderr",
     "text": [
      "/scratch/slurm_tmpdir/job_20162137/ipykernel_3830540/3406871675.py:15: RuntimeWarning: divide by zero encountered in true_divide\n",
      "  return np.sqrt(f(y=L[:,0])/f_theta(y=L[:,0],x=x))*(L[:,-1]>q_alpha_hat)\n",
      "/scratch/slurm_tmpdir/job_20162137/ipykernel_3830540/3406871675.py:15: RuntimeWarning: overflow encountered in true_divide\n",
      "  return np.sqrt(f(y=L[:,0])/f_theta(y=L[:,0],x=x))*(L[:,-1]>q_alpha_hat)\n",
      "/scratch/slurm_tmpdir/job_20162137/ipykernel_3830540/3406871675.py:15: RuntimeWarning: invalid value encountered in multiply\n",
      "  return np.sqrt(f(y=L[:,0])/f_theta(y=L[:,0],x=x))*(L[:,-1]>q_alpha_hat)\n"
     ]
    },
    {
     "output_type": "stream",
     "name": "stdout",
     "text": [
      "IS_NN: [-2.82330692  0.42094381]\n",
      "VaR_hat_NN: 8.39977741241455\n",
      "ES_hat_NN: 8.54376562667542\n",
      "q_alpha_IS_hat_RF: 8.29244638878755\n",
      "IS_RF: [-2.52929188  0.48296497]\n",
      "VaR_hat_RF: 8.33182071048983\n",
      "ES_hat_RF: 8.507943036519324\n",
      "4\n",
      "q_alpha_IS_hat_NN: 7.3490424156188965\n"
     ]
    },
    {
     "output_type": "stream",
     "name": "stderr",
     "text": [
      "/scratch/slurm_tmpdir/job_20162137/ipykernel_3830540/3406871675.py:15: RuntimeWarning: divide by zero encountered in true_divide\n",
      "  return np.sqrt(f(y=L[:,0])/f_theta(y=L[:,0],x=x))*(L[:,-1]>q_alpha_hat)\n",
      "/scratch/slurm_tmpdir/job_20162137/ipykernel_3830540/3406871675.py:15: RuntimeWarning: overflow encountered in true_divide\n",
      "  return np.sqrt(f(y=L[:,0])/f_theta(y=L[:,0],x=x))*(L[:,-1]>q_alpha_hat)\n",
      "/scratch/slurm_tmpdir/job_20162137/ipykernel_3830540/3406871675.py:15: RuntimeWarning: invalid value encountered in multiply\n",
      "  return np.sqrt(f(y=L[:,0])/f_theta(y=L[:,0],x=x))*(L[:,-1]>q_alpha_hat)\n"
     ]
    },
    {
     "output_type": "stream",
     "name": "stdout",
     "text": [
      "IS_NN: [-2.83977314  0.41979987]\n",
      "VaR_hat_NN: 8.384963035583496\n",
      "ES_hat_NN: 8.55260061216652\n",
      "q_alpha_IS_hat_RF: 8.437671181281292\n"
     ]
    },
    {
     "output_type": "stream",
     "name": "stderr",
     "text": [
      "/scratch/slurm_tmpdir/job_20162137/ipykernel_3830540/3406871675.py:15: RuntimeWarning: divide by zero encountered in true_divide\n",
      "  return np.sqrt(f(y=L[:,0])/f_theta(y=L[:,0],x=x))*(L[:,-1]>q_alpha_hat)\n",
      "/scratch/slurm_tmpdir/job_20162137/ipykernel_3830540/3406871675.py:15: RuntimeWarning: overflow encountered in true_divide\n",
      "  return np.sqrt(f(y=L[:,0])/f_theta(y=L[:,0],x=x))*(L[:,-1]>q_alpha_hat)\n",
      "/scratch/slurm_tmpdir/job_20162137/ipykernel_3830540/3406871675.py:15: RuntimeWarning: invalid value encountered in multiply\n",
      "  return np.sqrt(f(y=L[:,0])/f_theta(y=L[:,0],x=x))*(L[:,-1]>q_alpha_hat)\n"
     ]
    },
    {
     "output_type": "stream",
     "name": "stdout",
     "text": [
      "IS_RF: [-2.68763019  0.44918868]\n",
      "VaR_hat_RF: 8.354062644944838\n",
      "ES_hat_RF: 8.505648656068255\n",
      "5\n",
      "q_alpha_IS_hat_NN: 7.732674598693848\n",
      "IS_NN: [-2.83357858  0.47890276]\n",
      "VaR_hat_NN: 8.357831954956055\n",
      "ES_hat_NN: 8.523088176284404\n",
      "q_alpha_IS_hat_RF: 8.273065861098711\n",
      "IS_RF: [-2.77240666  0.48953474]\n",
      "VaR_hat_RF: 8.305287740523793\n",
      "ES_hat_RF: 8.517952462519894\n",
      "6\n",
      "q_alpha_IS_hat_NN: 8.348801612854004\n"
     ]
    },
    {
     "output_type": "stream",
     "name": "stderr",
     "text": [
      "/scratch/slurm_tmpdir/job_20162137/ipykernel_3830540/3406871675.py:15: RuntimeWarning: divide by zero encountered in true_divide\n",
      "  return np.sqrt(f(y=L[:,0])/f_theta(y=L[:,0],x=x))*(L[:,-1]>q_alpha_hat)\n",
      "/scratch/slurm_tmpdir/job_20162137/ipykernel_3830540/3406871675.py:15: RuntimeWarning: overflow encountered in true_divide\n",
      "  return np.sqrt(f(y=L[:,0])/f_theta(y=L[:,0],x=x))*(L[:,-1]>q_alpha_hat)\n",
      "/scratch/slurm_tmpdir/job_20162137/ipykernel_3830540/3406871675.py:15: RuntimeWarning: invalid value encountered in multiply\n",
      "  return np.sqrt(f(y=L[:,0])/f_theta(y=L[:,0],x=x))*(L[:,-1]>q_alpha_hat)\n"
     ]
    },
    {
     "output_type": "stream",
     "name": "stdout",
     "text": [
      "IS_NN: [-2.83053168  0.41406652]\n",
      "VaR_hat_NN: 8.343717575073242\n",
      "ES_hat_NN: 8.50000686142681\n",
      "q_alpha_IS_hat_RF: 8.419009543833333\n"
     ]
    },
    {
     "output_type": "stream",
     "name": "stderr",
     "text": [
      "/scratch/slurm_tmpdir/job_20162137/ipykernel_3830540/3406871675.py:15: RuntimeWarning: divide by zero encountered in true_divide\n",
      "  return np.sqrt(f(y=L[:,0])/f_theta(y=L[:,0],x=x))*(L[:,-1]>q_alpha_hat)\n",
      "/scratch/slurm_tmpdir/job_20162137/ipykernel_3830540/3406871675.py:15: RuntimeWarning: overflow encountered in true_divide\n",
      "  return np.sqrt(f(y=L[:,0])/f_theta(y=L[:,0],x=x))*(L[:,-1]>q_alpha_hat)\n",
      "/scratch/slurm_tmpdir/job_20162137/ipykernel_3830540/3406871675.py:15: RuntimeWarning: invalid value encountered in multiply\n",
      "  return np.sqrt(f(y=L[:,0])/f_theta(y=L[:,0],x=x))*(L[:,-1]>q_alpha_hat)\n"
     ]
    },
    {
     "output_type": "stream",
     "name": "stdout",
     "text": [
      "IS_RF: [-2.77236336  0.42770621]\n",
      "VaR_hat_RF: 8.353691427311594\n",
      "ES_hat_RF: 8.52821671767194\n",
      "7\n",
      "q_alpha_IS_hat_NN: 8.461023330688477\n"
     ]
    },
    {
     "output_type": "stream",
     "name": "stderr",
     "text": [
      "/scratch/slurm_tmpdir/job_20162137/ipykernel_3830540/3406871675.py:15: RuntimeWarning: divide by zero encountered in true_divide\n",
      "  return np.sqrt(f(y=L[:,0])/f_theta(y=L[:,0],x=x))*(L[:,-1]>q_alpha_hat)\n",
      "/scratch/slurm_tmpdir/job_20162137/ipykernel_3830540/3406871675.py:15: RuntimeWarning: overflow encountered in true_divide\n",
      "  return np.sqrt(f(y=L[:,0])/f_theta(y=L[:,0],x=x))*(L[:,-1]>q_alpha_hat)\n",
      "/scratch/slurm_tmpdir/job_20162137/ipykernel_3830540/3406871675.py:15: RuntimeWarning: invalid value encountered in multiply\n",
      "  return np.sqrt(f(y=L[:,0])/f_theta(y=L[:,0],x=x))*(L[:,-1]>q_alpha_hat)\n"
     ]
    },
    {
     "output_type": "stream",
     "name": "stdout",
     "text": [
      "IS_NN: [-2.83308004  0.38777648]\n",
      "VaR_hat_NN: 8.377190589904785\n",
      "ES_hat_NN: 8.517952881844423\n",
      "q_alpha_IS_hat_RF: 8.503230153168321\n"
     ]
    },
    {
     "output_type": "stream",
     "name": "stderr",
     "text": [
      "/scratch/slurm_tmpdir/job_20162137/ipykernel_3830540/3406871675.py:15: RuntimeWarning: divide by zero encountered in true_divide\n",
      "  return np.sqrt(f(y=L[:,0])/f_theta(y=L[:,0],x=x))*(L[:,-1]>q_alpha_hat)\n",
      "/scratch/slurm_tmpdir/job_20162137/ipykernel_3830540/3406871675.py:15: RuntimeWarning: overflow encountered in true_divide\n",
      "  return np.sqrt(f(y=L[:,0])/f_theta(y=L[:,0],x=x))*(L[:,-1]>q_alpha_hat)\n",
      "/scratch/slurm_tmpdir/job_20162137/ipykernel_3830540/3406871675.py:15: RuntimeWarning: invalid value encountered in multiply\n",
      "  return np.sqrt(f(y=L[:,0])/f_theta(y=L[:,0],x=x))*(L[:,-1]>q_alpha_hat)\n"
     ]
    },
    {
     "output_type": "stream",
     "name": "stdout",
     "text": [
      "IS_RF: [-2.68491813  0.42618657]\n",
      "VaR_hat_RF: 8.344042698310332\n",
      "ES_hat_RF: 8.509610782999252\n",
      "8\n",
      "q_alpha_IS_hat_NN: 8.312165260314941\n"
     ]
    },
    {
     "output_type": "stream",
     "name": "stderr",
     "text": [
      "/scratch/slurm_tmpdir/job_20162137/ipykernel_3830540/3406871675.py:15: RuntimeWarning: divide by zero encountered in true_divide\n",
      "  return np.sqrt(f(y=L[:,0])/f_theta(y=L[:,0],x=x))*(L[:,-1]>q_alpha_hat)\n",
      "/scratch/slurm_tmpdir/job_20162137/ipykernel_3830540/3406871675.py:15: RuntimeWarning: overflow encountered in true_divide\n",
      "  return np.sqrt(f(y=L[:,0])/f_theta(y=L[:,0],x=x))*(L[:,-1]>q_alpha_hat)\n",
      "/scratch/slurm_tmpdir/job_20162137/ipykernel_3830540/3406871675.py:15: RuntimeWarning: invalid value encountered in multiply\n",
      "  return np.sqrt(f(y=L[:,0])/f_theta(y=L[:,0],x=x))*(L[:,-1]>q_alpha_hat)\n"
     ]
    },
    {
     "output_type": "stream",
     "name": "stdout",
     "text": [
      "IS_NN: [-2.83811674  0.38446831]\n",
      "VaR_hat_NN: 8.310918807983398\n",
      "ES_hat_NN: 8.486426070983288\n",
      "q_alpha_IS_hat_RF: 8.353288579913354\n"
     ]
    },
    {
     "output_type": "stream",
     "name": "stderr",
     "text": [
      "/scratch/slurm_tmpdir/job_20162137/ipykernel_3830540/3406871675.py:15: RuntimeWarning: divide by zero encountered in true_divide\n",
      "  return np.sqrt(f(y=L[:,0])/f_theta(y=L[:,0],x=x))*(L[:,-1]>q_alpha_hat)\n",
      "/scratch/slurm_tmpdir/job_20162137/ipykernel_3830540/3406871675.py:15: RuntimeWarning: overflow encountered in true_divide\n",
      "  return np.sqrt(f(y=L[:,0])/f_theta(y=L[:,0],x=x))*(L[:,-1]>q_alpha_hat)\n",
      "/scratch/slurm_tmpdir/job_20162137/ipykernel_3830540/3406871675.py:15: RuntimeWarning: invalid value encountered in multiply\n",
      "  return np.sqrt(f(y=L[:,0])/f_theta(y=L[:,0],x=x))*(L[:,-1]>q_alpha_hat)\n"
     ]
    },
    {
     "output_type": "stream",
     "name": "stdout",
     "text": [
      "IS_RF: [-2.78426293  0.39826278]\n",
      "VaR_hat_RF: 8.36881765716165\n",
      "ES_hat_RF: 8.520800400919471\n",
      "9\n",
      "q_alpha_IS_hat_NN: 7.996849536895752\n"
     ]
    },
    {
     "output_type": "stream",
     "name": "stderr",
     "text": [
      "/scratch/slurm_tmpdir/job_20162137/ipykernel_3830540/3406871675.py:15: RuntimeWarning: divide by zero encountered in true_divide\n",
      "  return np.sqrt(f(y=L[:,0])/f_theta(y=L[:,0],x=x))*(L[:,-1]>q_alpha_hat)\n",
      "/scratch/slurm_tmpdir/job_20162137/ipykernel_3830540/3406871675.py:15: RuntimeWarning: overflow encountered in true_divide\n",
      "  return np.sqrt(f(y=L[:,0])/f_theta(y=L[:,0],x=x))*(L[:,-1]>q_alpha_hat)\n",
      "/scratch/slurm_tmpdir/job_20162137/ipykernel_3830540/3406871675.py:15: RuntimeWarning: invalid value encountered in multiply\n",
      "  return np.sqrt(f(y=L[:,0])/f_theta(y=L[:,0],x=x))*(L[:,-1]>q_alpha_hat)\n"
     ]
    },
    {
     "output_type": "stream",
     "name": "stdout",
     "text": [
      "IS_NN: [-2.83538508  0.38460734]\n",
      "VaR_hat_NN: 8.291775703430176\n",
      "ES_hat_NN: 8.464674919567491\n",
      "q_alpha_IS_hat_RF: 8.324290479624372\n"
     ]
    },
    {
     "output_type": "stream",
     "name": "stderr",
     "text": [
      "/scratch/slurm_tmpdir/job_20162137/ipykernel_3830540/3406871675.py:15: RuntimeWarning: divide by zero encountered in true_divide\n",
      "  return np.sqrt(f(y=L[:,0])/f_theta(y=L[:,0],x=x))*(L[:,-1]>q_alpha_hat)\n",
      "/scratch/slurm_tmpdir/job_20162137/ipykernel_3830540/3406871675.py:15: RuntimeWarning: overflow encountered in true_divide\n",
      "  return np.sqrt(f(y=L[:,0])/f_theta(y=L[:,0],x=x))*(L[:,-1]>q_alpha_hat)\n",
      "/scratch/slurm_tmpdir/job_20162137/ipykernel_3830540/3406871675.py:15: RuntimeWarning: invalid value encountered in multiply\n",
      "  return np.sqrt(f(y=L[:,0])/f_theta(y=L[:,0],x=x))*(L[:,-1]>q_alpha_hat)\n"
     ]
    },
    {
     "output_type": "stream",
     "name": "stdout",
     "text": [
      "IS_RF: [-2.72147583  0.41354991]\n",
      "VaR_hat_RF: 8.346332210510075\n",
      "ES_hat_RF: 8.504530386331554\n",
      "10\n",
      "q_alpha_IS_hat_NN: 7.928018569946289\n"
     ]
    },
    {
     "output_type": "stream",
     "name": "stderr",
     "text": [
      "/scratch/slurm_tmpdir/job_20162137/ipykernel_3830540/3406871675.py:15: RuntimeWarning: divide by zero encountered in true_divide\n",
      "  return np.sqrt(f(y=L[:,0])/f_theta(y=L[:,0],x=x))*(L[:,-1]>q_alpha_hat)\n",
      "/scratch/slurm_tmpdir/job_20162137/ipykernel_3830540/3406871675.py:15: RuntimeWarning: overflow encountered in true_divide\n",
      "  return np.sqrt(f(y=L[:,0])/f_theta(y=L[:,0],x=x))*(L[:,-1]>q_alpha_hat)\n",
      "/scratch/slurm_tmpdir/job_20162137/ipykernel_3830540/3406871675.py:15: RuntimeWarning: invalid value encountered in multiply\n",
      "  return np.sqrt(f(y=L[:,0])/f_theta(y=L[:,0],x=x))*(L[:,-1]>q_alpha_hat)\n"
     ]
    },
    {
     "output_type": "stream",
     "name": "stdout",
     "text": [
      "IS_NN: [-2.83096122  0.37341885]\n",
      "VaR_hat_NN: 8.343846321105957\n",
      "ES_hat_NN: 8.50113267600269\n",
      "q_alpha_IS_hat_RF: 8.44600460821769\n"
     ]
    },
    {
     "output_type": "stream",
     "name": "stderr",
     "text": [
      "/scratch/slurm_tmpdir/job_20162137/ipykernel_3830540/3406871675.py:15: RuntimeWarning: divide by zero encountered in true_divide\n",
      "  return np.sqrt(f(y=L[:,0])/f_theta(y=L[:,0],x=x))*(L[:,-1]>q_alpha_hat)\n",
      "/scratch/slurm_tmpdir/job_20162137/ipykernel_3830540/3406871675.py:15: RuntimeWarning: overflow encountered in true_divide\n",
      "  return np.sqrt(f(y=L[:,0])/f_theta(y=L[:,0],x=x))*(L[:,-1]>q_alpha_hat)\n",
      "/scratch/slurm_tmpdir/job_20162137/ipykernel_3830540/3406871675.py:15: RuntimeWarning: invalid value encountered in multiply\n",
      "  return np.sqrt(f(y=L[:,0])/f_theta(y=L[:,0],x=x))*(L[:,-1]>q_alpha_hat)\n"
     ]
    },
    {
     "output_type": "stream",
     "name": "stdout",
     "text": [
      "IS_RF: [-2.68656154  0.41436829]\n",
      "VaR_hat_RF: 8.374716502229939\n",
      "ES_hat_RF: 8.517282562356604\n",
      "11\n",
      "q_alpha_IS_hat_NN: 7.606289386749268\n"
     ]
    },
    {
     "output_type": "stream",
     "name": "stderr",
     "text": [
      "/scratch/slurm_tmpdir/job_20162137/ipykernel_3830540/3406871675.py:15: RuntimeWarning: divide by zero encountered in true_divide\n",
      "  return np.sqrt(f(y=L[:,0])/f_theta(y=L[:,0],x=x))*(L[:,-1]>q_alpha_hat)\n",
      "/scratch/slurm_tmpdir/job_20162137/ipykernel_3830540/3406871675.py:15: RuntimeWarning: overflow encountered in true_divide\n",
      "  return np.sqrt(f(y=L[:,0])/f_theta(y=L[:,0],x=x))*(L[:,-1]>q_alpha_hat)\n",
      "/scratch/slurm_tmpdir/job_20162137/ipykernel_3830540/3406871675.py:15: RuntimeWarning: invalid value encountered in multiply\n",
      "  return np.sqrt(f(y=L[:,0])/f_theta(y=L[:,0],x=x))*(L[:,-1]>q_alpha_hat)\n"
     ]
    },
    {
     "output_type": "stream",
     "name": "stdout",
     "text": [
      "IS_NN: [-2.84284301  0.38626186]\n",
      "VaR_hat_NN: 8.340400695800781\n",
      "ES_hat_NN: 8.497889298760787\n",
      "q_alpha_IS_hat_RF: 8.595364072866584\n"
     ]
    },
    {
     "output_type": "stream",
     "name": "stderr",
     "text": [
      "/scratch/slurm_tmpdir/job_20162137/ipykernel_3830540/3406871675.py:15: RuntimeWarning: divide by zero encountered in true_divide\n",
      "  return np.sqrt(f(y=L[:,0])/f_theta(y=L[:,0],x=x))*(L[:,-1]>q_alpha_hat)\n",
      "/scratch/slurm_tmpdir/job_20162137/ipykernel_3830540/3406871675.py:15: RuntimeWarning: overflow encountered in true_divide\n",
      "  return np.sqrt(f(y=L[:,0])/f_theta(y=L[:,0],x=x))*(L[:,-1]>q_alpha_hat)\n",
      "/scratch/slurm_tmpdir/job_20162137/ipykernel_3830540/3406871675.py:15: RuntimeWarning: invalid value encountered in multiply\n",
      "  return np.sqrt(f(y=L[:,0])/f_theta(y=L[:,0],x=x))*(L[:,-1]>q_alpha_hat)\n"
     ]
    },
    {
     "output_type": "stream",
     "name": "stdout",
     "text": [
      "IS_RF: [-2.83529436  0.38782822]\n",
      "VaR_hat_RF: 8.35863117879798\n",
      "ES_hat_RF: 8.51279418124247\n",
      "12\n",
      "q_alpha_IS_hat_NN: 8.349048614501953\n"
     ]
    },
    {
     "output_type": "stream",
     "name": "stderr",
     "text": [
      "/scratch/slurm_tmpdir/job_20162137/ipykernel_3830540/3406871675.py:15: RuntimeWarning: divide by zero encountered in true_divide\n",
      "  return np.sqrt(f(y=L[:,0])/f_theta(y=L[:,0],x=x))*(L[:,-1]>q_alpha_hat)\n",
      "/scratch/slurm_tmpdir/job_20162137/ipykernel_3830540/3406871675.py:15: RuntimeWarning: overflow encountered in true_divide\n",
      "  return np.sqrt(f(y=L[:,0])/f_theta(y=L[:,0],x=x))*(L[:,-1]>q_alpha_hat)\n",
      "/scratch/slurm_tmpdir/job_20162137/ipykernel_3830540/3406871675.py:15: RuntimeWarning: invalid value encountered in multiply\n",
      "  return np.sqrt(f(y=L[:,0])/f_theta(y=L[:,0],x=x))*(L[:,-1]>q_alpha_hat)\n"
     ]
    },
    {
     "output_type": "stream",
     "name": "stdout",
     "text": [
      "IS_NN: [-2.83222432  0.40021496]\n",
      "VaR_hat_NN: 8.309183120727539\n",
      "ES_hat_NN: 8.475420589063683\n",
      "q_alpha_IS_hat_RF: 8.554120990266096\n"
     ]
    },
    {
     "output_type": "stream",
     "name": "stderr",
     "text": [
      "/scratch/slurm_tmpdir/job_20162137/ipykernel_3830540/3406871675.py:15: RuntimeWarning: divide by zero encountered in true_divide\n",
      "  return np.sqrt(f(y=L[:,0])/f_theta(y=L[:,0],x=x))*(L[:,-1]>q_alpha_hat)\n",
      "/scratch/slurm_tmpdir/job_20162137/ipykernel_3830540/3406871675.py:15: RuntimeWarning: overflow encountered in true_divide\n",
      "  return np.sqrt(f(y=L[:,0])/f_theta(y=L[:,0],x=x))*(L[:,-1]>q_alpha_hat)\n",
      "/scratch/slurm_tmpdir/job_20162137/ipykernel_3830540/3406871675.py:15: RuntimeWarning: invalid value encountered in multiply\n",
      "  return np.sqrt(f(y=L[:,0])/f_theta(y=L[:,0],x=x))*(L[:,-1]>q_alpha_hat)\n"
     ]
    },
    {
     "output_type": "stream",
     "name": "stdout",
     "text": [
      "IS_RF: [-2.76424428  0.41409769]\n",
      "VaR_hat_RF: 8.349680552829735\n",
      "ES_hat_RF: 8.49801658021527\n",
      "13\n",
      "q_alpha_IS_hat_NN: 8.259183883666992\n"
     ]
    },
    {
     "output_type": "stream",
     "name": "stderr",
     "text": [
      "/scratch/slurm_tmpdir/job_20162137/ipykernel_3830540/3406871675.py:15: RuntimeWarning: divide by zero encountered in true_divide\n",
      "  return np.sqrt(f(y=L[:,0])/f_theta(y=L[:,0],x=x))*(L[:,-1]>q_alpha_hat)\n",
      "/scratch/slurm_tmpdir/job_20162137/ipykernel_3830540/3406871675.py:15: RuntimeWarning: overflow encountered in true_divide\n",
      "  return np.sqrt(f(y=L[:,0])/f_theta(y=L[:,0],x=x))*(L[:,-1]>q_alpha_hat)\n",
      "/scratch/slurm_tmpdir/job_20162137/ipykernel_3830540/3406871675.py:15: RuntimeWarning: invalid value encountered in multiply\n",
      "  return np.sqrt(f(y=L[:,0])/f_theta(y=L[:,0],x=x))*(L[:,-1]>q_alpha_hat)\n"
     ]
    },
    {
     "output_type": "stream",
     "name": "stdout",
     "text": [
      "IS_NN: [-2.82982009  0.37674047]\n",
      "VaR_hat_NN: 8.337467193603516\n",
      "ES_hat_NN: 8.48913790515243\n",
      "q_alpha_IS_hat_RF: 8.22161352663169\n"
     ]
    },
    {
     "output_type": "stream",
     "name": "stderr",
     "text": [
      "/scratch/slurm_tmpdir/job_20162137/ipykernel_3830540/3406871675.py:15: RuntimeWarning: divide by zero encountered in true_divide\n",
      "  return np.sqrt(f(y=L[:,0])/f_theta(y=L[:,0],x=x))*(L[:,-1]>q_alpha_hat)\n",
      "/scratch/slurm_tmpdir/job_20162137/ipykernel_3830540/3406871675.py:15: RuntimeWarning: overflow encountered in true_divide\n",
      "  return np.sqrt(f(y=L[:,0])/f_theta(y=L[:,0],x=x))*(L[:,-1]>q_alpha_hat)\n",
      "/scratch/slurm_tmpdir/job_20162137/ipykernel_3830540/3406871675.py:15: RuntimeWarning: invalid value encountered in multiply\n",
      "  return np.sqrt(f(y=L[:,0])/f_theta(y=L[:,0],x=x))*(L[:,-1]>q_alpha_hat)\n"
     ]
    },
    {
     "output_type": "stream",
     "name": "stdout",
     "text": [
      "IS_RF: [-2.71159587  0.40734878]\n",
      "VaR_hat_RF: 8.349850671620294\n",
      "ES_hat_RF: 8.523287885999041\n",
      "14\n",
      "q_alpha_IS_hat_NN: 8.284825325012207\n"
     ]
    },
    {
     "output_type": "stream",
     "name": "stderr",
     "text": [
      "/scratch/slurm_tmpdir/job_20162137/ipykernel_3830540/3406871675.py:15: RuntimeWarning: divide by zero encountered in true_divide\n",
      "  return np.sqrt(f(y=L[:,0])/f_theta(y=L[:,0],x=x))*(L[:,-1]>q_alpha_hat)\n",
      "/scratch/slurm_tmpdir/job_20162137/ipykernel_3830540/3406871675.py:15: RuntimeWarning: overflow encountered in true_divide\n",
      "  return np.sqrt(f(y=L[:,0])/f_theta(y=L[:,0],x=x))*(L[:,-1]>q_alpha_hat)\n",
      "/scratch/slurm_tmpdir/job_20162137/ipykernel_3830540/3406871675.py:15: RuntimeWarning: invalid value encountered in multiply\n",
      "  return np.sqrt(f(y=L[:,0])/f_theta(y=L[:,0],x=x))*(L[:,-1]>q_alpha_hat)\n"
     ]
    },
    {
     "output_type": "stream",
     "name": "stdout",
     "text": [
      "IS_NN: [-2.83457006  0.40010937]\n",
      "VaR_hat_NN: 8.346622467041016\n",
      "ES_hat_NN: 8.50216967716227\n",
      "q_alpha_IS_hat_RF: 8.330710479487802\n",
      "IS_RF: [-2.51544467  0.47465517]\n",
      "VaR_hat_RF: 8.328631781198403\n",
      "ES_hat_RF: 8.511095943652268\n",
      "15\n",
      "q_alpha_IS_hat_NN: 8.166720390319824\n"
     ]
    },
    {
     "output_type": "stream",
     "name": "stderr",
     "text": [
      "/scratch/slurm_tmpdir/job_20162137/ipykernel_3830540/3406871675.py:15: RuntimeWarning: divide by zero encountered in true_divide\n",
      "  return np.sqrt(f(y=L[:,0])/f_theta(y=L[:,0],x=x))*(L[:,-1]>q_alpha_hat)\n",
      "/scratch/slurm_tmpdir/job_20162137/ipykernel_3830540/3406871675.py:15: RuntimeWarning: overflow encountered in true_divide\n",
      "  return np.sqrt(f(y=L[:,0])/f_theta(y=L[:,0],x=x))*(L[:,-1]>q_alpha_hat)\n",
      "/scratch/slurm_tmpdir/job_20162137/ipykernel_3830540/3406871675.py:15: RuntimeWarning: invalid value encountered in multiply\n",
      "  return np.sqrt(f(y=L[:,0])/f_theta(y=L[:,0],x=x))*(L[:,-1]>q_alpha_hat)\n"
     ]
    },
    {
     "output_type": "stream",
     "name": "stdout",
     "text": [
      "IS_NN: [-2.83397602  0.3944469 ]\n",
      "VaR_hat_NN: 8.385279655456543\n",
      "ES_hat_NN: 8.557932592116025\n",
      "q_alpha_IS_hat_RF: 8.48861415622233\n"
     ]
    },
    {
     "output_type": "stream",
     "name": "stderr",
     "text": [
      "/scratch/slurm_tmpdir/job_20162137/ipykernel_3830540/3406871675.py:15: RuntimeWarning: divide by zero encountered in true_divide\n",
      "  return np.sqrt(f(y=L[:,0])/f_theta(y=L[:,0],x=x))*(L[:,-1]>q_alpha_hat)\n",
      "/scratch/slurm_tmpdir/job_20162137/ipykernel_3830540/3406871675.py:15: RuntimeWarning: overflow encountered in true_divide\n",
      "  return np.sqrt(f(y=L[:,0])/f_theta(y=L[:,0],x=x))*(L[:,-1]>q_alpha_hat)\n",
      "/scratch/slurm_tmpdir/job_20162137/ipykernel_3830540/3406871675.py:15: RuntimeWarning: invalid value encountered in multiply\n",
      "  return np.sqrt(f(y=L[:,0])/f_theta(y=L[:,0],x=x))*(L[:,-1]>q_alpha_hat)\n"
     ]
    },
    {
     "output_type": "stream",
     "name": "stdout",
     "text": [
      "IS_RF: [-2.58309341  0.45088816]\n",
      "VaR_hat_RF: 8.344339865270788\n",
      "ES_hat_RF: 8.526469821107396\n",
      "16\n",
      "q_alpha_IS_hat_NN: 8.067996978759766\n",
      "IS_NN: [-2.83926042  0.44492195]\n",
      "VaR_hat_NN: 8.336742401123047\n",
      "ES_hat_NN: 8.507964045903307\n",
      "q_alpha_IS_hat_RF: 8.267673205935314\n",
      "IS_RF: [-2.56000452  0.4991664 ]\n",
      "VaR_hat_RF: 8.375918436870707\n",
      "ES_hat_RF: 8.520788631663027\n",
      "17\n",
      "q_alpha_IS_hat_NN: 7.946419715881348\n"
     ]
    },
    {
     "output_type": "stream",
     "name": "stderr",
     "text": [
      "/scratch/slurm_tmpdir/job_20162137/ipykernel_3830540/3406871675.py:15: RuntimeWarning: divide by zero encountered in true_divide\n",
      "  return np.sqrt(f(y=L[:,0])/f_theta(y=L[:,0],x=x))*(L[:,-1]>q_alpha_hat)\n",
      "/scratch/slurm_tmpdir/job_20162137/ipykernel_3830540/3406871675.py:15: RuntimeWarning: overflow encountered in true_divide\n",
      "  return np.sqrt(f(y=L[:,0])/f_theta(y=L[:,0],x=x))*(L[:,-1]>q_alpha_hat)\n",
      "/scratch/slurm_tmpdir/job_20162137/ipykernel_3830540/3406871675.py:15: RuntimeWarning: invalid value encountered in multiply\n",
      "  return np.sqrt(f(y=L[:,0])/f_theta(y=L[:,0],x=x))*(L[:,-1]>q_alpha_hat)\n"
     ]
    },
    {
     "output_type": "stream",
     "name": "stdout",
     "text": [
      "IS_NN: [-2.83074317  0.40866229]\n",
      "VaR_hat_NN: 8.366768836975098\n",
      "ES_hat_NN: 8.56282740603775\n",
      "q_alpha_IS_hat_RF: 8.405436116949543\n"
     ]
    },
    {
     "output_type": "stream",
     "name": "stderr",
     "text": [
      "/scratch/slurm_tmpdir/job_20162137/ipykernel_3830540/3406871675.py:15: RuntimeWarning: divide by zero encountered in true_divide\n",
      "  return np.sqrt(f(y=L[:,0])/f_theta(y=L[:,0],x=x))*(L[:,-1]>q_alpha_hat)\n",
      "/scratch/slurm_tmpdir/job_20162137/ipykernel_3830540/3406871675.py:15: RuntimeWarning: overflow encountered in true_divide\n",
      "  return np.sqrt(f(y=L[:,0])/f_theta(y=L[:,0],x=x))*(L[:,-1]>q_alpha_hat)\n",
      "/scratch/slurm_tmpdir/job_20162137/ipykernel_3830540/3406871675.py:15: RuntimeWarning: invalid value encountered in multiply\n",
      "  return np.sqrt(f(y=L[:,0])/f_theta(y=L[:,0],x=x))*(L[:,-1]>q_alpha_hat)\n"
     ]
    },
    {
     "output_type": "stream",
     "name": "stdout",
     "text": [
      "IS_RF: [-2.68949048  0.43999257]\n",
      "VaR_hat_RF: 8.329785662801994\n",
      "ES_hat_RF: 8.518811534598125\n",
      "18\n",
      "q_alpha_IS_hat_NN: 8.376291275024414\n"
     ]
    },
    {
     "output_type": "stream",
     "name": "stderr",
     "text": [
      "/scratch/slurm_tmpdir/job_20162137/ipykernel_3830540/3406871675.py:15: RuntimeWarning: divide by zero encountered in true_divide\n",
      "  return np.sqrt(f(y=L[:,0])/f_theta(y=L[:,0],x=x))*(L[:,-1]>q_alpha_hat)\n",
      "/scratch/slurm_tmpdir/job_20162137/ipykernel_3830540/3406871675.py:15: RuntimeWarning: overflow encountered in true_divide\n",
      "  return np.sqrt(f(y=L[:,0])/f_theta(y=L[:,0],x=x))*(L[:,-1]>q_alpha_hat)\n",
      "/scratch/slurm_tmpdir/job_20162137/ipykernel_3830540/3406871675.py:15: RuntimeWarning: invalid value encountered in multiply\n",
      "  return np.sqrt(f(y=L[:,0])/f_theta(y=L[:,0],x=x))*(L[:,-1]>q_alpha_hat)\n"
     ]
    },
    {
     "output_type": "stream",
     "name": "stdout",
     "text": [
      "IS_NN: [-2.83577091  0.39148949]\n",
      "VaR_hat_NN: 8.336777687072754\n",
      "ES_hat_NN: 8.515203876430075\n",
      "q_alpha_IS_hat_RF: 8.4224411466185\n"
     ]
    },
    {
     "output_type": "stream",
     "name": "stderr",
     "text": [
      "/scratch/slurm_tmpdir/job_20162137/ipykernel_3830540/3406871675.py:15: RuntimeWarning: divide by zero encountered in true_divide\n",
      "  return np.sqrt(f(y=L[:,0])/f_theta(y=L[:,0],x=x))*(L[:,-1]>q_alpha_hat)\n",
      "/scratch/slurm_tmpdir/job_20162137/ipykernel_3830540/3406871675.py:15: RuntimeWarning: overflow encountered in true_divide\n",
      "  return np.sqrt(f(y=L[:,0])/f_theta(y=L[:,0],x=x))*(L[:,-1]>q_alpha_hat)\n",
      "/scratch/slurm_tmpdir/job_20162137/ipykernel_3830540/3406871675.py:15: RuntimeWarning: invalid value encountered in multiply\n",
      "  return np.sqrt(f(y=L[:,0])/f_theta(y=L[:,0],x=x))*(L[:,-1]>q_alpha_hat)\n"
     ]
    },
    {
     "output_type": "stream",
     "name": "stdout",
     "text": [
      "IS_RF: [-2.6066998   0.45134788]\n",
      "VaR_hat_RF: 8.378041224710525\n",
      "ES_hat_RF: 8.520625649897529\n",
      "19\n",
      "q_alpha_IS_hat_NN: 8.424015045166016\n"
     ]
    },
    {
     "output_type": "stream",
     "name": "stderr",
     "text": [
      "/scratch/slurm_tmpdir/job_20162137/ipykernel_3830540/3406871675.py:15: RuntimeWarning: divide by zero encountered in true_divide\n",
      "  return np.sqrt(f(y=L[:,0])/f_theta(y=L[:,0],x=x))*(L[:,-1]>q_alpha_hat)\n",
      "/scratch/slurm_tmpdir/job_20162137/ipykernel_3830540/3406871675.py:15: RuntimeWarning: overflow encountered in true_divide\n",
      "  return np.sqrt(f(y=L[:,0])/f_theta(y=L[:,0],x=x))*(L[:,-1]>q_alpha_hat)\n",
      "/scratch/slurm_tmpdir/job_20162137/ipykernel_3830540/3406871675.py:15: RuntimeWarning: invalid value encountered in multiply\n",
      "  return np.sqrt(f(y=L[:,0])/f_theta(y=L[:,0],x=x))*(L[:,-1]>q_alpha_hat)\n"
     ]
    },
    {
     "output_type": "stream",
     "name": "stdout",
     "text": [
      "IS_NN: [-2.83730699  0.39699661]\n",
      "VaR_hat_NN: 8.350648880004883\n",
      "ES_hat_NN: 8.511050957348704\n",
      "q_alpha_IS_hat_RF: 8.372399777614415\n"
     ]
    },
    {
     "output_type": "stream",
     "name": "stderr",
     "text": [
      "/scratch/slurm_tmpdir/job_20162137/ipykernel_3830540/3406871675.py:15: RuntimeWarning: divide by zero encountered in true_divide\n",
      "  return np.sqrt(f(y=L[:,0])/f_theta(y=L[:,0],x=x))*(L[:,-1]>q_alpha_hat)\n",
      "/scratch/slurm_tmpdir/job_20162137/ipykernel_3830540/3406871675.py:15: RuntimeWarning: overflow encountered in true_divide\n",
      "  return np.sqrt(f(y=L[:,0])/f_theta(y=L[:,0],x=x))*(L[:,-1]>q_alpha_hat)\n",
      "/scratch/slurm_tmpdir/job_20162137/ipykernel_3830540/3406871675.py:15: RuntimeWarning: invalid value encountered in multiply\n",
      "  return np.sqrt(f(y=L[:,0])/f_theta(y=L[:,0],x=x))*(L[:,-1]>q_alpha_hat)\n"
     ]
    },
    {
     "output_type": "stream",
     "name": "stdout",
     "text": [
      "IS_RF: [-2.8180356   0.40084262]\n",
      "VaR_hat_RF: 8.355094127737038\n",
      "ES_hat_RF: 8.51740390767558\n",
      "20\n",
      "q_alpha_IS_hat_NN: 8.104239463806152\n"
     ]
    },
    {
     "output_type": "stream",
     "name": "stderr",
     "text": [
      "/scratch/slurm_tmpdir/job_20162137/ipykernel_3830540/3406871675.py:15: RuntimeWarning: divide by zero encountered in true_divide\n",
      "  return np.sqrt(f(y=L[:,0])/f_theta(y=L[:,0],x=x))*(L[:,-1]>q_alpha_hat)\n",
      "/scratch/slurm_tmpdir/job_20162137/ipykernel_3830540/3406871675.py:15: RuntimeWarning: overflow encountered in true_divide\n",
      "  return np.sqrt(f(y=L[:,0])/f_theta(y=L[:,0],x=x))*(L[:,-1]>q_alpha_hat)\n",
      "/scratch/slurm_tmpdir/job_20162137/ipykernel_3830540/3406871675.py:15: RuntimeWarning: invalid value encountered in multiply\n",
      "  return np.sqrt(f(y=L[:,0])/f_theta(y=L[:,0],x=x))*(L[:,-1]>q_alpha_hat)\n"
     ]
    },
    {
     "output_type": "stream",
     "name": "stdout",
     "text": [
      "IS_NN: [-2.84225331  0.4024989 ]\n",
      "VaR_hat_NN: 8.33646011352539\n",
      "ES_hat_NN: 8.486331785532423\n",
      "q_alpha_IS_hat_RF: 8.434107631622735\n"
     ]
    },
    {
     "output_type": "stream",
     "name": "stderr",
     "text": [
      "/scratch/slurm_tmpdir/job_20162137/ipykernel_3830540/3406871675.py:15: RuntimeWarning: divide by zero encountered in true_divide\n",
      "  return np.sqrt(f(y=L[:,0])/f_theta(y=L[:,0],x=x))*(L[:,-1]>q_alpha_hat)\n",
      "/scratch/slurm_tmpdir/job_20162137/ipykernel_3830540/3406871675.py:15: RuntimeWarning: overflow encountered in true_divide\n",
      "  return np.sqrt(f(y=L[:,0])/f_theta(y=L[:,0],x=x))*(L[:,-1]>q_alpha_hat)\n",
      "/scratch/slurm_tmpdir/job_20162137/ipykernel_3830540/3406871675.py:15: RuntimeWarning: invalid value encountered in multiply\n",
      "  return np.sqrt(f(y=L[:,0])/f_theta(y=L[:,0],x=x))*(L[:,-1]>q_alpha_hat)\n"
     ]
    },
    {
     "output_type": "stream",
     "name": "stdout",
     "text": [
      "IS_RF: [-2.82687014  0.40551339]\n",
      "VaR_hat_RF: 8.347319936984464\n",
      "ES_hat_RF: 8.512129418335443\n",
      "21\n",
      "q_alpha_IS_hat_NN: 8.285833358764648\n"
     ]
    },
    {
     "output_type": "stream",
     "name": "stderr",
     "text": [
      "/scratch/slurm_tmpdir/job_20162137/ipykernel_3830540/3406871675.py:15: RuntimeWarning: divide by zero encountered in true_divide\n",
      "  return np.sqrt(f(y=L[:,0])/f_theta(y=L[:,0],x=x))*(L[:,-1]>q_alpha_hat)\n",
      "/scratch/slurm_tmpdir/job_20162137/ipykernel_3830540/3406871675.py:15: RuntimeWarning: overflow encountered in true_divide\n",
      "  return np.sqrt(f(y=L[:,0])/f_theta(y=L[:,0],x=x))*(L[:,-1]>q_alpha_hat)\n",
      "/scratch/slurm_tmpdir/job_20162137/ipykernel_3830540/3406871675.py:15: RuntimeWarning: invalid value encountered in multiply\n",
      "  return np.sqrt(f(y=L[:,0])/f_theta(y=L[:,0],x=x))*(L[:,-1]>q_alpha_hat)\n"
     ]
    },
    {
     "output_type": "stream",
     "name": "stdout",
     "text": [
      "IS_NN: [-2.82911229  0.37367946]\n",
      "VaR_hat_NN: 8.377707481384277\n",
      "ES_hat_NN: 8.542094829531296\n",
      "q_alpha_IS_hat_RF: 8.46010544087394\n"
     ]
    },
    {
     "output_type": "stream",
     "name": "stderr",
     "text": [
      "/scratch/slurm_tmpdir/job_20162137/ipykernel_3830540/3406871675.py:15: RuntimeWarning: divide by zero encountered in true_divide\n",
      "  return np.sqrt(f(y=L[:,0])/f_theta(y=L[:,0],x=x))*(L[:,-1]>q_alpha_hat)\n",
      "/scratch/slurm_tmpdir/job_20162137/ipykernel_3830540/3406871675.py:15: RuntimeWarning: overflow encountered in true_divide\n",
      "  return np.sqrt(f(y=L[:,0])/f_theta(y=L[:,0],x=x))*(L[:,-1]>q_alpha_hat)\n",
      "/scratch/slurm_tmpdir/job_20162137/ipykernel_3830540/3406871675.py:15: RuntimeWarning: invalid value encountered in multiply\n",
      "  return np.sqrt(f(y=L[:,0])/f_theta(y=L[:,0],x=x))*(L[:,-1]>q_alpha_hat)\n"
     ]
    },
    {
     "output_type": "stream",
     "name": "stdout",
     "text": [
      "IS_RF: [-2.61529178  0.42237398]\n",
      "VaR_hat_RF: 8.34489349170079\n",
      "ES_hat_RF: 8.508798313565428\n",
      "22\n",
      "q_alpha_IS_hat_NN: 8.440818786621094\n"
     ]
    },
    {
     "output_type": "stream",
     "name": "stderr",
     "text": [
      "/scratch/slurm_tmpdir/job_20162137/ipykernel_3830540/3406871675.py:15: RuntimeWarning: divide by zero encountered in true_divide\n",
      "  return np.sqrt(f(y=L[:,0])/f_theta(y=L[:,0],x=x))*(L[:,-1]>q_alpha_hat)\n",
      "/scratch/slurm_tmpdir/job_20162137/ipykernel_3830540/3406871675.py:15: RuntimeWarning: overflow encountered in true_divide\n",
      "  return np.sqrt(f(y=L[:,0])/f_theta(y=L[:,0],x=x))*(L[:,-1]>q_alpha_hat)\n",
      "/scratch/slurm_tmpdir/job_20162137/ipykernel_3830540/3406871675.py:15: RuntimeWarning: invalid value encountered in multiply\n",
      "  return np.sqrt(f(y=L[:,0])/f_theta(y=L[:,0],x=x))*(L[:,-1]>q_alpha_hat)\n"
     ]
    },
    {
     "output_type": "stream",
     "name": "stdout",
     "text": [
      "IS_NN: [-2.83665696  0.37189584]\n",
      "VaR_hat_NN: 8.271880149841309\n",
      "ES_hat_NN: 8.446645996144536\n",
      "q_alpha_IS_hat_RF: 8.344619732658803\n"
     ]
    },
    {
     "output_type": "stream",
     "name": "stderr",
     "text": [
      "/scratch/slurm_tmpdir/job_20162137/ipykernel_3830540/3406871675.py:15: RuntimeWarning: divide by zero encountered in true_divide\n",
      "  return np.sqrt(f(y=L[:,0])/f_theta(y=L[:,0],x=x))*(L[:,-1]>q_alpha_hat)\n",
      "/scratch/slurm_tmpdir/job_20162137/ipykernel_3830540/3406871675.py:15: RuntimeWarning: overflow encountered in true_divide\n",
      "  return np.sqrt(f(y=L[:,0])/f_theta(y=L[:,0],x=x))*(L[:,-1]>q_alpha_hat)\n",
      "/scratch/slurm_tmpdir/job_20162137/ipykernel_3830540/3406871675.py:15: RuntimeWarning: invalid value encountered in multiply\n",
      "  return np.sqrt(f(y=L[:,0])/f_theta(y=L[:,0],x=x))*(L[:,-1]>q_alpha_hat)\n"
     ]
    },
    {
     "output_type": "stream",
     "name": "stdout",
     "text": [
      "IS_RF: [-2.68121047  0.41237877]\n",
      "VaR_hat_RF: 8.37131967356402\n",
      "ES_hat_RF: 8.512126090389051\n",
      "23\n",
      "q_alpha_IS_hat_NN: 8.497171401977539\n"
     ]
    },
    {
     "output_type": "stream",
     "name": "stderr",
     "text": [
      "/scratch/slurm_tmpdir/job_20162137/ipykernel_3830540/3406871675.py:15: RuntimeWarning: divide by zero encountered in true_divide\n",
      "  return np.sqrt(f(y=L[:,0])/f_theta(y=L[:,0],x=x))*(L[:,-1]>q_alpha_hat)\n",
      "/scratch/slurm_tmpdir/job_20162137/ipykernel_3830540/3406871675.py:15: RuntimeWarning: overflow encountered in true_divide\n",
      "  return np.sqrt(f(y=L[:,0])/f_theta(y=L[:,0],x=x))*(L[:,-1]>q_alpha_hat)\n",
      "/scratch/slurm_tmpdir/job_20162137/ipykernel_3830540/3406871675.py:15: RuntimeWarning: invalid value encountered in multiply\n",
      "  return np.sqrt(f(y=L[:,0])/f_theta(y=L[:,0],x=x))*(L[:,-1]>q_alpha_hat)\n"
     ]
    },
    {
     "output_type": "stream",
     "name": "stdout",
     "text": [
      "IS_NN: [-2.84291164  0.41454828]\n",
      "VaR_hat_NN: 8.295424461364746\n",
      "ES_hat_NN: 8.459224583560388\n",
      "q_alpha_IS_hat_RF: 8.556673641473942\n"
     ]
    },
    {
     "output_type": "stream",
     "name": "stderr",
     "text": [
      "/scratch/slurm_tmpdir/job_20162137/ipykernel_3830540/3406871675.py:15: RuntimeWarning: divide by zero encountered in true_divide\n",
      "  return np.sqrt(f(y=L[:,0])/f_theta(y=L[:,0],x=x))*(L[:,-1]>q_alpha_hat)\n",
      "/scratch/slurm_tmpdir/job_20162137/ipykernel_3830540/3406871675.py:15: RuntimeWarning: invalid value encountered in multiply\n",
      "  return np.sqrt(f(y=L[:,0])/f_theta(y=L[:,0],x=x))*(L[:,-1]>q_alpha_hat)\n"
     ]
    },
    {
     "output_type": "stream",
     "name": "stdout",
     "text": [
      "IS_RF: [-2.78841899  0.42579214]\n",
      "VaR_hat_RF: 8.321093917447028\n",
      "ES_hat_RF: 8.519847010384263\n",
      "24\n",
      "q_alpha_IS_hat_NN: 8.157388687133789\n"
     ]
    },
    {
     "output_type": "stream",
     "name": "stderr",
     "text": [
      "/scratch/slurm_tmpdir/job_20162137/ipykernel_3830540/3406871675.py:15: RuntimeWarning: divide by zero encountered in true_divide\n",
      "  return np.sqrt(f(y=L[:,0])/f_theta(y=L[:,0],x=x))*(L[:,-1]>q_alpha_hat)\n",
      "/scratch/slurm_tmpdir/job_20162137/ipykernel_3830540/3406871675.py:15: RuntimeWarning: overflow encountered in true_divide\n",
      "  return np.sqrt(f(y=L[:,0])/f_theta(y=L[:,0],x=x))*(L[:,-1]>q_alpha_hat)\n",
      "/scratch/slurm_tmpdir/job_20162137/ipykernel_3830540/3406871675.py:15: RuntimeWarning: invalid value encountered in multiply\n",
      "  return np.sqrt(f(y=L[:,0])/f_theta(y=L[:,0],x=x))*(L[:,-1]>q_alpha_hat)\n"
     ]
    },
    {
     "output_type": "stream",
     "name": "stdout",
     "text": [
      "IS_NN: [-2.83966261  0.36645293]\n",
      "VaR_hat_NN: 8.31739616394043\n",
      "ES_hat_NN: 8.464231990639483\n",
      "q_alpha_IS_hat_RF: 8.540605624818989\n"
     ]
    },
    {
     "output_type": "stream",
     "name": "stderr",
     "text": [
      "/scratch/slurm_tmpdir/job_20162137/ipykernel_3830540/3406871675.py:15: RuntimeWarning: divide by zero encountered in true_divide\n",
      "  return np.sqrt(f(y=L[:,0])/f_theta(y=L[:,0],x=x))*(L[:,-1]>q_alpha_hat)\n",
      "/scratch/slurm_tmpdir/job_20162137/ipykernel_3830540/3406871675.py:15: RuntimeWarning: overflow encountered in true_divide\n",
      "  return np.sqrt(f(y=L[:,0])/f_theta(y=L[:,0],x=x))*(L[:,-1]>q_alpha_hat)\n",
      "/scratch/slurm_tmpdir/job_20162137/ipykernel_3830540/3406871675.py:15: RuntimeWarning: invalid value encountered in multiply\n",
      "  return np.sqrt(f(y=L[:,0])/f_theta(y=L[:,0],x=x))*(L[:,-1]>q_alpha_hat)\n"
     ]
    },
    {
     "output_type": "stream",
     "name": "stdout",
     "text": [
      "IS_RF: [-2.83615869  0.36753448]\n",
      "VaR_hat_RF: 8.343891612278941\n",
      "ES_hat_RF: 8.52011641053978\n",
      "25\n",
      "q_alpha_IS_hat_NN: 8.290935516357422\n"
     ]
    },
    {
     "output_type": "stream",
     "name": "stderr",
     "text": [
      "/scratch/slurm_tmpdir/job_20162137/ipykernel_3830540/3406871675.py:15: RuntimeWarning: divide by zero encountered in true_divide\n",
      "  return np.sqrt(f(y=L[:,0])/f_theta(y=L[:,0],x=x))*(L[:,-1]>q_alpha_hat)\n",
      "/scratch/slurm_tmpdir/job_20162137/ipykernel_3830540/3406871675.py:15: RuntimeWarning: overflow encountered in true_divide\n",
      "  return np.sqrt(f(y=L[:,0])/f_theta(y=L[:,0],x=x))*(L[:,-1]>q_alpha_hat)\n",
      "/scratch/slurm_tmpdir/job_20162137/ipykernel_3830540/3406871675.py:15: RuntimeWarning: invalid value encountered in multiply\n",
      "  return np.sqrt(f(y=L[:,0])/f_theta(y=L[:,0],x=x))*(L[:,-1]>q_alpha_hat)\n"
     ]
    },
    {
     "output_type": "stream",
     "name": "stdout",
     "text": [
      "IS_NN: [-2.84050432  0.40128821]\n",
      "VaR_hat_NN: 8.316960334777832\n",
      "ES_hat_NN: 8.487082145593403\n",
      "q_alpha_IS_hat_RF: 8.40582176009924\n"
     ]
    },
    {
     "output_type": "stream",
     "name": "stderr",
     "text": [
      "/scratch/slurm_tmpdir/job_20162137/ipykernel_3830540/3406871675.py:15: RuntimeWarning: divide by zero encountered in true_divide\n",
      "  return np.sqrt(f(y=L[:,0])/f_theta(y=L[:,0],x=x))*(L[:,-1]>q_alpha_hat)\n",
      "/scratch/slurm_tmpdir/job_20162137/ipykernel_3830540/3406871675.py:15: RuntimeWarning: overflow encountered in true_divide\n",
      "  return np.sqrt(f(y=L[:,0])/f_theta(y=L[:,0],x=x))*(L[:,-1]>q_alpha_hat)\n",
      "/scratch/slurm_tmpdir/job_20162137/ipykernel_3830540/3406871675.py:15: RuntimeWarning: invalid value encountered in multiply\n",
      "  return np.sqrt(f(y=L[:,0])/f_theta(y=L[:,0],x=x))*(L[:,-1]>q_alpha_hat)\n"
     ]
    },
    {
     "output_type": "stream",
     "name": "stdout",
     "text": [
      "IS_RF: [-2.76001888  0.41953645]\n",
      "VaR_hat_RF: 8.320287558299391\n",
      "ES_hat_RF: 8.496712693199619\n",
      "26\n",
      "q_alpha_IS_hat_NN: 7.750975131988525\n"
     ]
    },
    {
     "output_type": "stream",
     "name": "stderr",
     "text": [
      "/scratch/slurm_tmpdir/job_20162137/ipykernel_3830540/3406871675.py:15: RuntimeWarning: divide by zero encountered in true_divide\n",
      "  return np.sqrt(f(y=L[:,0])/f_theta(y=L[:,0],x=x))*(L[:,-1]>q_alpha_hat)\n",
      "/scratch/slurm_tmpdir/job_20162137/ipykernel_3830540/3406871675.py:15: RuntimeWarning: overflow encountered in true_divide\n",
      "  return np.sqrt(f(y=L[:,0])/f_theta(y=L[:,0],x=x))*(L[:,-1]>q_alpha_hat)\n",
      "/scratch/slurm_tmpdir/job_20162137/ipykernel_3830540/3406871675.py:15: RuntimeWarning: invalid value encountered in multiply\n",
      "  return np.sqrt(f(y=L[:,0])/f_theta(y=L[:,0],x=x))*(L[:,-1]>q_alpha_hat)\n"
     ]
    },
    {
     "output_type": "stream",
     "name": "stdout",
     "text": [
      "IS_NN: [-2.83795963  0.40911992]\n",
      "VaR_hat_NN: 8.416964530944824\n",
      "ES_hat_NN: 8.577486970347556\n",
      "q_alpha_IS_hat_RF: 8.42726861097932\n"
     ]
    },
    {
     "output_type": "stream",
     "name": "stderr",
     "text": [
      "/scratch/slurm_tmpdir/job_20162137/ipykernel_3830540/3406871675.py:15: RuntimeWarning: divide by zero encountered in true_divide\n",
      "  return np.sqrt(f(y=L[:,0])/f_theta(y=L[:,0],x=x))*(L[:,-1]>q_alpha_hat)\n",
      "/scratch/slurm_tmpdir/job_20162137/ipykernel_3830540/3406871675.py:15: RuntimeWarning: overflow encountered in true_divide\n",
      "  return np.sqrt(f(y=L[:,0])/f_theta(y=L[:,0],x=x))*(L[:,-1]>q_alpha_hat)\n",
      "/scratch/slurm_tmpdir/job_20162137/ipykernel_3830540/3406871675.py:15: RuntimeWarning: invalid value encountered in multiply\n",
      "  return np.sqrt(f(y=L[:,0])/f_theta(y=L[:,0],x=x))*(L[:,-1]>q_alpha_hat)\n"
     ]
    },
    {
     "output_type": "stream",
     "name": "stdout",
     "text": [
      "IS_RF: [-2.73347771  0.4311575 ]\n",
      "VaR_hat_RF: 8.377975720565564\n",
      "ES_hat_RF: 8.521124231057046\n",
      "27\n",
      "q_alpha_IS_hat_NN: 8.11354923248291\n"
     ]
    },
    {
     "output_type": "stream",
     "name": "stderr",
     "text": [
      "/scratch/slurm_tmpdir/job_20162137/ipykernel_3830540/3406871675.py:15: RuntimeWarning: divide by zero encountered in true_divide\n",
      "  return np.sqrt(f(y=L[:,0])/f_theta(y=L[:,0],x=x))*(L[:,-1]>q_alpha_hat)\n",
      "/scratch/slurm_tmpdir/job_20162137/ipykernel_3830540/3406871675.py:15: RuntimeWarning: overflow encountered in true_divide\n",
      "  return np.sqrt(f(y=L[:,0])/f_theta(y=L[:,0],x=x))*(L[:,-1]>q_alpha_hat)\n",
      "/scratch/slurm_tmpdir/job_20162137/ipykernel_3830540/3406871675.py:15: RuntimeWarning: invalid value encountered in multiply\n",
      "  return np.sqrt(f(y=L[:,0])/f_theta(y=L[:,0],x=x))*(L[:,-1]>q_alpha_hat)\n"
     ]
    },
    {
     "output_type": "stream",
     "name": "stdout",
     "text": [
      "IS_NN: [-2.84833699  0.39081518]\n",
      "VaR_hat_NN: 8.349327087402344\n",
      "ES_hat_NN: 8.505682358512031\n",
      "q_alpha_IS_hat_RF: 8.553657441368545\n"
     ]
    },
    {
     "output_type": "stream",
     "name": "stderr",
     "text": [
      "/scratch/slurm_tmpdir/job_20162137/ipykernel_3830540/3406871675.py:15: RuntimeWarning: divide by zero encountered in true_divide\n",
      "  return np.sqrt(f(y=L[:,0])/f_theta(y=L[:,0],x=x))*(L[:,-1]>q_alpha_hat)\n",
      "/scratch/slurm_tmpdir/job_20162137/ipykernel_3830540/3406871675.py:15: RuntimeWarning: overflow encountered in true_divide\n",
      "  return np.sqrt(f(y=L[:,0])/f_theta(y=L[:,0],x=x))*(L[:,-1]>q_alpha_hat)\n",
      "/scratch/slurm_tmpdir/job_20162137/ipykernel_3830540/3406871675.py:15: RuntimeWarning: invalid value encountered in multiply\n",
      "  return np.sqrt(f(y=L[:,0])/f_theta(y=L[:,0],x=x))*(L[:,-1]>q_alpha_hat)\n"
     ]
    },
    {
     "output_type": "stream",
     "name": "stdout",
     "text": [
      "IS_RF: [-2.6719788   0.43050138]\n",
      "VaR_hat_RF: 8.344356081159761\n",
      "ES_hat_RF: 8.507634667100398\n",
      "28\n",
      "q_alpha_IS_hat_NN: 8.17410945892334\n"
     ]
    },
    {
     "output_type": "stream",
     "name": "stderr",
     "text": [
      "/scratch/slurm_tmpdir/job_20162137/ipykernel_3830540/3406871675.py:15: RuntimeWarning: divide by zero encountered in true_divide\n",
      "  return np.sqrt(f(y=L[:,0])/f_theta(y=L[:,0],x=x))*(L[:,-1]>q_alpha_hat)\n",
      "/scratch/slurm_tmpdir/job_20162137/ipykernel_3830540/3406871675.py:15: RuntimeWarning: overflow encountered in true_divide\n",
      "  return np.sqrt(f(y=L[:,0])/f_theta(y=L[:,0],x=x))*(L[:,-1]>q_alpha_hat)\n",
      "/scratch/slurm_tmpdir/job_20162137/ipykernel_3830540/3406871675.py:15: RuntimeWarning: invalid value encountered in multiply\n",
      "  return np.sqrt(f(y=L[:,0])/f_theta(y=L[:,0],x=x))*(L[:,-1]>q_alpha_hat)\n"
     ]
    },
    {
     "output_type": "stream",
     "name": "stdout",
     "text": [
      "IS_NN: [-2.82871334  0.42688668]\n",
      "VaR_hat_NN: 8.403279304504395\n",
      "ES_hat_NN: 8.560285147030058\n",
      "q_alpha_IS_hat_RF: 8.398390350048862\n"
     ]
    },
    {
     "output_type": "stream",
     "name": "stderr",
     "text": [
      "/scratch/slurm_tmpdir/job_20162137/ipykernel_3830540/3406871675.py:15: RuntimeWarning: divide by zero encountered in true_divide\n",
      "  return np.sqrt(f(y=L[:,0])/f_theta(y=L[:,0],x=x))*(L[:,-1]>q_alpha_hat)\n",
      "/scratch/slurm_tmpdir/job_20162137/ipykernel_3830540/3406871675.py:15: RuntimeWarning: overflow encountered in true_divide\n",
      "  return np.sqrt(f(y=L[:,0])/f_theta(y=L[:,0],x=x))*(L[:,-1]>q_alpha_hat)\n",
      "/scratch/slurm_tmpdir/job_20162137/ipykernel_3830540/3406871675.py:15: RuntimeWarning: invalid value encountered in multiply\n",
      "  return np.sqrt(f(y=L[:,0])/f_theta(y=L[:,0],x=x))*(L[:,-1]>q_alpha_hat)\n"
     ]
    },
    {
     "output_type": "stream",
     "name": "stdout",
     "text": [
      "IS_RF: [-2.70133233  0.45075259]\n",
      "VaR_hat_RF: 8.31716523738797\n",
      "ES_hat_RF: 8.505438974382955\n",
      "29\n",
      "q_alpha_IS_hat_NN: 8.315071105957031\n",
      "IS_NN: [-2.82012577  0.43920918]\n",
      "VaR_hat_NN: 8.327649116516113\n",
      "ES_hat_NN: 8.515625601192422\n",
      "q_alpha_IS_hat_RF: 8.526605041490656\n",
      "IS_RF: [-2.74923373  0.4516094 ]\n",
      "VaR_hat_RF: 8.307993943571336\n",
      "ES_hat_RF: 8.502417848832819\n",
      "30\n",
      "q_alpha_IS_hat_NN: 8.309208869934082\n"
     ]
    },
    {
     "output_type": "stream",
     "name": "stderr",
     "text": [
      "/scratch/slurm_tmpdir/job_20162137/ipykernel_3830540/3406871675.py:15: RuntimeWarning: divide by zero encountered in true_divide\n",
      "  return np.sqrt(f(y=L[:,0])/f_theta(y=L[:,0],x=x))*(L[:,-1]>q_alpha_hat)\n",
      "/scratch/slurm_tmpdir/job_20162137/ipykernel_3830540/3406871675.py:15: RuntimeWarning: overflow encountered in true_divide\n",
      "  return np.sqrt(f(y=L[:,0])/f_theta(y=L[:,0],x=x))*(L[:,-1]>q_alpha_hat)\n",
      "/scratch/slurm_tmpdir/job_20162137/ipykernel_3830540/3406871675.py:15: RuntimeWarning: invalid value encountered in multiply\n",
      "  return np.sqrt(f(y=L[:,0])/f_theta(y=L[:,0],x=x))*(L[:,-1]>q_alpha_hat)\n"
     ]
    },
    {
     "output_type": "stream",
     "name": "stdout",
     "text": [
      "IS_NN: [-2.83308115  0.41651631]\n",
      "VaR_hat_NN: 8.33393383026123\n",
      "ES_hat_NN: 8.49260769412768\n",
      "q_alpha_IS_hat_RF: 8.184329076609492\n"
     ]
    },
    {
     "output_type": "stream",
     "name": "stderr",
     "text": [
      "/scratch/slurm_tmpdir/job_20162137/ipykernel_3830540/3406871675.py:15: RuntimeWarning: divide by zero encountered in true_divide\n",
      "  return np.sqrt(f(y=L[:,0])/f_theta(y=L[:,0],x=x))*(L[:,-1]>q_alpha_hat)\n",
      "/scratch/slurm_tmpdir/job_20162137/ipykernel_3830540/3406871675.py:15: RuntimeWarning: overflow encountered in true_divide\n",
      "  return np.sqrt(f(y=L[:,0])/f_theta(y=L[:,0],x=x))*(L[:,-1]>q_alpha_hat)\n",
      "/scratch/slurm_tmpdir/job_20162137/ipykernel_3830540/3406871675.py:15: RuntimeWarning: invalid value encountered in multiply\n",
      "  return np.sqrt(f(y=L[:,0])/f_theta(y=L[:,0],x=x))*(L[:,-1]>q_alpha_hat)\n"
     ]
    },
    {
     "output_type": "stream",
     "name": "stdout",
     "text": [
      "IS_RF: [-2.64854128  0.45791342]\n",
      "VaR_hat_RF: 8.3421410489965\n",
      "ES_hat_RF: 8.508803058207347\n",
      "31\n",
      "q_alpha_IS_hat_NN: 8.243202209472656\n"
     ]
    },
    {
     "output_type": "stream",
     "name": "stderr",
     "text": [
      "/scratch/slurm_tmpdir/job_20162137/ipykernel_3830540/3406871675.py:15: RuntimeWarning: divide by zero encountered in true_divide\n",
      "  return np.sqrt(f(y=L[:,0])/f_theta(y=L[:,0],x=x))*(L[:,-1]>q_alpha_hat)\n",
      "/scratch/slurm_tmpdir/job_20162137/ipykernel_3830540/3406871675.py:15: RuntimeWarning: overflow encountered in true_divide\n",
      "  return np.sqrt(f(y=L[:,0])/f_theta(y=L[:,0],x=x))*(L[:,-1]>q_alpha_hat)\n",
      "/scratch/slurm_tmpdir/job_20162137/ipykernel_3830540/3406871675.py:15: RuntimeWarning: invalid value encountered in multiply\n",
      "  return np.sqrt(f(y=L[:,0])/f_theta(y=L[:,0],x=x))*(L[:,-1]>q_alpha_hat)\n"
     ]
    },
    {
     "output_type": "stream",
     "name": "stdout",
     "text": [
      "IS_NN: [-2.83551799  0.42383075]\n",
      "VaR_hat_NN: 8.30319881439209\n",
      "ES_hat_NN: 8.480088360149415\n",
      "q_alpha_IS_hat_RF: 8.549335107390704\n"
     ]
    },
    {
     "output_type": "stream",
     "name": "stderr",
     "text": [
      "/scratch/slurm_tmpdir/job_20162137/ipykernel_3830540/3406871675.py:15: RuntimeWarning: divide by zero encountered in true_divide\n",
      "  return np.sqrt(f(y=L[:,0])/f_theta(y=L[:,0],x=x))*(L[:,-1]>q_alpha_hat)\n",
      "/scratch/slurm_tmpdir/job_20162137/ipykernel_3830540/3406871675.py:15: RuntimeWarning: overflow encountered in true_divide\n",
      "  return np.sqrt(f(y=L[:,0])/f_theta(y=L[:,0],x=x))*(L[:,-1]>q_alpha_hat)\n",
      "/scratch/slurm_tmpdir/job_20162137/ipykernel_3830540/3406871675.py:15: RuntimeWarning: invalid value encountered in multiply\n",
      "  return np.sqrt(f(y=L[:,0])/f_theta(y=L[:,0],x=x))*(L[:,-1]>q_alpha_hat)\n"
     ]
    },
    {
     "output_type": "stream",
     "name": "stdout",
     "text": [
      "IS_RF: [-2.69798702  0.45109235]\n",
      "VaR_hat_RF: 8.348256334652664\n",
      "ES_hat_RF: 8.520602059024101\n",
      "32\n",
      "q_alpha_IS_hat_NN: 7.935887336730957\n"
     ]
    },
    {
     "output_type": "stream",
     "name": "stderr",
     "text": [
      "/scratch/slurm_tmpdir/job_20162137/ipykernel_3830540/3406871675.py:15: RuntimeWarning: divide by zero encountered in true_divide\n",
      "  return np.sqrt(f(y=L[:,0])/f_theta(y=L[:,0],x=x))*(L[:,-1]>q_alpha_hat)\n",
      "/scratch/slurm_tmpdir/job_20162137/ipykernel_3830540/3406871675.py:15: RuntimeWarning: overflow encountered in true_divide\n",
      "  return np.sqrt(f(y=L[:,0])/f_theta(y=L[:,0],x=x))*(L[:,-1]>q_alpha_hat)\n",
      "/scratch/slurm_tmpdir/job_20162137/ipykernel_3830540/3406871675.py:15: RuntimeWarning: invalid value encountered in multiply\n",
      "  return np.sqrt(f(y=L[:,0])/f_theta(y=L[:,0],x=x))*(L[:,-1]>q_alpha_hat)\n"
     ]
    },
    {
     "output_type": "stream",
     "name": "stdout",
     "text": [
      "IS_NN: [-2.84258055  0.36225665]\n",
      "VaR_hat_NN: 8.35659408569336\n",
      "ES_hat_NN: 8.508992259153423\n",
      "q_alpha_IS_hat_RF: 8.334854925054438\n"
     ]
    },
    {
     "output_type": "stream",
     "name": "stderr",
     "text": [
      "/scratch/slurm_tmpdir/job_20162137/ipykernel_3830540/3406871675.py:15: RuntimeWarning: divide by zero encountered in true_divide\n",
      "  return np.sqrt(f(y=L[:,0])/f_theta(y=L[:,0],x=x))*(L[:,-1]>q_alpha_hat)\n",
      "/scratch/slurm_tmpdir/job_20162137/ipykernel_3830540/3406871675.py:15: RuntimeWarning: overflow encountered in true_divide\n",
      "  return np.sqrt(f(y=L[:,0])/f_theta(y=L[:,0],x=x))*(L[:,-1]>q_alpha_hat)\n",
      "/scratch/slurm_tmpdir/job_20162137/ipykernel_3830540/3406871675.py:15: RuntimeWarning: invalid value encountered in multiply\n",
      "  return np.sqrt(f(y=L[:,0])/f_theta(y=L[:,0],x=x))*(L[:,-1]>q_alpha_hat)\n"
     ]
    },
    {
     "output_type": "stream",
     "name": "stdout",
     "text": [
      "IS_RF: [-2.55913832  0.43574909]\n",
      "VaR_hat_RF: 8.318615920948202\n",
      "ES_hat_RF: 8.521768508119486\n",
      "33\n",
      "q_alpha_IS_hat_NN: 8.312803268432617\n"
     ]
    },
    {
     "output_type": "stream",
     "name": "stderr",
     "text": [
      "/scratch/slurm_tmpdir/job_20162137/ipykernel_3830540/3406871675.py:15: RuntimeWarning: divide by zero encountered in true_divide\n",
      "  return np.sqrt(f(y=L[:,0])/f_theta(y=L[:,0],x=x))*(L[:,-1]>q_alpha_hat)\n",
      "/scratch/slurm_tmpdir/job_20162137/ipykernel_3830540/3406871675.py:15: RuntimeWarning: overflow encountered in true_divide\n",
      "  return np.sqrt(f(y=L[:,0])/f_theta(y=L[:,0],x=x))*(L[:,-1]>q_alpha_hat)\n",
      "/scratch/slurm_tmpdir/job_20162137/ipykernel_3830540/3406871675.py:15: RuntimeWarning: invalid value encountered in multiply\n",
      "  return np.sqrt(f(y=L[:,0])/f_theta(y=L[:,0],x=x))*(L[:,-1]>q_alpha_hat)\n"
     ]
    },
    {
     "output_type": "stream",
     "name": "stdout",
     "text": [
      "IS_NN: [-2.84415865  0.40990597]\n",
      "VaR_hat_NN: 8.343109130859375\n",
      "ES_hat_NN: 8.510889448863153\n",
      "q_alpha_IS_hat_RF: 8.601096227110936\n"
     ]
    },
    {
     "output_type": "stream",
     "name": "stderr",
     "text": [
      "/scratch/slurm_tmpdir/job_20162137/ipykernel_3830540/3406871675.py:15: RuntimeWarning: divide by zero encountered in true_divide\n",
      "  return np.sqrt(f(y=L[:,0])/f_theta(y=L[:,0],x=x))*(L[:,-1]>q_alpha_hat)\n",
      "/scratch/slurm_tmpdir/job_20162137/ipykernel_3830540/3406871675.py:15: RuntimeWarning: overflow encountered in true_divide\n",
      "  return np.sqrt(f(y=L[:,0])/f_theta(y=L[:,0],x=x))*(L[:,-1]>q_alpha_hat)\n",
      "/scratch/slurm_tmpdir/job_20162137/ipykernel_3830540/3406871675.py:15: RuntimeWarning: invalid value encountered in multiply\n",
      "  return np.sqrt(f(y=L[:,0])/f_theta(y=L[:,0],x=x))*(L[:,-1]>q_alpha_hat)\n"
     ]
    },
    {
     "output_type": "stream",
     "name": "stdout",
     "text": [
      "IS_RF: [-2.74887634  0.43066144]\n",
      "VaR_hat_RF: 8.37899438124825\n",
      "ES_hat_RF: 8.511031973185167\n",
      "34\n",
      "q_alpha_IS_hat_NN: 8.286259651184082\n"
     ]
    },
    {
     "output_type": "stream",
     "name": "stderr",
     "text": [
      "/scratch/slurm_tmpdir/job_20162137/ipykernel_3830540/3406871675.py:15: RuntimeWarning: divide by zero encountered in true_divide\n",
      "  return np.sqrt(f(y=L[:,0])/f_theta(y=L[:,0],x=x))*(L[:,-1]>q_alpha_hat)\n",
      "/scratch/slurm_tmpdir/job_20162137/ipykernel_3830540/3406871675.py:15: RuntimeWarning: overflow encountered in true_divide\n",
      "  return np.sqrt(f(y=L[:,0])/f_theta(y=L[:,0],x=x))*(L[:,-1]>q_alpha_hat)\n",
      "/scratch/slurm_tmpdir/job_20162137/ipykernel_3830540/3406871675.py:15: RuntimeWarning: invalid value encountered in multiply\n",
      "  return np.sqrt(f(y=L[:,0])/f_theta(y=L[:,0],x=x))*(L[:,-1]>q_alpha_hat)\n"
     ]
    },
    {
     "output_type": "stream",
     "name": "stdout",
     "text": [
      "IS_NN: [-2.83570472  0.4094766 ]\n",
      "VaR_hat_NN: 8.2888822555542\n",
      "ES_hat_NN: 8.469477438451985\n",
      "q_alpha_IS_hat_RF: 8.501926562696188\n"
     ]
    },
    {
     "output_type": "stream",
     "name": "stderr",
     "text": [
      "/scratch/slurm_tmpdir/job_20162137/ipykernel_3830540/3406871675.py:15: RuntimeWarning: divide by zero encountered in true_divide\n",
      "  return np.sqrt(f(y=L[:,0])/f_theta(y=L[:,0],x=x))*(L[:,-1]>q_alpha_hat)\n",
      "/scratch/slurm_tmpdir/job_20162137/ipykernel_3830540/3406871675.py:15: RuntimeWarning: overflow encountered in true_divide\n",
      "  return np.sqrt(f(y=L[:,0])/f_theta(y=L[:,0],x=x))*(L[:,-1]>q_alpha_hat)\n",
      "/scratch/slurm_tmpdir/job_20162137/ipykernel_3830540/3406871675.py:15: RuntimeWarning: invalid value encountered in multiply\n",
      "  return np.sqrt(f(y=L[:,0])/f_theta(y=L[:,0],x=x))*(L[:,-1]>q_alpha_hat)\n"
     ]
    },
    {
     "output_type": "stream",
     "name": "stdout",
     "text": [
      "IS_RF: [-2.61443993  0.46019009]\n",
      "VaR_hat_RF: 8.350150645817642\n",
      "ES_hat_RF: 8.515298917781026\n",
      "35\n",
      "q_alpha_IS_hat_NN: 8.41076374053955\n"
     ]
    },
    {
     "output_type": "stream",
     "name": "stderr",
     "text": [
      "/scratch/slurm_tmpdir/job_20162137/ipykernel_3830540/3406871675.py:15: RuntimeWarning: divide by zero encountered in true_divide\n",
      "  return np.sqrt(f(y=L[:,0])/f_theta(y=L[:,0],x=x))*(L[:,-1]>q_alpha_hat)\n",
      "/scratch/slurm_tmpdir/job_20162137/ipykernel_3830540/3406871675.py:15: RuntimeWarning: overflow encountered in true_divide\n",
      "  return np.sqrt(f(y=L[:,0])/f_theta(y=L[:,0],x=x))*(L[:,-1]>q_alpha_hat)\n",
      "/scratch/slurm_tmpdir/job_20162137/ipykernel_3830540/3406871675.py:15: RuntimeWarning: invalid value encountered in multiply\n",
      "  return np.sqrt(f(y=L[:,0])/f_theta(y=L[:,0],x=x))*(L[:,-1]>q_alpha_hat)\n"
     ]
    },
    {
     "output_type": "stream",
     "name": "stdout",
     "text": [
      "IS_NN: [-2.83407803  0.40842625]\n",
      "VaR_hat_NN: 8.290443420410156\n",
      "ES_hat_NN: 8.481268012871295\n",
      "q_alpha_IS_hat_RF: 8.588786302210867\n"
     ]
    },
    {
     "output_type": "stream",
     "name": "stderr",
     "text": [
      "/scratch/slurm_tmpdir/job_20162137/ipykernel_3830540/3406871675.py:15: RuntimeWarning: divide by zero encountered in true_divide\n",
      "  return np.sqrt(f(y=L[:,0])/f_theta(y=L[:,0],x=x))*(L[:,-1]>q_alpha_hat)\n",
      "/scratch/slurm_tmpdir/job_20162137/ipykernel_3830540/3406871675.py:15: RuntimeWarning: overflow encountered in true_divide\n",
      "  return np.sqrt(f(y=L[:,0])/f_theta(y=L[:,0],x=x))*(L[:,-1]>q_alpha_hat)\n",
      "/scratch/slurm_tmpdir/job_20162137/ipykernel_3830540/3406871675.py:15: RuntimeWarning: invalid value encountered in multiply\n",
      "  return np.sqrt(f(y=L[:,0])/f_theta(y=L[:,0],x=x))*(L[:,-1]>q_alpha_hat)\n"
     ]
    },
    {
     "output_type": "stream",
     "name": "stdout",
     "text": [
      "IS_RF: [-2.71670167  0.43100757]\n",
      "VaR_hat_RF: 8.33344096168496\n",
      "ES_hat_RF: 8.50107033599113\n",
      "36\n",
      "q_alpha_IS_hat_NN: 8.177898406982422\n"
     ]
    },
    {
     "output_type": "stream",
     "name": "stderr",
     "text": [
      "/scratch/slurm_tmpdir/job_20162137/ipykernel_3830540/3406871675.py:15: RuntimeWarning: divide by zero encountered in true_divide\n",
      "  return np.sqrt(f(y=L[:,0])/f_theta(y=L[:,0],x=x))*(L[:,-1]>q_alpha_hat)\n",
      "/scratch/slurm_tmpdir/job_20162137/ipykernel_3830540/3406871675.py:15: RuntimeWarning: overflow encountered in true_divide\n",
      "  return np.sqrt(f(y=L[:,0])/f_theta(y=L[:,0],x=x))*(L[:,-1]>q_alpha_hat)\n",
      "/scratch/slurm_tmpdir/job_20162137/ipykernel_3830540/3406871675.py:15: RuntimeWarning: invalid value encountered in multiply\n",
      "  return np.sqrt(f(y=L[:,0])/f_theta(y=L[:,0],x=x))*(L[:,-1]>q_alpha_hat)\n"
     ]
    },
    {
     "output_type": "stream",
     "name": "stdout",
     "text": [
      "IS_NN: [-2.84146212  0.396084  ]\n",
      "VaR_hat_NN: 8.321598052978516\n",
      "ES_hat_NN: 8.504624737151135\n",
      "q_alpha_IS_hat_RF: 8.42735914081369\n"
     ]
    },
    {
     "output_type": "stream",
     "name": "stderr",
     "text": [
      "/scratch/slurm_tmpdir/job_20162137/ipykernel_3830540/3406871675.py:15: RuntimeWarning: divide by zero encountered in true_divide\n",
      "  return np.sqrt(f(y=L[:,0])/f_theta(y=L[:,0],x=x))*(L[:,-1]>q_alpha_hat)\n",
      "/scratch/slurm_tmpdir/job_20162137/ipykernel_3830540/3406871675.py:15: RuntimeWarning: overflow encountered in true_divide\n",
      "  return np.sqrt(f(y=L[:,0])/f_theta(y=L[:,0],x=x))*(L[:,-1]>q_alpha_hat)\n",
      "/scratch/slurm_tmpdir/job_20162137/ipykernel_3830540/3406871675.py:15: RuntimeWarning: invalid value encountered in multiply\n",
      "  return np.sqrt(f(y=L[:,0])/f_theta(y=L[:,0],x=x))*(L[:,-1]>q_alpha_hat)\n"
     ]
    },
    {
     "output_type": "stream",
     "name": "stdout",
     "text": [
      "IS_RF: [-2.71296828  0.42555931]\n",
      "VaR_hat_RF: 8.346670019272027\n",
      "ES_hat_RF: 8.51855505117576\n",
      "37\n",
      "q_alpha_IS_hat_NN: 7.94712495803833\n"
     ]
    },
    {
     "output_type": "stream",
     "name": "stderr",
     "text": [
      "/scratch/slurm_tmpdir/job_20162137/ipykernel_3830540/3406871675.py:15: RuntimeWarning: divide by zero encountered in true_divide\n",
      "  return np.sqrt(f(y=L[:,0])/f_theta(y=L[:,0],x=x))*(L[:,-1]>q_alpha_hat)\n",
      "/scratch/slurm_tmpdir/job_20162137/ipykernel_3830540/3406871675.py:15: RuntimeWarning: overflow encountered in true_divide\n",
      "  return np.sqrt(f(y=L[:,0])/f_theta(y=L[:,0],x=x))*(L[:,-1]>q_alpha_hat)\n",
      "/scratch/slurm_tmpdir/job_20162137/ipykernel_3830540/3406871675.py:15: RuntimeWarning: invalid value encountered in multiply\n",
      "  return np.sqrt(f(y=L[:,0])/f_theta(y=L[:,0],x=x))*(L[:,-1]>q_alpha_hat)\n"
     ]
    },
    {
     "output_type": "stream",
     "name": "stdout",
     "text": [
      "IS_NN: [-2.83458502  0.38366803]\n",
      "VaR_hat_NN: 8.332344055175781\n",
      "ES_hat_NN: 8.500286935564581\n",
      "q_alpha_IS_hat_RF: 8.48168743385733\n"
     ]
    },
    {
     "output_type": "stream",
     "name": "stderr",
     "text": [
      "/scratch/slurm_tmpdir/job_20162137/ipykernel_3830540/3406871675.py:15: RuntimeWarning: divide by zero encountered in true_divide\n",
      "  return np.sqrt(f(y=L[:,0])/f_theta(y=L[:,0],x=x))*(L[:,-1]>q_alpha_hat)\n",
      "/scratch/slurm_tmpdir/job_20162137/ipykernel_3830540/3406871675.py:15: RuntimeWarning: overflow encountered in true_divide\n",
      "  return np.sqrt(f(y=L[:,0])/f_theta(y=L[:,0],x=x))*(L[:,-1]>q_alpha_hat)\n",
      "/scratch/slurm_tmpdir/job_20162137/ipykernel_3830540/3406871675.py:15: RuntimeWarning: invalid value encountered in multiply\n",
      "  return np.sqrt(f(y=L[:,0])/f_theta(y=L[:,0],x=x))*(L[:,-1]>q_alpha_hat)\n"
     ]
    },
    {
     "output_type": "stream",
     "name": "stdout",
     "text": [
      "IS_RF: [-2.72585547  0.40835617]\n",
      "VaR_hat_RF: 8.335040241291331\n",
      "ES_hat_RF: 8.51981941356142\n",
      "38\n",
      "q_alpha_IS_hat_NN: 8.240839958190918\n"
     ]
    },
    {
     "output_type": "stream",
     "name": "stderr",
     "text": [
      "/scratch/slurm_tmpdir/job_20162137/ipykernel_3830540/3406871675.py:15: RuntimeWarning: divide by zero encountered in true_divide\n",
      "  return np.sqrt(f(y=L[:,0])/f_theta(y=L[:,0],x=x))*(L[:,-1]>q_alpha_hat)\n",
      "/scratch/slurm_tmpdir/job_20162137/ipykernel_3830540/3406871675.py:15: RuntimeWarning: overflow encountered in true_divide\n",
      "  return np.sqrt(f(y=L[:,0])/f_theta(y=L[:,0],x=x))*(L[:,-1]>q_alpha_hat)\n",
      "/scratch/slurm_tmpdir/job_20162137/ipykernel_3830540/3406871675.py:15: RuntimeWarning: invalid value encountered in multiply\n",
      "  return np.sqrt(f(y=L[:,0])/f_theta(y=L[:,0],x=x))*(L[:,-1]>q_alpha_hat)\n"
     ]
    },
    {
     "output_type": "stream",
     "name": "stdout",
     "text": [
      "IS_NN: [-2.83981432  0.42185743]\n",
      "VaR_hat_NN: 8.386605262756348\n",
      "ES_hat_NN: 8.55254687444803\n",
      "q_alpha_IS_hat_RF: 8.248614710196975\n",
      "IS_RF: [-2.69834114  0.44943065]\n",
      "VaR_hat_RF: 8.346741864993326\n",
      "ES_hat_RF: 8.527732680899826\n",
      "39\n",
      "q_alpha_IS_hat_NN: 8.50798511505127\n"
     ]
    },
    {
     "output_type": "stream",
     "name": "stderr",
     "text": [
      "/scratch/slurm_tmpdir/job_20162137/ipykernel_3830540/3406871675.py:15: RuntimeWarning: divide by zero encountered in true_divide\n",
      "  return np.sqrt(f(y=L[:,0])/f_theta(y=L[:,0],x=x))*(L[:,-1]>q_alpha_hat)\n",
      "/scratch/slurm_tmpdir/job_20162137/ipykernel_3830540/3406871675.py:15: RuntimeWarning: overflow encountered in true_divide\n",
      "  return np.sqrt(f(y=L[:,0])/f_theta(y=L[:,0],x=x))*(L[:,-1]>q_alpha_hat)\n",
      "/scratch/slurm_tmpdir/job_20162137/ipykernel_3830540/3406871675.py:15: RuntimeWarning: invalid value encountered in multiply\n",
      "  return np.sqrt(f(y=L[:,0])/f_theta(y=L[:,0],x=x))*(L[:,-1]>q_alpha_hat)\n"
     ]
    },
    {
     "output_type": "stream",
     "name": "stdout",
     "text": [
      "IS_NN: [-2.8341856   0.37184888]\n",
      "VaR_hat_NN: 8.40946102142334\n",
      "ES_hat_NN: 8.571735981976172\n",
      "q_alpha_IS_hat_RF: 8.521024844943684\n"
     ]
    },
    {
     "output_type": "stream",
     "name": "stderr",
     "text": [
      "/scratch/slurm_tmpdir/job_20162137/ipykernel_3830540/3406871675.py:15: RuntimeWarning: divide by zero encountered in true_divide\n",
      "  return np.sqrt(f(y=L[:,0])/f_theta(y=L[:,0],x=x))*(L[:,-1]>q_alpha_hat)\n",
      "/scratch/slurm_tmpdir/job_20162137/ipykernel_3830540/3406871675.py:15: RuntimeWarning: overflow encountered in true_divide\n",
      "  return np.sqrt(f(y=L[:,0])/f_theta(y=L[:,0],x=x))*(L[:,-1]>q_alpha_hat)\n",
      "/scratch/slurm_tmpdir/job_20162137/ipykernel_3830540/3406871675.py:15: RuntimeWarning: invalid value encountered in multiply\n",
      "  return np.sqrt(f(y=L[:,0])/f_theta(y=L[:,0],x=x))*(L[:,-1]>q_alpha_hat)\n"
     ]
    },
    {
     "output_type": "stream",
     "name": "stdout",
     "text": [
      "IS_RF: [-2.72777748  0.39832103]\n",
      "VaR_hat_RF: 8.343576877685285\n",
      "ES_hat_RF: 8.50636131408302\n",
      "40\n",
      "q_alpha_IS_hat_NN: 8.331378936767578\n"
     ]
    },
    {
     "output_type": "stream",
     "name": "stderr",
     "text": [
      "/scratch/slurm_tmpdir/job_20162137/ipykernel_3830540/3406871675.py:15: RuntimeWarning: divide by zero encountered in true_divide\n",
      "  return np.sqrt(f(y=L[:,0])/f_theta(y=L[:,0],x=x))*(L[:,-1]>q_alpha_hat)\n",
      "/scratch/slurm_tmpdir/job_20162137/ipykernel_3830540/3406871675.py:15: RuntimeWarning: overflow encountered in true_divide\n",
      "  return np.sqrt(f(y=L[:,0])/f_theta(y=L[:,0],x=x))*(L[:,-1]>q_alpha_hat)\n",
      "/scratch/slurm_tmpdir/job_20162137/ipykernel_3830540/3406871675.py:15: RuntimeWarning: invalid value encountered in multiply\n",
      "  return np.sqrt(f(y=L[:,0])/f_theta(y=L[:,0],x=x))*(L[:,-1]>q_alpha_hat)\n"
     ]
    },
    {
     "output_type": "stream",
     "name": "stdout",
     "text": [
      "IS_NN: [-2.83760601  0.42151658]\n",
      "VaR_hat_NN: 8.33243179321289\n",
      "ES_hat_NN: 8.50215936185299\n",
      "q_alpha_IS_hat_RF: 8.348127227538995\n",
      "IS_RF: [-2.77011469  0.43319728]\n",
      "VaR_hat_RF: 8.357971263447864\n",
      "ES_hat_RF: 8.51054451351251\n",
      "41\n",
      "q_alpha_IS_hat_NN: 7.826556205749512\n"
     ]
    },
    {
     "output_type": "stream",
     "name": "stderr",
     "text": [
      "/scratch/slurm_tmpdir/job_20162137/ipykernel_3830540/3406871675.py:15: RuntimeWarning: divide by zero encountered in true_divide\n",
      "  return np.sqrt(f(y=L[:,0])/f_theta(y=L[:,0],x=x))*(L[:,-1]>q_alpha_hat)\n",
      "/scratch/slurm_tmpdir/job_20162137/ipykernel_3830540/3406871675.py:15: RuntimeWarning: overflow encountered in true_divide\n",
      "  return np.sqrt(f(y=L[:,0])/f_theta(y=L[:,0],x=x))*(L[:,-1]>q_alpha_hat)\n",
      "/scratch/slurm_tmpdir/job_20162137/ipykernel_3830540/3406871675.py:15: RuntimeWarning: invalid value encountered in multiply\n",
      "  return np.sqrt(f(y=L[:,0])/f_theta(y=L[:,0],x=x))*(L[:,-1]>q_alpha_hat)\n"
     ]
    },
    {
     "output_type": "stream",
     "name": "stdout",
     "text": [
      "IS_NN: [-2.83448845  0.43595298]\n",
      "VaR_hat_NN: 8.311836242675781\n",
      "ES_hat_NN: 8.475134591009605\n",
      "q_alpha_IS_hat_RF: 8.656896109874188\n"
     ]
    },
    {
     "output_type": "stream",
     "name": "stderr",
     "text": [
      "/scratch/slurm_tmpdir/job_20162137/ipykernel_3830540/3406871675.py:15: RuntimeWarning: overflow encountered in true_divide\n",
      "  return np.sqrt(f(y=L[:,0])/f_theta(y=L[:,0],x=x))*(L[:,-1]>q_alpha_hat)\n",
      "/scratch/slurm_tmpdir/job_20162137/ipykernel_3830540/3406871675.py:15: RuntimeWarning: invalid value encountered in multiply\n",
      "  return np.sqrt(f(y=L[:,0])/f_theta(y=L[:,0],x=x))*(L[:,-1]>q_alpha_hat)\n"
     ]
    },
    {
     "output_type": "stream",
     "name": "stdout",
     "text": [
      "IS_RF: [-2.77537812  0.44674474]\n",
      "VaR_hat_RF: 8.342735382114064\n",
      "ES_hat_RF: 8.514367711391449\n",
      "42\n",
      "q_alpha_IS_hat_NN: 8.194964408874512\n"
     ]
    },
    {
     "output_type": "stream",
     "name": "stderr",
     "text": [
      "/scratch/slurm_tmpdir/job_20162137/ipykernel_3830540/3406871675.py:15: RuntimeWarning: divide by zero encountered in true_divide\n",
      "  return np.sqrt(f(y=L[:,0])/f_theta(y=L[:,0],x=x))*(L[:,-1]>q_alpha_hat)\n",
      "/scratch/slurm_tmpdir/job_20162137/ipykernel_3830540/3406871675.py:15: RuntimeWarning: overflow encountered in true_divide\n",
      "  return np.sqrt(f(y=L[:,0])/f_theta(y=L[:,0],x=x))*(L[:,-1]>q_alpha_hat)\n",
      "/scratch/slurm_tmpdir/job_20162137/ipykernel_3830540/3406871675.py:15: RuntimeWarning: invalid value encountered in multiply\n",
      "  return np.sqrt(f(y=L[:,0])/f_theta(y=L[:,0],x=x))*(L[:,-1]>q_alpha_hat)\n"
     ]
    },
    {
     "output_type": "stream",
     "name": "stdout",
     "text": [
      "IS_NN: [-2.85357397  0.41641527]\n",
      "VaR_hat_NN: 8.282429695129395\n",
      "ES_hat_NN: 8.475850224294444\n",
      "q_alpha_IS_hat_RF: 8.466326321768594\n"
     ]
    },
    {
     "output_type": "stream",
     "name": "stderr",
     "text": [
      "/scratch/slurm_tmpdir/job_20162137/ipykernel_3830540/3406871675.py:15: RuntimeWarning: divide by zero encountered in true_divide\n",
      "  return np.sqrt(f(y=L[:,0])/f_theta(y=L[:,0],x=x))*(L[:,-1]>q_alpha_hat)\n",
      "/scratch/slurm_tmpdir/job_20162137/ipykernel_3830540/3406871675.py:15: RuntimeWarning: overflow encountered in true_divide\n",
      "  return np.sqrt(f(y=L[:,0])/f_theta(y=L[:,0],x=x))*(L[:,-1]>q_alpha_hat)\n",
      "/scratch/slurm_tmpdir/job_20162137/ipykernel_3830540/3406871675.py:15: RuntimeWarning: invalid value encountered in multiply\n",
      "  return np.sqrt(f(y=L[:,0])/f_theta(y=L[:,0],x=x))*(L[:,-1]>q_alpha_hat)\n"
     ]
    },
    {
     "output_type": "stream",
     "name": "stdout",
     "text": [
      "IS_RF: [-2.70398525  0.44541034]\n",
      "VaR_hat_RF: 8.33898309840562\n",
      "ES_hat_RF: 8.504555212137195\n",
      "43\n",
      "q_alpha_IS_hat_NN: 8.09951400756836\n"
     ]
    },
    {
     "output_type": "stream",
     "name": "stderr",
     "text": [
      "/scratch/slurm_tmpdir/job_20162137/ipykernel_3830540/3406871675.py:15: RuntimeWarning: divide by zero encountered in true_divide\n",
      "  return np.sqrt(f(y=L[:,0])/f_theta(y=L[:,0],x=x))*(L[:,-1]>q_alpha_hat)\n",
      "/scratch/slurm_tmpdir/job_20162137/ipykernel_3830540/3406871675.py:15: RuntimeWarning: overflow encountered in true_divide\n",
      "  return np.sqrt(f(y=L[:,0])/f_theta(y=L[:,0],x=x))*(L[:,-1]>q_alpha_hat)\n",
      "/scratch/slurm_tmpdir/job_20162137/ipykernel_3830540/3406871675.py:15: RuntimeWarning: invalid value encountered in multiply\n",
      "  return np.sqrt(f(y=L[:,0])/f_theta(y=L[:,0],x=x))*(L[:,-1]>q_alpha_hat)\n"
     ]
    },
    {
     "output_type": "stream",
     "name": "stdout",
     "text": [
      "IS_NN: [-2.83631937  0.40728452]\n",
      "VaR_hat_NN: 8.302495956420898\n",
      "ES_hat_NN: 8.489292210729126\n",
      "q_alpha_IS_hat_RF: 8.415565007754624\n"
     ]
    },
    {
     "output_type": "stream",
     "name": "stderr",
     "text": [
      "/scratch/slurm_tmpdir/job_20162137/ipykernel_3830540/3406871675.py:15: RuntimeWarning: divide by zero encountered in true_divide\n",
      "  return np.sqrt(f(y=L[:,0])/f_theta(y=L[:,0],x=x))*(L[:,-1]>q_alpha_hat)\n",
      "/scratch/slurm_tmpdir/job_20162137/ipykernel_3830540/3406871675.py:15: RuntimeWarning: overflow encountered in true_divide\n",
      "  return np.sqrt(f(y=L[:,0])/f_theta(y=L[:,0],x=x))*(L[:,-1]>q_alpha_hat)\n",
      "/scratch/slurm_tmpdir/job_20162137/ipykernel_3830540/3406871675.py:15: RuntimeWarning: invalid value encountered in multiply\n",
      "  return np.sqrt(f(y=L[:,0])/f_theta(y=L[:,0],x=x))*(L[:,-1]>q_alpha_hat)\n"
     ]
    },
    {
     "output_type": "stream",
     "name": "stdout",
     "text": [
      "IS_RF: [-2.65189903  0.44488467]\n",
      "VaR_hat_RF: 8.321824057802408\n",
      "ES_hat_RF: 8.526599353173568\n",
      "44\n",
      "q_alpha_IS_hat_NN: 7.979461669921875\n"
     ]
    },
    {
     "output_type": "stream",
     "name": "stderr",
     "text": [
      "/scratch/slurm_tmpdir/job_20162137/ipykernel_3830540/3406871675.py:15: RuntimeWarning: divide by zero encountered in true_divide\n",
      "  return np.sqrt(f(y=L[:,0])/f_theta(y=L[:,0],x=x))*(L[:,-1]>q_alpha_hat)\n",
      "/scratch/slurm_tmpdir/job_20162137/ipykernel_3830540/3406871675.py:15: RuntimeWarning: overflow encountered in true_divide\n",
      "  return np.sqrt(f(y=L[:,0])/f_theta(y=L[:,0],x=x))*(L[:,-1]>q_alpha_hat)\n",
      "/scratch/slurm_tmpdir/job_20162137/ipykernel_3830540/3406871675.py:15: RuntimeWarning: invalid value encountered in multiply\n",
      "  return np.sqrt(f(y=L[:,0])/f_theta(y=L[:,0],x=x))*(L[:,-1]>q_alpha_hat)\n"
     ]
    },
    {
     "output_type": "stream",
     "name": "stdout",
     "text": [
      "IS_NN: [-2.84051652  0.37740756]\n",
      "VaR_hat_NN: 8.281954765319824\n",
      "ES_hat_NN: 8.457965615820312\n",
      "q_alpha_IS_hat_RF: 8.341961616907586\n"
     ]
    },
    {
     "output_type": "stream",
     "name": "stderr",
     "text": [
      "/scratch/slurm_tmpdir/job_20162137/ipykernel_3830540/3406871675.py:15: RuntimeWarning: divide by zero encountered in true_divide\n",
      "  return np.sqrt(f(y=L[:,0])/f_theta(y=L[:,0],x=x))*(L[:,-1]>q_alpha_hat)\n",
      "/scratch/slurm_tmpdir/job_20162137/ipykernel_3830540/3406871675.py:15: RuntimeWarning: overflow encountered in true_divide\n",
      "  return np.sqrt(f(y=L[:,0])/f_theta(y=L[:,0],x=x))*(L[:,-1]>q_alpha_hat)\n",
      "/scratch/slurm_tmpdir/job_20162137/ipykernel_3830540/3406871675.py:15: RuntimeWarning: invalid value encountered in multiply\n",
      "  return np.sqrt(f(y=L[:,0])/f_theta(y=L[:,0],x=x))*(L[:,-1]>q_alpha_hat)\n"
     ]
    },
    {
     "output_type": "stream",
     "name": "stdout",
     "text": [
      "IS_RF: [-2.59705534  0.44580573]\n",
      "VaR_hat_RF: 8.330309624661249\n",
      "ES_hat_RF: 8.515103932368755\n",
      "45\n",
      "q_alpha_IS_hat_NN: 7.856549263000488\n"
     ]
    },
    {
     "output_type": "stream",
     "name": "stderr",
     "text": [
      "/scratch/slurm_tmpdir/job_20162137/ipykernel_3830540/3406871675.py:15: RuntimeWarning: divide by zero encountered in true_divide\n",
      "  return np.sqrt(f(y=L[:,0])/f_theta(y=L[:,0],x=x))*(L[:,-1]>q_alpha_hat)\n",
      "/scratch/slurm_tmpdir/job_20162137/ipykernel_3830540/3406871675.py:15: RuntimeWarning: overflow encountered in true_divide\n",
      "  return np.sqrt(f(y=L[:,0])/f_theta(y=L[:,0],x=x))*(L[:,-1]>q_alpha_hat)\n",
      "/scratch/slurm_tmpdir/job_20162137/ipykernel_3830540/3406871675.py:15: RuntimeWarning: invalid value encountered in multiply\n",
      "  return np.sqrt(f(y=L[:,0])/f_theta(y=L[:,0],x=x))*(L[:,-1]>q_alpha_hat)\n"
     ]
    },
    {
     "output_type": "stream",
     "name": "stdout",
     "text": [
      "IS_NN: [-2.83497695  0.3933654 ]\n",
      "VaR_hat_NN: 8.361004829406738\n",
      "ES_hat_NN: 8.509884866826312\n",
      "q_alpha_IS_hat_RF: 8.454153437750534\n"
     ]
    },
    {
     "output_type": "stream",
     "name": "stderr",
     "text": [
      "/scratch/slurm_tmpdir/job_20162137/ipykernel_3830540/3406871675.py:15: RuntimeWarning: divide by zero encountered in true_divide\n",
      "  return np.sqrt(f(y=L[:,0])/f_theta(y=L[:,0],x=x))*(L[:,-1]>q_alpha_hat)\n",
      "/scratch/slurm_tmpdir/job_20162137/ipykernel_3830540/3406871675.py:15: RuntimeWarning: overflow encountered in true_divide\n",
      "  return np.sqrt(f(y=L[:,0])/f_theta(y=L[:,0],x=x))*(L[:,-1]>q_alpha_hat)\n",
      "/scratch/slurm_tmpdir/job_20162137/ipykernel_3830540/3406871675.py:15: RuntimeWarning: invalid value encountered in multiply\n",
      "  return np.sqrt(f(y=L[:,0])/f_theta(y=L[:,0],x=x))*(L[:,-1]>q_alpha_hat)\n"
     ]
    },
    {
     "output_type": "stream",
     "name": "stdout",
     "text": [
      "IS_RF: [-2.70980915  0.42371151]\n",
      "VaR_hat_RF: 8.355530203496622\n",
      "ES_hat_RF: 8.52039945563653\n",
      "46\n",
      "q_alpha_IS_hat_NN: 8.481236457824707\n"
     ]
    },
    {
     "output_type": "stream",
     "name": "stderr",
     "text": [
      "/scratch/slurm_tmpdir/job_20162137/ipykernel_3830540/3406871675.py:15: RuntimeWarning: divide by zero encountered in true_divide\n",
      "  return np.sqrt(f(y=L[:,0])/f_theta(y=L[:,0],x=x))*(L[:,-1]>q_alpha_hat)\n",
      "/scratch/slurm_tmpdir/job_20162137/ipykernel_3830540/3406871675.py:15: RuntimeWarning: overflow encountered in true_divide\n",
      "  return np.sqrt(f(y=L[:,0])/f_theta(y=L[:,0],x=x))*(L[:,-1]>q_alpha_hat)\n",
      "/scratch/slurm_tmpdir/job_20162137/ipykernel_3830540/3406871675.py:15: RuntimeWarning: invalid value encountered in multiply\n",
      "  return np.sqrt(f(y=L[:,0])/f_theta(y=L[:,0],x=x))*(L[:,-1]>q_alpha_hat)\n"
     ]
    },
    {
     "output_type": "stream",
     "name": "stdout",
     "text": [
      "IS_NN: [-2.82778517  0.38715844]\n",
      "VaR_hat_NN: 8.369664192199707\n",
      "ES_hat_NN: 8.545688431592085\n",
      "q_alpha_IS_hat_RF: 8.30013597260108\n"
     ]
    },
    {
     "output_type": "stream",
     "name": "stderr",
     "text": [
      "/scratch/slurm_tmpdir/job_20162137/ipykernel_3830540/3406871675.py:15: RuntimeWarning: divide by zero encountered in true_divide\n",
      "  return np.sqrt(f(y=L[:,0])/f_theta(y=L[:,0],x=x))*(L[:,-1]>q_alpha_hat)\n",
      "/scratch/slurm_tmpdir/job_20162137/ipykernel_3830540/3406871675.py:15: RuntimeWarning: overflow encountered in true_divide\n",
      "  return np.sqrt(f(y=L[:,0])/f_theta(y=L[:,0],x=x))*(L[:,-1]>q_alpha_hat)\n",
      "/scratch/slurm_tmpdir/job_20162137/ipykernel_3830540/3406871675.py:15: RuntimeWarning: invalid value encountered in multiply\n",
      "  return np.sqrt(f(y=L[:,0])/f_theta(y=L[:,0],x=x))*(L[:,-1]>q_alpha_hat)\n"
     ]
    },
    {
     "output_type": "stream",
     "name": "stdout",
     "text": [
      "IS_RF: [-2.70257717  0.41602578]\n",
      "VaR_hat_RF: 8.319277841271983\n",
      "ES_hat_RF: 8.506752250907311\n",
      "47\n",
      "q_alpha_IS_hat_NN: 8.039713859558105\n"
     ]
    },
    {
     "output_type": "stream",
     "name": "stderr",
     "text": [
      "/scratch/slurm_tmpdir/job_20162137/ipykernel_3830540/3406871675.py:15: RuntimeWarning: divide by zero encountered in true_divide\n",
      "  return np.sqrt(f(y=L[:,0])/f_theta(y=L[:,0],x=x))*(L[:,-1]>q_alpha_hat)\n",
      "/scratch/slurm_tmpdir/job_20162137/ipykernel_3830540/3406871675.py:15: RuntimeWarning: overflow encountered in true_divide\n",
      "  return np.sqrt(f(y=L[:,0])/f_theta(y=L[:,0],x=x))*(L[:,-1]>q_alpha_hat)\n",
      "/scratch/slurm_tmpdir/job_20162137/ipykernel_3830540/3406871675.py:15: RuntimeWarning: invalid value encountered in multiply\n",
      "  return np.sqrt(f(y=L[:,0])/f_theta(y=L[:,0],x=x))*(L[:,-1]>q_alpha_hat)\n"
     ]
    },
    {
     "output_type": "stream",
     "name": "stdout",
     "text": [
      "IS_NN: [-2.83400567  0.40009558]\n",
      "VaR_hat_NN: 8.328404426574707\n",
      "ES_hat_NN: 8.50482417758497\n",
      "q_alpha_IS_hat_RF: 8.319300030083557\n"
     ]
    },
    {
     "output_type": "stream",
     "name": "stderr",
     "text": [
      "/scratch/slurm_tmpdir/job_20162137/ipykernel_3830540/3406871675.py:15: RuntimeWarning: divide by zero encountered in true_divide\n",
      "  return np.sqrt(f(y=L[:,0])/f_theta(y=L[:,0],x=x))*(L[:,-1]>q_alpha_hat)\n",
      "/scratch/slurm_tmpdir/job_20162137/ipykernel_3830540/3406871675.py:15: RuntimeWarning: overflow encountered in true_divide\n",
      "  return np.sqrt(f(y=L[:,0])/f_theta(y=L[:,0],x=x))*(L[:,-1]>q_alpha_hat)\n",
      "/scratch/slurm_tmpdir/job_20162137/ipykernel_3830540/3406871675.py:15: RuntimeWarning: invalid value encountered in multiply\n",
      "  return np.sqrt(f(y=L[:,0])/f_theta(y=L[:,0],x=x))*(L[:,-1]>q_alpha_hat)\n"
     ]
    },
    {
     "output_type": "stream",
     "name": "stdout",
     "text": [
      "IS_RF: [-2.72040414  0.42403428]\n",
      "VaR_hat_RF: 8.311032477910928\n",
      "ES_hat_RF: 8.510849037473232\n",
      "48\n",
      "q_alpha_IS_hat_NN: 8.351791381835938\n"
     ]
    },
    {
     "output_type": "stream",
     "name": "stderr",
     "text": [
      "/scratch/slurm_tmpdir/job_20162137/ipykernel_3830540/3406871675.py:15: RuntimeWarning: divide by zero encountered in true_divide\n",
      "  return np.sqrt(f(y=L[:,0])/f_theta(y=L[:,0],x=x))*(L[:,-1]>q_alpha_hat)\n",
      "/scratch/slurm_tmpdir/job_20162137/ipykernel_3830540/3406871675.py:15: RuntimeWarning: overflow encountered in true_divide\n",
      "  return np.sqrt(f(y=L[:,0])/f_theta(y=L[:,0],x=x))*(L[:,-1]>q_alpha_hat)\n",
      "/scratch/slurm_tmpdir/job_20162137/ipykernel_3830540/3406871675.py:15: RuntimeWarning: invalid value encountered in multiply\n",
      "  return np.sqrt(f(y=L[:,0])/f_theta(y=L[:,0],x=x))*(L[:,-1]>q_alpha_hat)\n"
     ]
    },
    {
     "output_type": "stream",
     "name": "stdout",
     "text": [
      "IS_NN: [-2.83066142  0.42378461]\n",
      "VaR_hat_NN: 8.30479621887207\n",
      "ES_hat_NN: 8.487738762161857\n",
      "q_alpha_IS_hat_RF: 8.522063405650913\n"
     ]
    },
    {
     "output_type": "stream",
     "name": "stderr",
     "text": [
      "/scratch/slurm_tmpdir/job_20162137/ipykernel_3830540/3406871675.py:15: RuntimeWarning: divide by zero encountered in true_divide\n",
      "  return np.sqrt(f(y=L[:,0])/f_theta(y=L[:,0],x=x))*(L[:,-1]>q_alpha_hat)\n",
      "/scratch/slurm_tmpdir/job_20162137/ipykernel_3830540/3406871675.py:15: RuntimeWarning: overflow encountered in true_divide\n",
      "  return np.sqrt(f(y=L[:,0])/f_theta(y=L[:,0],x=x))*(L[:,-1]>q_alpha_hat)\n",
      "/scratch/slurm_tmpdir/job_20162137/ipykernel_3830540/3406871675.py:15: RuntimeWarning: invalid value encountered in multiply\n",
      "  return np.sqrt(f(y=L[:,0])/f_theta(y=L[:,0],x=x))*(L[:,-1]>q_alpha_hat)\n"
     ]
    },
    {
     "output_type": "stream",
     "name": "stdout",
     "text": [
      "IS_RF: [-2.71735016  0.44610269]\n",
      "VaR_hat_RF: 8.323969492091372\n",
      "ES_hat_RF: 8.51429014799766\n",
      "49\n",
      "q_alpha_IS_hat_NN: 8.069483757019043\n"
     ]
    },
    {
     "output_type": "stream",
     "name": "stderr",
     "text": [
      "/scratch/slurm_tmpdir/job_20162137/ipykernel_3830540/3406871675.py:15: RuntimeWarning: divide by zero encountered in true_divide\n",
      "  return np.sqrt(f(y=L[:,0])/f_theta(y=L[:,0],x=x))*(L[:,-1]>q_alpha_hat)\n",
      "/scratch/slurm_tmpdir/job_20162137/ipykernel_3830540/3406871675.py:15: RuntimeWarning: overflow encountered in true_divide\n",
      "  return np.sqrt(f(y=L[:,0])/f_theta(y=L[:,0],x=x))*(L[:,-1]>q_alpha_hat)\n",
      "/scratch/slurm_tmpdir/job_20162137/ipykernel_3830540/3406871675.py:15: RuntimeWarning: invalid value encountered in multiply\n",
      "  return np.sqrt(f(y=L[:,0])/f_theta(y=L[:,0],x=x))*(L[:,-1]>q_alpha_hat)\n"
     ]
    },
    {
     "output_type": "stream",
     "name": "stdout",
     "text": [
      "IS_NN: [-2.83465105  0.40116317]\n",
      "VaR_hat_NN: 8.310039520263672\n",
      "ES_hat_NN: 8.494469039713076\n",
      "q_alpha_IS_hat_RF: 8.378161106683882\n"
     ]
    },
    {
     "output_type": "stream",
     "name": "stderr",
     "text": [
      "/scratch/slurm_tmpdir/job_20162137/ipykernel_3830540/3406871675.py:15: RuntimeWarning: divide by zero encountered in true_divide\n",
      "  return np.sqrt(f(y=L[:,0])/f_theta(y=L[:,0],x=x))*(L[:,-1]>q_alpha_hat)\n",
      "/scratch/slurm_tmpdir/job_20162137/ipykernel_3830540/3406871675.py:15: RuntimeWarning: overflow encountered in true_divide\n",
      "  return np.sqrt(f(y=L[:,0])/f_theta(y=L[:,0],x=x))*(L[:,-1]>q_alpha_hat)\n",
      "/scratch/slurm_tmpdir/job_20162137/ipykernel_3830540/3406871675.py:15: RuntimeWarning: invalid value encountered in multiply\n",
      "  return np.sqrt(f(y=L[:,0])/f_theta(y=L[:,0],x=x))*(L[:,-1]>q_alpha_hat)\n"
     ]
    },
    {
     "output_type": "stream",
     "name": "stdout",
     "text": [
      "IS_RF: [-2.52655299  0.46983949]\n",
      "VaR_hat_RF: 8.36493275675865\n",
      "ES_hat_RF: 8.510864885104052\n",
      "50\n",
      "q_alpha_IS_hat_NN: 8.416914939880371\n"
     ]
    },
    {
     "output_type": "stream",
     "name": "stderr",
     "text": [
      "/scratch/slurm_tmpdir/job_20162137/ipykernel_3830540/3406871675.py:15: RuntimeWarning: divide by zero encountered in true_divide\n",
      "  return np.sqrt(f(y=L[:,0])/f_theta(y=L[:,0],x=x))*(L[:,-1]>q_alpha_hat)\n",
      "/scratch/slurm_tmpdir/job_20162137/ipykernel_3830540/3406871675.py:15: RuntimeWarning: overflow encountered in true_divide\n",
      "  return np.sqrt(f(y=L[:,0])/f_theta(y=L[:,0],x=x))*(L[:,-1]>q_alpha_hat)\n",
      "/scratch/slurm_tmpdir/job_20162137/ipykernel_3830540/3406871675.py:15: RuntimeWarning: invalid value encountered in multiply\n",
      "  return np.sqrt(f(y=L[:,0])/f_theta(y=L[:,0],x=x))*(L[:,-1]>q_alpha_hat)\n"
     ]
    },
    {
     "output_type": "stream",
     "name": "stdout",
     "text": [
      "IS_NN: [-2.84230363  0.40041405]\n",
      "VaR_hat_NN: 8.881980895996094\n",
      "ES_hat_NN: 8.99445698960309\n",
      "q_alpha_IS_hat_RF: 8.189617864769861\n"
     ]
    },
    {
     "output_type": "stream",
     "name": "stderr",
     "text": [
      "/scratch/slurm_tmpdir/job_20162137/ipykernel_3830540/3406871675.py:15: RuntimeWarning: divide by zero encountered in true_divide\n",
      "  return np.sqrt(f(y=L[:,0])/f_theta(y=L[:,0],x=x))*(L[:,-1]>q_alpha_hat)\n",
      "/scratch/slurm_tmpdir/job_20162137/ipykernel_3830540/3406871675.py:15: RuntimeWarning: overflow encountered in true_divide\n",
      "  return np.sqrt(f(y=L[:,0])/f_theta(y=L[:,0],x=x))*(L[:,-1]>q_alpha_hat)\n",
      "/scratch/slurm_tmpdir/job_20162137/ipykernel_3830540/3406871675.py:15: RuntimeWarning: invalid value encountered in multiply\n",
      "  return np.sqrt(f(y=L[:,0])/f_theta(y=L[:,0],x=x))*(L[:,-1]>q_alpha_hat)\n"
     ]
    },
    {
     "output_type": "stream",
     "name": "stdout",
     "text": [
      "IS_RF: [-2.74374604  0.42635248]\n",
      "VaR_hat_RF: 8.344018747425848\n",
      "ES_hat_RF: 8.508306621486408\n",
      "51\n",
      "q_alpha_IS_hat_NN: 7.906857967376709\n"
     ]
    },
    {
     "output_type": "stream",
     "name": "stderr",
     "text": [
      "/scratch/slurm_tmpdir/job_20162137/ipykernel_3830540/3406871675.py:15: RuntimeWarning: divide by zero encountered in true_divide\n",
      "  return np.sqrt(f(y=L[:,0])/f_theta(y=L[:,0],x=x))*(L[:,-1]>q_alpha_hat)\n",
      "/scratch/slurm_tmpdir/job_20162137/ipykernel_3830540/3406871675.py:15: RuntimeWarning: overflow encountered in true_divide\n",
      "  return np.sqrt(f(y=L[:,0])/f_theta(y=L[:,0],x=x))*(L[:,-1]>q_alpha_hat)\n",
      "/scratch/slurm_tmpdir/job_20162137/ipykernel_3830540/3406871675.py:15: RuntimeWarning: invalid value encountered in multiply\n",
      "  return np.sqrt(f(y=L[:,0])/f_theta(y=L[:,0],x=x))*(L[:,-1]>q_alpha_hat)\n"
     ]
    },
    {
     "output_type": "stream",
     "name": "stdout",
     "text": [
      "IS_NN: [-2.8355403   0.36623429]\n",
      "VaR_hat_NN: 8.347953796386719\n",
      "ES_hat_NN: 8.51772219481195\n",
      "q_alpha_IS_hat_RF: 8.383128316590561\n"
     ]
    },
    {
     "output_type": "stream",
     "name": "stderr",
     "text": [
      "/scratch/slurm_tmpdir/job_20162137/ipykernel_3830540/3406871675.py:15: RuntimeWarning: divide by zero encountered in true_divide\n",
      "  return np.sqrt(f(y=L[:,0])/f_theta(y=L[:,0],x=x))*(L[:,-1]>q_alpha_hat)\n",
      "/scratch/slurm_tmpdir/job_20162137/ipykernel_3830540/3406871675.py:15: RuntimeWarning: overflow encountered in true_divide\n",
      "  return np.sqrt(f(y=L[:,0])/f_theta(y=L[:,0],x=x))*(L[:,-1]>q_alpha_hat)\n",
      "/scratch/slurm_tmpdir/job_20162137/ipykernel_3830540/3406871675.py:15: RuntimeWarning: invalid value encountered in multiply\n",
      "  return np.sqrt(f(y=L[:,0])/f_theta(y=L[:,0],x=x))*(L[:,-1]>q_alpha_hat)\n"
     ]
    },
    {
     "output_type": "stream",
     "name": "stdout",
     "text": [
      "IS_RF: [-2.71382954  0.40212983]\n",
      "VaR_hat_RF: 8.336088459795253\n",
      "ES_hat_RF: 8.504382861940297\n",
      "52\n",
      "q_alpha_IS_hat_NN: 8.362944602966309\n",
      "IS_NN: [-2.82712727  0.43498665]\n",
      "VaR_hat_NN: 8.355809211730957\n",
      "ES_hat_NN: 8.532112950606356\n",
      "q_alpha_IS_hat_RF: 8.623178451544034\n"
     ]
    },
    {
     "output_type": "stream",
     "name": "stderr",
     "text": [
      "/scratch/slurm_tmpdir/job_20162137/ipykernel_3830540/3406871675.py:15: RuntimeWarning: divide by zero encountered in true_divide\n",
      "  return np.sqrt(f(y=L[:,0])/f_theta(y=L[:,0],x=x))*(L[:,-1]>q_alpha_hat)\n",
      "/scratch/slurm_tmpdir/job_20162137/ipykernel_3830540/3406871675.py:15: RuntimeWarning: overflow encountered in true_divide\n",
      "  return np.sqrt(f(y=L[:,0])/f_theta(y=L[:,0],x=x))*(L[:,-1]>q_alpha_hat)\n",
      "/scratch/slurm_tmpdir/job_20162137/ipykernel_3830540/3406871675.py:15: RuntimeWarning: invalid value encountered in multiply\n",
      "  return np.sqrt(f(y=L[:,0])/f_theta(y=L[:,0],x=x))*(L[:,-1]>q_alpha_hat)\n"
     ]
    },
    {
     "output_type": "stream",
     "name": "stdout",
     "text": [
      "IS_RF: [-2.64459222  0.47144126]\n",
      "VaR_hat_RF: 8.331501634145745\n",
      "ES_hat_RF: 8.518362046416195\n",
      "53\n",
      "q_alpha_IS_hat_NN: 8.244902610778809\n"
     ]
    },
    {
     "output_type": "stream",
     "name": "stderr",
     "text": [
      "/scratch/slurm_tmpdir/job_20162137/ipykernel_3830540/3406871675.py:15: RuntimeWarning: divide by zero encountered in true_divide\n",
      "  return np.sqrt(f(y=L[:,0])/f_theta(y=L[:,0],x=x))*(L[:,-1]>q_alpha_hat)\n",
      "/scratch/slurm_tmpdir/job_20162137/ipykernel_3830540/3406871675.py:15: RuntimeWarning: overflow encountered in true_divide\n",
      "  return np.sqrt(f(y=L[:,0])/f_theta(y=L[:,0],x=x))*(L[:,-1]>q_alpha_hat)\n",
      "/scratch/slurm_tmpdir/job_20162137/ipykernel_3830540/3406871675.py:15: RuntimeWarning: invalid value encountered in multiply\n",
      "  return np.sqrt(f(y=L[:,0])/f_theta(y=L[:,0],x=x))*(L[:,-1]>q_alpha_hat)\n"
     ]
    },
    {
     "output_type": "stream",
     "name": "stdout",
     "text": [
      "IS_NN: [-2.83024066  0.39096953]\n",
      "VaR_hat_NN: 8.317273139953613\n",
      "ES_hat_NN: 8.494992702557331\n",
      "q_alpha_IS_hat_RF: 8.527567240064608\n"
     ]
    },
    {
     "output_type": "stream",
     "name": "stderr",
     "text": [
      "/scratch/slurm_tmpdir/job_20162137/ipykernel_3830540/3406871675.py:15: RuntimeWarning: divide by zero encountered in true_divide\n",
      "  return np.sqrt(f(y=L[:,0])/f_theta(y=L[:,0],x=x))*(L[:,-1]>q_alpha_hat)\n",
      "/scratch/slurm_tmpdir/job_20162137/ipykernel_3830540/3406871675.py:15: RuntimeWarning: overflow encountered in true_divide\n",
      "  return np.sqrt(f(y=L[:,0])/f_theta(y=L[:,0],x=x))*(L[:,-1]>q_alpha_hat)\n",
      "/scratch/slurm_tmpdir/job_20162137/ipykernel_3830540/3406871675.py:15: RuntimeWarning: invalid value encountered in multiply\n",
      "  return np.sqrt(f(y=L[:,0])/f_theta(y=L[:,0],x=x))*(L[:,-1]>q_alpha_hat)\n"
     ]
    },
    {
     "output_type": "stream",
     "name": "stdout",
     "text": [
      "IS_RF: [-2.73687939  0.41229187]\n",
      "VaR_hat_RF: 8.328036967715347\n",
      "ES_hat_RF: 8.520500959126762\n",
      "54\n",
      "q_alpha_IS_hat_NN: 8.136147499084473\n"
     ]
    },
    {
     "output_type": "stream",
     "name": "stderr",
     "text": [
      "/scratch/slurm_tmpdir/job_20162137/ipykernel_3830540/3406871675.py:15: RuntimeWarning: divide by zero encountered in true_divide\n",
      "  return np.sqrt(f(y=L[:,0])/f_theta(y=L[:,0],x=x))*(L[:,-1]>q_alpha_hat)\n",
      "/scratch/slurm_tmpdir/job_20162137/ipykernel_3830540/3406871675.py:15: RuntimeWarning: overflow encountered in true_divide\n",
      "  return np.sqrt(f(y=L[:,0])/f_theta(y=L[:,0],x=x))*(L[:,-1]>q_alpha_hat)\n",
      "/scratch/slurm_tmpdir/job_20162137/ipykernel_3830540/3406871675.py:15: RuntimeWarning: invalid value encountered in multiply\n",
      "  return np.sqrt(f(y=L[:,0])/f_theta(y=L[:,0],x=x))*(L[:,-1]>q_alpha_hat)\n"
     ]
    },
    {
     "output_type": "stream",
     "name": "stdout",
     "text": [
      "IS_NN: [-2.83814704  0.40863905]\n",
      "VaR_hat_NN: 8.296152114868164\n",
      "ES_hat_NN: 8.460235149590325\n",
      "q_alpha_IS_hat_RF: 8.183078376991393\n"
     ]
    },
    {
     "output_type": "stream",
     "name": "stderr",
     "text": [
      "/scratch/slurm_tmpdir/job_20162137/ipykernel_3830540/3406871675.py:15: RuntimeWarning: divide by zero encountered in true_divide\n",
      "  return np.sqrt(f(y=L[:,0])/f_theta(y=L[:,0],x=x))*(L[:,-1]>q_alpha_hat)\n",
      "/scratch/slurm_tmpdir/job_20162137/ipykernel_3830540/3406871675.py:15: RuntimeWarning: overflow encountered in true_divide\n",
      "  return np.sqrt(f(y=L[:,0])/f_theta(y=L[:,0],x=x))*(L[:,-1]>q_alpha_hat)\n",
      "/scratch/slurm_tmpdir/job_20162137/ipykernel_3830540/3406871675.py:15: RuntimeWarning: invalid value encountered in multiply\n",
      "  return np.sqrt(f(y=L[:,0])/f_theta(y=L[:,0],x=x))*(L[:,-1]>q_alpha_hat)\n"
     ]
    },
    {
     "output_type": "stream",
     "name": "stdout",
     "text": [
      "IS_RF: [-2.60795126  0.46479306]\n",
      "VaR_hat_RF: 8.333068283301023\n",
      "ES_hat_RF: 8.508791218396292\n",
      "55\n",
      "q_alpha_IS_hat_NN: 8.202681541442871\n"
     ]
    },
    {
     "output_type": "stream",
     "name": "stderr",
     "text": [
      "/scratch/slurm_tmpdir/job_20162137/ipykernel_3830540/3406871675.py:15: RuntimeWarning: divide by zero encountered in true_divide\n",
      "  return np.sqrt(f(y=L[:,0])/f_theta(y=L[:,0],x=x))*(L[:,-1]>q_alpha_hat)\n",
      "/scratch/slurm_tmpdir/job_20162137/ipykernel_3830540/3406871675.py:15: RuntimeWarning: overflow encountered in true_divide\n",
      "  return np.sqrt(f(y=L[:,0])/f_theta(y=L[:,0],x=x))*(L[:,-1]>q_alpha_hat)\n",
      "/scratch/slurm_tmpdir/job_20162137/ipykernel_3830540/3406871675.py:15: RuntimeWarning: invalid value encountered in multiply\n",
      "  return np.sqrt(f(y=L[:,0])/f_theta(y=L[:,0],x=x))*(L[:,-1]>q_alpha_hat)\n"
     ]
    },
    {
     "output_type": "stream",
     "name": "stdout",
     "text": [
      "IS_NN: [-2.83085389  0.41829344]\n",
      "VaR_hat_NN: 8.315855979919434\n",
      "ES_hat_NN: 8.481512481481154\n",
      "q_alpha_IS_hat_RF: 8.134349409203889\n",
      "IS_RF: [-2.5098305   0.48621408]\n",
      "VaR_hat_RF: 8.343395966693356\n",
      "ES_hat_RF: 8.497538746688965\n",
      "56\n",
      "q_alpha_IS_hat_NN: 8.043045997619629\n"
     ]
    },
    {
     "output_type": "stream",
     "name": "stderr",
     "text": [
      "/scratch/slurm_tmpdir/job_20162137/ipykernel_3830540/3406871675.py:15: RuntimeWarning: divide by zero encountered in true_divide\n",
      "  return np.sqrt(f(y=L[:,0])/f_theta(y=L[:,0],x=x))*(L[:,-1]>q_alpha_hat)\n",
      "/scratch/slurm_tmpdir/job_20162137/ipykernel_3830540/3406871675.py:15: RuntimeWarning: overflow encountered in true_divide\n",
      "  return np.sqrt(f(y=L[:,0])/f_theta(y=L[:,0],x=x))*(L[:,-1]>q_alpha_hat)\n",
      "/scratch/slurm_tmpdir/job_20162137/ipykernel_3830540/3406871675.py:15: RuntimeWarning: invalid value encountered in multiply\n",
      "  return np.sqrt(f(y=L[:,0])/f_theta(y=L[:,0],x=x))*(L[:,-1]>q_alpha_hat)\n"
     ]
    },
    {
     "output_type": "stream",
     "name": "stdout",
     "text": [
      "IS_NN: [-2.8317759   0.41815654]\n",
      "VaR_hat_NN: 8.319279670715332\n",
      "ES_hat_NN: 8.52023039372116\n",
      "q_alpha_IS_hat_RF: 8.406503216315679\n"
     ]
    },
    {
     "output_type": "stream",
     "name": "stderr",
     "text": [
      "/scratch/slurm_tmpdir/job_20162137/ipykernel_3830540/3406871675.py:15: RuntimeWarning: divide by zero encountered in true_divide\n",
      "  return np.sqrt(f(y=L[:,0])/f_theta(y=L[:,0],x=x))*(L[:,-1]>q_alpha_hat)\n",
      "/scratch/slurm_tmpdir/job_20162137/ipykernel_3830540/3406871675.py:15: RuntimeWarning: overflow encountered in true_divide\n",
      "  return np.sqrt(f(y=L[:,0])/f_theta(y=L[:,0],x=x))*(L[:,-1]>q_alpha_hat)\n",
      "/scratch/slurm_tmpdir/job_20162137/ipykernel_3830540/3406871675.py:15: RuntimeWarning: invalid value encountered in multiply\n",
      "  return np.sqrt(f(y=L[:,0])/f_theta(y=L[:,0],x=x))*(L[:,-1]>q_alpha_hat)\n"
     ]
    },
    {
     "output_type": "stream",
     "name": "stdout",
     "text": [
      "IS_RF: [-2.8159862   0.42147356]\n",
      "VaR_hat_RF: 8.358261884005724\n",
      "ES_hat_RF: 8.514472475297122\n",
      "57\n",
      "q_alpha_IS_hat_NN: 8.195826530456543\n"
     ]
    },
    {
     "output_type": "stream",
     "name": "stderr",
     "text": [
      "/scratch/slurm_tmpdir/job_20162137/ipykernel_3830540/3406871675.py:15: RuntimeWarning: divide by zero encountered in true_divide\n",
      "  return np.sqrt(f(y=L[:,0])/f_theta(y=L[:,0],x=x))*(L[:,-1]>q_alpha_hat)\n",
      "/scratch/slurm_tmpdir/job_20162137/ipykernel_3830540/3406871675.py:15: RuntimeWarning: overflow encountered in true_divide\n",
      "  return np.sqrt(f(y=L[:,0])/f_theta(y=L[:,0],x=x))*(L[:,-1]>q_alpha_hat)\n",
      "/scratch/slurm_tmpdir/job_20162137/ipykernel_3830540/3406871675.py:15: RuntimeWarning: invalid value encountered in multiply\n",
      "  return np.sqrt(f(y=L[:,0])/f_theta(y=L[:,0],x=x))*(L[:,-1]>q_alpha_hat)\n"
     ]
    },
    {
     "output_type": "stream",
     "name": "stdout",
     "text": [
      "IS_NN: [-2.84373524  0.4081697 ]\n",
      "VaR_hat_NN: 8.35339069366455\n",
      "ES_hat_NN: 8.51303923062225\n",
      "q_alpha_IS_hat_RF: 8.361213157016197\n"
     ]
    },
    {
     "output_type": "stream",
     "name": "stderr",
     "text": [
      "/scratch/slurm_tmpdir/job_20162137/ipykernel_3830540/3406871675.py:15: RuntimeWarning: divide by zero encountered in true_divide\n",
      "  return np.sqrt(f(y=L[:,0])/f_theta(y=L[:,0],x=x))*(L[:,-1]>q_alpha_hat)\n",
      "/scratch/slurm_tmpdir/job_20162137/ipykernel_3830540/3406871675.py:15: RuntimeWarning: overflow encountered in true_divide\n",
      "  return np.sqrt(f(y=L[:,0])/f_theta(y=L[:,0],x=x))*(L[:,-1]>q_alpha_hat)\n",
      "/scratch/slurm_tmpdir/job_20162137/ipykernel_3830540/3406871675.py:15: RuntimeWarning: invalid value encountered in multiply\n",
      "  return np.sqrt(f(y=L[:,0])/f_theta(y=L[:,0],x=x))*(L[:,-1]>q_alpha_hat)\n"
     ]
    },
    {
     "output_type": "stream",
     "name": "stdout",
     "text": [
      "IS_RF: [-2.80366732  0.41694125]\n",
      "VaR_hat_RF: 8.342155500640677\n",
      "ES_hat_RF: 8.507136218254937\n",
      "58\n",
      "q_alpha_IS_hat_NN: 8.335984230041504\n"
     ]
    },
    {
     "output_type": "stream",
     "name": "stderr",
     "text": [
      "/scratch/slurm_tmpdir/job_20162137/ipykernel_3830540/3406871675.py:15: RuntimeWarning: divide by zero encountered in true_divide\n",
      "  return np.sqrt(f(y=L[:,0])/f_theta(y=L[:,0],x=x))*(L[:,-1]>q_alpha_hat)\n",
      "/scratch/slurm_tmpdir/job_20162137/ipykernel_3830540/3406871675.py:15: RuntimeWarning: overflow encountered in true_divide\n",
      "  return np.sqrt(f(y=L[:,0])/f_theta(y=L[:,0],x=x))*(L[:,-1]>q_alpha_hat)\n",
      "/scratch/slurm_tmpdir/job_20162137/ipykernel_3830540/3406871675.py:15: RuntimeWarning: invalid value encountered in multiply\n",
      "  return np.sqrt(f(y=L[:,0])/f_theta(y=L[:,0],x=x))*(L[:,-1]>q_alpha_hat)\n"
     ]
    },
    {
     "output_type": "stream",
     "name": "stdout",
     "text": [
      "IS_NN: [-2.83327647  0.40599211]\n",
      "VaR_hat_NN: 8.424737930297852\n",
      "ES_hat_NN: 8.575068807001529\n",
      "q_alpha_IS_hat_RF: 8.444756013038011\n"
     ]
    },
    {
     "output_type": "stream",
     "name": "stderr",
     "text": [
      "/scratch/slurm_tmpdir/job_20162137/ipykernel_3830540/3406871675.py:15: RuntimeWarning: divide by zero encountered in true_divide\n",
      "  return np.sqrt(f(y=L[:,0])/f_theta(y=L[:,0],x=x))*(L[:,-1]>q_alpha_hat)\n",
      "/scratch/slurm_tmpdir/job_20162137/ipykernel_3830540/3406871675.py:15: RuntimeWarning: overflow encountered in true_divide\n",
      "  return np.sqrt(f(y=L[:,0])/f_theta(y=L[:,0],x=x))*(L[:,-1]>q_alpha_hat)\n",
      "/scratch/slurm_tmpdir/job_20162137/ipykernel_3830540/3406871675.py:15: RuntimeWarning: invalid value encountered in multiply\n",
      "  return np.sqrt(f(y=L[:,0])/f_theta(y=L[:,0],x=x))*(L[:,-1]>q_alpha_hat)\n"
     ]
    },
    {
     "output_type": "stream",
     "name": "stdout",
     "text": [
      "IS_RF: [-2.80041346  0.41376439]\n",
      "VaR_hat_RF: 8.327757210969839\n",
      "ES_hat_RF: 8.50679635305157\n",
      "59\n",
      "q_alpha_IS_hat_NN: 8.428722381591797\n"
     ]
    },
    {
     "output_type": "stream",
     "name": "stderr",
     "text": [
      "/scratch/slurm_tmpdir/job_20162137/ipykernel_3830540/3406871675.py:15: RuntimeWarning: divide by zero encountered in true_divide\n",
      "  return np.sqrt(f(y=L[:,0])/f_theta(y=L[:,0],x=x))*(L[:,-1]>q_alpha_hat)\n",
      "/scratch/slurm_tmpdir/job_20162137/ipykernel_3830540/3406871675.py:15: RuntimeWarning: overflow encountered in true_divide\n",
      "  return np.sqrt(f(y=L[:,0])/f_theta(y=L[:,0],x=x))*(L[:,-1]>q_alpha_hat)\n",
      "/scratch/slurm_tmpdir/job_20162137/ipykernel_3830540/3406871675.py:15: RuntimeWarning: invalid value encountered in multiply\n",
      "  return np.sqrt(f(y=L[:,0])/f_theta(y=L[:,0],x=x))*(L[:,-1]>q_alpha_hat)\n"
     ]
    },
    {
     "output_type": "stream",
     "name": "stdout",
     "text": [
      "IS_NN: [-2.83529955  0.38695637]\n",
      "VaR_hat_NN: 8.31303882598877\n",
      "ES_hat_NN: 8.491355444930283\n",
      "q_alpha_IS_hat_RF: 8.198994039779565\n"
     ]
    },
    {
     "output_type": "stream",
     "name": "stderr",
     "text": [
      "/scratch/slurm_tmpdir/job_20162137/ipykernel_3830540/3406871675.py:15: RuntimeWarning: divide by zero encountered in true_divide\n",
      "  return np.sqrt(f(y=L[:,0])/f_theta(y=L[:,0],x=x))*(L[:,-1]>q_alpha_hat)\n",
      "/scratch/slurm_tmpdir/job_20162137/ipykernel_3830540/3406871675.py:15: RuntimeWarning: overflow encountered in true_divide\n",
      "  return np.sqrt(f(y=L[:,0])/f_theta(y=L[:,0],x=x))*(L[:,-1]>q_alpha_hat)\n",
      "/scratch/slurm_tmpdir/job_20162137/ipykernel_3830540/3406871675.py:15: RuntimeWarning: invalid value encountered in multiply\n",
      "  return np.sqrt(f(y=L[:,0])/f_theta(y=L[:,0],x=x))*(L[:,-1]>q_alpha_hat)\n"
     ]
    },
    {
     "output_type": "stream",
     "name": "stdout",
     "text": [
      "IS_RF: [-2.72558885  0.41609774]\n",
      "VaR_hat_RF: 8.325014523931351\n",
      "ES_hat_RF: 8.516935462985282\n",
      "60\n",
      "q_alpha_IS_hat_NN: 8.285927772521973\n"
     ]
    },
    {
     "output_type": "stream",
     "name": "stderr",
     "text": [
      "/scratch/slurm_tmpdir/job_20162137/ipykernel_3830540/3406871675.py:15: RuntimeWarning: divide by zero encountered in true_divide\n",
      "  return np.sqrt(f(y=L[:,0])/f_theta(y=L[:,0],x=x))*(L[:,-1]>q_alpha_hat)\n",
      "/scratch/slurm_tmpdir/job_20162137/ipykernel_3830540/3406871675.py:15: RuntimeWarning: overflow encountered in true_divide\n",
      "  return np.sqrt(f(y=L[:,0])/f_theta(y=L[:,0],x=x))*(L[:,-1]>q_alpha_hat)\n",
      "/scratch/slurm_tmpdir/job_20162137/ipykernel_3830540/3406871675.py:15: RuntimeWarning: invalid value encountered in multiply\n",
      "  return np.sqrt(f(y=L[:,0])/f_theta(y=L[:,0],x=x))*(L[:,-1]>q_alpha_hat)\n"
     ]
    },
    {
     "output_type": "stream",
     "name": "stdout",
     "text": [
      "IS_NN: [-2.83079207  0.41621984]\n",
      "VaR_hat_NN: 8.269673347473145\n",
      "ES_hat_NN: 8.450889555060657\n",
      "q_alpha_IS_hat_RF: 8.252495064248077\n"
     ]
    },
    {
     "output_type": "stream",
     "name": "stderr",
     "text": [
      "/scratch/slurm_tmpdir/job_20162137/ipykernel_3830540/3406871675.py:15: RuntimeWarning: divide by zero encountered in true_divide\n",
      "  return np.sqrt(f(y=L[:,0])/f_theta(y=L[:,0],x=x))*(L[:,-1]>q_alpha_hat)\n",
      "/scratch/slurm_tmpdir/job_20162137/ipykernel_3830540/3406871675.py:15: RuntimeWarning: overflow encountered in true_divide\n",
      "  return np.sqrt(f(y=L[:,0])/f_theta(y=L[:,0],x=x))*(L[:,-1]>q_alpha_hat)\n",
      "/scratch/slurm_tmpdir/job_20162137/ipykernel_3830540/3406871675.py:15: RuntimeWarning: invalid value encountered in multiply\n",
      "  return np.sqrt(f(y=L[:,0])/f_theta(y=L[:,0],x=x))*(L[:,-1]>q_alpha_hat)\n"
     ]
    },
    {
     "output_type": "stream",
     "name": "stdout",
     "text": [
      "IS_RF: [-2.76522457  0.43040797]\n",
      "VaR_hat_RF: 8.316400552561506\n",
      "ES_hat_RF: 8.49834838159448\n",
      "61\n",
      "q_alpha_IS_hat_NN: 8.336915016174316\n"
     ]
    },
    {
     "output_type": "stream",
     "name": "stderr",
     "text": [
      "/scratch/slurm_tmpdir/job_20162137/ipykernel_3830540/3406871675.py:15: RuntimeWarning: divide by zero encountered in true_divide\n",
      "  return np.sqrt(f(y=L[:,0])/f_theta(y=L[:,0],x=x))*(L[:,-1]>q_alpha_hat)\n",
      "/scratch/slurm_tmpdir/job_20162137/ipykernel_3830540/3406871675.py:15: RuntimeWarning: overflow encountered in true_divide\n",
      "  return np.sqrt(f(y=L[:,0])/f_theta(y=L[:,0],x=x))*(L[:,-1]>q_alpha_hat)\n",
      "/scratch/slurm_tmpdir/job_20162137/ipykernel_3830540/3406871675.py:15: RuntimeWarning: invalid value encountered in multiply\n",
      "  return np.sqrt(f(y=L[:,0])/f_theta(y=L[:,0],x=x))*(L[:,-1]>q_alpha_hat)\n"
     ]
    },
    {
     "output_type": "stream",
     "name": "stdout",
     "text": [
      "IS_NN: [-2.82756115  0.40369164]\n",
      "VaR_hat_NN: 8.322883605957031\n",
      "ES_hat_NN: 8.495672104242935\n",
      "q_alpha_IS_hat_RF: 8.299844423890963\n"
     ]
    },
    {
     "output_type": "stream",
     "name": "stderr",
     "text": [
      "/scratch/slurm_tmpdir/job_20162137/ipykernel_3830540/3406871675.py:15: RuntimeWarning: divide by zero encountered in true_divide\n",
      "  return np.sqrt(f(y=L[:,0])/f_theta(y=L[:,0],x=x))*(L[:,-1]>q_alpha_hat)\n",
      "/scratch/slurm_tmpdir/job_20162137/ipykernel_3830540/3406871675.py:15: RuntimeWarning: overflow encountered in true_divide\n",
      "  return np.sqrt(f(y=L[:,0])/f_theta(y=L[:,0],x=x))*(L[:,-1]>q_alpha_hat)\n",
      "/scratch/slurm_tmpdir/job_20162137/ipykernel_3830540/3406871675.py:15: RuntimeWarning: invalid value encountered in multiply\n",
      "  return np.sqrt(f(y=L[:,0])/f_theta(y=L[:,0],x=x))*(L[:,-1]>q_alpha_hat)\n"
     ]
    },
    {
     "output_type": "stream",
     "name": "stdout",
     "text": [
      "IS_RF: [-2.59384963  0.45587837]\n",
      "VaR_hat_RF: 8.307984355364544\n",
      "ES_hat_RF: 8.51310826232809\n",
      "62\n",
      "q_alpha_IS_hat_NN: 8.553353309631348\n"
     ]
    },
    {
     "output_type": "stream",
     "name": "stderr",
     "text": [
      "/scratch/slurm_tmpdir/job_20162137/ipykernel_3830540/3406871675.py:15: RuntimeWarning: divide by zero encountered in true_divide\n",
      "  return np.sqrt(f(y=L[:,0])/f_theta(y=L[:,0],x=x))*(L[:,-1]>q_alpha_hat)\n",
      "/scratch/slurm_tmpdir/job_20162137/ipykernel_3830540/3406871675.py:15: RuntimeWarning: overflow encountered in true_divide\n",
      "  return np.sqrt(f(y=L[:,0])/f_theta(y=L[:,0],x=x))*(L[:,-1]>q_alpha_hat)\n",
      "/scratch/slurm_tmpdir/job_20162137/ipykernel_3830540/3406871675.py:15: RuntimeWarning: invalid value encountered in multiply\n",
      "  return np.sqrt(f(y=L[:,0])/f_theta(y=L[:,0],x=x))*(L[:,-1]>q_alpha_hat)\n"
     ]
    },
    {
     "output_type": "stream",
     "name": "stdout",
     "text": [
      "IS_NN: [-2.83754446  0.39524635]\n",
      "VaR_hat_NN: 8.34397029876709\n",
      "ES_hat_NN: 8.520051730739285\n",
      "q_alpha_IS_hat_RF: 8.570739865889685\n"
     ]
    },
    {
     "output_type": "stream",
     "name": "stderr",
     "text": [
      "/scratch/slurm_tmpdir/job_20162137/ipykernel_3830540/3406871675.py:15: RuntimeWarning: divide by zero encountered in true_divide\n",
      "  return np.sqrt(f(y=L[:,0])/f_theta(y=L[:,0],x=x))*(L[:,-1]>q_alpha_hat)\n",
      "/scratch/slurm_tmpdir/job_20162137/ipykernel_3830540/3406871675.py:15: RuntimeWarning: overflow encountered in true_divide\n",
      "  return np.sqrt(f(y=L[:,0])/f_theta(y=L[:,0],x=x))*(L[:,-1]>q_alpha_hat)\n",
      "/scratch/slurm_tmpdir/job_20162137/ipykernel_3830540/3406871675.py:15: RuntimeWarning: invalid value encountered in multiply\n",
      "  return np.sqrt(f(y=L[:,0])/f_theta(y=L[:,0],x=x))*(L[:,-1]>q_alpha_hat)\n"
     ]
    },
    {
     "output_type": "stream",
     "name": "stdout",
     "text": [
      "IS_RF: [-2.65903563  0.43973722]\n",
      "VaR_hat_RF: 8.366537988870284\n",
      "ES_hat_RF: 8.518441566569454\n",
      "63\n",
      "q_alpha_IS_hat_NN: 8.323127746582031\n"
     ]
    },
    {
     "output_type": "stream",
     "name": "stderr",
     "text": [
      "/scratch/slurm_tmpdir/job_20162137/ipykernel_3830540/3406871675.py:15: RuntimeWarning: divide by zero encountered in true_divide\n",
      "  return np.sqrt(f(y=L[:,0])/f_theta(y=L[:,0],x=x))*(L[:,-1]>q_alpha_hat)\n",
      "/scratch/slurm_tmpdir/job_20162137/ipykernel_3830540/3406871675.py:15: RuntimeWarning: overflow encountered in true_divide\n",
      "  return np.sqrt(f(y=L[:,0])/f_theta(y=L[:,0],x=x))*(L[:,-1]>q_alpha_hat)\n",
      "/scratch/slurm_tmpdir/job_20162137/ipykernel_3830540/3406871675.py:15: RuntimeWarning: invalid value encountered in multiply\n",
      "  return np.sqrt(f(y=L[:,0])/f_theta(y=L[:,0],x=x))*(L[:,-1]>q_alpha_hat)\n"
     ]
    },
    {
     "output_type": "stream",
     "name": "stdout",
     "text": [
      "IS_NN: [-2.84069138  0.36872024]\n",
      "VaR_hat_NN: 8.318378448486328\n",
      "ES_hat_NN: 8.486185280670108\n",
      "q_alpha_IS_hat_RF: 8.16212209948406\n"
     ]
    },
    {
     "output_type": "stream",
     "name": "stderr",
     "text": [
      "/scratch/slurm_tmpdir/job_20162137/ipykernel_3830540/3406871675.py:15: RuntimeWarning: divide by zero encountered in true_divide\n",
      "  return np.sqrt(f(y=L[:,0])/f_theta(y=L[:,0],x=x))*(L[:,-1]>q_alpha_hat)\n",
      "/scratch/slurm_tmpdir/job_20162137/ipykernel_3830540/3406871675.py:15: RuntimeWarning: overflow encountered in true_divide\n",
      "  return np.sqrt(f(y=L[:,0])/f_theta(y=L[:,0],x=x))*(L[:,-1]>q_alpha_hat)\n",
      "/scratch/slurm_tmpdir/job_20162137/ipykernel_3830540/3406871675.py:15: RuntimeWarning: invalid value encountered in multiply\n",
      "  return np.sqrt(f(y=L[:,0])/f_theta(y=L[:,0],x=x))*(L[:,-1]>q_alpha_hat)\n"
     ]
    },
    {
     "output_type": "stream",
     "name": "stdout",
     "text": [
      "IS_RF: [-2.67230485  0.40873371]\n",
      "VaR_hat_RF: 8.339912710216831\n",
      "ES_hat_RF: 8.516809161307238\n",
      "64\n",
      "q_alpha_IS_hat_NN: 7.973108291625977\n",
      "IS_NN: [-2.8337302   0.45621845]\n",
      "VaR_hat_NN: 8.368812561035156\n",
      "ES_hat_NN: 8.546722924525035\n",
      "q_alpha_IS_hat_RF: 8.327168725942869\n",
      "IS_RF: [-2.77660982  0.46600441]\n",
      "VaR_hat_RF: 8.344237625242284\n",
      "ES_hat_RF: 8.516545479339255\n",
      "65\n",
      "q_alpha_IS_hat_NN: 8.209173202514648\n"
     ]
    },
    {
     "output_type": "stream",
     "name": "stderr",
     "text": [
      "/scratch/slurm_tmpdir/job_20162137/ipykernel_3830540/3406871675.py:15: RuntimeWarning: divide by zero encountered in true_divide\n",
      "  return np.sqrt(f(y=L[:,0])/f_theta(y=L[:,0],x=x))*(L[:,-1]>q_alpha_hat)\n",
      "/scratch/slurm_tmpdir/job_20162137/ipykernel_3830540/3406871675.py:15: RuntimeWarning: overflow encountered in true_divide\n",
      "  return np.sqrt(f(y=L[:,0])/f_theta(y=L[:,0],x=x))*(L[:,-1]>q_alpha_hat)\n",
      "/scratch/slurm_tmpdir/job_20162137/ipykernel_3830540/3406871675.py:15: RuntimeWarning: invalid value encountered in multiply\n",
      "  return np.sqrt(f(y=L[:,0])/f_theta(y=L[:,0],x=x))*(L[:,-1]>q_alpha_hat)\n"
     ]
    },
    {
     "output_type": "stream",
     "name": "stdout",
     "text": [
      "IS_NN: [-2.83603819  0.38231295]\n",
      "VaR_hat_NN: 8.330707550048828\n",
      "ES_hat_NN: 8.506326351342352\n",
      "q_alpha_IS_hat_RF: 8.41816674348022\n"
     ]
    },
    {
     "output_type": "stream",
     "name": "stderr",
     "text": [
      "/scratch/slurm_tmpdir/job_20162137/ipykernel_3830540/3406871675.py:15: RuntimeWarning: divide by zero encountered in true_divide\n",
      "  return np.sqrt(f(y=L[:,0])/f_theta(y=L[:,0],x=x))*(L[:,-1]>q_alpha_hat)\n",
      "/scratch/slurm_tmpdir/job_20162137/ipykernel_3830540/3406871675.py:15: RuntimeWarning: overflow encountered in true_divide\n",
      "  return np.sqrt(f(y=L[:,0])/f_theta(y=L[:,0],x=x))*(L[:,-1]>q_alpha_hat)\n",
      "/scratch/slurm_tmpdir/job_20162137/ipykernel_3830540/3406871675.py:15: RuntimeWarning: invalid value encountered in multiply\n",
      "  return np.sqrt(f(y=L[:,0])/f_theta(y=L[:,0],x=x))*(L[:,-1]>q_alpha_hat)\n"
     ]
    },
    {
     "output_type": "stream",
     "name": "stdout",
     "text": [
      "IS_RF: [-2.77405985  0.39763613]\n",
      "VaR_hat_RF: 8.340864928166507\n",
      "ES_hat_RF: 8.50840419139534\n",
      "66\n",
      "q_alpha_IS_hat_NN: 8.00856876373291\n"
     ]
    },
    {
     "output_type": "stream",
     "name": "stderr",
     "text": [
      "/scratch/slurm_tmpdir/job_20162137/ipykernel_3830540/3406871675.py:15: RuntimeWarning: divide by zero encountered in true_divide\n",
      "  return np.sqrt(f(y=L[:,0])/f_theta(y=L[:,0],x=x))*(L[:,-1]>q_alpha_hat)\n",
      "/scratch/slurm_tmpdir/job_20162137/ipykernel_3830540/3406871675.py:15: RuntimeWarning: overflow encountered in true_divide\n",
      "  return np.sqrt(f(y=L[:,0])/f_theta(y=L[:,0],x=x))*(L[:,-1]>q_alpha_hat)\n",
      "/scratch/slurm_tmpdir/job_20162137/ipykernel_3830540/3406871675.py:15: RuntimeWarning: invalid value encountered in multiply\n",
      "  return np.sqrt(f(y=L[:,0])/f_theta(y=L[:,0],x=x))*(L[:,-1]>q_alpha_hat)\n"
     ]
    },
    {
     "output_type": "stream",
     "name": "stdout",
     "text": [
      "IS_NN: [-2.84258659  0.40772178]\n",
      "VaR_hat_NN: 8.303607940673828\n",
      "ES_hat_NN: 8.474738107126987\n",
      "q_alpha_IS_hat_RF: 8.451928515218649\n"
     ]
    },
    {
     "output_type": "stream",
     "name": "stderr",
     "text": [
      "/scratch/slurm_tmpdir/job_20162137/ipykernel_3830540/3406871675.py:15: RuntimeWarning: divide by zero encountered in true_divide\n",
      "  return np.sqrt(f(y=L[:,0])/f_theta(y=L[:,0],x=x))*(L[:,-1]>q_alpha_hat)\n",
      "/scratch/slurm_tmpdir/job_20162137/ipykernel_3830540/3406871675.py:15: RuntimeWarning: invalid value encountered in multiply\n",
      "  return np.sqrt(f(y=L[:,0])/f_theta(y=L[:,0],x=x))*(L[:,-1]>q_alpha_hat)\n"
     ]
    },
    {
     "output_type": "stream",
     "name": "stdout",
     "text": [
      "IS_RF: [-2.77037568  0.42345747]\n",
      "VaR_hat_RF: 8.330884537258163\n",
      "ES_hat_RF: 8.500667272901776\n",
      "67\n",
      "q_alpha_IS_hat_NN: 8.163082122802734\n"
     ]
    },
    {
     "output_type": "stream",
     "name": "stderr",
     "text": [
      "/scratch/slurm_tmpdir/job_20162137/ipykernel_3830540/3406871675.py:15: RuntimeWarning: divide by zero encountered in true_divide\n",
      "  return np.sqrt(f(y=L[:,0])/f_theta(y=L[:,0],x=x))*(L[:,-1]>q_alpha_hat)\n",
      "/scratch/slurm_tmpdir/job_20162137/ipykernel_3830540/3406871675.py:15: RuntimeWarning: overflow encountered in true_divide\n",
      "  return np.sqrt(f(y=L[:,0])/f_theta(y=L[:,0],x=x))*(L[:,-1]>q_alpha_hat)\n",
      "/scratch/slurm_tmpdir/job_20162137/ipykernel_3830540/3406871675.py:15: RuntimeWarning: invalid value encountered in multiply\n",
      "  return np.sqrt(f(y=L[:,0])/f_theta(y=L[:,0],x=x))*(L[:,-1]>q_alpha_hat)\n"
     ]
    },
    {
     "output_type": "stream",
     "name": "stdout",
     "text": [
      "IS_NN: [-2.84129688  0.41728564]\n",
      "VaR_hat_NN: 8.314268112182617\n",
      "ES_hat_NN: 8.500236082315586\n",
      "q_alpha_IS_hat_RF: 8.340078593166059\n"
     ]
    },
    {
     "output_type": "stream",
     "name": "stderr",
     "text": [
      "/scratch/slurm_tmpdir/job_20162137/ipykernel_3830540/3406871675.py:15: RuntimeWarning: overflow encountered in true_divide\n",
      "  return np.sqrt(f(y=L[:,0])/f_theta(y=L[:,0],x=x))*(L[:,-1]>q_alpha_hat)\n",
      "/scratch/slurm_tmpdir/job_20162137/ipykernel_3830540/3406871675.py:15: RuntimeWarning: invalid value encountered in multiply\n",
      "  return np.sqrt(f(y=L[:,0])/f_theta(y=L[:,0],x=x))*(L[:,-1]>q_alpha_hat)\n"
     ]
    },
    {
     "output_type": "stream",
     "name": "stdout",
     "text": [
      "IS_RF: [-2.80952536  0.42353567]\n",
      "VaR_hat_RF: 8.315514513392126\n",
      "ES_hat_RF: 8.505157953269388\n",
      "68\n",
      "q_alpha_IS_hat_NN: 7.856927871704102\n"
     ]
    },
    {
     "output_type": "stream",
     "name": "stderr",
     "text": [
      "/scratch/slurm_tmpdir/job_20162137/ipykernel_3830540/3406871675.py:15: RuntimeWarning: divide by zero encountered in true_divide\n",
      "  return np.sqrt(f(y=L[:,0])/f_theta(y=L[:,0],x=x))*(L[:,-1]>q_alpha_hat)\n",
      "/scratch/slurm_tmpdir/job_20162137/ipykernel_3830540/3406871675.py:15: RuntimeWarning: overflow encountered in true_divide\n",
      "  return np.sqrt(f(y=L[:,0])/f_theta(y=L[:,0],x=x))*(L[:,-1]>q_alpha_hat)\n",
      "/scratch/slurm_tmpdir/job_20162137/ipykernel_3830540/3406871675.py:15: RuntimeWarning: invalid value encountered in multiply\n",
      "  return np.sqrt(f(y=L[:,0])/f_theta(y=L[:,0],x=x))*(L[:,-1]>q_alpha_hat)\n"
     ]
    },
    {
     "output_type": "stream",
     "name": "stdout",
     "text": [
      "IS_NN: [-2.82850954  0.40393809]\n",
      "VaR_hat_NN: 8.353853225708008\n",
      "ES_hat_NN: 8.508527195706828\n",
      "q_alpha_IS_hat_RF: 8.337352326349434\n"
     ]
    },
    {
     "output_type": "stream",
     "name": "stderr",
     "text": [
      "/scratch/slurm_tmpdir/job_20162137/ipykernel_3830540/3406871675.py:15: RuntimeWarning: divide by zero encountered in true_divide\n",
      "  return np.sqrt(f(y=L[:,0])/f_theta(y=L[:,0],x=x))*(L[:,-1]>q_alpha_hat)\n",
      "/scratch/slurm_tmpdir/job_20162137/ipykernel_3830540/3406871675.py:15: RuntimeWarning: overflow encountered in true_divide\n",
      "  return np.sqrt(f(y=L[:,0])/f_theta(y=L[:,0],x=x))*(L[:,-1]>q_alpha_hat)\n",
      "/scratch/slurm_tmpdir/job_20162137/ipykernel_3830540/3406871675.py:15: RuntimeWarning: invalid value encountered in multiply\n",
      "  return np.sqrt(f(y=L[:,0])/f_theta(y=L[:,0],x=x))*(L[:,-1]>q_alpha_hat)\n"
     ]
    },
    {
     "output_type": "stream",
     "name": "stdout",
     "text": [
      "IS_RF: [-2.67926443  0.43327142]\n",
      "VaR_hat_RF: 8.357559829215003\n",
      "ES_hat_RF: 8.525614285933813\n",
      "69\n",
      "q_alpha_IS_hat_NN: 8.238662719726562\n"
     ]
    },
    {
     "output_type": "stream",
     "name": "stderr",
     "text": [
      "/scratch/slurm_tmpdir/job_20162137/ipykernel_3830540/3406871675.py:15: RuntimeWarning: divide by zero encountered in true_divide\n",
      "  return np.sqrt(f(y=L[:,0])/f_theta(y=L[:,0],x=x))*(L[:,-1]>q_alpha_hat)\n",
      "/scratch/slurm_tmpdir/job_20162137/ipykernel_3830540/3406871675.py:15: RuntimeWarning: overflow encountered in true_divide\n",
      "  return np.sqrt(f(y=L[:,0])/f_theta(y=L[:,0],x=x))*(L[:,-1]>q_alpha_hat)\n",
      "/scratch/slurm_tmpdir/job_20162137/ipykernel_3830540/3406871675.py:15: RuntimeWarning: invalid value encountered in multiply\n",
      "  return np.sqrt(f(y=L[:,0])/f_theta(y=L[:,0],x=x))*(L[:,-1]>q_alpha_hat)\n"
     ]
    },
    {
     "output_type": "stream",
     "name": "stdout",
     "text": [
      "IS_NN: [-2.83530334  0.36471734]\n",
      "VaR_hat_NN: 8.279233932495117\n",
      "ES_hat_NN: 8.479333276073872\n",
      "q_alpha_IS_hat_RF: 8.409712181314216\n"
     ]
    },
    {
     "output_type": "stream",
     "name": "stderr",
     "text": [
      "/scratch/slurm_tmpdir/job_20162137/ipykernel_3830540/3406871675.py:15: RuntimeWarning: divide by zero encountered in true_divide\n",
      "  return np.sqrt(f(y=L[:,0])/f_theta(y=L[:,0],x=x))*(L[:,-1]>q_alpha_hat)\n",
      "/scratch/slurm_tmpdir/job_20162137/ipykernel_3830540/3406871675.py:15: RuntimeWarning: overflow encountered in true_divide\n",
      "  return np.sqrt(f(y=L[:,0])/f_theta(y=L[:,0],x=x))*(L[:,-1]>q_alpha_hat)\n",
      "/scratch/slurm_tmpdir/job_20162137/ipykernel_3830540/3406871675.py:15: RuntimeWarning: invalid value encountered in multiply\n",
      "  return np.sqrt(f(y=L[:,0])/f_theta(y=L[:,0],x=x))*(L[:,-1]>q_alpha_hat)\n"
     ]
    },
    {
     "output_type": "stream",
     "name": "stdout",
     "text": [
      "IS_RF: [-2.77557875  0.38045929]\n",
      "VaR_hat_RF: 8.333126637107581\n",
      "ES_hat_RF: 8.522343193629592\n",
      "70\n",
      "q_alpha_IS_hat_NN: 8.48985481262207\n"
     ]
    },
    {
     "output_type": "stream",
     "name": "stderr",
     "text": [
      "/scratch/slurm_tmpdir/job_20162137/ipykernel_3830540/3406871675.py:15: RuntimeWarning: divide by zero encountered in true_divide\n",
      "  return np.sqrt(f(y=L[:,0])/f_theta(y=L[:,0],x=x))*(L[:,-1]>q_alpha_hat)\n",
      "/scratch/slurm_tmpdir/job_20162137/ipykernel_3830540/3406871675.py:15: RuntimeWarning: overflow encountered in true_divide\n",
      "  return np.sqrt(f(y=L[:,0])/f_theta(y=L[:,0],x=x))*(L[:,-1]>q_alpha_hat)\n",
      "/scratch/slurm_tmpdir/job_20162137/ipykernel_3830540/3406871675.py:15: RuntimeWarning: invalid value encountered in multiply\n",
      "  return np.sqrt(f(y=L[:,0])/f_theta(y=L[:,0],x=x))*(L[:,-1]>q_alpha_hat)\n"
     ]
    },
    {
     "output_type": "stream",
     "name": "stdout",
     "text": [
      "IS_NN: [-2.84377528  0.40339292]\n",
      "VaR_hat_NN: 8.395156860351562\n",
      "ES_hat_NN: 8.554786928766713\n",
      "q_alpha_IS_hat_RF: 8.676573321611604\n"
     ]
    },
    {
     "output_type": "stream",
     "name": "stderr",
     "text": [
      "/scratch/slurm_tmpdir/job_20162137/ipykernel_3830540/3406871675.py:15: RuntimeWarning: divide by zero encountered in true_divide\n",
      "  return np.sqrt(f(y=L[:,0])/f_theta(y=L[:,0],x=x))*(L[:,-1]>q_alpha_hat)\n",
      "/scratch/slurm_tmpdir/job_20162137/ipykernel_3830540/3406871675.py:15: RuntimeWarning: overflow encountered in true_divide\n",
      "  return np.sqrt(f(y=L[:,0])/f_theta(y=L[:,0],x=x))*(L[:,-1]>q_alpha_hat)\n",
      "/scratch/slurm_tmpdir/job_20162137/ipykernel_3830540/3406871675.py:15: RuntimeWarning: invalid value encountered in multiply\n",
      "  return np.sqrt(f(y=L[:,0])/f_theta(y=L[:,0],x=x))*(L[:,-1]>q_alpha_hat)\n"
     ]
    },
    {
     "output_type": "stream",
     "name": "stdout",
     "text": [
      "IS_RF: [-2.74460846  0.42618766]\n",
      "VaR_hat_RF: 8.346135148961599\n",
      "ES_hat_RF: 8.518238907765479\n",
      "71\n",
      "q_alpha_IS_hat_NN: 8.317204475402832\n",
      "IS_NN: [-2.83243377  0.46415758]\n",
      "VaR_hat_NN: 8.317065238952637\n",
      "ES_hat_NN: 8.489400910546427\n",
      "q_alpha_IS_hat_RF: 8.084629627226931\n",
      "IS_RF: [-2.79834874  0.47010291]\n",
      "VaR_hat_RF: 8.303456762429205\n",
      "ES_hat_RF: 8.498920907156087\n",
      "72\n",
      "q_alpha_IS_hat_NN: 8.377285957336426\n"
     ]
    },
    {
     "output_type": "stream",
     "name": "stderr",
     "text": [
      "/scratch/slurm_tmpdir/job_20162137/ipykernel_3830540/3406871675.py:15: RuntimeWarning: divide by zero encountered in true_divide\n",
      "  return np.sqrt(f(y=L[:,0])/f_theta(y=L[:,0],x=x))*(L[:,-1]>q_alpha_hat)\n",
      "/scratch/slurm_tmpdir/job_20162137/ipykernel_3830540/3406871675.py:15: RuntimeWarning: overflow encountered in true_divide\n",
      "  return np.sqrt(f(y=L[:,0])/f_theta(y=L[:,0],x=x))*(L[:,-1]>q_alpha_hat)\n",
      "/scratch/slurm_tmpdir/job_20162137/ipykernel_3830540/3406871675.py:15: RuntimeWarning: invalid value encountered in multiply\n",
      "  return np.sqrt(f(y=L[:,0])/f_theta(y=L[:,0],x=x))*(L[:,-1]>q_alpha_hat)\n"
     ]
    },
    {
     "output_type": "stream",
     "name": "stdout",
     "text": [
      "IS_NN: [-2.8436831   0.41979572]\n",
      "VaR_hat_NN: 8.348340034484863\n",
      "ES_hat_NN: 8.514966383425365\n",
      "q_alpha_IS_hat_RF: 8.519664256552062\n"
     ]
    },
    {
     "output_type": "stream",
     "name": "stderr",
     "text": [
      "/scratch/slurm_tmpdir/job_20162137/ipykernel_3830540/3406871675.py:15: RuntimeWarning: divide by zero encountered in true_divide\n",
      "  return np.sqrt(f(y=L[:,0])/f_theta(y=L[:,0],x=x))*(L[:,-1]>q_alpha_hat)\n",
      "/scratch/slurm_tmpdir/job_20162137/ipykernel_3830540/3406871675.py:15: RuntimeWarning: overflow encountered in true_divide\n",
      "  return np.sqrt(f(y=L[:,0])/f_theta(y=L[:,0],x=x))*(L[:,-1]>q_alpha_hat)\n",
      "/scratch/slurm_tmpdir/job_20162137/ipykernel_3830540/3406871675.py:15: RuntimeWarning: invalid value encountered in multiply\n",
      "  return np.sqrt(f(y=L[:,0])/f_theta(y=L[:,0],x=x))*(L[:,-1]>q_alpha_hat)\n"
     ]
    },
    {
     "output_type": "stream",
     "name": "stdout",
     "text": [
      "IS_RF: [-2.78171499  0.43331516]\n",
      "VaR_hat_RF: 8.331119404611254\n",
      "ES_hat_RF: 8.50335520524455\n",
      "73\n",
      "q_alpha_IS_hat_NN: 7.882031440734863\n"
     ]
    },
    {
     "output_type": "stream",
     "name": "stderr",
     "text": [
      "/scratch/slurm_tmpdir/job_20162137/ipykernel_3830540/3406871675.py:15: RuntimeWarning: divide by zero encountered in true_divide\n",
      "  return np.sqrt(f(y=L[:,0])/f_theta(y=L[:,0],x=x))*(L[:,-1]>q_alpha_hat)\n",
      "/scratch/slurm_tmpdir/job_20162137/ipykernel_3830540/3406871675.py:15: RuntimeWarning: overflow encountered in true_divide\n",
      "  return np.sqrt(f(y=L[:,0])/f_theta(y=L[:,0],x=x))*(L[:,-1]>q_alpha_hat)\n",
      "/scratch/slurm_tmpdir/job_20162137/ipykernel_3830540/3406871675.py:15: RuntimeWarning: invalid value encountered in multiply\n",
      "  return np.sqrt(f(y=L[:,0])/f_theta(y=L[:,0],x=x))*(L[:,-1]>q_alpha_hat)\n"
     ]
    },
    {
     "output_type": "stream",
     "name": "stdout",
     "text": [
      "IS_NN: [-2.83485132  0.39714855]\n",
      "VaR_hat_NN: 8.417596817016602\n",
      "ES_hat_NN: 8.584798271734432\n",
      "q_alpha_IS_hat_RF: 8.355265848217348\n"
     ]
    },
    {
     "output_type": "stream",
     "name": "stderr",
     "text": [
      "/scratch/slurm_tmpdir/job_20162137/ipykernel_3830540/3406871675.py:15: RuntimeWarning: divide by zero encountered in true_divide\n",
      "  return np.sqrt(f(y=L[:,0])/f_theta(y=L[:,0],x=x))*(L[:,-1]>q_alpha_hat)\n",
      "/scratch/slurm_tmpdir/job_20162137/ipykernel_3830540/3406871675.py:15: RuntimeWarning: overflow encountered in true_divide\n",
      "  return np.sqrt(f(y=L[:,0])/f_theta(y=L[:,0],x=x))*(L[:,-1]>q_alpha_hat)\n",
      "/scratch/slurm_tmpdir/job_20162137/ipykernel_3830540/3406871675.py:15: RuntimeWarning: invalid value encountered in multiply\n",
      "  return np.sqrt(f(y=L[:,0])/f_theta(y=L[:,0],x=x))*(L[:,-1]>q_alpha_hat)\n"
     ]
    },
    {
     "output_type": "stream",
     "name": "stdout",
     "text": [
      "IS_RF: [-2.71064405  0.42572724]\n",
      "VaR_hat_RF: 8.291816282956677\n",
      "ES_hat_RF: 8.511135175541023\n",
      "74\n",
      "q_alpha_IS_hat_NN: 8.153313636779785\n"
     ]
    },
    {
     "output_type": "stream",
     "name": "stderr",
     "text": [
      "/scratch/slurm_tmpdir/job_20162137/ipykernel_3830540/3406871675.py:15: RuntimeWarning: divide by zero encountered in true_divide\n",
      "  return np.sqrt(f(y=L[:,0])/f_theta(y=L[:,0],x=x))*(L[:,-1]>q_alpha_hat)\n",
      "/scratch/slurm_tmpdir/job_20162137/ipykernel_3830540/3406871675.py:15: RuntimeWarning: overflow encountered in true_divide\n",
      "  return np.sqrt(f(y=L[:,0])/f_theta(y=L[:,0],x=x))*(L[:,-1]>q_alpha_hat)\n",
      "/scratch/slurm_tmpdir/job_20162137/ipykernel_3830540/3406871675.py:15: RuntimeWarning: invalid value encountered in multiply\n",
      "  return np.sqrt(f(y=L[:,0])/f_theta(y=L[:,0],x=x))*(L[:,-1]>q_alpha_hat)\n"
     ]
    },
    {
     "output_type": "stream",
     "name": "stdout",
     "text": [
      "IS_NN: [-2.83145611  0.38874158]\n",
      "VaR_hat_NN: 8.352614402770996\n",
      "ES_hat_NN: 8.534008670937686\n",
      "q_alpha_IS_hat_RF: 8.252086418452263\n"
     ]
    },
    {
     "output_type": "stream",
     "name": "stderr",
     "text": [
      "/scratch/slurm_tmpdir/job_20162137/ipykernel_3830540/3406871675.py:15: RuntimeWarning: divide by zero encountered in true_divide\n",
      "  return np.sqrt(f(y=L[:,0])/f_theta(y=L[:,0],x=x))*(L[:,-1]>q_alpha_hat)\n",
      "/scratch/slurm_tmpdir/job_20162137/ipykernel_3830540/3406871675.py:15: RuntimeWarning: overflow encountered in true_divide\n",
      "  return np.sqrt(f(y=L[:,0])/f_theta(y=L[:,0],x=x))*(L[:,-1]>q_alpha_hat)\n",
      "/scratch/slurm_tmpdir/job_20162137/ipykernel_3830540/3406871675.py:15: RuntimeWarning: invalid value encountered in multiply\n",
      "  return np.sqrt(f(y=L[:,0])/f_theta(y=L[:,0],x=x))*(L[:,-1]>q_alpha_hat)\n"
     ]
    },
    {
     "output_type": "stream",
     "name": "stdout",
     "text": [
      "IS_RF: [-2.62067943  0.43884202]\n",
      "VaR_hat_RF: 8.328141830067944\n",
      "ES_hat_RF: 8.514366559260676\n",
      "75\n",
      "q_alpha_IS_hat_NN: 8.306073188781738\n"
     ]
    },
    {
     "output_type": "stream",
     "name": "stderr",
     "text": [
      "/scratch/slurm_tmpdir/job_20162137/ipykernel_3830540/3406871675.py:15: RuntimeWarning: divide by zero encountered in true_divide\n",
      "  return np.sqrt(f(y=L[:,0])/f_theta(y=L[:,0],x=x))*(L[:,-1]>q_alpha_hat)\n",
      "/scratch/slurm_tmpdir/job_20162137/ipykernel_3830540/3406871675.py:15: RuntimeWarning: overflow encountered in true_divide\n",
      "  return np.sqrt(f(y=L[:,0])/f_theta(y=L[:,0],x=x))*(L[:,-1]>q_alpha_hat)\n",
      "/scratch/slurm_tmpdir/job_20162137/ipykernel_3830540/3406871675.py:15: RuntimeWarning: invalid value encountered in multiply\n",
      "  return np.sqrt(f(y=L[:,0])/f_theta(y=L[:,0],x=x))*(L[:,-1]>q_alpha_hat)\n"
     ]
    },
    {
     "output_type": "stream",
     "name": "stdout",
     "text": [
      "IS_NN: [-2.82859328  0.40665237]\n",
      "VaR_hat_NN: 8.385639190673828\n",
      "ES_hat_NN: 8.534393257094147\n",
      "q_alpha_IS_hat_RF: 8.425879255571177\n"
     ]
    },
    {
     "output_type": "stream",
     "name": "stderr",
     "text": [
      "/scratch/slurm_tmpdir/job_20162137/ipykernel_3830540/3406871675.py:15: RuntimeWarning: divide by zero encountered in true_divide\n",
      "  return np.sqrt(f(y=L[:,0])/f_theta(y=L[:,0],x=x))*(L[:,-1]>q_alpha_hat)\n",
      "/scratch/slurm_tmpdir/job_20162137/ipykernel_3830540/3406871675.py:15: RuntimeWarning: overflow encountered in true_divide\n",
      "  return np.sqrt(f(y=L[:,0])/f_theta(y=L[:,0],x=x))*(L[:,-1]>q_alpha_hat)\n",
      "/scratch/slurm_tmpdir/job_20162137/ipykernel_3830540/3406871675.py:15: RuntimeWarning: invalid value encountered in multiply\n",
      "  return np.sqrt(f(y=L[:,0])/f_theta(y=L[:,0],x=x))*(L[:,-1]>q_alpha_hat)\n"
     ]
    },
    {
     "output_type": "stream",
     "name": "stdout",
     "text": [
      "IS_RF: [-2.68829753  0.43521927]\n",
      "VaR_hat_RF: 8.327158455697262\n",
      "ES_hat_RF: 8.491541806977823\n",
      "76\n",
      "q_alpha_IS_hat_NN: 8.329720497131348\n"
     ]
    },
    {
     "output_type": "stream",
     "name": "stderr",
     "text": [
      "/scratch/slurm_tmpdir/job_20162137/ipykernel_3830540/3406871675.py:15: RuntimeWarning: divide by zero encountered in true_divide\n",
      "  return np.sqrt(f(y=L[:,0])/f_theta(y=L[:,0],x=x))*(L[:,-1]>q_alpha_hat)\n",
      "/scratch/slurm_tmpdir/job_20162137/ipykernel_3830540/3406871675.py:15: RuntimeWarning: overflow encountered in true_divide\n",
      "  return np.sqrt(f(y=L[:,0])/f_theta(y=L[:,0],x=x))*(L[:,-1]>q_alpha_hat)\n",
      "/scratch/slurm_tmpdir/job_20162137/ipykernel_3830540/3406871675.py:15: RuntimeWarning: invalid value encountered in multiply\n",
      "  return np.sqrt(f(y=L[:,0])/f_theta(y=L[:,0],x=x))*(L[:,-1]>q_alpha_hat)\n"
     ]
    },
    {
     "output_type": "stream",
     "name": "stdout",
     "text": [
      "IS_NN: [-2.83736238  0.38032107]\n",
      "VaR_hat_NN: 8.35944938659668\n",
      "ES_hat_NN: 8.524849196088145\n",
      "q_alpha_IS_hat_RF: 8.533632667190023\n"
     ]
    },
    {
     "output_type": "stream",
     "name": "stderr",
     "text": [
      "/scratch/slurm_tmpdir/job_20162137/ipykernel_3830540/3406871675.py:15: RuntimeWarning: divide by zero encountered in true_divide\n",
      "  return np.sqrt(f(y=L[:,0])/f_theta(y=L[:,0],x=x))*(L[:,-1]>q_alpha_hat)\n",
      "/scratch/slurm_tmpdir/job_20162137/ipykernel_3830540/3406871675.py:15: RuntimeWarning: overflow encountered in true_divide\n",
      "  return np.sqrt(f(y=L[:,0])/f_theta(y=L[:,0],x=x))*(L[:,-1]>q_alpha_hat)\n",
      "/scratch/slurm_tmpdir/job_20162137/ipykernel_3830540/3406871675.py:15: RuntimeWarning: invalid value encountered in multiply\n",
      "  return np.sqrt(f(y=L[:,0])/f_theta(y=L[:,0],x=x))*(L[:,-1]>q_alpha_hat)\n"
     ]
    },
    {
     "output_type": "stream",
     "name": "stdout",
     "text": [
      "IS_RF: [-2.67186468  0.41825627]\n",
      "VaR_hat_RF: 8.341617272310813\n",
      "ES_hat_RF: 8.525547429098367\n",
      "77\n",
      "q_alpha_IS_hat_NN: 8.15707778930664\n"
     ]
    },
    {
     "output_type": "stream",
     "name": "stderr",
     "text": [
      "/scratch/slurm_tmpdir/job_20162137/ipykernel_3830540/3406871675.py:15: RuntimeWarning: divide by zero encountered in true_divide\n",
      "  return np.sqrt(f(y=L[:,0])/f_theta(y=L[:,0],x=x))*(L[:,-1]>q_alpha_hat)\n",
      "/scratch/slurm_tmpdir/job_20162137/ipykernel_3830540/3406871675.py:15: RuntimeWarning: overflow encountered in true_divide\n",
      "  return np.sqrt(f(y=L[:,0])/f_theta(y=L[:,0],x=x))*(L[:,-1]>q_alpha_hat)\n",
      "/scratch/slurm_tmpdir/job_20162137/ipykernel_3830540/3406871675.py:15: RuntimeWarning: invalid value encountered in multiply\n",
      "  return np.sqrt(f(y=L[:,0])/f_theta(y=L[:,0],x=x))*(L[:,-1]>q_alpha_hat)\n"
     ]
    },
    {
     "output_type": "stream",
     "name": "stdout",
     "text": [
      "IS_NN: [-2.84279368  0.38242364]\n",
      "VaR_hat_NN: 8.390408515930176\n",
      "ES_hat_NN: 8.528546757653622\n",
      "q_alpha_IS_hat_RF: 8.24215569294628\n"
     ]
    },
    {
     "output_type": "stream",
     "name": "stderr",
     "text": [
      "/scratch/slurm_tmpdir/job_20162137/ipykernel_3830540/3406871675.py:15: RuntimeWarning: divide by zero encountered in true_divide\n",
      "  return np.sqrt(f(y=L[:,0])/f_theta(y=L[:,0],x=x))*(L[:,-1]>q_alpha_hat)\n",
      "/scratch/slurm_tmpdir/job_20162137/ipykernel_3830540/3406871675.py:15: RuntimeWarning: overflow encountered in true_divide\n",
      "  return np.sqrt(f(y=L[:,0])/f_theta(y=L[:,0],x=x))*(L[:,-1]>q_alpha_hat)\n",
      "/scratch/slurm_tmpdir/job_20162137/ipykernel_3830540/3406871675.py:15: RuntimeWarning: invalid value encountered in multiply\n",
      "  return np.sqrt(f(y=L[:,0])/f_theta(y=L[:,0],x=x))*(L[:,-1]>q_alpha_hat)\n"
     ]
    },
    {
     "output_type": "stream",
     "name": "stdout",
     "text": [
      "IS_RF: [-2.80087327  0.39286075]\n",
      "VaR_hat_RF: 8.366369151066893\n",
      "ES_hat_RF: 8.527062522681344\n",
      "78\n",
      "q_alpha_IS_hat_NN: 8.694197654724121\n"
     ]
    },
    {
     "output_type": "stream",
     "name": "stderr",
     "text": [
      "/scratch/slurm_tmpdir/job_20162137/ipykernel_3830540/3406871675.py:15: RuntimeWarning: divide by zero encountered in true_divide\n",
      "  return np.sqrt(f(y=L[:,0])/f_theta(y=L[:,0],x=x))*(L[:,-1]>q_alpha_hat)\n",
      "/scratch/slurm_tmpdir/job_20162137/ipykernel_3830540/3406871675.py:15: RuntimeWarning: overflow encountered in true_divide\n",
      "  return np.sqrt(f(y=L[:,0])/f_theta(y=L[:,0],x=x))*(L[:,-1]>q_alpha_hat)\n",
      "/scratch/slurm_tmpdir/job_20162137/ipykernel_3830540/3406871675.py:15: RuntimeWarning: invalid value encountered in multiply\n",
      "  return np.sqrt(f(y=L[:,0])/f_theta(y=L[:,0],x=x))*(L[:,-1]>q_alpha_hat)\n"
     ]
    },
    {
     "output_type": "stream",
     "name": "stdout",
     "text": [
      "IS_NN: [-2.84457273  0.40228398]\n",
      "VaR_hat_NN: 8.32359790802002\n",
      "ES_hat_NN: 8.504983100768163\n",
      "q_alpha_IS_hat_RF: 8.450329248913901\n"
     ]
    },
    {
     "output_type": "stream",
     "name": "stderr",
     "text": [
      "/scratch/slurm_tmpdir/job_20162137/ipykernel_3830540/3406871675.py:15: RuntimeWarning: divide by zero encountered in true_divide\n",
      "  return np.sqrt(f(y=L[:,0])/f_theta(y=L[:,0],x=x))*(L[:,-1]>q_alpha_hat)\n",
      "/scratch/slurm_tmpdir/job_20162137/ipykernel_3830540/3406871675.py:15: RuntimeWarning: overflow encountered in true_divide\n",
      "  return np.sqrt(f(y=L[:,0])/f_theta(y=L[:,0],x=x))*(L[:,-1]>q_alpha_hat)\n",
      "/scratch/slurm_tmpdir/job_20162137/ipykernel_3830540/3406871675.py:15: RuntimeWarning: invalid value encountered in multiply\n",
      "  return np.sqrt(f(y=L[:,0])/f_theta(y=L[:,0],x=x))*(L[:,-1]>q_alpha_hat)\n"
     ]
    },
    {
     "output_type": "stream",
     "name": "stdout",
     "text": [
      "IS_RF: [-2.73497477  0.42642342]\n",
      "VaR_hat_RF: 8.333390581488672\n",
      "ES_hat_RF: 8.512435195146427\n",
      "79\n",
      "q_alpha_IS_hat_NN: 7.385246753692627\n"
     ]
    },
    {
     "output_type": "stream",
     "name": "stderr",
     "text": [
      "/scratch/slurm_tmpdir/job_20162137/ipykernel_3830540/3406871675.py:15: RuntimeWarning: divide by zero encountered in true_divide\n",
      "  return np.sqrt(f(y=L[:,0])/f_theta(y=L[:,0],x=x))*(L[:,-1]>q_alpha_hat)\n",
      "/scratch/slurm_tmpdir/job_20162137/ipykernel_3830540/3406871675.py:15: RuntimeWarning: overflow encountered in true_divide\n",
      "  return np.sqrt(f(y=L[:,0])/f_theta(y=L[:,0],x=x))*(L[:,-1]>q_alpha_hat)\n",
      "/scratch/slurm_tmpdir/job_20162137/ipykernel_3830540/3406871675.py:15: RuntimeWarning: invalid value encountered in multiply\n",
      "  return np.sqrt(f(y=L[:,0])/f_theta(y=L[:,0],x=x))*(L[:,-1]>q_alpha_hat)\n"
     ]
    },
    {
     "output_type": "stream",
     "name": "stdout",
     "text": [
      "IS_NN: [-2.83882696  0.36753842]\n",
      "VaR_hat_NN: 8.310215950012207\n",
      "ES_hat_NN: 8.488693277171393\n",
      "q_alpha_IS_hat_RF: 8.471398365430197\n"
     ]
    },
    {
     "output_type": "stream",
     "name": "stderr",
     "text": [
      "/scratch/slurm_tmpdir/job_20162137/ipykernel_3830540/3406871675.py:15: RuntimeWarning: divide by zero encountered in true_divide\n",
      "  return np.sqrt(f(y=L[:,0])/f_theta(y=L[:,0],x=x))*(L[:,-1]>q_alpha_hat)\n",
      "/scratch/slurm_tmpdir/job_20162137/ipykernel_3830540/3406871675.py:15: RuntimeWarning: overflow encountered in true_divide\n",
      "  return np.sqrt(f(y=L[:,0])/f_theta(y=L[:,0],x=x))*(L[:,-1]>q_alpha_hat)\n",
      "/scratch/slurm_tmpdir/job_20162137/ipykernel_3830540/3406871675.py:15: RuntimeWarning: invalid value encountered in multiply\n",
      "  return np.sqrt(f(y=L[:,0])/f_theta(y=L[:,0],x=x))*(L[:,-1]>q_alpha_hat)\n"
     ]
    },
    {
     "output_type": "stream",
     "name": "stdout",
     "text": [
      "IS_RF: [-2.64954396  0.41410053]\n",
      "VaR_hat_RF: 8.339775931676007\n",
      "ES_hat_RF: 8.49961458331312\n",
      "80\n",
      "q_alpha_IS_hat_NN: 7.873170375823975\n"
     ]
    },
    {
     "output_type": "stream",
     "name": "stderr",
     "text": [
      "/scratch/slurm_tmpdir/job_20162137/ipykernel_3830540/3406871675.py:15: RuntimeWarning: divide by zero encountered in true_divide\n",
      "  return np.sqrt(f(y=L[:,0])/f_theta(y=L[:,0],x=x))*(L[:,-1]>q_alpha_hat)\n",
      "/scratch/slurm_tmpdir/job_20162137/ipykernel_3830540/3406871675.py:15: RuntimeWarning: overflow encountered in true_divide\n",
      "  return np.sqrt(f(y=L[:,0])/f_theta(y=L[:,0],x=x))*(L[:,-1]>q_alpha_hat)\n",
      "/scratch/slurm_tmpdir/job_20162137/ipykernel_3830540/3406871675.py:15: RuntimeWarning: invalid value encountered in multiply\n",
      "  return np.sqrt(f(y=L[:,0])/f_theta(y=L[:,0],x=x))*(L[:,-1]>q_alpha_hat)\n"
     ]
    },
    {
     "output_type": "stream",
     "name": "stdout",
     "text": [
      "IS_NN: [-2.84305654  0.42714022]\n",
      "VaR_hat_NN: 8.43437671661377\n",
      "ES_hat_NN: 8.589377745588187\n",
      "q_alpha_IS_hat_RF: 8.343729721183042\n"
     ]
    },
    {
     "output_type": "stream",
     "name": "stderr",
     "text": [
      "/scratch/slurm_tmpdir/job_20162137/ipykernel_3830540/3406871675.py:15: RuntimeWarning: divide by zero encountered in true_divide\n",
      "  return np.sqrt(f(y=L[:,0])/f_theta(y=L[:,0],x=x))*(L[:,-1]>q_alpha_hat)\n",
      "/scratch/slurm_tmpdir/job_20162137/ipykernel_3830540/3406871675.py:15: RuntimeWarning: overflow encountered in true_divide\n",
      "  return np.sqrt(f(y=L[:,0])/f_theta(y=L[:,0],x=x))*(L[:,-1]>q_alpha_hat)\n",
      "/scratch/slurm_tmpdir/job_20162137/ipykernel_3830540/3406871675.py:15: RuntimeWarning: invalid value encountered in multiply\n",
      "  return np.sqrt(f(y=L[:,0])/f_theta(y=L[:,0],x=x))*(L[:,-1]>q_alpha_hat)\n"
     ]
    },
    {
     "output_type": "stream",
     "name": "stdout",
     "text": [
      "IS_RF: [-2.63339807  0.47283147]\n",
      "VaR_hat_RF: 8.336472449906253\n",
      "ES_hat_RF: 8.500574498422246\n",
      "81\n",
      "q_alpha_IS_hat_NN: 8.319076538085938\n"
     ]
    },
    {
     "output_type": "stream",
     "name": "stderr",
     "text": [
      "/scratch/slurm_tmpdir/job_20162137/ipykernel_3830540/3406871675.py:15: RuntimeWarning: divide by zero encountered in true_divide\n",
      "  return np.sqrt(f(y=L[:,0])/f_theta(y=L[:,0],x=x))*(L[:,-1]>q_alpha_hat)\n",
      "/scratch/slurm_tmpdir/job_20162137/ipykernel_3830540/3406871675.py:15: RuntimeWarning: overflow encountered in true_divide\n",
      "  return np.sqrt(f(y=L[:,0])/f_theta(y=L[:,0],x=x))*(L[:,-1]>q_alpha_hat)\n",
      "/scratch/slurm_tmpdir/job_20162137/ipykernel_3830540/3406871675.py:15: RuntimeWarning: invalid value encountered in multiply\n",
      "  return np.sqrt(f(y=L[:,0])/f_theta(y=L[:,0],x=x))*(L[:,-1]>q_alpha_hat)\n"
     ]
    },
    {
     "output_type": "stream",
     "name": "stdout",
     "text": [
      "IS_NN: [-2.83906327  0.37151423]\n",
      "VaR_hat_NN: 8.328232765197754\n",
      "ES_hat_NN: 8.48029331345205\n",
      "q_alpha_IS_hat_RF: 8.40091719235605\n"
     ]
    },
    {
     "output_type": "stream",
     "name": "stderr",
     "text": [
      "/scratch/slurm_tmpdir/job_20162137/ipykernel_3830540/3406871675.py:15: RuntimeWarning: divide by zero encountered in true_divide\n",
      "  return np.sqrt(f(y=L[:,0])/f_theta(y=L[:,0],x=x))*(L[:,-1]>q_alpha_hat)\n",
      "/scratch/slurm_tmpdir/job_20162137/ipykernel_3830540/3406871675.py:15: RuntimeWarning: overflow encountered in true_divide\n",
      "  return np.sqrt(f(y=L[:,0])/f_theta(y=L[:,0],x=x))*(L[:,-1]>q_alpha_hat)\n",
      "/scratch/slurm_tmpdir/job_20162137/ipykernel_3830540/3406871675.py:15: RuntimeWarning: invalid value encountered in multiply\n",
      "  return np.sqrt(f(y=L[:,0])/f_theta(y=L[:,0],x=x))*(L[:,-1]>q_alpha_hat)\n"
     ]
    },
    {
     "output_type": "stream",
     "name": "stdout",
     "text": [
      "IS_RF: [-2.59424302  0.43109854]\n",
      "VaR_hat_RF: 8.360686284201453\n",
      "ES_hat_RF: 8.521364111598194\n",
      "82\n",
      "q_alpha_IS_hat_NN: 8.372236251831055\n"
     ]
    },
    {
     "output_type": "stream",
     "name": "stderr",
     "text": [
      "/scratch/slurm_tmpdir/job_20162137/ipykernel_3830540/3406871675.py:15: RuntimeWarning: divide by zero encountered in true_divide\n",
      "  return np.sqrt(f(y=L[:,0])/f_theta(y=L[:,0],x=x))*(L[:,-1]>q_alpha_hat)\n",
      "/scratch/slurm_tmpdir/job_20162137/ipykernel_3830540/3406871675.py:15: RuntimeWarning: overflow encountered in true_divide\n",
      "  return np.sqrt(f(y=L[:,0])/f_theta(y=L[:,0],x=x))*(L[:,-1]>q_alpha_hat)\n",
      "/scratch/slurm_tmpdir/job_20162137/ipykernel_3830540/3406871675.py:15: RuntimeWarning: invalid value encountered in multiply\n",
      "  return np.sqrt(f(y=L[:,0])/f_theta(y=L[:,0],x=x))*(L[:,-1]>q_alpha_hat)\n"
     ]
    },
    {
     "output_type": "stream",
     "name": "stdout",
     "text": [
      "IS_NN: [-2.8357659   0.38213737]\n",
      "VaR_hat_NN: 8.361113548278809\n",
      "ES_hat_NN: 8.523085933637699\n",
      "q_alpha_IS_hat_RF: 8.40876993514168\n"
     ]
    },
    {
     "output_type": "stream",
     "name": "stderr",
     "text": [
      "/scratch/slurm_tmpdir/job_20162137/ipykernel_3830540/3406871675.py:15: RuntimeWarning: divide by zero encountered in true_divide\n",
      "  return np.sqrt(f(y=L[:,0])/f_theta(y=L[:,0],x=x))*(L[:,-1]>q_alpha_hat)\n",
      "/scratch/slurm_tmpdir/job_20162137/ipykernel_3830540/3406871675.py:15: RuntimeWarning: overflow encountered in true_divide\n",
      "  return np.sqrt(f(y=L[:,0])/f_theta(y=L[:,0],x=x))*(L[:,-1]>q_alpha_hat)\n",
      "/scratch/slurm_tmpdir/job_20162137/ipykernel_3830540/3406871675.py:15: RuntimeWarning: invalid value encountered in multiply\n",
      "  return np.sqrt(f(y=L[:,0])/f_theta(y=L[:,0],x=x))*(L[:,-1]>q_alpha_hat)\n"
     ]
    },
    {
     "output_type": "stream",
     "name": "stdout",
     "text": [
      "IS_RF: [-2.56514363  0.45048557]\n",
      "VaR_hat_RF: 8.370636822273086\n",
      "ES_hat_RF: 8.509850575916577\n",
      "83\n",
      "q_alpha_IS_hat_NN: 8.270716667175293\n"
     ]
    },
    {
     "output_type": "stream",
     "name": "stderr",
     "text": [
      "/scratch/slurm_tmpdir/job_20162137/ipykernel_3830540/3406871675.py:15: RuntimeWarning: divide by zero encountered in true_divide\n",
      "  return np.sqrt(f(y=L[:,0])/f_theta(y=L[:,0],x=x))*(L[:,-1]>q_alpha_hat)\n",
      "/scratch/slurm_tmpdir/job_20162137/ipykernel_3830540/3406871675.py:15: RuntimeWarning: overflow encountered in true_divide\n",
      "  return np.sqrt(f(y=L[:,0])/f_theta(y=L[:,0],x=x))*(L[:,-1]>q_alpha_hat)\n",
      "/scratch/slurm_tmpdir/job_20162137/ipykernel_3830540/3406871675.py:15: RuntimeWarning: invalid value encountered in multiply\n",
      "  return np.sqrt(f(y=L[:,0])/f_theta(y=L[:,0],x=x))*(L[:,-1]>q_alpha_hat)\n"
     ]
    },
    {
     "output_type": "stream",
     "name": "stdout",
     "text": [
      "IS_NN: [-2.83593796  0.42108688]\n",
      "VaR_hat_NN: 8.273911476135254\n",
      "ES_hat_NN: 8.454520603890458\n",
      "q_alpha_IS_hat_RF: 8.318931485385255\n"
     ]
    },
    {
     "output_type": "stream",
     "name": "stderr",
     "text": [
      "/scratch/slurm_tmpdir/job_20162137/ipykernel_3830540/3406871675.py:15: RuntimeWarning: divide by zero encountered in true_divide\n",
      "  return np.sqrt(f(y=L[:,0])/f_theta(y=L[:,0],x=x))*(L[:,-1]>q_alpha_hat)\n",
      "/scratch/slurm_tmpdir/job_20162137/ipykernel_3830540/3406871675.py:15: RuntimeWarning: overflow encountered in true_divide\n",
      "  return np.sqrt(f(y=L[:,0])/f_theta(y=L[:,0],x=x))*(L[:,-1]>q_alpha_hat)\n",
      "/scratch/slurm_tmpdir/job_20162137/ipykernel_3830540/3406871675.py:15: RuntimeWarning: invalid value encountered in multiply\n",
      "  return np.sqrt(f(y=L[:,0])/f_theta(y=L[:,0],x=x))*(L[:,-1]>q_alpha_hat)\n"
     ]
    },
    {
     "output_type": "stream",
     "name": "stdout",
     "text": [
      "IS_RF: [-2.65590582  0.4603041 ]\n",
      "VaR_hat_RF: 8.340951684821514\n",
      "ES_hat_RF: 8.50569317685681\n",
      "84\n",
      "q_alpha_IS_hat_NN: 8.055002212524414\n"
     ]
    },
    {
     "output_type": "stream",
     "name": "stderr",
     "text": [
      "/scratch/slurm_tmpdir/job_20162137/ipykernel_3830540/3406871675.py:15: RuntimeWarning: divide by zero encountered in true_divide\n",
      "  return np.sqrt(f(y=L[:,0])/f_theta(y=L[:,0],x=x))*(L[:,-1]>q_alpha_hat)\n",
      "/scratch/slurm_tmpdir/job_20162137/ipykernel_3830540/3406871675.py:15: RuntimeWarning: overflow encountered in true_divide\n",
      "  return np.sqrt(f(y=L[:,0])/f_theta(y=L[:,0],x=x))*(L[:,-1]>q_alpha_hat)\n",
      "/scratch/slurm_tmpdir/job_20162137/ipykernel_3830540/3406871675.py:15: RuntimeWarning: invalid value encountered in multiply\n",
      "  return np.sqrt(f(y=L[:,0])/f_theta(y=L[:,0],x=x))*(L[:,-1]>q_alpha_hat)\n"
     ]
    },
    {
     "output_type": "stream",
     "name": "stdout",
     "text": [
      "IS_NN: [-2.84320876  0.41782622]\n",
      "VaR_hat_NN: 8.267504692077637\n",
      "ES_hat_NN: 8.461067373996352\n",
      "q_alpha_IS_hat_RF: 8.337008255836414\n"
     ]
    },
    {
     "output_type": "stream",
     "name": "stderr",
     "text": [
      "/scratch/slurm_tmpdir/job_20162137/ipykernel_3830540/3406871675.py:15: RuntimeWarning: divide by zero encountered in true_divide\n",
      "  return np.sqrt(f(y=L[:,0])/f_theta(y=L[:,0],x=x))*(L[:,-1]>q_alpha_hat)\n",
      "/scratch/slurm_tmpdir/job_20162137/ipykernel_3830540/3406871675.py:15: RuntimeWarning: overflow encountered in true_divide\n",
      "  return np.sqrt(f(y=L[:,0])/f_theta(y=L[:,0],x=x))*(L[:,-1]>q_alpha_hat)\n",
      "/scratch/slurm_tmpdir/job_20162137/ipykernel_3830540/3406871675.py:15: RuntimeWarning: invalid value encountered in multiply\n",
      "  return np.sqrt(f(y=L[:,0])/f_theta(y=L[:,0],x=x))*(L[:,-1]>q_alpha_hat)\n"
     ]
    },
    {
     "output_type": "stream",
     "name": "stdout",
     "text": [
      "IS_RF: [-2.78149225  0.43059843]\n",
      "VaR_hat_RF: 8.35760696150515\n",
      "ES_hat_RF: 8.514764030492822\n",
      "85\n",
      "q_alpha_IS_hat_NN: 8.383180618286133\n"
     ]
    },
    {
     "output_type": "stream",
     "name": "stderr",
     "text": [
      "/scratch/slurm_tmpdir/job_20162137/ipykernel_3830540/3406871675.py:15: RuntimeWarning: divide by zero encountered in true_divide\n",
      "  return np.sqrt(f(y=L[:,0])/f_theta(y=L[:,0],x=x))*(L[:,-1]>q_alpha_hat)\n",
      "/scratch/slurm_tmpdir/job_20162137/ipykernel_3830540/3406871675.py:15: RuntimeWarning: overflow encountered in true_divide\n",
      "  return np.sqrt(f(y=L[:,0])/f_theta(y=L[:,0],x=x))*(L[:,-1]>q_alpha_hat)\n",
      "/scratch/slurm_tmpdir/job_20162137/ipykernel_3830540/3406871675.py:15: RuntimeWarning: invalid value encountered in multiply\n",
      "  return np.sqrt(f(y=L[:,0])/f_theta(y=L[:,0],x=x))*(L[:,-1]>q_alpha_hat)\n"
     ]
    },
    {
     "output_type": "stream",
     "name": "stdout",
     "text": [
      "IS_NN: [-2.84258071  0.43017161]\n",
      "VaR_hat_NN: 8.354604721069336\n",
      "ES_hat_NN: 8.50109025005069\n",
      "q_alpha_IS_hat_RF: 8.410244423623928\n"
     ]
    },
    {
     "output_type": "stream",
     "name": "stderr",
     "text": [
      "/scratch/slurm_tmpdir/job_20162137/ipykernel_3830540/3406871675.py:15: RuntimeWarning: divide by zero encountered in true_divide\n",
      "  return np.sqrt(f(y=L[:,0])/f_theta(y=L[:,0],x=x))*(L[:,-1]>q_alpha_hat)\n",
      "/scratch/slurm_tmpdir/job_20162137/ipykernel_3830540/3406871675.py:15: RuntimeWarning: overflow encountered in true_divide\n",
      "  return np.sqrt(f(y=L[:,0])/f_theta(y=L[:,0],x=x))*(L[:,-1]>q_alpha_hat)\n",
      "/scratch/slurm_tmpdir/job_20162137/ipykernel_3830540/3406871675.py:15: RuntimeWarning: invalid value encountered in multiply\n",
      "  return np.sqrt(f(y=L[:,0])/f_theta(y=L[:,0],x=x))*(L[:,-1]>q_alpha_hat)\n"
     ]
    },
    {
     "output_type": "stream",
     "name": "stdout",
     "text": [
      "IS_RF: [-2.65187014  0.47057985]\n",
      "VaR_hat_RF: 8.314097489949143\n",
      "ES_hat_RF: 8.512939604158735\n",
      "86\n",
      "q_alpha_IS_hat_NN: 8.421631813049316\n"
     ]
    },
    {
     "output_type": "stream",
     "name": "stderr",
     "text": [
      "/scratch/slurm_tmpdir/job_20162137/ipykernel_3830540/3406871675.py:15: RuntimeWarning: divide by zero encountered in true_divide\n",
      "  return np.sqrt(f(y=L[:,0])/f_theta(y=L[:,0],x=x))*(L[:,-1]>q_alpha_hat)\n",
      "/scratch/slurm_tmpdir/job_20162137/ipykernel_3830540/3406871675.py:15: RuntimeWarning: overflow encountered in true_divide\n",
      "  return np.sqrt(f(y=L[:,0])/f_theta(y=L[:,0],x=x))*(L[:,-1]>q_alpha_hat)\n",
      "/scratch/slurm_tmpdir/job_20162137/ipykernel_3830540/3406871675.py:15: RuntimeWarning: invalid value encountered in multiply\n",
      "  return np.sqrt(f(y=L[:,0])/f_theta(y=L[:,0],x=x))*(L[:,-1]>q_alpha_hat)\n"
     ]
    },
    {
     "output_type": "stream",
     "name": "stdout",
     "text": [
      "IS_NN: [-2.83344136  0.4158731 ]\n",
      "VaR_hat_NN: 8.314433097839355\n",
      "ES_hat_NN: 8.485410557406\n",
      "q_alpha_IS_hat_RF: 8.3201423775393\n"
     ]
    },
    {
     "output_type": "stream",
     "name": "stderr",
     "text": [
      "/scratch/slurm_tmpdir/job_20162137/ipykernel_3830540/3406871675.py:15: RuntimeWarning: divide by zero encountered in true_divide\n",
      "  return np.sqrt(f(y=L[:,0])/f_theta(y=L[:,0],x=x))*(L[:,-1]>q_alpha_hat)\n",
      "/scratch/slurm_tmpdir/job_20162137/ipykernel_3830540/3406871675.py:15: RuntimeWarning: overflow encountered in true_divide\n",
      "  return np.sqrt(f(y=L[:,0])/f_theta(y=L[:,0],x=x))*(L[:,-1]>q_alpha_hat)\n",
      "/scratch/slurm_tmpdir/job_20162137/ipykernel_3830540/3406871675.py:15: RuntimeWarning: invalid value encountered in multiply\n",
      "  return np.sqrt(f(y=L[:,0])/f_theta(y=L[:,0],x=x))*(L[:,-1]>q_alpha_hat)\n"
     ]
    },
    {
     "output_type": "stream",
     "name": "stdout",
     "text": [
      "IS_RF: [-2.73131537  0.43783561]\n",
      "VaR_hat_RF: 8.296373934833975\n",
      "ES_hat_RF: 8.506421223327987\n",
      "87\n",
      "q_alpha_IS_hat_NN: 8.037528991699219\n"
     ]
    },
    {
     "output_type": "stream",
     "name": "stderr",
     "text": [
      "/scratch/slurm_tmpdir/job_20162137/ipykernel_3830540/3406871675.py:15: RuntimeWarning: divide by zero encountered in true_divide\n",
      "  return np.sqrt(f(y=L[:,0])/f_theta(y=L[:,0],x=x))*(L[:,-1]>q_alpha_hat)\n",
      "/scratch/slurm_tmpdir/job_20162137/ipykernel_3830540/3406871675.py:15: RuntimeWarning: overflow encountered in true_divide\n",
      "  return np.sqrt(f(y=L[:,0])/f_theta(y=L[:,0],x=x))*(L[:,-1]>q_alpha_hat)\n",
      "/scratch/slurm_tmpdir/job_20162137/ipykernel_3830540/3406871675.py:15: RuntimeWarning: invalid value encountered in multiply\n",
      "  return np.sqrt(f(y=L[:,0])/f_theta(y=L[:,0],x=x))*(L[:,-1]>q_alpha_hat)\n"
     ]
    },
    {
     "output_type": "stream",
     "name": "stdout",
     "text": [
      "IS_NN: [-2.83322308  0.3744979 ]\n",
      "VaR_hat_NN: 8.325372695922852\n",
      "ES_hat_NN: 8.476174505518424\n",
      "q_alpha_IS_hat_RF: 8.39906873350649\n"
     ]
    },
    {
     "output_type": "stream",
     "name": "stderr",
     "text": [
      "/scratch/slurm_tmpdir/job_20162137/ipykernel_3830540/3406871675.py:15: RuntimeWarning: divide by zero encountered in true_divide\n",
      "  return np.sqrt(f(y=L[:,0])/f_theta(y=L[:,0],x=x))*(L[:,-1]>q_alpha_hat)\n",
      "/scratch/slurm_tmpdir/job_20162137/ipykernel_3830540/3406871675.py:15: RuntimeWarning: overflow encountered in true_divide\n",
      "  return np.sqrt(f(y=L[:,0])/f_theta(y=L[:,0],x=x))*(L[:,-1]>q_alpha_hat)\n",
      "/scratch/slurm_tmpdir/job_20162137/ipykernel_3830540/3406871675.py:15: RuntimeWarning: invalid value encountered in multiply\n",
      "  return np.sqrt(f(y=L[:,0])/f_theta(y=L[:,0],x=x))*(L[:,-1]>q_alpha_hat)\n"
     ]
    },
    {
     "output_type": "stream",
     "name": "stdout",
     "text": [
      "IS_RF: [-2.58562073  0.4370278 ]\n",
      "VaR_hat_RF: 8.387234516551754\n",
      "ES_hat_RF: 8.518574633561853\n",
      "88\n",
      "q_alpha_IS_hat_NN: 8.407058715820312\n"
     ]
    },
    {
     "output_type": "stream",
     "name": "stderr",
     "text": [
      "/scratch/slurm_tmpdir/job_20162137/ipykernel_3830540/3406871675.py:15: RuntimeWarning: divide by zero encountered in true_divide\n",
      "  return np.sqrt(f(y=L[:,0])/f_theta(y=L[:,0],x=x))*(L[:,-1]>q_alpha_hat)\n",
      "/scratch/slurm_tmpdir/job_20162137/ipykernel_3830540/3406871675.py:15: RuntimeWarning: overflow encountered in true_divide\n",
      "  return np.sqrt(f(y=L[:,0])/f_theta(y=L[:,0],x=x))*(L[:,-1]>q_alpha_hat)\n",
      "/scratch/slurm_tmpdir/job_20162137/ipykernel_3830540/3406871675.py:15: RuntimeWarning: invalid value encountered in multiply\n",
      "  return np.sqrt(f(y=L[:,0])/f_theta(y=L[:,0],x=x))*(L[:,-1]>q_alpha_hat)\n"
     ]
    },
    {
     "output_type": "stream",
     "name": "stdout",
     "text": [
      "IS_NN: [-2.83723772  0.38394621]\n",
      "VaR_hat_NN: 8.353934288024902\n",
      "ES_hat_NN: 8.504800927942968\n",
      "q_alpha_IS_hat_RF: 8.395495853665519\n"
     ]
    },
    {
     "output_type": "stream",
     "name": "stderr",
     "text": [
      "/scratch/slurm_tmpdir/job_20162137/ipykernel_3830540/3406871675.py:15: RuntimeWarning: divide by zero encountered in true_divide\n",
      "  return np.sqrt(f(y=L[:,0])/f_theta(y=L[:,0],x=x))*(L[:,-1]>q_alpha_hat)\n",
      "/scratch/slurm_tmpdir/job_20162137/ipykernel_3830540/3406871675.py:15: RuntimeWarning: overflow encountered in true_divide\n",
      "  return np.sqrt(f(y=L[:,0])/f_theta(y=L[:,0],x=x))*(L[:,-1]>q_alpha_hat)\n",
      "/scratch/slurm_tmpdir/job_20162137/ipykernel_3830540/3406871675.py:15: RuntimeWarning: invalid value encountered in multiply\n",
      "  return np.sqrt(f(y=L[:,0])/f_theta(y=L[:,0],x=x))*(L[:,-1]>q_alpha_hat)\n"
     ]
    },
    {
     "output_type": "stream",
     "name": "stdout",
     "text": [
      "IS_RF: [-2.71124543  0.41240401]\n",
      "VaR_hat_RF: 8.346452312001599\n",
      "ES_hat_RF: 8.516043272159864\n",
      "89\n",
      "q_alpha_IS_hat_NN: 8.097885131835938\n"
     ]
    },
    {
     "output_type": "stream",
     "name": "stderr",
     "text": [
      "/scratch/slurm_tmpdir/job_20162137/ipykernel_3830540/3406871675.py:15: RuntimeWarning: divide by zero encountered in true_divide\n",
      "  return np.sqrt(f(y=L[:,0])/f_theta(y=L[:,0],x=x))*(L[:,-1]>q_alpha_hat)\n",
      "/scratch/slurm_tmpdir/job_20162137/ipykernel_3830540/3406871675.py:15: RuntimeWarning: overflow encountered in true_divide\n",
      "  return np.sqrt(f(y=L[:,0])/f_theta(y=L[:,0],x=x))*(L[:,-1]>q_alpha_hat)\n",
      "/scratch/slurm_tmpdir/job_20162137/ipykernel_3830540/3406871675.py:15: RuntimeWarning: invalid value encountered in multiply\n",
      "  return np.sqrt(f(y=L[:,0])/f_theta(y=L[:,0],x=x))*(L[:,-1]>q_alpha_hat)\n"
     ]
    },
    {
     "output_type": "stream",
     "name": "stdout",
     "text": [
      "IS_NN: [-2.83773832  0.40767158]\n",
      "VaR_hat_NN: 8.296080589294434\n",
      "ES_hat_NN: 8.476612960547412\n",
      "q_alpha_IS_hat_RF: 8.306374012239525\n"
     ]
    },
    {
     "output_type": "stream",
     "name": "stderr",
     "text": [
      "/scratch/slurm_tmpdir/job_20162137/ipykernel_3830540/3406871675.py:15: RuntimeWarning: divide by zero encountered in true_divide\n",
      "  return np.sqrt(f(y=L[:,0])/f_theta(y=L[:,0],x=x))*(L[:,-1]>q_alpha_hat)\n",
      "/scratch/slurm_tmpdir/job_20162137/ipykernel_3830540/3406871675.py:15: RuntimeWarning: overflow encountered in true_divide\n",
      "  return np.sqrt(f(y=L[:,0])/f_theta(y=L[:,0],x=x))*(L[:,-1]>q_alpha_hat)\n",
      "/scratch/slurm_tmpdir/job_20162137/ipykernel_3830540/3406871675.py:15: RuntimeWarning: invalid value encountered in multiply\n",
      "  return np.sqrt(f(y=L[:,0])/f_theta(y=L[:,0],x=x))*(L[:,-1]>q_alpha_hat)\n"
     ]
    },
    {
     "output_type": "stream",
     "name": "stdout",
     "text": [
      "IS_RF: [-2.75934379  0.42927569]\n",
      "VaR_hat_RF: 8.336386829841318\n",
      "ES_hat_RF: 8.526172189502919\n",
      "90\n",
      "q_alpha_IS_hat_NN: 8.257230758666992\n"
     ]
    },
    {
     "output_type": "stream",
     "name": "stderr",
     "text": [
      "/scratch/slurm_tmpdir/job_20162137/ipykernel_3830540/3406871675.py:15: RuntimeWarning: divide by zero encountered in true_divide\n",
      "  return np.sqrt(f(y=L[:,0])/f_theta(y=L[:,0],x=x))*(L[:,-1]>q_alpha_hat)\n",
      "/scratch/slurm_tmpdir/job_20162137/ipykernel_3830540/3406871675.py:15: RuntimeWarning: overflow encountered in true_divide\n",
      "  return np.sqrt(f(y=L[:,0])/f_theta(y=L[:,0],x=x))*(L[:,-1]>q_alpha_hat)\n",
      "/scratch/slurm_tmpdir/job_20162137/ipykernel_3830540/3406871675.py:15: RuntimeWarning: invalid value encountered in multiply\n",
      "  return np.sqrt(f(y=L[:,0])/f_theta(y=L[:,0],x=x))*(L[:,-1]>q_alpha_hat)\n"
     ]
    },
    {
     "output_type": "stream",
     "name": "stdout",
     "text": [
      "IS_NN: [-2.84239728  0.38455195]\n",
      "VaR_hat_NN: 8.349987983703613\n",
      "ES_hat_NN: 8.515867243001074\n",
      "q_alpha_IS_hat_RF: 8.542014553029304\n"
     ]
    },
    {
     "output_type": "stream",
     "name": "stderr",
     "text": [
      "/scratch/slurm_tmpdir/job_20162137/ipykernel_3830540/3406871675.py:15: RuntimeWarning: divide by zero encountered in true_divide\n",
      "  return np.sqrt(f(y=L[:,0])/f_theta(y=L[:,0],x=x))*(L[:,-1]>q_alpha_hat)\n",
      "/scratch/slurm_tmpdir/job_20162137/ipykernel_3830540/3406871675.py:15: RuntimeWarning: overflow encountered in true_divide\n",
      "  return np.sqrt(f(y=L[:,0])/f_theta(y=L[:,0],x=x))*(L[:,-1]>q_alpha_hat)\n",
      "/scratch/slurm_tmpdir/job_20162137/ipykernel_3830540/3406871675.py:15: RuntimeWarning: invalid value encountered in multiply\n",
      "  return np.sqrt(f(y=L[:,0])/f_theta(y=L[:,0],x=x))*(L[:,-1]>q_alpha_hat)\n"
     ]
    },
    {
     "output_type": "stream",
     "name": "stdout",
     "text": [
      "IS_RF: [-2.69452885  0.42121533]\n",
      "VaR_hat_RF: 8.324926264799492\n",
      "ES_hat_RF: 8.513043599148165\n",
      "91\n",
      "q_alpha_IS_hat_NN: 7.739926815032959\n"
     ]
    },
    {
     "output_type": "stream",
     "name": "stderr",
     "text": [
      "/scratch/slurm_tmpdir/job_20162137/ipykernel_3830540/3406871675.py:15: RuntimeWarning: divide by zero encountered in true_divide\n",
      "  return np.sqrt(f(y=L[:,0])/f_theta(y=L[:,0],x=x))*(L[:,-1]>q_alpha_hat)\n",
      "/scratch/slurm_tmpdir/job_20162137/ipykernel_3830540/3406871675.py:15: RuntimeWarning: overflow encountered in true_divide\n",
      "  return np.sqrt(f(y=L[:,0])/f_theta(y=L[:,0],x=x))*(L[:,-1]>q_alpha_hat)\n",
      "/scratch/slurm_tmpdir/job_20162137/ipykernel_3830540/3406871675.py:15: RuntimeWarning: invalid value encountered in multiply\n",
      "  return np.sqrt(f(y=L[:,0])/f_theta(y=L[:,0],x=x))*(L[:,-1]>q_alpha_hat)\n"
     ]
    },
    {
     "output_type": "stream",
     "name": "stdout",
     "text": [
      "IS_NN: [-2.83849702  0.41004489]\n",
      "VaR_hat_NN: 8.347957611083984\n",
      "ES_hat_NN: 8.530349950149843\n",
      "q_alpha_IS_hat_RF: 8.30464548920901\n"
     ]
    },
    {
     "output_type": "stream",
     "name": "stderr",
     "text": [
      "/scratch/slurm_tmpdir/job_20162137/ipykernel_3830540/3406871675.py:15: RuntimeWarning: divide by zero encountered in true_divide\n",
      "  return np.sqrt(f(y=L[:,0])/f_theta(y=L[:,0],x=x))*(L[:,-1]>q_alpha_hat)\n",
      "/scratch/slurm_tmpdir/job_20162137/ipykernel_3830540/3406871675.py:15: RuntimeWarning: overflow encountered in true_divide\n",
      "  return np.sqrt(f(y=L[:,0])/f_theta(y=L[:,0],x=x))*(L[:,-1]>q_alpha_hat)\n",
      "/scratch/slurm_tmpdir/job_20162137/ipykernel_3830540/3406871675.py:15: RuntimeWarning: invalid value encountered in multiply\n",
      "  return np.sqrt(f(y=L[:,0])/f_theta(y=L[:,0],x=x))*(L[:,-1]>q_alpha_hat)\n"
     ]
    },
    {
     "output_type": "stream",
     "name": "stdout",
     "text": [
      "IS_RF: [-2.75134365  0.42881093]\n",
      "VaR_hat_RF: 8.324901230926011\n",
      "ES_hat_RF: 8.510483197301436\n",
      "92\n",
      "q_alpha_IS_hat_NN: 8.294415473937988\n"
     ]
    },
    {
     "output_type": "stream",
     "name": "stderr",
     "text": [
      "/scratch/slurm_tmpdir/job_20162137/ipykernel_3830540/3406871675.py:15: RuntimeWarning: divide by zero encountered in true_divide\n",
      "  return np.sqrt(f(y=L[:,0])/f_theta(y=L[:,0],x=x))*(L[:,-1]>q_alpha_hat)\n",
      "/scratch/slurm_tmpdir/job_20162137/ipykernel_3830540/3406871675.py:15: RuntimeWarning: overflow encountered in true_divide\n",
      "  return np.sqrt(f(y=L[:,0])/f_theta(y=L[:,0],x=x))*(L[:,-1]>q_alpha_hat)\n",
      "/scratch/slurm_tmpdir/job_20162137/ipykernel_3830540/3406871675.py:15: RuntimeWarning: invalid value encountered in multiply\n",
      "  return np.sqrt(f(y=L[:,0])/f_theta(y=L[:,0],x=x))*(L[:,-1]>q_alpha_hat)\n"
     ]
    },
    {
     "output_type": "stream",
     "name": "stdout",
     "text": [
      "IS_NN: [-2.834818    0.38305398]\n",
      "VaR_hat_NN: 8.393815994262695\n",
      "ES_hat_NN: 8.554404776084473\n",
      "q_alpha_IS_hat_RF: 8.329092811375123\n"
     ]
    },
    {
     "output_type": "stream",
     "name": "stderr",
     "text": [
      "/scratch/slurm_tmpdir/job_20162137/ipykernel_3830540/3406871675.py:15: RuntimeWarning: divide by zero encountered in true_divide\n",
      "  return np.sqrt(f(y=L[:,0])/f_theta(y=L[:,0],x=x))*(L[:,-1]>q_alpha_hat)\n",
      "/scratch/slurm_tmpdir/job_20162137/ipykernel_3830540/3406871675.py:15: RuntimeWarning: overflow encountered in true_divide\n",
      "  return np.sqrt(f(y=L[:,0])/f_theta(y=L[:,0],x=x))*(L[:,-1]>q_alpha_hat)\n",
      "/scratch/slurm_tmpdir/job_20162137/ipykernel_3830540/3406871675.py:15: RuntimeWarning: invalid value encountered in multiply\n",
      "  return np.sqrt(f(y=L[:,0])/f_theta(y=L[:,0],x=x))*(L[:,-1]>q_alpha_hat)\n"
     ]
    },
    {
     "output_type": "stream",
     "name": "stdout",
     "text": [
      "IS_RF: [-2.67630881  0.42513218]\n",
      "VaR_hat_RF: 8.349526137024453\n",
      "ES_hat_RF: 8.516005005805265\n",
      "93\n",
      "q_alpha_IS_hat_NN: 8.305416107177734\n"
     ]
    },
    {
     "output_type": "stream",
     "name": "stderr",
     "text": [
      "/scratch/slurm_tmpdir/job_20162137/ipykernel_3830540/3406871675.py:15: RuntimeWarning: divide by zero encountered in true_divide\n",
      "  return np.sqrt(f(y=L[:,0])/f_theta(y=L[:,0],x=x))*(L[:,-1]>q_alpha_hat)\n",
      "/scratch/slurm_tmpdir/job_20162137/ipykernel_3830540/3406871675.py:15: RuntimeWarning: overflow encountered in true_divide\n",
      "  return np.sqrt(f(y=L[:,0])/f_theta(y=L[:,0],x=x))*(L[:,-1]>q_alpha_hat)\n",
      "/scratch/slurm_tmpdir/job_20162137/ipykernel_3830540/3406871675.py:15: RuntimeWarning: invalid value encountered in multiply\n",
      "  return np.sqrt(f(y=L[:,0])/f_theta(y=L[:,0],x=x))*(L[:,-1]>q_alpha_hat)\n"
     ]
    },
    {
     "output_type": "stream",
     "name": "stdout",
     "text": [
      "IS_NN: [-2.8422597   0.37566793]\n",
      "VaR_hat_NN: 8.338687896728516\n",
      "ES_hat_NN: 8.505656568918331\n",
      "q_alpha_IS_hat_RF: 8.517918392715147\n"
     ]
    },
    {
     "output_type": "stream",
     "name": "stderr",
     "text": [
      "/scratch/slurm_tmpdir/job_20162137/ipykernel_3830540/3406871675.py:15: RuntimeWarning: divide by zero encountered in true_divide\n",
      "  return np.sqrt(f(y=L[:,0])/f_theta(y=L[:,0],x=x))*(L[:,-1]>q_alpha_hat)\n",
      "/scratch/slurm_tmpdir/job_20162137/ipykernel_3830540/3406871675.py:15: RuntimeWarning: overflow encountered in true_divide\n",
      "  return np.sqrt(f(y=L[:,0])/f_theta(y=L[:,0],x=x))*(L[:,-1]>q_alpha_hat)\n",
      "/scratch/slurm_tmpdir/job_20162137/ipykernel_3830540/3406871675.py:15: RuntimeWarning: invalid value encountered in multiply\n",
      "  return np.sqrt(f(y=L[:,0])/f_theta(y=L[:,0],x=x))*(L[:,-1]>q_alpha_hat)\n"
     ]
    },
    {
     "output_type": "stream",
     "name": "stdout",
     "text": [
      "IS_RF: [-2.8321133   0.37805533]\n",
      "VaR_hat_RF: 8.350909917180886\n",
      "ES_hat_RF: 8.519348199725112\n",
      "94\n",
      "q_alpha_IS_hat_NN: 8.351503372192383\n"
     ]
    },
    {
     "output_type": "stream",
     "name": "stderr",
     "text": [
      "/scratch/slurm_tmpdir/job_20162137/ipykernel_3830540/3406871675.py:15: RuntimeWarning: divide by zero encountered in true_divide\n",
      "  return np.sqrt(f(y=L[:,0])/f_theta(y=L[:,0],x=x))*(L[:,-1]>q_alpha_hat)\n",
      "/scratch/slurm_tmpdir/job_20162137/ipykernel_3830540/3406871675.py:15: RuntimeWarning: overflow encountered in true_divide\n",
      "  return np.sqrt(f(y=L[:,0])/f_theta(y=L[:,0],x=x))*(L[:,-1]>q_alpha_hat)\n",
      "/scratch/slurm_tmpdir/job_20162137/ipykernel_3830540/3406871675.py:15: RuntimeWarning: invalid value encountered in multiply\n",
      "  return np.sqrt(f(y=L[:,0])/f_theta(y=L[:,0],x=x))*(L[:,-1]>q_alpha_hat)\n"
     ]
    },
    {
     "output_type": "stream",
     "name": "stdout",
     "text": [
      "IS_NN: [-2.83512117  0.36901344]\n",
      "VaR_hat_NN: 8.275959968566895\n",
      "ES_hat_NN: 8.44498204355992\n",
      "q_alpha_IS_hat_RF: 8.427472565688078\n"
     ]
    },
    {
     "output_type": "stream",
     "name": "stderr",
     "text": [
      "/scratch/slurm_tmpdir/job_20162137/ipykernel_3830540/3406871675.py:15: RuntimeWarning: divide by zero encountered in true_divide\n",
      "  return np.sqrt(f(y=L[:,0])/f_theta(y=L[:,0],x=x))*(L[:,-1]>q_alpha_hat)\n",
      "/scratch/slurm_tmpdir/job_20162137/ipykernel_3830540/3406871675.py:15: RuntimeWarning: overflow encountered in true_divide\n",
      "  return np.sqrt(f(y=L[:,0])/f_theta(y=L[:,0],x=x))*(L[:,-1]>q_alpha_hat)\n",
      "/scratch/slurm_tmpdir/job_20162137/ipykernel_3830540/3406871675.py:15: RuntimeWarning: invalid value encountered in multiply\n",
      "  return np.sqrt(f(y=L[:,0])/f_theta(y=L[:,0],x=x))*(L[:,-1]>q_alpha_hat)\n"
     ]
    },
    {
     "output_type": "stream",
     "name": "stdout",
     "text": [
      "IS_RF: [-2.68478285  0.4084591 ]\n",
      "VaR_hat_RF: 8.325710117701064\n",
      "ES_hat_RF: 8.512450982393887\n",
      "95\n",
      "q_alpha_IS_hat_NN: 8.181960105895996\n"
     ]
    },
    {
     "output_type": "stream",
     "name": "stderr",
     "text": [
      "/scratch/slurm_tmpdir/job_20162137/ipykernel_3830540/3406871675.py:15: RuntimeWarning: divide by zero encountered in true_divide\n",
      "  return np.sqrt(f(y=L[:,0])/f_theta(y=L[:,0],x=x))*(L[:,-1]>q_alpha_hat)\n",
      "/scratch/slurm_tmpdir/job_20162137/ipykernel_3830540/3406871675.py:15: RuntimeWarning: overflow encountered in true_divide\n",
      "  return np.sqrt(f(y=L[:,0])/f_theta(y=L[:,0],x=x))*(L[:,-1]>q_alpha_hat)\n",
      "/scratch/slurm_tmpdir/job_20162137/ipykernel_3830540/3406871675.py:15: RuntimeWarning: invalid value encountered in multiply\n",
      "  return np.sqrt(f(y=L[:,0])/f_theta(y=L[:,0],x=x))*(L[:,-1]>q_alpha_hat)\n"
     ]
    },
    {
     "output_type": "stream",
     "name": "stdout",
     "text": [
      "IS_NN: [-2.83666141  0.41619617]\n",
      "VaR_hat_NN: 8.271141052246094\n",
      "ES_hat_NN: 8.457164804444645\n",
      "q_alpha_IS_hat_RF: 8.57374089412221\n"
     ]
    },
    {
     "output_type": "stream",
     "name": "stderr",
     "text": [
      "/scratch/slurm_tmpdir/job_20162137/ipykernel_3830540/3406871675.py:15: RuntimeWarning: divide by zero encountered in true_divide\n",
      "  return np.sqrt(f(y=L[:,0])/f_theta(y=L[:,0],x=x))*(L[:,-1]>q_alpha_hat)\n",
      "/scratch/slurm_tmpdir/job_20162137/ipykernel_3830540/3406871675.py:15: RuntimeWarning: overflow encountered in true_divide\n",
      "  return np.sqrt(f(y=L[:,0])/f_theta(y=L[:,0],x=x))*(L[:,-1]>q_alpha_hat)\n",
      "/scratch/slurm_tmpdir/job_20162137/ipykernel_3830540/3406871675.py:15: RuntimeWarning: invalid value encountered in multiply\n",
      "  return np.sqrt(f(y=L[:,0])/f_theta(y=L[:,0],x=x))*(L[:,-1]>q_alpha_hat)\n"
     ]
    },
    {
     "output_type": "stream",
     "name": "stdout",
     "text": [
      "IS_RF: [-2.81789354  0.42007155]\n",
      "VaR_hat_RF: 8.324460555865764\n",
      "ES_hat_RF: 8.506523235201078\n",
      "96\n",
      "q_alpha_IS_hat_NN: 8.170332908630371\n"
     ]
    },
    {
     "output_type": "stream",
     "name": "stderr",
     "text": [
      "/scratch/slurm_tmpdir/job_20162137/ipykernel_3830540/3406871675.py:15: RuntimeWarning: divide by zero encountered in true_divide\n",
      "  return np.sqrt(f(y=L[:,0])/f_theta(y=L[:,0],x=x))*(L[:,-1]>q_alpha_hat)\n",
      "/scratch/slurm_tmpdir/job_20162137/ipykernel_3830540/3406871675.py:15: RuntimeWarning: overflow encountered in true_divide\n",
      "  return np.sqrt(f(y=L[:,0])/f_theta(y=L[:,0],x=x))*(L[:,-1]>q_alpha_hat)\n",
      "/scratch/slurm_tmpdir/job_20162137/ipykernel_3830540/3406871675.py:15: RuntimeWarning: invalid value encountered in multiply\n",
      "  return np.sqrt(f(y=L[:,0])/f_theta(y=L[:,0],x=x))*(L[:,-1]>q_alpha_hat)\n"
     ]
    },
    {
     "output_type": "stream",
     "name": "stdout",
     "text": [
      "IS_NN: [-2.83213493  0.41035805]\n",
      "VaR_hat_NN: 8.339532852172852\n",
      "ES_hat_NN: 8.514785069354552\n",
      "q_alpha_IS_hat_RF: 8.357894821394167\n"
     ]
    },
    {
     "output_type": "stream",
     "name": "stderr",
     "text": [
      "/scratch/slurm_tmpdir/job_20162137/ipykernel_3830540/3406871675.py:15: RuntimeWarning: divide by zero encountered in true_divide\n",
      "  return np.sqrt(f(y=L[:,0])/f_theta(y=L[:,0],x=x))*(L[:,-1]>q_alpha_hat)\n",
      "/scratch/slurm_tmpdir/job_20162137/ipykernel_3830540/3406871675.py:15: RuntimeWarning: overflow encountered in true_divide\n",
      "  return np.sqrt(f(y=L[:,0])/f_theta(y=L[:,0],x=x))*(L[:,-1]>q_alpha_hat)\n",
      "/scratch/slurm_tmpdir/job_20162137/ipykernel_3830540/3406871675.py:15: RuntimeWarning: invalid value encountered in multiply\n",
      "  return np.sqrt(f(y=L[:,0])/f_theta(y=L[:,0],x=x))*(L[:,-1]>q_alpha_hat)\n"
     ]
    },
    {
     "output_type": "stream",
     "name": "stdout",
     "text": [
      "IS_RF: [-2.62316812  0.45289617]\n",
      "VaR_hat_RF: 8.345554340068434\n",
      "ES_hat_RF: 8.520153579596121\n",
      "97\n",
      "q_alpha_IS_hat_NN: 8.10777473449707\n"
     ]
    },
    {
     "output_type": "stream",
     "name": "stderr",
     "text": [
      "/scratch/slurm_tmpdir/job_20162137/ipykernel_3830540/3406871675.py:15: RuntimeWarning: divide by zero encountered in true_divide\n",
      "  return np.sqrt(f(y=L[:,0])/f_theta(y=L[:,0],x=x))*(L[:,-1]>q_alpha_hat)\n",
      "/scratch/slurm_tmpdir/job_20162137/ipykernel_3830540/3406871675.py:15: RuntimeWarning: overflow encountered in true_divide\n",
      "  return np.sqrt(f(y=L[:,0])/f_theta(y=L[:,0],x=x))*(L[:,-1]>q_alpha_hat)\n",
      "/scratch/slurm_tmpdir/job_20162137/ipykernel_3830540/3406871675.py:15: RuntimeWarning: invalid value encountered in multiply\n",
      "  return np.sqrt(f(y=L[:,0])/f_theta(y=L[:,0],x=x))*(L[:,-1]>q_alpha_hat)\n"
     ]
    },
    {
     "output_type": "stream",
     "name": "stdout",
     "text": [
      "IS_NN: [-2.83926386  0.40496045]\n",
      "VaR_hat_NN: 8.31196117401123\n",
      "ES_hat_NN: 8.47862891608966\n",
      "q_alpha_IS_hat_RF: 8.249377704371586\n"
     ]
    },
    {
     "output_type": "stream",
     "name": "stderr",
     "text": [
      "/scratch/slurm_tmpdir/job_20162137/ipykernel_3830540/3406871675.py:15: RuntimeWarning: divide by zero encountered in true_divide\n",
      "  return np.sqrt(f(y=L[:,0])/f_theta(y=L[:,0],x=x))*(L[:,-1]>q_alpha_hat)\n",
      "/scratch/slurm_tmpdir/job_20162137/ipykernel_3830540/3406871675.py:15: RuntimeWarning: overflow encountered in true_divide\n",
      "  return np.sqrt(f(y=L[:,0])/f_theta(y=L[:,0],x=x))*(L[:,-1]>q_alpha_hat)\n",
      "/scratch/slurm_tmpdir/job_20162137/ipykernel_3830540/3406871675.py:15: RuntimeWarning: invalid value encountered in multiply\n",
      "  return np.sqrt(f(y=L[:,0])/f_theta(y=L[:,0],x=x))*(L[:,-1]>q_alpha_hat)\n"
     ]
    },
    {
     "output_type": "stream",
     "name": "stdout",
     "text": [
      "IS_RF: [-2.61771918  0.45058444]\n",
      "VaR_hat_RF: 8.337149471593255\n",
      "ES_hat_RF: 8.516930663731896\n",
      "98\n",
      "q_alpha_IS_hat_NN: 8.297492980957031\n"
     ]
    },
    {
     "output_type": "stream",
     "name": "stderr",
     "text": [
      "/scratch/slurm_tmpdir/job_20162137/ipykernel_3830540/3406871675.py:15: RuntimeWarning: divide by zero encountered in true_divide\n",
      "  return np.sqrt(f(y=L[:,0])/f_theta(y=L[:,0],x=x))*(L[:,-1]>q_alpha_hat)\n",
      "/scratch/slurm_tmpdir/job_20162137/ipykernel_3830540/3406871675.py:15: RuntimeWarning: overflow encountered in true_divide\n",
      "  return np.sqrt(f(y=L[:,0])/f_theta(y=L[:,0],x=x))*(L[:,-1]>q_alpha_hat)\n",
      "/scratch/slurm_tmpdir/job_20162137/ipykernel_3830540/3406871675.py:15: RuntimeWarning: invalid value encountered in multiply\n",
      "  return np.sqrt(f(y=L[:,0])/f_theta(y=L[:,0],x=x))*(L[:,-1]>q_alpha_hat)\n"
     ]
    },
    {
     "output_type": "stream",
     "name": "stdout",
     "text": [
      "IS_NN: [-2.83363776  0.3913817 ]\n",
      "VaR_hat_NN: 8.358138084411621\n",
      "ES_hat_NN: 8.518243075113157\n",
      "q_alpha_IS_hat_RF: 8.324356304981592\n"
     ]
    },
    {
     "output_type": "stream",
     "name": "stderr",
     "text": [
      "/scratch/slurm_tmpdir/job_20162137/ipykernel_3830540/3406871675.py:15: RuntimeWarning: divide by zero encountered in true_divide\n",
      "  return np.sqrt(f(y=L[:,0])/f_theta(y=L[:,0],x=x))*(L[:,-1]>q_alpha_hat)\n",
      "/scratch/slurm_tmpdir/job_20162137/ipykernel_3830540/3406871675.py:15: RuntimeWarning: overflow encountered in true_divide\n",
      "  return np.sqrt(f(y=L[:,0])/f_theta(y=L[:,0],x=x))*(L[:,-1]>q_alpha_hat)\n",
      "/scratch/slurm_tmpdir/job_20162137/ipykernel_3830540/3406871675.py:15: RuntimeWarning: invalid value encountered in multiply\n",
      "  return np.sqrt(f(y=L[:,0])/f_theta(y=L[:,0],x=x))*(L[:,-1]>q_alpha_hat)\n"
     ]
    },
    {
     "output_type": "stream",
     "name": "stdout",
     "text": [
      "IS_RF: [-2.67967151  0.42693293]\n",
      "VaR_hat_RF: 8.30217980865237\n",
      "ES_hat_RF: 8.50082679041664\n",
      "99\n"
     ]
    }
   ],
   "metadata": {}
  }
 ],
 "metadata": {
  "interpreter": {
   "hash": "5b88b057cf34efecd776605b6493619ffcb4d411e0887d16b1b551b502979a3a"
  },
  "kernelspec": {
   "display_name": "Python 3 (ipykernel)",
   "language": "python",
   "name": "python3"
  },
  "language_info": {
   "codemirror_mode": {
    "name": "ipython",
    "version": 3
   },
   "file_extension": ".py",
   "mimetype": "text/x-python",
   "name": "python",
   "nbconvert_exporter": "python",
   "pygments_lexer": "ipython3",
   "version": "3.8.0"
  }
 },
 "nbformat": 4,
 "nbformat_minor": 4
}