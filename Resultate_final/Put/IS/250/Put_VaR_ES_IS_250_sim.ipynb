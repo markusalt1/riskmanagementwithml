{
 "cells": [
  {
   "cell_type": "code",
   "execution_count": 1,
   "source": [
    "#Results were produced in stints. This is the number of the last stint.\r\n",
    "run = 4"
   ],
   "outputs": [],
   "metadata": {}
  },
  {
   "cell_type": "code",
   "execution_count": 2,
   "source": [
    "import numpy as np\r\n",
    "import tensorflow as tf\r\n",
    "from sklearn.ensemble import RandomForestRegressor\r\n",
    "from sklearn.metrics import mean_squared_error\r\n",
    "import matplotlib.pyplot as plt\r\n",
    "from scipy import stats\r\n",
    "from scipy import optimize\r\n",
    "import joblib\r\n",
    "\r\n",
    "#folder for saving results\r\n",
    "filepath = \".../Resultate_final/Put/IS/250/Put_VaR_ES_IS_250_sim_saved/\""
   ],
   "outputs": [],
   "metadata": {}
  },
  {
   "cell_type": "code",
   "execution_count": 3,
   "source": [
    "#Market and option parameters as in section 4.1 of 'Assessing Asset-Liability Risk with Neural Networks' (Cheridito, Ery, Wüthrich 2020)\r\n",
    "s_0 = 100\r\n",
    "r = 0.01\r\n",
    "mu = 0.05\r\n",
    "sigma = 0.2\r\n",
    "tau = 1/52\r\n",
    "T = 1/3\r\n",
    "K = 100\r\n",
    "\r\n",
    "#Confidence levels and parameters for Value-at-Risk, Expected Shortfall\r\n",
    "alpha_VaR = 0.995\r\n",
    "alpha_ES = 0.99"
   ],
   "outputs": [],
   "metadata": {}
  },
  {
   "cell_type": "code",
   "execution_count": 4,
   "source": [
    "#Sizes for training set, validation set, test set, and set size for Monte Carlo estimation of the risk measures\r\n",
    "M_1 = 1500000\r\n",
    "M_2 = 500000\r\n",
    "M_3 = 500000\r\n",
    "M_MC = 500000\r\n",
    "#size of the set of data points used to calculate an IS density\r\n",
    "M_IS = 250000\r\n",
    "#quantile for which the IS density will be computed\r\n",
    "alpha_IS = 0.995"
   ],
   "outputs": [],
   "metadata": {}
  },
  {
   "cell_type": "code",
   "execution_count": 5,
   "source": [
    "#Function for calculating simulated values of S_tau and simulated payoffs P_T from simulations of standard normal random variables\r\n",
    "def data_gen(Z,V):\r\n",
    "    #simulate S_tau under P\r\n",
    "    S_tau = s_0 * np.exp( (mu-0.5*sigma**2)*tau + sigma*np.sqrt(tau)*Z)\r\n",
    "    #simulate S_T given S_tau under Q\r\n",
    "    S_T = S_tau * np.exp( (r-0.5*sigma**2)*(T-tau) + sigma*np.sqrt(T-tau)*V)\r\n",
    "    #calculate corresponding discounted payoffs\r\n",
    "    P_T = np.exp(-r*(T-tau)) * np.maximum(K-S_T,0)\r\n",
    "    return S_tau, P_T\r\n",
    "\r\n",
    "#The density function of Z\r\n",
    "def f(y):\r\n",
    "    return stats.norm.pdf(y, loc=0, scale=1)\r\n",
    "\r\n",
    "#The density function of Z_\\theta (note that \\theta is replaced by x; this is needed for the least-squares solver to work)\r\n",
    "def f_theta(x, y):\r\n",
    "    return stats.norm.pdf(y, loc=x[0], scale=x[1])\r\n",
    "\r\n",
    "#This function describes the approximation of the expression inside the sum of m_2(theta)\r\n",
    "def g_q_alpha_hat_reweighted(x,L,q_alpha_hat):\r\n",
    "    return np.sqrt(f(y=L[:,0])/f_theta(y=L[:,0],x=x))*(L[:,-1]>q_alpha_hat)\r\n",
    "\r\n",
    "#bounds for the IS density parameters (for the mean parameter no bound is necessary, the standard deviation however needs to be non-negative)\r\n",
    "bnds_lower = np.array([-np.inf,0])\r\n",
    "bnds_upper = np.array([np.inf,np.inf])"
   ],
   "outputs": [],
   "metadata": {}
  },
  {
   "cell_type": "code",
   "execution_count": 6,
   "source": [
    "for j in range(59):\r\n",
    "    #Generating realisations of standard normal random variables\r\n",
    "    Z_train = np.random.normal(loc=0, scale=1, size=M_1)\r\n",
    "    V_train = np.random.normal(loc=0, scale=1, size=M_1)\r\n",
    "    Z_val = np.random.normal(loc=0, scale=1, size=M_2)\r\n",
    "    V_val = np.random.normal(loc=0, scale=1, size=M_2)\r\n",
    "    Z_test = np.random.normal(loc=0, scale=1, size=M_3)\r\n",
    "    V_test = np.random.normal(loc=0, scale=1, size=M_3)\r\n",
    "    Z_MC = np.random.normal(loc=0, scale=1, size=M_MC)\r\n",
    "    V_MC = np.random.normal(loc=0, scale=1, size=M_MC)\r\n",
    "\r\n",
    "    Z_IS = np.random.normal(loc=0, scale=1, size=M_IS)\r\n",
    "    V_IS = np.random.normal(loc=0, scale=1, size=M_IS)\r\n",
    "    S_tau_IS, P_T_IS = data_gen(Z=Z_IS, V=V_IS)\r\n",
    "\r\n",
    "\r\n",
    "    #define and compile neural network model, setup as in section 4.1 of 'Assessing Asset-Liability Risk with Neural Networks' (Cheridito, Ery, Wüthrich 2020)\r\n",
    "    bi_IS = np.log( np.sum(P_T_IS)/len(P_T_IS))\r\n",
    "    model_IS = tf.keras.models.Sequential([\r\n",
    "        tf.keras.layers.BatchNormalization(input_shape=(1,)),\r\n",
    "        tf.keras.layers.Dense(5, activation='tanh'),\r\n",
    "        tf.keras.layers.Dense(1, activation='exponential', bias_initializer=tf.keras.initializers.Constant(value=bi_IS))])\r\n",
    "    model_IS.compile(loss='mse', optimizer='adam', metrics=['mse'])\r\n",
    "    #train the neural network\r\n",
    "    b=model_IS.fit(x=S_tau_IS, y=P_T_IS, epochs=40, batch_size=10000, verbose=0)\r\n",
    "\r\n",
    "    #computation of \\theta^*_{NN}\r\n",
    "    L_IS = np.column_stack((Z_IS, model_IS.predict(S_tau_IS)[:,0]))\r\n",
    "    L_IS = L_IS[L_IS[:,-1].argsort()[::-1]]\r\n",
    "    q_alpha_IS_hat = L_IS[int(M_IS*(1-alpha_IS)-1), -1]\r\n",
    "    print('q_alpha_IS_hat_NN:', q_alpha_IS_hat)\r\n",
    "    \r\n",
    "    IS_NN = optimize.least_squares(g_q_alpha_hat_reweighted, x0=np.array([0,1]), bounds=(bnds_lower,bnds_upper), args=(L_IS, q_alpha_IS_hat)).x\r\n",
    "    print('IS_NN:', IS_NN)\r\n",
    "    #a runtime warning may occur here but in all trial runs this was not of concern as the optimization algorithm still executed successfully and the result was meaningful\r\n",
    "\r\n",
    "    #calculating DT(Z,\\theta^*_{NN})\r\n",
    "    Z_train_NN = Z_train*IS_NN[1] + IS_NN[0]\r\n",
    "    Z_val_NN = Z_val*IS_NN[1] + IS_NN[0]\r\n",
    "    Z_test_NN = Z_test*IS_NN[1] + IS_NN[0]\r\n",
    "    Z_MC_NN = Z_MC*IS_NN[1] + IS_NN[0]\r\n",
    "    #calculating the risk factors under the IS distribution and corresponding option prices\r\n",
    "    S_tau_train_NN, P_T_train_NN = data_gen(Z=Z_train_NN, V=V_train)\r\n",
    "    S_tau_val_NN, P_T_val_NN = data_gen(Z=Z_val_NN, V=V_val)\r\n",
    "    S_tau_test_NN, P_T_test_NN = data_gen(Z=Z_test_NN, V=V_test)\r\n",
    "    S_tau_MC_NN, P_T_MC_NN = data_gen(Z=Z_MC_NN, V=V_MC)\r\n",
    "\r\n",
    "    #define and compile neural network model, setup as in section 4.1 of 'Assessing Asset-Liability Risk with Neural Networks' (Cheridito, Ery, Wüthrich 2020)\r\n",
    "    bi = np.log( np.sum(P_T_train_NN)/len(P_T_train_NN))\r\n",
    "    model = tf.keras.models.Sequential([\r\n",
    "        tf.keras.layers.BatchNormalization(input_shape=(1,)),\r\n",
    "        tf.keras.layers.Dense(5, activation='tanh'),\r\n",
    "        tf.keras.layers.Dense(1, activation='exponential', bias_initializer=tf.keras.initializers.Constant(value=bi))])\r\n",
    "    model.compile(loss='mse', optimizer='adam', metrics=['mse'])\r\n",
    "    #train the neural network\r\n",
    "    hist = model.fit(x=S_tau_train_NN, y=P_T_train_NN, epochs=40, batch_size=10000, validation_data=(S_tau_val_NN,P_T_val_NN), verbose=0)\r\n",
    "\r\n",
    "    #Calculating the parts of the test set that fall into B_1 and B_2\r\n",
    "    s_40 = s_0 * np.exp( (mu-0.5*sigma**2)*tau + sigma*np.sqrt(tau)*stats.norm.ppf(0.4, loc=0, scale=1))\r\n",
    "    s_70 = s_0 * np.exp( (mu-0.5*sigma**2)*tau + sigma*np.sqrt(tau)*stats.norm.ppf(0.7, loc=0, scale=1))\r\n",
    "    B_1_NN = S_tau_test_NN < s_40\r\n",
    "    B_2_NN = S_tau_test_NN > s_70\r\n",
    "\r\n",
    "    #computation of the metrics (a), (b), (c) with B_1 and (c) with B_2 for the neural network\r\n",
    "    P_T_pred_NN = model.predict(S_tau_test_NN)[:,0]\r\n",
    "    mse_train_NN = hist.history['mse'][-1]\r\n",
    "    mse_val_NN = hist.history['val_mse'][-1]\r\n",
    "    mc_tmp = P_T_pred_NN - P_T_test_NN\r\n",
    "    metric_a_NN = np.sum(mc_tmp)/len(P_T_test_NN)\r\n",
    "    metric_b_NN = np.sum((mc_tmp)*P_T_pred_NN)/len(P_T_test_NN)\r\n",
    "    metric_c_B_1_NN = np.sum(mc_tmp[B_1_NN])/len(P_T_test_NN)\r\n",
    "    metric_c_B_2_NN = np.sum(mc_tmp[B_2_NN])/len(P_T_test_NN)\r\n",
    "\r\n",
    "    #computation of Value-at-Risk and Expected Shortfall using the neural network\r\n",
    "    P_T_pred_MC_NN = model.predict(S_tau_MC_NN)[:,0]\r\n",
    "    MC = np.column_stack((Z_MC_NN, P_T_pred_MC_NN))\r\n",
    "    MC_sort = MC[MC[:,-1].argsort()[::-1]]\r\n",
    "    w = f(MC_sort[:,0])/(M_MC*f_theta(y=MC_sort[:,0], x=IS_NN))\r\n",
    "\r\n",
    "    j_VaR = 0\r\n",
    "    w_sum_tmp = 0\r\n",
    "    while (w_sum_tmp <= (1-alpha_VaR) and j_VaR<M_MC):\r\n",
    "        w_sum_tmp += w[j_VaR]\r\n",
    "        j_VaR += 1\r\n",
    "    VaR_hat_NN = MC_sort[j_VaR-1,-1]\r\n",
    "    print('VaR_hat_NN:',VaR_hat_NN)\r\n",
    "    \r\n",
    "    j_ES = 0\r\n",
    "    w_sum_tmp = 0\r\n",
    "    while (w_sum_tmp <= (1-alpha_ES) and j_ES<M_MC):\r\n",
    "        w_sum_tmp += w[j_ES]\r\n",
    "        j_ES += 1\r\n",
    "    ES_hat_NN = 1/(1-alpha_ES) * np.sum(w[0:j_ES-1]*MC_sort[0:j_ES-1,1]) + ( 1 - (1 / (1-alpha_ES)) * np.sum(w[0:j_ES-1]) )*MC_sort[j_ES,1]\r\n",
    "    print('ES_hat_NN:',ES_hat_NN)\r\n",
    "\r\n",
    "\r\n",
    "    #define and train random forest with the same hyperparameter as in Put_VaR_ES_IS_250.ipynb\r\n",
    "    rfr_IS = RandomForestRegressor(n_estimators=160, criterion='squared_error', min_samples_leaf=250, bootstrap=True, verbose=0, n_jobs=-1)\r\n",
    "    rfr_IS.fit(X=S_tau_IS.reshape(-1,1), y=P_T_IS)\r\n",
    "\r\n",
    "    #computation of \\theta^*_{RF}\r\n",
    "    L_IS = np.column_stack((Z_IS, rfr_IS.predict(S_tau_IS.reshape(-1,1))))\r\n",
    "    L_IS = L_IS[L_IS[:,-1].argsort()[::-1]]\r\n",
    "    q_alpha_IS_hat = L_IS[int(M_IS*(1-alpha_IS)-1), -1]\r\n",
    "    print('q_alpha_IS_hat_RF:', q_alpha_IS_hat)\r\n",
    "    \r\n",
    "    IS_RF = optimize.least_squares(g_q_alpha_hat_reweighted, x0=np.array([0,1]), bounds=(bnds_lower,bnds_upper), args=(L_IS, q_alpha_IS_hat)).x\r\n",
    "    print('IS_RF:', IS_RF)\r\n",
    "    #a runtime warning may occur here but in all trial runs this was not of concern as the optimization algorithm still executed successfully and the result was meaningful\r\n",
    "\r\n",
    "    #calculating DT(Z,\\theta^*_{RF})\r\n",
    "    Z_train_RF = Z_train*IS_RF[1] + IS_RF[0]\r\n",
    "    Z_val_RF = Z_val*IS_RF[1] + IS_RF[0]\r\n",
    "    Z_test_RF = Z_test*IS_RF[1] + IS_RF[0]\r\n",
    "    Z_MC_RF = Z_MC*IS_RF[1] + IS_RF[0]\r\n",
    "    #calculating the risk factors under the IS distribution and corresponding option prices\r\n",
    "    S_tau_train_RF, P_T_train_RF = data_gen(Z=Z_train_RF, V=V_train)\r\n",
    "    S_tau_val_RF, P_T_val_RF = data_gen(Z=Z_val_RF, V=V_val)\r\n",
    "    S_tau_test_RF, P_T_test_RF = data_gen(Z=Z_test_RF, V=V_test)\r\n",
    "    S_tau_MC_RF, P_T_MC_RF = data_gen(Z=Z_MC_RF, V=V_MC)\r\n",
    "    \r\n",
    "    #hypyerparameter tuning with orientation around the value found in Put_VaR_ES_IS_250.ipynb\r\n",
    "    min_samples_leaf_list = [5000,5200,5400]\r\n",
    "    opt_param = 0\r\n",
    "    opt_score = np.inf\r\n",
    "\r\n",
    "    for min_samples_leaf in min_samples_leaf_list:\r\n",
    "        rfr_tuning = RandomForestRegressor(n_estimators=160, min_samples_leaf=min_samples_leaf, bootstrap=True, criterion='squared_error', verbose=0, n_jobs=-1)\r\n",
    "        rfr_tuning.fit(X=S_tau_train_RF.reshape(-1,1), y=P_T_train_RF)\r\n",
    "        score = mean_squared_error(y_true=P_T_val_RF, y_pred=rfr_tuning.predict(S_tau_val_RF.reshape(-1,1)))\r\n",
    "        if score < opt_score:\r\n",
    "            opt_param = min_samples_leaf\r\n",
    "            opt_score = score\r\n",
    "\r\n",
    "    #definition and training of a random forest with hyperparameters found through grid search\r\n",
    "    rfr = RandomForestRegressor(n_estimators=400, criterion='squared_error', min_samples_leaf=int(opt_param), bootstrap=True, verbose=0, warm_start=True, n_jobs=-1)\r\n",
    "    rfr.fit(X=S_tau_train_RF.reshape(-1,1), y=P_T_train_RF)\r\n",
    "\r\n",
    "    #Calculating the parts of the test set that fall into B_1 and B_2\r\n",
    "    s_40 = s_0 * np.exp( (mu-0.5*sigma**2)*tau + sigma*np.sqrt(tau)*stats.norm.ppf(0.4, loc=0, scale=1))\r\n",
    "    s_70 = s_0 * np.exp( (mu-0.5*sigma**2)*tau + sigma*np.sqrt(tau)*stats.norm.ppf(0.7, loc=0, scale=1))\r\n",
    "    B_1_RF = S_tau_test_RF < s_40\r\n",
    "    B_2_RF = S_tau_test_RF > s_70\r\n",
    "\r\n",
    "    #computation of the metrics (a), (b), (c) with B_1 and (c) with B_2 and training/validation MSE for the random forest\r\n",
    "    mse_train_RF = mean_squared_error(y_pred=rfr.predict(S_tau_train_RF.reshape(-1,1)),y_true=P_T_train_RF)\r\n",
    "    P_T_pred_RF = rfr.predict(S_tau_test_RF.reshape(-1,1))\r\n",
    "    mse_val_RF = mean_squared_error(y_pred=P_T_pred_RF,y_true=P_T_test_RF)\r\n",
    "    mc_tmp = P_T_pred_RF - P_T_test_RF\r\n",
    "    metric_a_RF = np.sum(mc_tmp)/len(P_T_test_RF)\r\n",
    "    metric_b_RF = np.sum((mc_tmp)*P_T_pred_RF)/len(P_T_test_RF)\r\n",
    "    metric_c_B_1_RF = np.sum(mc_tmp[B_1_RF])/len(P_T_test_RF)\r\n",
    "    metric_c_B_2_RF = np.sum(mc_tmp[B_2_RF])/len(P_T_test_RF)\r\n",
    "\r\n",
    "    #computation of Value-at-Risk and Expected Shortfall using the random forest\r\n",
    "    P_T_pred_MC_RF = rfr.predict(S_tau_MC_RF.reshape(-1,1))\r\n",
    "    MC = np.column_stack((Z_MC_RF, P_T_pred_MC_RF))\r\n",
    "    MC_sort = MC[MC[:,-1].argsort()[::-1]]\r\n",
    "    w = f(MC_sort[:,0])/(M_MC*f_theta(y=MC_sort[:,0], x=IS_RF))\r\n",
    "\r\n",
    "    j_VaR = 0\r\n",
    "    w_sum_tmp = 0\r\n",
    "    while (w_sum_tmp <= (1-alpha_VaR) and j_VaR<M_MC):\r\n",
    "        w_sum_tmp += w[j_VaR]\r\n",
    "        j_VaR += 1\r\n",
    "    VaR_hat_RF = MC_sort[j_VaR-1,-1]\r\n",
    "    print('VaR_hat_RF:',VaR_hat_RF)\r\n",
    "    \r\n",
    "    j_ES = 0\r\n",
    "    w_sum_tmp = 0\r\n",
    "    while (w_sum_tmp <= (1-alpha_ES) and j_ES<M_MC):\r\n",
    "        w_sum_tmp += w[j_ES]\r\n",
    "        j_ES += 1\r\n",
    "    ES_hat_RF = 1/(1-alpha_ES) * np.sum(w[0:j_ES-1]*MC_sort[0:j_ES-1,1]) + ( 1 - (1 / (1-alpha_ES)) * np.sum(w[0:j_ES-1]) )*MC_sort[j_ES,1]\r\n",
    "    print('ES_hat_RF:',ES_hat_RF)\r\n",
    "\r\n",
    "    #save results for further evaluation\r\n",
    "    output = np.array([[mse_train_NN,mse_val_NN,metric_a_NN,metric_b_NN,metric_c_B_1_NN,metric_c_B_2_NN,IS_NN[0],IS_NN[1],VaR_hat_NN,ES_hat_NN],\r\n",
    "                      [mse_train_RF,mse_val_RF,metric_a_RF,metric_b_RF,metric_c_B_1_RF,metric_c_B_2_RF,IS_RF[0],IS_RF[1],VaR_hat_RF,ES_hat_RF]])\r\n",
    "\r\n",
    "    joblib.dump(output,filepath+'output_'+str(run)+'_'+str(j)+'.joblib')\r\n",
    "    #prints just for checking while the notebook is running\r\n",
    "    print(j)"
   ],
   "outputs": [
    {
     "output_type": "stream",
     "name": "stderr",
     "text": [
      "2021-11-07 14:49:34.187816: I tensorflow/core/platform/cpu_feature_guard.cc:142] This TensorFlow binary is optimized with oneAPI Deep Neural Network Library (oneDNN) to use the following CPU instructions in performance-critical operations:  AVX2 AVX512F FMA\n",
      "To enable them in other operations, rebuild TensorFlow with the appropriate compiler flags.\n",
      "2021-11-07 14:49:36.331633: I tensorflow/core/common_runtime/gpu/gpu_device.cc:1510] Created device /job:localhost/replica:0/task:0/device:GPU:0 with 30988 MB memory:  -> device: 0, name: Tesla V100-SXM2-32GB, pci bus id: 0000:89:00.0, compute capability: 7.0\n",
      "2021-11-07 14:49:36.333267: I tensorflow/core/common_runtime/gpu/gpu_device.cc:1510] Created device /job:localhost/replica:0/task:0/device:GPU:1 with 30988 MB memory:  -> device: 1, name: Tesla V100-SXM2-32GB, pci bus id: 0000:8a:00.0, compute capability: 7.0\n",
      "2021-11-07 14:49:36.334831: I tensorflow/core/common_runtime/gpu/gpu_device.cc:1510] Created device /job:localhost/replica:0/task:0/device:GPU:2 with 30988 MB memory:  -> device: 2, name: Tesla V100-SXM2-32GB, pci bus id: 0000:b2:00.0, compute capability: 7.0\n",
      "2021-11-07 14:49:36.336364: I tensorflow/core/common_runtime/gpu/gpu_device.cc:1510] Created device /job:localhost/replica:0/task:0/device:GPU:3 with 30988 MB memory:  -> device: 3, name: Tesla V100-SXM2-32GB, pci bus id: 0000:b3:00.0, compute capability: 7.0\n",
      "2021-11-07 14:49:37.185022: I tensorflow/compiler/mlir/mlir_graph_optimization_pass.cc:185] None of the MLIR Optimization Passes are enabled (registered 2)\n"
     ]
    },
    {
     "output_type": "stream",
     "name": "stdout",
     "text": [
      "q_alpha_IS_hat_NN: 7.7089524269104\n",
      "IS_NN: [-2.83236024  0.43039434]\n",
      "VaR_hat_NN: 8.362968444824219\n",
      "ES_hat_NN: 8.517113272326524\n",
      "q_alpha_IS_hat_RF: 8.54971778998601\n",
      "IS_RF: [-2.70870018  0.45201889]\n",
      "VaR_hat_RF: 8.359840853294342\n",
      "ES_hat_RF: 8.516423097441002\n",
      "0\n",
      "q_alpha_IS_hat_NN: 7.5228142738342285\n"
     ]
    },
    {
     "output_type": "stream",
     "name": "stderr",
     "text": [
      "/scratch/slurm_tmpdir/job_20161366/ipykernel_2977501/3406871675.py:15: RuntimeWarning: divide by zero encountered in true_divide\n",
      "  return np.sqrt(f(y=L[:,0])/f_theta(y=L[:,0],x=x))*(L[:,-1]>q_alpha_hat)\n",
      "/scratch/slurm_tmpdir/job_20161366/ipykernel_2977501/3406871675.py:15: RuntimeWarning: overflow encountered in true_divide\n",
      "  return np.sqrt(f(y=L[:,0])/f_theta(y=L[:,0],x=x))*(L[:,-1]>q_alpha_hat)\n",
      "/scratch/slurm_tmpdir/job_20161366/ipykernel_2977501/3406871675.py:15: RuntimeWarning: invalid value encountered in multiply\n",
      "  return np.sqrt(f(y=L[:,0])/f_theta(y=L[:,0],x=x))*(L[:,-1]>q_alpha_hat)\n"
     ]
    },
    {
     "output_type": "stream",
     "name": "stdout",
     "text": [
      "IS_NN: [-2.83706132  0.41041628]\n",
      "VaR_hat_NN: 8.389033317565918\n",
      "ES_hat_NN: 8.54531864264372\n",
      "q_alpha_IS_hat_RF: 8.340464946880392\n"
     ]
    },
    {
     "output_type": "stream",
     "name": "stderr",
     "text": [
      "/scratch/slurm_tmpdir/job_20161366/ipykernel_2977501/3406871675.py:15: RuntimeWarning: divide by zero encountered in true_divide\n",
      "  return np.sqrt(f(y=L[:,0])/f_theta(y=L[:,0],x=x))*(L[:,-1]>q_alpha_hat)\n",
      "/scratch/slurm_tmpdir/job_20161366/ipykernel_2977501/3406871675.py:15: RuntimeWarning: overflow encountered in true_divide\n",
      "  return np.sqrt(f(y=L[:,0])/f_theta(y=L[:,0],x=x))*(L[:,-1]>q_alpha_hat)\n",
      "/scratch/slurm_tmpdir/job_20161366/ipykernel_2977501/3406871675.py:15: RuntimeWarning: invalid value encountered in multiply\n",
      "  return np.sqrt(f(y=L[:,0])/f_theta(y=L[:,0],x=x))*(L[:,-1]>q_alpha_hat)\n"
     ]
    },
    {
     "output_type": "stream",
     "name": "stdout",
     "text": [
      "IS_RF: [-2.65189599  0.4571915 ]\n",
      "VaR_hat_RF: 8.344519878103156\n",
      "ES_hat_RF: 8.526813708418477\n",
      "1\n",
      "q_alpha_IS_hat_NN: 7.918248653411865\n"
     ]
    },
    {
     "output_type": "stream",
     "name": "stderr",
     "text": [
      "/scratch/slurm_tmpdir/job_20161366/ipykernel_2977501/3406871675.py:15: RuntimeWarning: overflow encountered in true_divide\n",
      "  return np.sqrt(f(y=L[:,0])/f_theta(y=L[:,0],x=x))*(L[:,-1]>q_alpha_hat)\n",
      "/scratch/slurm_tmpdir/job_20161366/ipykernel_2977501/3406871675.py:15: RuntimeWarning: invalid value encountered in multiply\n",
      "  return np.sqrt(f(y=L[:,0])/f_theta(y=L[:,0],x=x))*(L[:,-1]>q_alpha_hat)\n"
     ]
    },
    {
     "output_type": "stream",
     "name": "stdout",
     "text": [
      "IS_NN: [-2.82269704  0.37661135]\n",
      "VaR_hat_NN: 8.30517864227295\n",
      "ES_hat_NN: 8.475298393240152\n",
      "q_alpha_IS_hat_RF: 8.476079888804202\n",
      "IS_RF: [-2.76171376  0.39178108]\n",
      "VaR_hat_RF: 8.32719019816337\n",
      "ES_hat_RF: 8.504087521365475\n",
      "2\n",
      "q_alpha_IS_hat_NN: 8.034195899963379\n"
     ]
    },
    {
     "output_type": "stream",
     "name": "stderr",
     "text": [
      "/scratch/slurm_tmpdir/job_20161366/ipykernel_2977501/3406871675.py:15: RuntimeWarning: divide by zero encountered in true_divide\n",
      "  return np.sqrt(f(y=L[:,0])/f_theta(y=L[:,0],x=x))*(L[:,-1]>q_alpha_hat)\n",
      "/scratch/slurm_tmpdir/job_20161366/ipykernel_2977501/3406871675.py:15: RuntimeWarning: overflow encountered in true_divide\n",
      "  return np.sqrt(f(y=L[:,0])/f_theta(y=L[:,0],x=x))*(L[:,-1]>q_alpha_hat)\n",
      "/scratch/slurm_tmpdir/job_20161366/ipykernel_2977501/3406871675.py:15: RuntimeWarning: invalid value encountered in multiply\n",
      "  return np.sqrt(f(y=L[:,0])/f_theta(y=L[:,0],x=x))*(L[:,-1]>q_alpha_hat)\n"
     ]
    },
    {
     "output_type": "stream",
     "name": "stdout",
     "text": [
      "IS_NN: [-2.83141244  0.37853886]\n",
      "VaR_hat_NN: 8.351897239685059\n",
      "ES_hat_NN: 8.516198176866157\n",
      "q_alpha_IS_hat_RF: 8.55322048175138\n"
     ]
    },
    {
     "output_type": "stream",
     "name": "stderr",
     "text": [
      "/scratch/slurm_tmpdir/job_20161366/ipykernel_2977501/3406871675.py:15: RuntimeWarning: divide by zero encountered in true_divide\n",
      "  return np.sqrt(f(y=L[:,0])/f_theta(y=L[:,0],x=x))*(L[:,-1]>q_alpha_hat)\n",
      "/scratch/slurm_tmpdir/job_20161366/ipykernel_2977501/3406871675.py:15: RuntimeWarning: overflow encountered in true_divide\n",
      "  return np.sqrt(f(y=L[:,0])/f_theta(y=L[:,0],x=x))*(L[:,-1]>q_alpha_hat)\n",
      "/scratch/slurm_tmpdir/job_20161366/ipykernel_2977501/3406871675.py:15: RuntimeWarning: invalid value encountered in multiply\n",
      "  return np.sqrt(f(y=L[:,0])/f_theta(y=L[:,0],x=x))*(L[:,-1]>q_alpha_hat)\n"
     ]
    },
    {
     "output_type": "stream",
     "name": "stdout",
     "text": [
      "IS_RF: [-2.620339    0.43682861]\n",
      "VaR_hat_RF: 8.342670018931058\n",
      "ES_hat_RF: 8.514840657560642\n",
      "3\n",
      "q_alpha_IS_hat_NN: 8.107646942138672\n"
     ]
    },
    {
     "output_type": "stream",
     "name": "stderr",
     "text": [
      "/scratch/slurm_tmpdir/job_20161366/ipykernel_2977501/3406871675.py:15: RuntimeWarning: divide by zero encountered in true_divide\n",
      "  return np.sqrt(f(y=L[:,0])/f_theta(y=L[:,0],x=x))*(L[:,-1]>q_alpha_hat)\n",
      "/scratch/slurm_tmpdir/job_20161366/ipykernel_2977501/3406871675.py:15: RuntimeWarning: overflow encountered in true_divide\n",
      "  return np.sqrt(f(y=L[:,0])/f_theta(y=L[:,0],x=x))*(L[:,-1]>q_alpha_hat)\n",
      "/scratch/slurm_tmpdir/job_20161366/ipykernel_2977501/3406871675.py:15: RuntimeWarning: invalid value encountered in multiply\n",
      "  return np.sqrt(f(y=L[:,0])/f_theta(y=L[:,0],x=x))*(L[:,-1]>q_alpha_hat)\n"
     ]
    },
    {
     "output_type": "stream",
     "name": "stdout",
     "text": [
      "IS_NN: [-2.84999358  0.36473753]\n",
      "VaR_hat_NN: 8.330437660217285\n",
      "ES_hat_NN: 8.484409424407735\n",
      "q_alpha_IS_hat_RF: 8.798761083882798\n"
     ]
    },
    {
     "output_type": "stream",
     "name": "stderr",
     "text": [
      "/scratch/slurm_tmpdir/job_20161366/ipykernel_2977501/3406871675.py:15: RuntimeWarning: divide by zero encountered in true_divide\n",
      "  return np.sqrt(f(y=L[:,0])/f_theta(y=L[:,0],x=x))*(L[:,-1]>q_alpha_hat)\n",
      "/scratch/slurm_tmpdir/job_20161366/ipykernel_2977501/3406871675.py:15: RuntimeWarning: overflow encountered in true_divide\n",
      "  return np.sqrt(f(y=L[:,0])/f_theta(y=L[:,0],x=x))*(L[:,-1]>q_alpha_hat)\n",
      "/scratch/slurm_tmpdir/job_20161366/ipykernel_2977501/3406871675.py:15: RuntimeWarning: invalid value encountered in multiply\n",
      "  return np.sqrt(f(y=L[:,0])/f_theta(y=L[:,0],x=x))*(L[:,-1]>q_alpha_hat)\n"
     ]
    },
    {
     "output_type": "stream",
     "name": "stdout",
     "text": [
      "IS_RF: [-2.79878325  0.38068163]\n",
      "VaR_hat_RF: 8.352271687605137\n",
      "ES_hat_RF: 8.5055507582619\n",
      "4\n",
      "q_alpha_IS_hat_NN: 7.826169490814209\n"
     ]
    },
    {
     "output_type": "stream",
     "name": "stderr",
     "text": [
      "/scratch/slurm_tmpdir/job_20161366/ipykernel_2977501/3406871675.py:15: RuntimeWarning: divide by zero encountered in true_divide\n",
      "  return np.sqrt(f(y=L[:,0])/f_theta(y=L[:,0],x=x))*(L[:,-1]>q_alpha_hat)\n",
      "/scratch/slurm_tmpdir/job_20161366/ipykernel_2977501/3406871675.py:15: RuntimeWarning: overflow encountered in true_divide\n",
      "  return np.sqrt(f(y=L[:,0])/f_theta(y=L[:,0],x=x))*(L[:,-1]>q_alpha_hat)\n",
      "/scratch/slurm_tmpdir/job_20161366/ipykernel_2977501/3406871675.py:15: RuntimeWarning: invalid value encountered in multiply\n",
      "  return np.sqrt(f(y=L[:,0])/f_theta(y=L[:,0],x=x))*(L[:,-1]>q_alpha_hat)\n"
     ]
    },
    {
     "output_type": "stream",
     "name": "stdout",
     "text": [
      "IS_NN: [-2.82781631  0.3725701 ]\n",
      "VaR_hat_NN: 8.383654594421387\n",
      "ES_hat_NN: 8.531260790535413\n",
      "q_alpha_IS_hat_RF: 8.420074596826979\n"
     ]
    },
    {
     "output_type": "stream",
     "name": "stderr",
     "text": [
      "/scratch/slurm_tmpdir/job_20161366/ipykernel_2977501/3406871675.py:15: RuntimeWarning: divide by zero encountered in true_divide\n",
      "  return np.sqrt(f(y=L[:,0])/f_theta(y=L[:,0],x=x))*(L[:,-1]>q_alpha_hat)\n",
      "/scratch/slurm_tmpdir/job_20161366/ipykernel_2977501/3406871675.py:15: RuntimeWarning: overflow encountered in true_divide\n",
      "  return np.sqrt(f(y=L[:,0])/f_theta(y=L[:,0],x=x))*(L[:,-1]>q_alpha_hat)\n",
      "/scratch/slurm_tmpdir/job_20161366/ipykernel_2977501/3406871675.py:15: RuntimeWarning: invalid value encountered in multiply\n",
      "  return np.sqrt(f(y=L[:,0])/f_theta(y=L[:,0],x=x))*(L[:,-1]>q_alpha_hat)\n"
     ]
    },
    {
     "output_type": "stream",
     "name": "stdout",
     "text": [
      "IS_RF: [-2.59375274  0.42892732]\n",
      "VaR_hat_RF: 8.379501281965915\n",
      "ES_hat_RF: 8.51274434120735\n",
      "5\n",
      "q_alpha_IS_hat_NN: 4.622277736663818\n",
      "IS_NN: [-1.15092242  1.16519967]\n",
      "VaR_hat_NN: 8.316137313842773\n",
      "ES_hat_NN: 8.48375007398053\n",
      "q_alpha_IS_hat_RF: 8.604177007808644\n"
     ]
    },
    {
     "output_type": "stream",
     "name": "stderr",
     "text": [
      "/scratch/slurm_tmpdir/job_20161366/ipykernel_2977501/3406871675.py:15: RuntimeWarning: divide by zero encountered in true_divide\n",
      "  return np.sqrt(f(y=L[:,0])/f_theta(y=L[:,0],x=x))*(L[:,-1]>q_alpha_hat)\n",
      "/scratch/slurm_tmpdir/job_20161366/ipykernel_2977501/3406871675.py:15: RuntimeWarning: overflow encountered in true_divide\n",
      "  return np.sqrt(f(y=L[:,0])/f_theta(y=L[:,0],x=x))*(L[:,-1]>q_alpha_hat)\n",
      "/scratch/slurm_tmpdir/job_20161366/ipykernel_2977501/3406871675.py:15: RuntimeWarning: invalid value encountered in multiply\n",
      "  return np.sqrt(f(y=L[:,0])/f_theta(y=L[:,0],x=x))*(L[:,-1]>q_alpha_hat)\n"
     ]
    },
    {
     "output_type": "stream",
     "name": "stdout",
     "text": [
      "IS_RF: [-2.57758906  0.42753113]\n",
      "VaR_hat_RF: 8.374412323604306\n",
      "ES_hat_RF: 8.524294767729636\n",
      "6\n",
      "q_alpha_IS_hat_NN: 6.156905174255371\n"
     ]
    },
    {
     "output_type": "stream",
     "name": "stderr",
     "text": [
      "/scratch/slurm_tmpdir/job_20161366/ipykernel_2977501/3406871675.py:15: RuntimeWarning: divide by zero encountered in true_divide\n",
      "  return np.sqrt(f(y=L[:,0])/f_theta(y=L[:,0],x=x))*(L[:,-1]>q_alpha_hat)\n",
      "/scratch/slurm_tmpdir/job_20161366/ipykernel_2977501/3406871675.py:15: RuntimeWarning: overflow encountered in true_divide\n",
      "  return np.sqrt(f(y=L[:,0])/f_theta(y=L[:,0],x=x))*(L[:,-1]>q_alpha_hat)\n",
      "/scratch/slurm_tmpdir/job_20161366/ipykernel_2977501/3406871675.py:15: RuntimeWarning: invalid value encountered in multiply\n",
      "  return np.sqrt(f(y=L[:,0])/f_theta(y=L[:,0],x=x))*(L[:,-1]>q_alpha_hat)\n"
     ]
    },
    {
     "output_type": "stream",
     "name": "stdout",
     "text": [
      "IS_NN: [-1.70464028  0.1791184 ]\n",
      "VaR_hat_NN: 7.916709899902344\n",
      "ES_hat_NN: 7.918206497106507\n",
      "q_alpha_IS_hat_RF: 8.095350896550043\n"
     ]
    },
    {
     "output_type": "stream",
     "name": "stderr",
     "text": [
      "/scratch/slurm_tmpdir/job_20161366/ipykernel_2977501/3406871675.py:15: RuntimeWarning: overflow encountered in true_divide\n",
      "  return np.sqrt(f(y=L[:,0])/f_theta(y=L[:,0],x=x))*(L[:,-1]>q_alpha_hat)\n",
      "/scratch/slurm_tmpdir/job_20161366/ipykernel_2977501/3406871675.py:15: RuntimeWarning: invalid value encountered in multiply\n",
      "  return np.sqrt(f(y=L[:,0])/f_theta(y=L[:,0],x=x))*(L[:,-1]>q_alpha_hat)\n"
     ]
    },
    {
     "output_type": "stream",
     "name": "stdout",
     "text": [
      "IS_RF: [-2.56598183  0.49901343]\n",
      "VaR_hat_RF: 8.310231097116688\n",
      "ES_hat_RF: 8.509156139417586\n",
      "7\n",
      "q_alpha_IS_hat_NN: 7.171243190765381\n"
     ]
    },
    {
     "output_type": "stream",
     "name": "stderr",
     "text": [
      "/scratch/slurm_tmpdir/job_20161366/ipykernel_2977501/3406871675.py:15: RuntimeWarning: divide by zero encountered in true_divide\n",
      "  return np.sqrt(f(y=L[:,0])/f_theta(y=L[:,0],x=x))*(L[:,-1]>q_alpha_hat)\n",
      "/scratch/slurm_tmpdir/job_20161366/ipykernel_2977501/3406871675.py:15: RuntimeWarning: overflow encountered in true_divide\n",
      "  return np.sqrt(f(y=L[:,0])/f_theta(y=L[:,0],x=x))*(L[:,-1]>q_alpha_hat)\n",
      "/scratch/slurm_tmpdir/job_20161366/ipykernel_2977501/3406871675.py:15: RuntimeWarning: invalid value encountered in multiply\n",
      "  return np.sqrt(f(y=L[:,0])/f_theta(y=L[:,0],x=x))*(L[:,-1]>q_alpha_hat)\n"
     ]
    },
    {
     "output_type": "stream",
     "name": "stdout",
     "text": [
      "IS_NN: [-2.77272932  0.22470025]\n",
      "VaR_hat_NN: 8.345348358154297\n",
      "ES_hat_NN: 8.53019493147827\n",
      "q_alpha_IS_hat_RF: 8.415092665434553\n",
      "IS_RF: [-2.68131906  0.49382024]\n",
      "VaR_hat_RF: 8.329513649711119\n",
      "ES_hat_RF: 8.51285964072926\n",
      "8\n",
      "q_alpha_IS_hat_NN: 8.17955207824707\n"
     ]
    },
    {
     "output_type": "stream",
     "name": "stderr",
     "text": [
      "/scratch/slurm_tmpdir/job_20161366/ipykernel_2977501/3406871675.py:15: RuntimeWarning: divide by zero encountered in true_divide\n",
      "  return np.sqrt(f(y=L[:,0])/f_theta(y=L[:,0],x=x))*(L[:,-1]>q_alpha_hat)\n",
      "/scratch/slurm_tmpdir/job_20161366/ipykernel_2977501/3406871675.py:15: RuntimeWarning: overflow encountered in true_divide\n",
      "  return np.sqrt(f(y=L[:,0])/f_theta(y=L[:,0],x=x))*(L[:,-1]>q_alpha_hat)\n",
      "/scratch/slurm_tmpdir/job_20161366/ipykernel_2977501/3406871675.py:15: RuntimeWarning: invalid value encountered in multiply\n",
      "  return np.sqrt(f(y=L[:,0])/f_theta(y=L[:,0],x=x))*(L[:,-1]>q_alpha_hat)\n"
     ]
    },
    {
     "output_type": "stream",
     "name": "stdout",
     "text": [
      "IS_NN: [-2.8409397  0.3872843]\n",
      "VaR_hat_NN: 8.351469039916992\n",
      "ES_hat_NN: 8.513297037016697\n",
      "q_alpha_IS_hat_RF: 8.448257253272839\n",
      "IS_RF: [-2.4779377   0.48501367]\n",
      "VaR_hat_RF: 8.352535563333953\n",
      "ES_hat_RF: 8.50275638339656\n",
      "9\n",
      "q_alpha_IS_hat_NN: 7.840785503387451\n"
     ]
    },
    {
     "output_type": "stream",
     "name": "stderr",
     "text": [
      "/scratch/slurm_tmpdir/job_20161366/ipykernel_2977501/3406871675.py:15: RuntimeWarning: divide by zero encountered in true_divide\n",
      "  return np.sqrt(f(y=L[:,0])/f_theta(y=L[:,0],x=x))*(L[:,-1]>q_alpha_hat)\n",
      "/scratch/slurm_tmpdir/job_20161366/ipykernel_2977501/3406871675.py:15: RuntimeWarning: overflow encountered in true_divide\n",
      "  return np.sqrt(f(y=L[:,0])/f_theta(y=L[:,0],x=x))*(L[:,-1]>q_alpha_hat)\n",
      "/scratch/slurm_tmpdir/job_20161366/ipykernel_2977501/3406871675.py:15: RuntimeWarning: invalid value encountered in multiply\n",
      "  return np.sqrt(f(y=L[:,0])/f_theta(y=L[:,0],x=x))*(L[:,-1]>q_alpha_hat)\n"
     ]
    },
    {
     "output_type": "stream",
     "name": "stdout",
     "text": [
      "IS_NN: [-2.84271711  0.37964858]\n",
      "VaR_hat_NN: 8.295585632324219\n",
      "ES_hat_NN: 8.466917667878349\n",
      "q_alpha_IS_hat_RF: 8.37669053134809\n"
     ]
    },
    {
     "output_type": "stream",
     "name": "stderr",
     "text": [
      "/scratch/slurm_tmpdir/job_20161366/ipykernel_2977501/3406871675.py:15: RuntimeWarning: divide by zero encountered in true_divide\n",
      "  return np.sqrt(f(y=L[:,0])/f_theta(y=L[:,0],x=x))*(L[:,-1]>q_alpha_hat)\n",
      "/scratch/slurm_tmpdir/job_20161366/ipykernel_2977501/3406871675.py:15: RuntimeWarning: overflow encountered in true_divide\n",
      "  return np.sqrt(f(y=L[:,0])/f_theta(y=L[:,0],x=x))*(L[:,-1]>q_alpha_hat)\n",
      "/scratch/slurm_tmpdir/job_20161366/ipykernel_2977501/3406871675.py:15: RuntimeWarning: invalid value encountered in multiply\n",
      "  return np.sqrt(f(y=L[:,0])/f_theta(y=L[:,0],x=x))*(L[:,-1]>q_alpha_hat)\n"
     ]
    },
    {
     "output_type": "stream",
     "name": "stdout",
     "text": [
      "IS_RF: [-2.76149977  0.40333197]\n",
      "VaR_hat_RF: 8.350323121430671\n",
      "ES_hat_RF: 8.512689857252647\n",
      "10\n",
      "q_alpha_IS_hat_NN: 7.3947858810424805\n"
     ]
    },
    {
     "output_type": "stream",
     "name": "stderr",
     "text": [
      "/scratch/slurm_tmpdir/job_20161366/ipykernel_2977501/3406871675.py:15: RuntimeWarning: divide by zero encountered in true_divide\n",
      "  return np.sqrt(f(y=L[:,0])/f_theta(y=L[:,0],x=x))*(L[:,-1]>q_alpha_hat)\n",
      "/scratch/slurm_tmpdir/job_20161366/ipykernel_2977501/3406871675.py:15: RuntimeWarning: overflow encountered in true_divide\n",
      "  return np.sqrt(f(y=L[:,0])/f_theta(y=L[:,0],x=x))*(L[:,-1]>q_alpha_hat)\n",
      "/scratch/slurm_tmpdir/job_20161366/ipykernel_2977501/3406871675.py:15: RuntimeWarning: invalid value encountered in multiply\n",
      "  return np.sqrt(f(y=L[:,0])/f_theta(y=L[:,0],x=x))*(L[:,-1]>q_alpha_hat)\n"
     ]
    },
    {
     "output_type": "stream",
     "name": "stdout",
     "text": [
      "IS_NN: [-2.83699567  0.34306643]\n",
      "VaR_hat_NN: 8.33640193939209\n",
      "ES_hat_NN: 8.496591973854319\n",
      "q_alpha_IS_hat_RF: 8.30934234462647\n"
     ]
    },
    {
     "output_type": "stream",
     "name": "stderr",
     "text": [
      "/scratch/slurm_tmpdir/job_20161366/ipykernel_2977501/3406871675.py:15: RuntimeWarning: divide by zero encountered in true_divide\n",
      "  return np.sqrt(f(y=L[:,0])/f_theta(y=L[:,0],x=x))*(L[:,-1]>q_alpha_hat)\n",
      "/scratch/slurm_tmpdir/job_20161366/ipykernel_2977501/3406871675.py:15: RuntimeWarning: overflow encountered in true_divide\n",
      "  return np.sqrt(f(y=L[:,0])/f_theta(y=L[:,0],x=x))*(L[:,-1]>q_alpha_hat)\n",
      "/scratch/slurm_tmpdir/job_20161366/ipykernel_2977501/3406871675.py:15: RuntimeWarning: invalid value encountered in multiply\n",
      "  return np.sqrt(f(y=L[:,0])/f_theta(y=L[:,0],x=x))*(L[:,-1]>q_alpha_hat)\n"
     ]
    },
    {
     "output_type": "stream",
     "name": "stdout",
     "text": [
      "IS_RF: [-2.65455833  0.4166931 ]\n",
      "VaR_hat_RF: 8.34975003056385\n",
      "ES_hat_RF: 8.50550595225027\n",
      "11\n",
      "q_alpha_IS_hat_NN: 6.956582069396973\n"
     ]
    },
    {
     "output_type": "stream",
     "name": "stderr",
     "text": [
      "/scratch/slurm_tmpdir/job_20161366/ipykernel_2977501/3406871675.py:15: RuntimeWarning: divide by zero encountered in true_divide\n",
      "  return np.sqrt(f(y=L[:,0])/f_theta(y=L[:,0],x=x))*(L[:,-1]>q_alpha_hat)\n",
      "/scratch/slurm_tmpdir/job_20161366/ipykernel_2977501/3406871675.py:15: RuntimeWarning: overflow encountered in true_divide\n",
      "  return np.sqrt(f(y=L[:,0])/f_theta(y=L[:,0],x=x))*(L[:,-1]>q_alpha_hat)\n",
      "/scratch/slurm_tmpdir/job_20161366/ipykernel_2977501/3406871675.py:15: RuntimeWarning: invalid value encountered in multiply\n",
      "  return np.sqrt(f(y=L[:,0])/f_theta(y=L[:,0],x=x))*(L[:,-1]>q_alpha_hat)\n"
     ]
    },
    {
     "output_type": "stream",
     "name": "stdout",
     "text": [
      "IS_NN: [-2.30109461  0.18373758]\n",
      "VaR_hat_NN: 8.25648021697998\n",
      "ES_hat_NN: 8.278784177386397\n",
      "q_alpha_IS_hat_RF: 8.653652135203055\n"
     ]
    },
    {
     "output_type": "stream",
     "name": "stderr",
     "text": [
      "/scratch/slurm_tmpdir/job_20161366/ipykernel_2977501/3406871675.py:15: RuntimeWarning: divide by zero encountered in true_divide\n",
      "  return np.sqrt(f(y=L[:,0])/f_theta(y=L[:,0],x=x))*(L[:,-1]>q_alpha_hat)\n",
      "/scratch/slurm_tmpdir/job_20161366/ipykernel_2977501/3406871675.py:15: RuntimeWarning: overflow encountered in true_divide\n",
      "  return np.sqrt(f(y=L[:,0])/f_theta(y=L[:,0],x=x))*(L[:,-1]>q_alpha_hat)\n",
      "/scratch/slurm_tmpdir/job_20161366/ipykernel_2977501/3406871675.py:15: RuntimeWarning: invalid value encountered in multiply\n",
      "  return np.sqrt(f(y=L[:,0])/f_theta(y=L[:,0],x=x))*(L[:,-1]>q_alpha_hat)\n"
     ]
    },
    {
     "output_type": "stream",
     "name": "stdout",
     "text": [
      "IS_RF: [-2.61750402  0.46066683]\n",
      "VaR_hat_RF: 8.367191301368438\n",
      "ES_hat_RF: 8.518245652442593\n",
      "12\n",
      "q_alpha_IS_hat_NN: 7.873988628387451\n"
     ]
    },
    {
     "output_type": "stream",
     "name": "stderr",
     "text": [
      "/scratch/slurm_tmpdir/job_20161366/ipykernel_2977501/3406871675.py:15: RuntimeWarning: divide by zero encountered in true_divide\n",
      "  return np.sqrt(f(y=L[:,0])/f_theta(y=L[:,0],x=x))*(L[:,-1]>q_alpha_hat)\n",
      "/scratch/slurm_tmpdir/job_20161366/ipykernel_2977501/3406871675.py:15: RuntimeWarning: overflow encountered in true_divide\n",
      "  return np.sqrt(f(y=L[:,0])/f_theta(y=L[:,0],x=x))*(L[:,-1]>q_alpha_hat)\n",
      "/scratch/slurm_tmpdir/job_20161366/ipykernel_2977501/3406871675.py:15: RuntimeWarning: invalid value encountered in multiply\n",
      "  return np.sqrt(f(y=L[:,0])/f_theta(y=L[:,0],x=x))*(L[:,-1]>q_alpha_hat)\n"
     ]
    },
    {
     "output_type": "stream",
     "name": "stdout",
     "text": [
      "IS_NN: [-2.83482493  0.39079634]\n",
      "VaR_hat_NN: 8.342924118041992\n",
      "ES_hat_NN: 8.517296028579553\n",
      "q_alpha_IS_hat_RF: 9.117579226556689\n"
     ]
    },
    {
     "output_type": "stream",
     "name": "stderr",
     "text": [
      "/scratch/slurm_tmpdir/job_20161366/ipykernel_2977501/3406871675.py:15: RuntimeWarning: divide by zero encountered in true_divide\n",
      "  return np.sqrt(f(y=L[:,0])/f_theta(y=L[:,0],x=x))*(L[:,-1]>q_alpha_hat)\n",
      "/scratch/slurm_tmpdir/job_20161366/ipykernel_2977501/3406871675.py:15: RuntimeWarning: overflow encountered in true_divide\n",
      "  return np.sqrt(f(y=L[:,0])/f_theta(y=L[:,0],x=x))*(L[:,-1]>q_alpha_hat)\n",
      "/scratch/slurm_tmpdir/job_20161366/ipykernel_2977501/3406871675.py:15: RuntimeWarning: invalid value encountered in multiply\n",
      "  return np.sqrt(f(y=L[:,0])/f_theta(y=L[:,0],x=x))*(L[:,-1]>q_alpha_hat)\n"
     ]
    },
    {
     "output_type": "stream",
     "name": "stdout",
     "text": [
      "IS_RF: [-2.583748    0.45321569]\n",
      "VaR_hat_RF: 8.273763057282471\n",
      "ES_hat_RF: 8.501632274226013\n",
      "13\n",
      "q_alpha_IS_hat_NN: 8.058676719665527\n"
     ]
    },
    {
     "output_type": "stream",
     "name": "stderr",
     "text": [
      "/scratch/slurm_tmpdir/job_20161366/ipykernel_2977501/3406871675.py:15: RuntimeWarning: divide by zero encountered in true_divide\n",
      "  return np.sqrt(f(y=L[:,0])/f_theta(y=L[:,0],x=x))*(L[:,-1]>q_alpha_hat)\n",
      "/scratch/slurm_tmpdir/job_20161366/ipykernel_2977501/3406871675.py:15: RuntimeWarning: overflow encountered in true_divide\n",
      "  return np.sqrt(f(y=L[:,0])/f_theta(y=L[:,0],x=x))*(L[:,-1]>q_alpha_hat)\n",
      "/scratch/slurm_tmpdir/job_20161366/ipykernel_2977501/3406871675.py:15: RuntimeWarning: invalid value encountered in multiply\n",
      "  return np.sqrt(f(y=L[:,0])/f_theta(y=L[:,0],x=x))*(L[:,-1]>q_alpha_hat)\n"
     ]
    },
    {
     "output_type": "stream",
     "name": "stdout",
     "text": [
      "IS_NN: [-2.84322184  0.39750466]\n",
      "VaR_hat_NN: 8.235540390014648\n",
      "ES_hat_NN: 8.440430680434325\n",
      "q_alpha_IS_hat_RF: 8.563575202526467\n",
      "IS_RF: [-2.75244091  0.41659665]\n",
      "VaR_hat_RF: 8.34457843372223\n",
      "ES_hat_RF: 8.520675950731572\n",
      "14\n",
      "q_alpha_IS_hat_NN: 8.359800338745117\n"
     ]
    },
    {
     "output_type": "stream",
     "name": "stderr",
     "text": [
      "/scratch/slurm_tmpdir/job_20161366/ipykernel_2977501/3406871675.py:15: RuntimeWarning: divide by zero encountered in true_divide\n",
      "  return np.sqrt(f(y=L[:,0])/f_theta(y=L[:,0],x=x))*(L[:,-1]>q_alpha_hat)\n",
      "/scratch/slurm_tmpdir/job_20161366/ipykernel_2977501/3406871675.py:15: RuntimeWarning: overflow encountered in true_divide\n",
      "  return np.sqrt(f(y=L[:,0])/f_theta(y=L[:,0],x=x))*(L[:,-1]>q_alpha_hat)\n",
      "/scratch/slurm_tmpdir/job_20161366/ipykernel_2977501/3406871675.py:15: RuntimeWarning: invalid value encountered in multiply\n",
      "  return np.sqrt(f(y=L[:,0])/f_theta(y=L[:,0],x=x))*(L[:,-1]>q_alpha_hat)\n"
     ]
    },
    {
     "output_type": "stream",
     "name": "stdout",
     "text": [
      "IS_NN: [-2.84137341  0.37888577]\n",
      "VaR_hat_NN: 8.341163635253906\n",
      "ES_hat_NN: 8.50588353893988\n",
      "q_alpha_IS_hat_RF: 8.999203703305621\n"
     ]
    },
    {
     "output_type": "stream",
     "name": "stderr",
     "text": [
      "/scratch/slurm_tmpdir/job_20161366/ipykernel_2977501/3406871675.py:15: RuntimeWarning: divide by zero encountered in true_divide\n",
      "  return np.sqrt(f(y=L[:,0])/f_theta(y=L[:,0],x=x))*(L[:,-1]>q_alpha_hat)\n",
      "/scratch/slurm_tmpdir/job_20161366/ipykernel_2977501/3406871675.py:15: RuntimeWarning: overflow encountered in true_divide\n",
      "  return np.sqrt(f(y=L[:,0])/f_theta(y=L[:,0],x=x))*(L[:,-1]>q_alpha_hat)\n",
      "/scratch/slurm_tmpdir/job_20161366/ipykernel_2977501/3406871675.py:15: RuntimeWarning: invalid value encountered in multiply\n",
      "  return np.sqrt(f(y=L[:,0])/f_theta(y=L[:,0],x=x))*(L[:,-1]>q_alpha_hat)\n"
     ]
    },
    {
     "output_type": "stream",
     "name": "stdout",
     "text": [
      "IS_RF: [-2.84137341  0.37888577]\n",
      "VaR_hat_RF: 8.311790950940011\n",
      "ES_hat_RF: 8.52396509672174\n",
      "15\n",
      "q_alpha_IS_hat_NN: 7.152794361114502\n"
     ]
    },
    {
     "output_type": "stream",
     "name": "stderr",
     "text": [
      "/scratch/slurm_tmpdir/job_20161366/ipykernel_2977501/3406871675.py:15: RuntimeWarning: divide by zero encountered in true_divide\n",
      "  return np.sqrt(f(y=L[:,0])/f_theta(y=L[:,0],x=x))*(L[:,-1]>q_alpha_hat)\n",
      "/scratch/slurm_tmpdir/job_20161366/ipykernel_2977501/3406871675.py:15: RuntimeWarning: overflow encountered in true_divide\n",
      "  return np.sqrt(f(y=L[:,0])/f_theta(y=L[:,0],x=x))*(L[:,-1]>q_alpha_hat)\n",
      "/scratch/slurm_tmpdir/job_20161366/ipykernel_2977501/3406871675.py:15: RuntimeWarning: invalid value encountered in multiply\n",
      "  return np.sqrt(f(y=L[:,0])/f_theta(y=L[:,0],x=x))*(L[:,-1]>q_alpha_hat)\n"
     ]
    },
    {
     "output_type": "stream",
     "name": "stdout",
     "text": [
      "IS_NN: [-2.82820117  0.36690342]\n",
      "VaR_hat_NN: 8.306985855102539\n",
      "ES_hat_NN: 8.463571737535474\n",
      "q_alpha_IS_hat_RF: 8.570874615207796\n"
     ]
    },
    {
     "output_type": "stream",
     "name": "stderr",
     "text": [
      "/scratch/slurm_tmpdir/job_20161366/ipykernel_2977501/3406871675.py:15: RuntimeWarning: divide by zero encountered in true_divide\n",
      "  return np.sqrt(f(y=L[:,0])/f_theta(y=L[:,0],x=x))*(L[:,-1]>q_alpha_hat)\n",
      "/scratch/slurm_tmpdir/job_20161366/ipykernel_2977501/3406871675.py:15: RuntimeWarning: overflow encountered in true_divide\n",
      "  return np.sqrt(f(y=L[:,0])/f_theta(y=L[:,0],x=x))*(L[:,-1]>q_alpha_hat)\n",
      "/scratch/slurm_tmpdir/job_20161366/ipykernel_2977501/3406871675.py:15: RuntimeWarning: invalid value encountered in multiply\n",
      "  return np.sqrt(f(y=L[:,0])/f_theta(y=L[:,0],x=x))*(L[:,-1]>q_alpha_hat)\n"
     ]
    },
    {
     "output_type": "stream",
     "name": "stdout",
     "text": [
      "IS_RF: [-2.69689809  0.40446071]\n",
      "VaR_hat_RF: 8.347669130767038\n",
      "ES_hat_RF: 8.525273457752144\n",
      "16\n",
      "q_alpha_IS_hat_NN: 6.738446235656738\n"
     ]
    },
    {
     "output_type": "stream",
     "name": "stderr",
     "text": [
      "/scratch/slurm_tmpdir/job_20161366/ipykernel_2977501/3406871675.py:15: RuntimeWarning: divide by zero encountered in true_divide\n",
      "  return np.sqrt(f(y=L[:,0])/f_theta(y=L[:,0],x=x))*(L[:,-1]>q_alpha_hat)\n",
      "/scratch/slurm_tmpdir/job_20161366/ipykernel_2977501/3406871675.py:15: RuntimeWarning: overflow encountered in true_divide\n",
      "  return np.sqrt(f(y=L[:,0])/f_theta(y=L[:,0],x=x))*(L[:,-1]>q_alpha_hat)\n",
      "/scratch/slurm_tmpdir/job_20161366/ipykernel_2977501/3406871675.py:15: RuntimeWarning: invalid value encountered in multiply\n",
      "  return np.sqrt(f(y=L[:,0])/f_theta(y=L[:,0],x=x))*(L[:,-1]>q_alpha_hat)\n"
     ]
    },
    {
     "output_type": "stream",
     "name": "stdout",
     "text": [
      "IS_NN: [-2.17969363  0.18159806]\n",
      "VaR_hat_NN: 8.26664924621582\n",
      "ES_hat_NN: 8.226149813459685\n",
      "q_alpha_IS_hat_RF: 8.596731875981243\n"
     ]
    },
    {
     "output_type": "stream",
     "name": "stderr",
     "text": [
      "/scratch/slurm_tmpdir/job_20161366/ipykernel_2977501/3406871675.py:15: RuntimeWarning: divide by zero encountered in true_divide\n",
      "  return np.sqrt(f(y=L[:,0])/f_theta(y=L[:,0],x=x))*(L[:,-1]>q_alpha_hat)\n",
      "/scratch/slurm_tmpdir/job_20161366/ipykernel_2977501/3406871675.py:15: RuntimeWarning: overflow encountered in true_divide\n",
      "  return np.sqrt(f(y=L[:,0])/f_theta(y=L[:,0],x=x))*(L[:,-1]>q_alpha_hat)\n",
      "/scratch/slurm_tmpdir/job_20161366/ipykernel_2977501/3406871675.py:15: RuntimeWarning: invalid value encountered in multiply\n",
      "  return np.sqrt(f(y=L[:,0])/f_theta(y=L[:,0],x=x))*(L[:,-1]>q_alpha_hat)\n"
     ]
    },
    {
     "output_type": "stream",
     "name": "stdout",
     "text": [
      "IS_RF: [-2.76315756  0.38960947]\n",
      "VaR_hat_RF: 8.365115410515976\n",
      "ES_hat_RF: 8.521119728932375\n",
      "17\n",
      "q_alpha_IS_hat_NN: 7.924413204193115\n"
     ]
    },
    {
     "output_type": "stream",
     "name": "stderr",
     "text": [
      "/scratch/slurm_tmpdir/job_20161366/ipykernel_2977501/3406871675.py:15: RuntimeWarning: divide by zero encountered in true_divide\n",
      "  return np.sqrt(f(y=L[:,0])/f_theta(y=L[:,0],x=x))*(L[:,-1]>q_alpha_hat)\n",
      "/scratch/slurm_tmpdir/job_20161366/ipykernel_2977501/3406871675.py:15: RuntimeWarning: overflow encountered in true_divide\n",
      "  return np.sqrt(f(y=L[:,0])/f_theta(y=L[:,0],x=x))*(L[:,-1]>q_alpha_hat)\n",
      "/scratch/slurm_tmpdir/job_20161366/ipykernel_2977501/3406871675.py:15: RuntimeWarning: invalid value encountered in multiply\n",
      "  return np.sqrt(f(y=L[:,0])/f_theta(y=L[:,0],x=x))*(L[:,-1]>q_alpha_hat)\n"
     ]
    },
    {
     "output_type": "stream",
     "name": "stdout",
     "text": [
      "IS_NN: [-2.83409391  0.33845675]\n",
      "VaR_hat_NN: 8.354832649230957\n",
      "ES_hat_NN: 8.523904606830904\n",
      "q_alpha_IS_hat_RF: 8.338106658158491\n"
     ]
    },
    {
     "output_type": "stream",
     "name": "stderr",
     "text": [
      "/scratch/slurm_tmpdir/job_20161366/ipykernel_2977501/3406871675.py:15: RuntimeWarning: divide by zero encountered in true_divide\n",
      "  return np.sqrt(f(y=L[:,0])/f_theta(y=L[:,0],x=x))*(L[:,-1]>q_alpha_hat)\n",
      "/scratch/slurm_tmpdir/job_20161366/ipykernel_2977501/3406871675.py:15: RuntimeWarning: overflow encountered in true_divide\n",
      "  return np.sqrt(f(y=L[:,0])/f_theta(y=L[:,0],x=x))*(L[:,-1]>q_alpha_hat)\n",
      "/scratch/slurm_tmpdir/job_20161366/ipykernel_2977501/3406871675.py:15: RuntimeWarning: invalid value encountered in multiply\n",
      "  return np.sqrt(f(y=L[:,0])/f_theta(y=L[:,0],x=x))*(L[:,-1]>q_alpha_hat)\n"
     ]
    },
    {
     "output_type": "stream",
     "name": "stdout",
     "text": [
      "IS_RF: [-2.65928686  0.38625882]\n",
      "VaR_hat_RF: 8.375862509968306\n",
      "ES_hat_RF: 8.529262998646939\n",
      "18\n",
      "q_alpha_IS_hat_NN: 8.193316459655762\n"
     ]
    },
    {
     "output_type": "stream",
     "name": "stderr",
     "text": [
      "/scratch/slurm_tmpdir/job_20161366/ipykernel_2977501/3406871675.py:15: RuntimeWarning: divide by zero encountered in true_divide\n",
      "  return np.sqrt(f(y=L[:,0])/f_theta(y=L[:,0],x=x))*(L[:,-1]>q_alpha_hat)\n",
      "/scratch/slurm_tmpdir/job_20161366/ipykernel_2977501/3406871675.py:15: RuntimeWarning: overflow encountered in true_divide\n",
      "  return np.sqrt(f(y=L[:,0])/f_theta(y=L[:,0],x=x))*(L[:,-1]>q_alpha_hat)\n",
      "/scratch/slurm_tmpdir/job_20161366/ipykernel_2977501/3406871675.py:15: RuntimeWarning: invalid value encountered in multiply\n",
      "  return np.sqrt(f(y=L[:,0])/f_theta(y=L[:,0],x=x))*(L[:,-1]>q_alpha_hat)\n"
     ]
    },
    {
     "output_type": "stream",
     "name": "stdout",
     "text": [
      "IS_NN: [-2.83255504  0.38598431]\n",
      "VaR_hat_NN: 8.401244163513184\n",
      "ES_hat_NN: 8.555489975948237\n",
      "q_alpha_IS_hat_RF: 8.607591718552522\n"
     ]
    },
    {
     "output_type": "stream",
     "name": "stderr",
     "text": [
      "/scratch/slurm_tmpdir/job_20161366/ipykernel_2977501/3406871675.py:15: RuntimeWarning: divide by zero encountered in true_divide\n",
      "  return np.sqrt(f(y=L[:,0])/f_theta(y=L[:,0],x=x))*(L[:,-1]>q_alpha_hat)\n",
      "/scratch/slurm_tmpdir/job_20161366/ipykernel_2977501/3406871675.py:15: RuntimeWarning: overflow encountered in true_divide\n",
      "  return np.sqrt(f(y=L[:,0])/f_theta(y=L[:,0],x=x))*(L[:,-1]>q_alpha_hat)\n",
      "/scratch/slurm_tmpdir/job_20161366/ipykernel_2977501/3406871675.py:15: RuntimeWarning: invalid value encountered in multiply\n",
      "  return np.sqrt(f(y=L[:,0])/f_theta(y=L[:,0],x=x))*(L[:,-1]>q_alpha_hat)\n"
     ]
    },
    {
     "output_type": "stream",
     "name": "stdout",
     "text": [
      "IS_RF: [-2.68413416  0.42271094]\n",
      "VaR_hat_RF: 8.369131190810336\n",
      "ES_hat_RF: 8.518953171750148\n",
      "19\n",
      "q_alpha_IS_hat_NN: 8.295368194580078\n"
     ]
    },
    {
     "output_type": "stream",
     "name": "stderr",
     "text": [
      "/scratch/slurm_tmpdir/job_20161366/ipykernel_2977501/3406871675.py:15: RuntimeWarning: divide by zero encountered in true_divide\n",
      "  return np.sqrt(f(y=L[:,0])/f_theta(y=L[:,0],x=x))*(L[:,-1]>q_alpha_hat)\n",
      "/scratch/slurm_tmpdir/job_20161366/ipykernel_2977501/3406871675.py:15: RuntimeWarning: invalid value encountered in multiply\n",
      "  return np.sqrt(f(y=L[:,0])/f_theta(y=L[:,0],x=x))*(L[:,-1]>q_alpha_hat)\n"
     ]
    },
    {
     "output_type": "stream",
     "name": "stdout",
     "text": [
      "IS_NN: [-2.84835852  0.41100951]\n",
      "VaR_hat_NN: 8.403084754943848\n",
      "ES_hat_NN: 8.557724036358023\n",
      "q_alpha_IS_hat_RF: 8.533624290997583\n"
     ]
    },
    {
     "output_type": "stream",
     "name": "stderr",
     "text": [
      "/scratch/slurm_tmpdir/job_20161366/ipykernel_2977501/3406871675.py:15: RuntimeWarning: divide by zero encountered in true_divide\n",
      "  return np.sqrt(f(y=L[:,0])/f_theta(y=L[:,0],x=x))*(L[:,-1]>q_alpha_hat)\n",
      "/scratch/slurm_tmpdir/job_20161366/ipykernel_2977501/3406871675.py:15: RuntimeWarning: overflow encountered in true_divide\n",
      "  return np.sqrt(f(y=L[:,0])/f_theta(y=L[:,0],x=x))*(L[:,-1]>q_alpha_hat)\n",
      "/scratch/slurm_tmpdir/job_20161366/ipykernel_2977501/3406871675.py:15: RuntimeWarning: invalid value encountered in multiply\n",
      "  return np.sqrt(f(y=L[:,0])/f_theta(y=L[:,0],x=x))*(L[:,-1]>q_alpha_hat)\n"
     ]
    },
    {
     "output_type": "stream",
     "name": "stdout",
     "text": [
      "IS_RF: [-2.7298767   0.43733291]\n",
      "VaR_hat_RF: 8.312901924492488\n",
      "ES_hat_RF: 8.510927030898973\n",
      "20\n",
      "q_alpha_IS_hat_NN: 10.072829246520996\n"
     ]
    },
    {
     "output_type": "stream",
     "name": "stderr",
     "text": [
      "/scratch/slurm_tmpdir/job_20161366/ipykernel_2977501/3406871675.py:15: RuntimeWarning: divide by zero encountered in true_divide\n",
      "  return np.sqrt(f(y=L[:,0])/f_theta(y=L[:,0],x=x))*(L[:,-1]>q_alpha_hat)\n",
      "/scratch/slurm_tmpdir/job_20161366/ipykernel_2977501/3406871675.py:15: RuntimeWarning: overflow encountered in true_divide\n",
      "  return np.sqrt(f(y=L[:,0])/f_theta(y=L[:,0],x=x))*(L[:,-1]>q_alpha_hat)\n",
      "/scratch/slurm_tmpdir/job_20161366/ipykernel_2977501/3406871675.py:15: RuntimeWarning: invalid value encountered in multiply\n",
      "  return np.sqrt(f(y=L[:,0])/f_theta(y=L[:,0],x=x))*(L[:,-1]>q_alpha_hat)\n"
     ]
    },
    {
     "output_type": "stream",
     "name": "stdout",
     "text": [
      "IS_NN: [-2.81638087  0.36159396]\n",
      "VaR_hat_NN: 8.320647239685059\n",
      "ES_hat_NN: 8.493135601696316\n",
      "q_alpha_IS_hat_RF: 8.564873617041645\n"
     ]
    },
    {
     "output_type": "stream",
     "name": "stderr",
     "text": [
      "/scratch/slurm_tmpdir/job_20161366/ipykernel_2977501/3406871675.py:15: RuntimeWarning: divide by zero encountered in true_divide\n",
      "  return np.sqrt(f(y=L[:,0])/f_theta(y=L[:,0],x=x))*(L[:,-1]>q_alpha_hat)\n",
      "/scratch/slurm_tmpdir/job_20161366/ipykernel_2977501/3406871675.py:15: RuntimeWarning: overflow encountered in true_divide\n",
      "  return np.sqrt(f(y=L[:,0])/f_theta(y=L[:,0],x=x))*(L[:,-1]>q_alpha_hat)\n",
      "/scratch/slurm_tmpdir/job_20161366/ipykernel_2977501/3406871675.py:15: RuntimeWarning: invalid value encountered in multiply\n",
      "  return np.sqrt(f(y=L[:,0])/f_theta(y=L[:,0],x=x))*(L[:,-1]>q_alpha_hat)\n"
     ]
    },
    {
     "output_type": "stream",
     "name": "stdout",
     "text": [
      "IS_RF: [-2.5721794   0.42093549]\n",
      "VaR_hat_RF: 8.349453487079389\n",
      "ES_hat_RF: 8.528783949905199\n",
      "21\n",
      "q_alpha_IS_hat_NN: 8.085382461547852\n"
     ]
    },
    {
     "output_type": "stream",
     "name": "stderr",
     "text": [
      "/scratch/slurm_tmpdir/job_20161366/ipykernel_2977501/3406871675.py:15: RuntimeWarning: divide by zero encountered in true_divide\n",
      "  return np.sqrt(f(y=L[:,0])/f_theta(y=L[:,0],x=x))*(L[:,-1]>q_alpha_hat)\n",
      "/scratch/slurm_tmpdir/job_20161366/ipykernel_2977501/3406871675.py:15: RuntimeWarning: overflow encountered in true_divide\n",
      "  return np.sqrt(f(y=L[:,0])/f_theta(y=L[:,0],x=x))*(L[:,-1]>q_alpha_hat)\n",
      "/scratch/slurm_tmpdir/job_20161366/ipykernel_2977501/3406871675.py:15: RuntimeWarning: invalid value encountered in multiply\n",
      "  return np.sqrt(f(y=L[:,0])/f_theta(y=L[:,0],x=x))*(L[:,-1]>q_alpha_hat)\n"
     ]
    },
    {
     "output_type": "stream",
     "name": "stdout",
     "text": [
      "IS_NN: [-2.84862947  0.37750952]\n",
      "VaR_hat_NN: 8.34705638885498\n",
      "ES_hat_NN: 8.526051906477456\n",
      "q_alpha_IS_hat_RF: 8.553872507743801\n"
     ]
    },
    {
     "output_type": "stream",
     "name": "stderr",
     "text": [
      "/scratch/slurm_tmpdir/job_20161366/ipykernel_2977501/3406871675.py:15: RuntimeWarning: divide by zero encountered in true_divide\n",
      "  return np.sqrt(f(y=L[:,0])/f_theta(y=L[:,0],x=x))*(L[:,-1]>q_alpha_hat)\n",
      "/scratch/slurm_tmpdir/job_20161366/ipykernel_2977501/3406871675.py:15: RuntimeWarning: overflow encountered in true_divide\n",
      "  return np.sqrt(f(y=L[:,0])/f_theta(y=L[:,0],x=x))*(L[:,-1]>q_alpha_hat)\n",
      "/scratch/slurm_tmpdir/job_20161366/ipykernel_2977501/3406871675.py:15: RuntimeWarning: invalid value encountered in multiply\n",
      "  return np.sqrt(f(y=L[:,0])/f_theta(y=L[:,0],x=x))*(L[:,-1]>q_alpha_hat)\n"
     ]
    },
    {
     "output_type": "stream",
     "name": "stdout",
     "text": [
      "IS_RF: [-2.65892697  0.42554872]\n",
      "VaR_hat_RF: 8.322189241779737\n",
      "ES_hat_RF: 8.520463466789765\n",
      "22\n",
      "q_alpha_IS_hat_NN: 7.436007022857666\n"
     ]
    },
    {
     "output_type": "stream",
     "name": "stderr",
     "text": [
      "/scratch/slurm_tmpdir/job_20161366/ipykernel_2977501/3406871675.py:15: RuntimeWarning: divide by zero encountered in true_divide\n",
      "  return np.sqrt(f(y=L[:,0])/f_theta(y=L[:,0],x=x))*(L[:,-1]>q_alpha_hat)\n",
      "/scratch/slurm_tmpdir/job_20161366/ipykernel_2977501/3406871675.py:15: RuntimeWarning: overflow encountered in true_divide\n",
      "  return np.sqrt(f(y=L[:,0])/f_theta(y=L[:,0],x=x))*(L[:,-1]>q_alpha_hat)\n",
      "/scratch/slurm_tmpdir/job_20161366/ipykernel_2977501/3406871675.py:15: RuntimeWarning: invalid value encountered in multiply\n",
      "  return np.sqrt(f(y=L[:,0])/f_theta(y=L[:,0],x=x))*(L[:,-1]>q_alpha_hat)\n"
     ]
    },
    {
     "output_type": "stream",
     "name": "stdout",
     "text": [
      "IS_NN: [-2.8479094   0.37990221]\n",
      "VaR_hat_NN: 8.363092422485352\n",
      "ES_hat_NN: 8.543344149969355\n",
      "q_alpha_IS_hat_RF: 8.472488075102348\n"
     ]
    },
    {
     "output_type": "stream",
     "name": "stderr",
     "text": [
      "/scratch/slurm_tmpdir/job_20161366/ipykernel_2977501/3406871675.py:15: RuntimeWarning: divide by zero encountered in true_divide\n",
      "  return np.sqrt(f(y=L[:,0])/f_theta(y=L[:,0],x=x))*(L[:,-1]>q_alpha_hat)\n",
      "/scratch/slurm_tmpdir/job_20161366/ipykernel_2977501/3406871675.py:15: RuntimeWarning: overflow encountered in true_divide\n",
      "  return np.sqrt(f(y=L[:,0])/f_theta(y=L[:,0],x=x))*(L[:,-1]>q_alpha_hat)\n",
      "/scratch/slurm_tmpdir/job_20161366/ipykernel_2977501/3406871675.py:15: RuntimeWarning: invalid value encountered in multiply\n",
      "  return np.sqrt(f(y=L[:,0])/f_theta(y=L[:,0],x=x))*(L[:,-1]>q_alpha_hat)\n"
     ]
    },
    {
     "output_type": "stream",
     "name": "stdout",
     "text": [
      "IS_RF: [-2.75206014  0.40423593]\n",
      "VaR_hat_RF: 8.341298728094797\n",
      "ES_hat_RF: 8.526531279826209\n",
      "23\n",
      "q_alpha_IS_hat_NN: 6.278170585632324\n"
     ]
    },
    {
     "output_type": "stream",
     "name": "stderr",
     "text": [
      "/scratch/slurm_tmpdir/job_20161366/ipykernel_2977501/3406871675.py:15: RuntimeWarning: divide by zero encountered in true_divide\n",
      "  return np.sqrt(f(y=L[:,0])/f_theta(y=L[:,0],x=x))*(L[:,-1]>q_alpha_hat)\n",
      "/scratch/slurm_tmpdir/job_20161366/ipykernel_2977501/3406871675.py:15: RuntimeWarning: overflow encountered in true_divide\n",
      "  return np.sqrt(f(y=L[:,0])/f_theta(y=L[:,0],x=x))*(L[:,-1]>q_alpha_hat)\n",
      "/scratch/slurm_tmpdir/job_20161366/ipykernel_2977501/3406871675.py:15: RuntimeWarning: invalid value encountered in multiply\n",
      "  return np.sqrt(f(y=L[:,0])/f_theta(y=L[:,0],x=x))*(L[:,-1]>q_alpha_hat)\n"
     ]
    },
    {
     "output_type": "stream",
     "name": "stdout",
     "text": [
      "IS_NN: [-1.98357219  0.17367312]\n",
      "VaR_hat_NN: 8.132268905639648\n",
      "ES_hat_NN: 8.152619036382877\n",
      "q_alpha_IS_hat_RF: 8.465846630178827\n"
     ]
    },
    {
     "output_type": "stream",
     "name": "stderr",
     "text": [
      "/scratch/slurm_tmpdir/job_20161366/ipykernel_2977501/3406871675.py:15: RuntimeWarning: divide by zero encountered in true_divide\n",
      "  return np.sqrt(f(y=L[:,0])/f_theta(y=L[:,0],x=x))*(L[:,-1]>q_alpha_hat)\n",
      "/scratch/slurm_tmpdir/job_20161366/ipykernel_2977501/3406871675.py:15: RuntimeWarning: overflow encountered in true_divide\n",
      "  return np.sqrt(f(y=L[:,0])/f_theta(y=L[:,0],x=x))*(L[:,-1]>q_alpha_hat)\n",
      "/scratch/slurm_tmpdir/job_20161366/ipykernel_2977501/3406871675.py:15: RuntimeWarning: invalid value encountered in multiply\n",
      "  return np.sqrt(f(y=L[:,0])/f_theta(y=L[:,0],x=x))*(L[:,-1]>q_alpha_hat)\n"
     ]
    },
    {
     "output_type": "stream",
     "name": "stdout",
     "text": [
      "IS_RF: [-2.60392688  0.41197362]\n",
      "VaR_hat_RF: 8.392258793986729\n",
      "ES_hat_RF: 8.528741071300303\n",
      "24\n",
      "q_alpha_IS_hat_NN: 6.93958854675293\n"
     ]
    },
    {
     "output_type": "stream",
     "name": "stderr",
     "text": [
      "/scratch/slurm_tmpdir/job_20161366/ipykernel_2977501/3406871675.py:15: RuntimeWarning: divide by zero encountered in true_divide\n",
      "  return np.sqrt(f(y=L[:,0])/f_theta(y=L[:,0],x=x))*(L[:,-1]>q_alpha_hat)\n",
      "/scratch/slurm_tmpdir/job_20161366/ipykernel_2977501/3406871675.py:15: RuntimeWarning: overflow encountered in true_divide\n",
      "  return np.sqrt(f(y=L[:,0])/f_theta(y=L[:,0],x=x))*(L[:,-1]>q_alpha_hat)\n",
      "/scratch/slurm_tmpdir/job_20161366/ipykernel_2977501/3406871675.py:15: RuntimeWarning: invalid value encountered in multiply\n",
      "  return np.sqrt(f(y=L[:,0])/f_theta(y=L[:,0],x=x))*(L[:,-1]>q_alpha_hat)\n"
     ]
    },
    {
     "output_type": "stream",
     "name": "stdout",
     "text": [
      "IS_NN: [-2.84038401  0.40845104]\n",
      "VaR_hat_NN: 8.33749771118164\n",
      "ES_hat_NN: 8.503808767254423\n",
      "q_alpha_IS_hat_RF: 8.167924596942651\n"
     ]
    },
    {
     "output_type": "stream",
     "name": "stderr",
     "text": [
      "/scratch/slurm_tmpdir/job_20161366/ipykernel_2977501/3406871675.py:15: RuntimeWarning: divide by zero encountered in true_divide\n",
      "  return np.sqrt(f(y=L[:,0])/f_theta(y=L[:,0],x=x))*(L[:,-1]>q_alpha_hat)\n",
      "/scratch/slurm_tmpdir/job_20161366/ipykernel_2977501/3406871675.py:15: RuntimeWarning: overflow encountered in true_divide\n",
      "  return np.sqrt(f(y=L[:,0])/f_theta(y=L[:,0],x=x))*(L[:,-1]>q_alpha_hat)\n",
      "/scratch/slurm_tmpdir/job_20161366/ipykernel_2977501/3406871675.py:15: RuntimeWarning: invalid value encountered in multiply\n",
      "  return np.sqrt(f(y=L[:,0])/f_theta(y=L[:,0],x=x))*(L[:,-1]>q_alpha_hat)\n"
     ]
    },
    {
     "output_type": "stream",
     "name": "stdout",
     "text": [
      "IS_RF: [-2.67088536  0.44524459]\n",
      "VaR_hat_RF: 8.34846550376484\n",
      "ES_hat_RF: 8.50457090671682\n",
      "25\n",
      "q_alpha_IS_hat_NN: 7.553247928619385\n"
     ]
    },
    {
     "output_type": "stream",
     "name": "stderr",
     "text": [
      "/scratch/slurm_tmpdir/job_20161366/ipykernel_2977501/3406871675.py:15: RuntimeWarning: divide by zero encountered in true_divide\n",
      "  return np.sqrt(f(y=L[:,0])/f_theta(y=L[:,0],x=x))*(L[:,-1]>q_alpha_hat)\n",
      "/scratch/slurm_tmpdir/job_20161366/ipykernel_2977501/3406871675.py:15: RuntimeWarning: overflow encountered in true_divide\n",
      "  return np.sqrt(f(y=L[:,0])/f_theta(y=L[:,0],x=x))*(L[:,-1]>q_alpha_hat)\n",
      "/scratch/slurm_tmpdir/job_20161366/ipykernel_2977501/3406871675.py:15: RuntimeWarning: invalid value encountered in multiply\n",
      "  return np.sqrt(f(y=L[:,0])/f_theta(y=L[:,0],x=x))*(L[:,-1]>q_alpha_hat)\n"
     ]
    },
    {
     "output_type": "stream",
     "name": "stdout",
     "text": [
      "IS_NN: [-2.83755236  0.36462436]\n",
      "VaR_hat_NN: 8.345714569091797\n",
      "ES_hat_NN: 8.522883567339493\n",
      "q_alpha_IS_hat_RF: 8.370221949829205\n"
     ]
    },
    {
     "output_type": "stream",
     "name": "stderr",
     "text": [
      "/scratch/slurm_tmpdir/job_20161366/ipykernel_2977501/3406871675.py:15: RuntimeWarning: divide by zero encountered in true_divide\n",
      "  return np.sqrt(f(y=L[:,0])/f_theta(y=L[:,0],x=x))*(L[:,-1]>q_alpha_hat)\n",
      "/scratch/slurm_tmpdir/job_20161366/ipykernel_2977501/3406871675.py:15: RuntimeWarning: overflow encountered in true_divide\n",
      "  return np.sqrt(f(y=L[:,0])/f_theta(y=L[:,0],x=x))*(L[:,-1]>q_alpha_hat)\n",
      "/scratch/slurm_tmpdir/job_20161366/ipykernel_2977501/3406871675.py:15: RuntimeWarning: invalid value encountered in multiply\n",
      "  return np.sqrt(f(y=L[:,0])/f_theta(y=L[:,0],x=x))*(L[:,-1]>q_alpha_hat)\n"
     ]
    },
    {
     "output_type": "stream",
     "name": "stdout",
     "text": [
      "IS_RF: [-2.61410457  0.42669548]\n",
      "VaR_hat_RF: 8.368245087811221\n",
      "ES_hat_RF: 8.523360595927745\n",
      "26\n",
      "q_alpha_IS_hat_NN: 8.204313278198242\n"
     ]
    },
    {
     "output_type": "stream",
     "name": "stderr",
     "text": [
      "/scratch/slurm_tmpdir/job_20161366/ipykernel_2977501/3406871675.py:15: RuntimeWarning: divide by zero encountered in true_divide\n",
      "  return np.sqrt(f(y=L[:,0])/f_theta(y=L[:,0],x=x))*(L[:,-1]>q_alpha_hat)\n",
      "/scratch/slurm_tmpdir/job_20161366/ipykernel_2977501/3406871675.py:15: RuntimeWarning: overflow encountered in true_divide\n",
      "  return np.sqrt(f(y=L[:,0])/f_theta(y=L[:,0],x=x))*(L[:,-1]>q_alpha_hat)\n",
      "/scratch/slurm_tmpdir/job_20161366/ipykernel_2977501/3406871675.py:15: RuntimeWarning: invalid value encountered in multiply\n",
      "  return np.sqrt(f(y=L[:,0])/f_theta(y=L[:,0],x=x))*(L[:,-1]>q_alpha_hat)\n"
     ]
    },
    {
     "output_type": "stream",
     "name": "stdout",
     "text": [
      "IS_NN: [-2.82632757  0.38767411]\n",
      "VaR_hat_NN: 8.313336372375488\n",
      "ES_hat_NN: 8.500836997456055\n",
      "q_alpha_IS_hat_RF: 8.200103994716779\n"
     ]
    },
    {
     "output_type": "stream",
     "name": "stderr",
     "text": [
      "/scratch/slurm_tmpdir/job_20161366/ipykernel_2977501/3406871675.py:15: RuntimeWarning: divide by zero encountered in true_divide\n",
      "  return np.sqrt(f(y=L[:,0])/f_theta(y=L[:,0],x=x))*(L[:,-1]>q_alpha_hat)\n",
      "/scratch/slurm_tmpdir/job_20161366/ipykernel_2977501/3406871675.py:15: RuntimeWarning: overflow encountered in true_divide\n",
      "  return np.sqrt(f(y=L[:,0])/f_theta(y=L[:,0],x=x))*(L[:,-1]>q_alpha_hat)\n",
      "/scratch/slurm_tmpdir/job_20161366/ipykernel_2977501/3406871675.py:15: RuntimeWarning: invalid value encountered in multiply\n",
      "  return np.sqrt(f(y=L[:,0])/f_theta(y=L[:,0],x=x))*(L[:,-1]>q_alpha_hat)\n"
     ]
    },
    {
     "output_type": "stream",
     "name": "stdout",
     "text": [
      "IS_RF: [-2.62767972  0.44005637]\n",
      "VaR_hat_RF: 8.367762691706952\n",
      "ES_hat_RF: 8.513628358284354\n",
      "27\n",
      "q_alpha_IS_hat_NN: 8.344003677368164\n"
     ]
    },
    {
     "output_type": "stream",
     "name": "stderr",
     "text": [
      "/scratch/slurm_tmpdir/job_20161366/ipykernel_2977501/3406871675.py:15: RuntimeWarning: divide by zero encountered in true_divide\n",
      "  return np.sqrt(f(y=L[:,0])/f_theta(y=L[:,0],x=x))*(L[:,-1]>q_alpha_hat)\n",
      "/scratch/slurm_tmpdir/job_20161366/ipykernel_2977501/3406871675.py:15: RuntimeWarning: overflow encountered in true_divide\n",
      "  return np.sqrt(f(y=L[:,0])/f_theta(y=L[:,0],x=x))*(L[:,-1]>q_alpha_hat)\n",
      "/scratch/slurm_tmpdir/job_20161366/ipykernel_2977501/3406871675.py:15: RuntimeWarning: invalid value encountered in multiply\n",
      "  return np.sqrt(f(y=L[:,0])/f_theta(y=L[:,0],x=x))*(L[:,-1]>q_alpha_hat)\n"
     ]
    },
    {
     "output_type": "stream",
     "name": "stdout",
     "text": [
      "IS_NN: [-2.85103077  0.38067888]\n",
      "VaR_hat_NN: 8.367210388183594\n",
      "ES_hat_NN: 8.539194956776598\n",
      "q_alpha_IS_hat_RF: 8.283863322684818\n"
     ]
    },
    {
     "output_type": "stream",
     "name": "stderr",
     "text": [
      "/scratch/slurm_tmpdir/job_20161366/ipykernel_2977501/3406871675.py:15: RuntimeWarning: divide by zero encountered in true_divide\n",
      "  return np.sqrt(f(y=L[:,0])/f_theta(y=L[:,0],x=x))*(L[:,-1]>q_alpha_hat)\n",
      "/scratch/slurm_tmpdir/job_20161366/ipykernel_2977501/3406871675.py:15: RuntimeWarning: overflow encountered in true_divide\n",
      "  return np.sqrt(f(y=L[:,0])/f_theta(y=L[:,0],x=x))*(L[:,-1]>q_alpha_hat)\n",
      "/scratch/slurm_tmpdir/job_20161366/ipykernel_2977501/3406871675.py:15: RuntimeWarning: invalid value encountered in multiply\n",
      "  return np.sqrt(f(y=L[:,0])/f_theta(y=L[:,0],x=x))*(L[:,-1]>q_alpha_hat)\n"
     ]
    },
    {
     "output_type": "stream",
     "name": "stdout",
     "text": [
      "IS_RF: [-2.76155762  0.4067922 ]\n",
      "VaR_hat_RF: 8.316628058008432\n",
      "ES_hat_RF: 8.507290500486999\n",
      "28\n",
      "q_alpha_IS_hat_NN: 7.762150764465332\n"
     ]
    },
    {
     "output_type": "stream",
     "name": "stderr",
     "text": [
      "/scratch/slurm_tmpdir/job_20161366/ipykernel_2977501/3406871675.py:15: RuntimeWarning: divide by zero encountered in true_divide\n",
      "  return np.sqrt(f(y=L[:,0])/f_theta(y=L[:,0],x=x))*(L[:,-1]>q_alpha_hat)\n",
      "/scratch/slurm_tmpdir/job_20161366/ipykernel_2977501/3406871675.py:15: RuntimeWarning: overflow encountered in true_divide\n",
      "  return np.sqrt(f(y=L[:,0])/f_theta(y=L[:,0],x=x))*(L[:,-1]>q_alpha_hat)\n",
      "/scratch/slurm_tmpdir/job_20161366/ipykernel_2977501/3406871675.py:15: RuntimeWarning: invalid value encountered in multiply\n",
      "  return np.sqrt(f(y=L[:,0])/f_theta(y=L[:,0],x=x))*(L[:,-1]>q_alpha_hat)\n"
     ]
    },
    {
     "output_type": "stream",
     "name": "stdout",
     "text": [
      "IS_NN: [-2.84178395  0.37478302]\n",
      "VaR_hat_NN: 8.338027954101562\n",
      "ES_hat_NN: 8.505091509874031\n",
      "q_alpha_IS_hat_RF: 8.133908006438165\n"
     ]
    },
    {
     "output_type": "stream",
     "name": "stderr",
     "text": [
      "/scratch/slurm_tmpdir/job_20161366/ipykernel_2977501/3406871675.py:15: RuntimeWarning: divide by zero encountered in true_divide\n",
      "  return np.sqrt(f(y=L[:,0])/f_theta(y=L[:,0],x=x))*(L[:,-1]>q_alpha_hat)\n",
      "/scratch/slurm_tmpdir/job_20161366/ipykernel_2977501/3406871675.py:15: RuntimeWarning: overflow encountered in true_divide\n",
      "  return np.sqrt(f(y=L[:,0])/f_theta(y=L[:,0],x=x))*(L[:,-1]>q_alpha_hat)\n",
      "/scratch/slurm_tmpdir/job_20161366/ipykernel_2977501/3406871675.py:15: RuntimeWarning: invalid value encountered in multiply\n",
      "  return np.sqrt(f(y=L[:,0])/f_theta(y=L[:,0],x=x))*(L[:,-1]>q_alpha_hat)\n"
     ]
    },
    {
     "output_type": "stream",
     "name": "stdout",
     "text": [
      "IS_RF: [-2.75569031  0.40119214]\n",
      "VaR_hat_RF: 8.342340176280219\n",
      "ES_hat_RF: 8.518378934215447\n",
      "29\n",
      "q_alpha_IS_hat_NN: 8.271748542785645\n"
     ]
    },
    {
     "output_type": "stream",
     "name": "stderr",
     "text": [
      "/scratch/slurm_tmpdir/job_20161366/ipykernel_2977501/3406871675.py:15: RuntimeWarning: divide by zero encountered in true_divide\n",
      "  return np.sqrt(f(y=L[:,0])/f_theta(y=L[:,0],x=x))*(L[:,-1]>q_alpha_hat)\n",
      "/scratch/slurm_tmpdir/job_20161366/ipykernel_2977501/3406871675.py:15: RuntimeWarning: overflow encountered in true_divide\n",
      "  return np.sqrt(f(y=L[:,0])/f_theta(y=L[:,0],x=x))*(L[:,-1]>q_alpha_hat)\n",
      "/scratch/slurm_tmpdir/job_20161366/ipykernel_2977501/3406871675.py:15: RuntimeWarning: invalid value encountered in multiply\n",
      "  return np.sqrt(f(y=L[:,0])/f_theta(y=L[:,0],x=x))*(L[:,-1]>q_alpha_hat)\n"
     ]
    },
    {
     "output_type": "stream",
     "name": "stdout",
     "text": [
      "IS_NN: [-2.84796006  0.37986807]\n",
      "VaR_hat_NN: 8.434771537780762\n",
      "ES_hat_NN: 8.578484722032917\n",
      "q_alpha_IS_hat_RF: 8.542373331180176\n"
     ]
    },
    {
     "output_type": "stream",
     "name": "stderr",
     "text": [
      "/scratch/slurm_tmpdir/job_20161366/ipykernel_2977501/3406871675.py:15: RuntimeWarning: divide by zero encountered in true_divide\n",
      "  return np.sqrt(f(y=L[:,0])/f_theta(y=L[:,0],x=x))*(L[:,-1]>q_alpha_hat)\n",
      "/scratch/slurm_tmpdir/job_20161366/ipykernel_2977501/3406871675.py:15: RuntimeWarning: overflow encountered in true_divide\n",
      "  return np.sqrt(f(y=L[:,0])/f_theta(y=L[:,0],x=x))*(L[:,-1]>q_alpha_hat)\n",
      "/scratch/slurm_tmpdir/job_20161366/ipykernel_2977501/3406871675.py:15: RuntimeWarning: invalid value encountered in multiply\n",
      "  return np.sqrt(f(y=L[:,0])/f_theta(y=L[:,0],x=x))*(L[:,-1]>q_alpha_hat)\n"
     ]
    },
    {
     "output_type": "stream",
     "name": "stdout",
     "text": [
      "IS_RF: [-2.69638797  0.41553078]\n",
      "VaR_hat_RF: 8.3351653919021\n",
      "ES_hat_RF: 8.514760740767754\n",
      "30\n",
      "q_alpha_IS_hat_NN: 7.922538757324219\n"
     ]
    },
    {
     "output_type": "stream",
     "name": "stderr",
     "text": [
      "/scratch/slurm_tmpdir/job_20161366/ipykernel_2977501/3406871675.py:15: RuntimeWarning: divide by zero encountered in true_divide\n",
      "  return np.sqrt(f(y=L[:,0])/f_theta(y=L[:,0],x=x))*(L[:,-1]>q_alpha_hat)\n",
      "/scratch/slurm_tmpdir/job_20161366/ipykernel_2977501/3406871675.py:15: RuntimeWarning: overflow encountered in true_divide\n",
      "  return np.sqrt(f(y=L[:,0])/f_theta(y=L[:,0],x=x))*(L[:,-1]>q_alpha_hat)\n",
      "/scratch/slurm_tmpdir/job_20161366/ipykernel_2977501/3406871675.py:15: RuntimeWarning: invalid value encountered in multiply\n",
      "  return np.sqrt(f(y=L[:,0])/f_theta(y=L[:,0],x=x))*(L[:,-1]>q_alpha_hat)\n"
     ]
    },
    {
     "output_type": "stream",
     "name": "stdout",
     "text": [
      "IS_NN: [-2.85155537  0.35949426]\n",
      "VaR_hat_NN: 8.33545970916748\n",
      "ES_hat_NN: 8.496543715425249\n",
      "q_alpha_IS_hat_RF: 8.165892651563261\n",
      "IS_RF: [-2.5003091   0.46633168]\n",
      "VaR_hat_RF: 8.330482971614236\n",
      "ES_hat_RF: 8.506331657327792\n",
      "31\n",
      "q_alpha_IS_hat_NN: 8.304308891296387\n",
      "IS_NN: [-2.83691305  0.43062126]\n",
      "VaR_hat_NN: 8.333840370178223\n",
      "ES_hat_NN: 8.51069821024455\n",
      "q_alpha_IS_hat_RF: 8.17885597460967\n"
     ]
    },
    {
     "output_type": "stream",
     "name": "stderr",
     "text": [
      "/scratch/slurm_tmpdir/job_20161366/ipykernel_2977501/3406871675.py:15: RuntimeWarning: overflow encountered in true_divide\n",
      "  return np.sqrt(f(y=L[:,0])/f_theta(y=L[:,0],x=x))*(L[:,-1]>q_alpha_hat)\n",
      "/scratch/slurm_tmpdir/job_20161366/ipykernel_2977501/3406871675.py:15: RuntimeWarning: invalid value encountered in multiply\n",
      "  return np.sqrt(f(y=L[:,0])/f_theta(y=L[:,0],x=x))*(L[:,-1]>q_alpha_hat)\n"
     ]
    },
    {
     "output_type": "stream",
     "name": "stdout",
     "text": [
      "IS_RF: [-2.74216855  0.45297693]\n",
      "VaR_hat_RF: 8.333486780789165\n",
      "ES_hat_RF: 8.51260327005021\n",
      "32\n",
      "q_alpha_IS_hat_NN: 7.42372989654541\n"
     ]
    },
    {
     "output_type": "stream",
     "name": "stderr",
     "text": [
      "/scratch/slurm_tmpdir/job_20161366/ipykernel_2977501/3406871675.py:15: RuntimeWarning: divide by zero encountered in true_divide\n",
      "  return np.sqrt(f(y=L[:,0])/f_theta(y=L[:,0],x=x))*(L[:,-1]>q_alpha_hat)\n",
      "/scratch/slurm_tmpdir/job_20161366/ipykernel_2977501/3406871675.py:15: RuntimeWarning: overflow encountered in true_divide\n",
      "  return np.sqrt(f(y=L[:,0])/f_theta(y=L[:,0],x=x))*(L[:,-1]>q_alpha_hat)\n",
      "/scratch/slurm_tmpdir/job_20161366/ipykernel_2977501/3406871675.py:15: RuntimeWarning: invalid value encountered in multiply\n",
      "  return np.sqrt(f(y=L[:,0])/f_theta(y=L[:,0],x=x))*(L[:,-1]>q_alpha_hat)\n"
     ]
    },
    {
     "output_type": "stream",
     "name": "stdout",
     "text": [
      "IS_NN: [-2.8417647   0.41405853]\n",
      "VaR_hat_NN: 8.310633659362793\n",
      "ES_hat_NN: 8.485201921812454\n",
      "q_alpha_IS_hat_RF: 8.348211415572262\n"
     ]
    },
    {
     "output_type": "stream",
     "name": "stderr",
     "text": [
      "/scratch/slurm_tmpdir/job_20161366/ipykernel_2977501/3406871675.py:15: RuntimeWarning: divide by zero encountered in true_divide\n",
      "  return np.sqrt(f(y=L[:,0])/f_theta(y=L[:,0],x=x))*(L[:,-1]>q_alpha_hat)\n",
      "/scratch/slurm_tmpdir/job_20161366/ipykernel_2977501/3406871675.py:15: RuntimeWarning: overflow encountered in true_divide\n",
      "  return np.sqrt(f(y=L[:,0])/f_theta(y=L[:,0],x=x))*(L[:,-1]>q_alpha_hat)\n",
      "/scratch/slurm_tmpdir/job_20161366/ipykernel_2977501/3406871675.py:15: RuntimeWarning: invalid value encountered in multiply\n",
      "  return np.sqrt(f(y=L[:,0])/f_theta(y=L[:,0],x=x))*(L[:,-1]>q_alpha_hat)\n"
     ]
    },
    {
     "output_type": "stream",
     "name": "stdout",
     "text": [
      "IS_RF: [-2.63847971  0.45962474]\n",
      "VaR_hat_RF: 8.323699060837047\n",
      "ES_hat_RF: 8.520628802998344\n",
      "33\n",
      "q_alpha_IS_hat_NN: 6.969793796539307\n"
     ]
    },
    {
     "output_type": "stream",
     "name": "stderr",
     "text": [
      "/scratch/slurm_tmpdir/job_20161366/ipykernel_2977501/3406871675.py:15: RuntimeWarning: divide by zero encountered in true_divide\n",
      "  return np.sqrt(f(y=L[:,0])/f_theta(y=L[:,0],x=x))*(L[:,-1]>q_alpha_hat)\n",
      "/scratch/slurm_tmpdir/job_20161366/ipykernel_2977501/3406871675.py:15: RuntimeWarning: overflow encountered in true_divide\n",
      "  return np.sqrt(f(y=L[:,0])/f_theta(y=L[:,0],x=x))*(L[:,-1]>q_alpha_hat)\n",
      "/scratch/slurm_tmpdir/job_20161366/ipykernel_2977501/3406871675.py:15: RuntimeWarning: invalid value encountered in multiply\n",
      "  return np.sqrt(f(y=L[:,0])/f_theta(y=L[:,0],x=x))*(L[:,-1]>q_alpha_hat)\n"
     ]
    },
    {
     "output_type": "stream",
     "name": "stdout",
     "text": [
      "IS_NN: [-2.60376394  0.18110105]\n",
      "VaR_hat_NN: 8.26099967956543\n",
      "ES_hat_NN: 8.40740419289238\n",
      "q_alpha_IS_hat_RF: 8.859842623884019\n"
     ]
    },
    {
     "output_type": "stream",
     "name": "stderr",
     "text": [
      "/scratch/slurm_tmpdir/job_20161366/ipykernel_2977501/3406871675.py:15: RuntimeWarning: divide by zero encountered in true_divide\n",
      "  return np.sqrt(f(y=L[:,0])/f_theta(y=L[:,0],x=x))*(L[:,-1]>q_alpha_hat)\n",
      "/scratch/slurm_tmpdir/job_20161366/ipykernel_2977501/3406871675.py:15: RuntimeWarning: overflow encountered in true_divide\n",
      "  return np.sqrt(f(y=L[:,0])/f_theta(y=L[:,0],x=x))*(L[:,-1]>q_alpha_hat)\n",
      "/scratch/slurm_tmpdir/job_20161366/ipykernel_2977501/3406871675.py:15: RuntimeWarning: invalid value encountered in multiply\n",
      "  return np.sqrt(f(y=L[:,0])/f_theta(y=L[:,0],x=x))*(L[:,-1]>q_alpha_hat)\n"
     ]
    },
    {
     "output_type": "stream",
     "name": "stdout",
     "text": [
      "IS_RF: [-2.5570161   0.44486387]\n",
      "VaR_hat_RF: 8.342573716550639\n",
      "ES_hat_RF: 8.516240918459326\n",
      "34\n",
      "q_alpha_IS_hat_NN: 7.877935886383057\n"
     ]
    },
    {
     "output_type": "stream",
     "name": "stderr",
     "text": [
      "/scratch/slurm_tmpdir/job_20161366/ipykernel_2977501/3406871675.py:15: RuntimeWarning: divide by zero encountered in true_divide\n",
      "  return np.sqrt(f(y=L[:,0])/f_theta(y=L[:,0],x=x))*(L[:,-1]>q_alpha_hat)\n",
      "/scratch/slurm_tmpdir/job_20161366/ipykernel_2977501/3406871675.py:15: RuntimeWarning: overflow encountered in true_divide\n",
      "  return np.sqrt(f(y=L[:,0])/f_theta(y=L[:,0],x=x))*(L[:,-1]>q_alpha_hat)\n",
      "/scratch/slurm_tmpdir/job_20161366/ipykernel_2977501/3406871675.py:15: RuntimeWarning: invalid value encountered in multiply\n",
      "  return np.sqrt(f(y=L[:,0])/f_theta(y=L[:,0],x=x))*(L[:,-1]>q_alpha_hat)\n"
     ]
    },
    {
     "output_type": "stream",
     "name": "stdout",
     "text": [
      "IS_NN: [-2.83978218  0.38194761]\n",
      "VaR_hat_NN: 8.38547134399414\n",
      "ES_hat_NN: 8.548260676261966\n",
      "q_alpha_IS_hat_RF: 8.93728928456294\n"
     ]
    },
    {
     "output_type": "stream",
     "name": "stderr",
     "text": [
      "/scratch/slurm_tmpdir/job_20161366/ipykernel_2977501/3406871675.py:15: RuntimeWarning: divide by zero encountered in true_divide\n",
      "  return np.sqrt(f(y=L[:,0])/f_theta(y=L[:,0],x=x))*(L[:,-1]>q_alpha_hat)\n",
      "/scratch/slurm_tmpdir/job_20161366/ipykernel_2977501/3406871675.py:15: RuntimeWarning: overflow encountered in true_divide\n",
      "  return np.sqrt(f(y=L[:,0])/f_theta(y=L[:,0],x=x))*(L[:,-1]>q_alpha_hat)\n",
      "/scratch/slurm_tmpdir/job_20161366/ipykernel_2977501/3406871675.py:15: RuntimeWarning: invalid value encountered in multiply\n",
      "  return np.sqrt(f(y=L[:,0])/f_theta(y=L[:,0],x=x))*(L[:,-1]>q_alpha_hat)\n"
     ]
    },
    {
     "output_type": "stream",
     "name": "stdout",
     "text": [
      "IS_RF: [-2.71301835  0.41153112]\n",
      "VaR_hat_RF: 8.324140806593602\n",
      "ES_hat_RF: 8.513580090702979\n",
      "35\n",
      "q_alpha_IS_hat_NN: 8.189371109008789\n"
     ]
    },
    {
     "output_type": "stream",
     "name": "stderr",
     "text": [
      "/scratch/slurm_tmpdir/job_20161366/ipykernel_2977501/3406871675.py:15: RuntimeWarning: divide by zero encountered in true_divide\n",
      "  return np.sqrt(f(y=L[:,0])/f_theta(y=L[:,0],x=x))*(L[:,-1]>q_alpha_hat)\n",
      "/scratch/slurm_tmpdir/job_20161366/ipykernel_2977501/3406871675.py:15: RuntimeWarning: overflow encountered in true_divide\n",
      "  return np.sqrt(f(y=L[:,0])/f_theta(y=L[:,0],x=x))*(L[:,-1]>q_alpha_hat)\n",
      "/scratch/slurm_tmpdir/job_20161366/ipykernel_2977501/3406871675.py:15: RuntimeWarning: invalid value encountered in multiply\n",
      "  return np.sqrt(f(y=L[:,0])/f_theta(y=L[:,0],x=x))*(L[:,-1]>q_alpha_hat)\n"
     ]
    },
    {
     "output_type": "stream",
     "name": "stdout",
     "text": [
      "IS_NN: [-2.85562961  0.34617707]\n",
      "VaR_hat_NN: 8.3971586227417\n",
      "ES_hat_NN: 8.552396864277217\n",
      "q_alpha_IS_hat_RF: 8.25843660897419\n"
     ]
    },
    {
     "output_type": "stream",
     "name": "stderr",
     "text": [
      "/scratch/slurm_tmpdir/job_20161366/ipykernel_2977501/3406871675.py:15: RuntimeWarning: divide by zero encountered in true_divide\n",
      "  return np.sqrt(f(y=L[:,0])/f_theta(y=L[:,0],x=x))*(L[:,-1]>q_alpha_hat)\n",
      "/scratch/slurm_tmpdir/job_20161366/ipykernel_2977501/3406871675.py:15: RuntimeWarning: overflow encountered in true_divide\n",
      "  return np.sqrt(f(y=L[:,0])/f_theta(y=L[:,0],x=x))*(L[:,-1]>q_alpha_hat)\n",
      "/scratch/slurm_tmpdir/job_20161366/ipykernel_2977501/3406871675.py:15: RuntimeWarning: invalid value encountered in multiply\n",
      "  return np.sqrt(f(y=L[:,0])/f_theta(y=L[:,0],x=x))*(L[:,-1]>q_alpha_hat)\n"
     ]
    },
    {
     "output_type": "stream",
     "name": "stdout",
     "text": [
      "IS_RF: [-2.51059849  0.45575107]\n",
      "VaR_hat_RF: 8.347715796601769\n",
      "ES_hat_RF: 8.511397601672964\n",
      "36\n",
      "q_alpha_IS_hat_NN: 8.008411407470703\n"
     ]
    },
    {
     "output_type": "stream",
     "name": "stderr",
     "text": [
      "/scratch/slurm_tmpdir/job_20161366/ipykernel_2977501/3406871675.py:15: RuntimeWarning: divide by zero encountered in true_divide\n",
      "  return np.sqrt(f(y=L[:,0])/f_theta(y=L[:,0],x=x))*(L[:,-1]>q_alpha_hat)\n",
      "/scratch/slurm_tmpdir/job_20161366/ipykernel_2977501/3406871675.py:15: RuntimeWarning: overflow encountered in true_divide\n",
      "  return np.sqrt(f(y=L[:,0])/f_theta(y=L[:,0],x=x))*(L[:,-1]>q_alpha_hat)\n",
      "/scratch/slurm_tmpdir/job_20161366/ipykernel_2977501/3406871675.py:15: RuntimeWarning: invalid value encountered in multiply\n",
      "  return np.sqrt(f(y=L[:,0])/f_theta(y=L[:,0],x=x))*(L[:,-1]>q_alpha_hat)\n"
     ]
    },
    {
     "output_type": "stream",
     "name": "stdout",
     "text": [
      "IS_NN: [-2.82863367  0.35543109]\n",
      "VaR_hat_NN: 8.384697914123535\n",
      "ES_hat_NN: 8.5188594027232\n",
      "q_alpha_IS_hat_RF: 8.340027071566409\n"
     ]
    },
    {
     "output_type": "stream",
     "name": "stderr",
     "text": [
      "/scratch/slurm_tmpdir/job_20161366/ipykernel_2977501/3406871675.py:15: RuntimeWarning: divide by zero encountered in true_divide\n",
      "  return np.sqrt(f(y=L[:,0])/f_theta(y=L[:,0],x=x))*(L[:,-1]>q_alpha_hat)\n",
      "/scratch/slurm_tmpdir/job_20161366/ipykernel_2977501/3406871675.py:15: RuntimeWarning: overflow encountered in true_divide\n",
      "  return np.sqrt(f(y=L[:,0])/f_theta(y=L[:,0],x=x))*(L[:,-1]>q_alpha_hat)\n",
      "/scratch/slurm_tmpdir/job_20161366/ipykernel_2977501/3406871675.py:15: RuntimeWarning: invalid value encountered in multiply\n",
      "  return np.sqrt(f(y=L[:,0])/f_theta(y=L[:,0],x=x))*(L[:,-1]>q_alpha_hat)\n"
     ]
    },
    {
     "output_type": "stream",
     "name": "stdout",
     "text": [
      "IS_RF: [-2.65076078  0.40672083]\n",
      "VaR_hat_RF: 8.313122578414706\n",
      "ES_hat_RF: 8.51784740452661\n",
      "37\n",
      "q_alpha_IS_hat_NN: 8.328896522521973\n",
      "IS_NN: [-2.82627595  0.42950656]\n",
      "VaR_hat_NN: 8.34681510925293\n",
      "ES_hat_NN: 8.513419656892172\n",
      "q_alpha_IS_hat_RF: 8.695717808715987\n",
      "IS_RF: [-2.71067142  0.45304883]\n",
      "VaR_hat_RF: 8.32825278709253\n",
      "ES_hat_RF: 8.522370164473742\n",
      "38\n",
      "q_alpha_IS_hat_NN: 9.116247177124023\n",
      "IS_NN: [-2.85580386  0.43424048]\n",
      "VaR_hat_NN: 8.293227195739746\n",
      "ES_hat_NN: 8.465225575123469\n",
      "q_alpha_IS_hat_RF: 8.847850466359805\n"
     ]
    },
    {
     "output_type": "stream",
     "name": "stderr",
     "text": [
      "/scratch/slurm_tmpdir/job_20161366/ipykernel_2977501/3406871675.py:15: RuntimeWarning: divide by zero encountered in true_divide\n",
      "  return np.sqrt(f(y=L[:,0])/f_theta(y=L[:,0],x=x))*(L[:,-1]>q_alpha_hat)\n",
      "/scratch/slurm_tmpdir/job_20161366/ipykernel_2977501/3406871675.py:15: RuntimeWarning: overflow encountered in true_divide\n",
      "  return np.sqrt(f(y=L[:,0])/f_theta(y=L[:,0],x=x))*(L[:,-1]>q_alpha_hat)\n",
      "/scratch/slurm_tmpdir/job_20161366/ipykernel_2977501/3406871675.py:15: RuntimeWarning: invalid value encountered in multiply\n",
      "  return np.sqrt(f(y=L[:,0])/f_theta(y=L[:,0],x=x))*(L[:,-1]>q_alpha_hat)\n"
     ]
    },
    {
     "output_type": "stream",
     "name": "stdout",
     "text": [
      "IS_RF: [-2.67715017  0.47187689]\n",
      "VaR_hat_RF: 8.318133149161199\n",
      "ES_hat_RF: 8.504205217420164\n",
      "39\n",
      "q_alpha_IS_hat_NN: 7.025167465209961\n"
     ]
    },
    {
     "output_type": "stream",
     "name": "stderr",
     "text": [
      "/scratch/slurm_tmpdir/job_20161366/ipykernel_2977501/3406871675.py:15: RuntimeWarning: divide by zero encountered in true_divide\n",
      "  return np.sqrt(f(y=L[:,0])/f_theta(y=L[:,0],x=x))*(L[:,-1]>q_alpha_hat)\n",
      "/scratch/slurm_tmpdir/job_20161366/ipykernel_2977501/3406871675.py:15: RuntimeWarning: overflow encountered in true_divide\n",
      "  return np.sqrt(f(y=L[:,0])/f_theta(y=L[:,0],x=x))*(L[:,-1]>q_alpha_hat)\n",
      "/scratch/slurm_tmpdir/job_20161366/ipykernel_2977501/3406871675.py:15: RuntimeWarning: invalid value encountered in multiply\n",
      "  return np.sqrt(f(y=L[:,0])/f_theta(y=L[:,0],x=x))*(L[:,-1]>q_alpha_hat)\n"
     ]
    },
    {
     "output_type": "stream",
     "name": "stdout",
     "text": [
      "IS_NN: [-2.8154649  0.3784562]\n",
      "VaR_hat_NN: 8.308769226074219\n",
      "ES_hat_NN: 8.49687585580727\n",
      "q_alpha_IS_hat_RF: 8.480154776955734\n"
     ]
    },
    {
     "output_type": "stream",
     "name": "stderr",
     "text": [
      "/scratch/slurm_tmpdir/job_20161366/ipykernel_2977501/3406871675.py:15: RuntimeWarning: divide by zero encountered in true_divide\n",
      "  return np.sqrt(f(y=L[:,0])/f_theta(y=L[:,0],x=x))*(L[:,-1]>q_alpha_hat)\n",
      "/scratch/slurm_tmpdir/job_20161366/ipykernel_2977501/3406871675.py:15: RuntimeWarning: overflow encountered in true_divide\n",
      "  return np.sqrt(f(y=L[:,0])/f_theta(y=L[:,0],x=x))*(L[:,-1]>q_alpha_hat)\n",
      "/scratch/slurm_tmpdir/job_20161366/ipykernel_2977501/3406871675.py:15: RuntimeWarning: invalid value encountered in multiply\n",
      "  return np.sqrt(f(y=L[:,0])/f_theta(y=L[:,0],x=x))*(L[:,-1]>q_alpha_hat)\n"
     ]
    },
    {
     "output_type": "stream",
     "name": "stdout",
     "text": [
      "IS_RF: [-2.64637698  0.42774058]\n",
      "VaR_hat_RF: 8.362374492565761\n",
      "ES_hat_RF: 8.513711750669785\n",
      "40\n",
      "q_alpha_IS_hat_NN: 8.470911979675293\n"
     ]
    },
    {
     "output_type": "stream",
     "name": "stderr",
     "text": [
      "/scratch/slurm_tmpdir/job_20161366/ipykernel_2977501/3406871675.py:15: RuntimeWarning: divide by zero encountered in true_divide\n",
      "  return np.sqrt(f(y=L[:,0])/f_theta(y=L[:,0],x=x))*(L[:,-1]>q_alpha_hat)\n",
      "/scratch/slurm_tmpdir/job_20161366/ipykernel_2977501/3406871675.py:15: RuntimeWarning: overflow encountered in true_divide\n",
      "  return np.sqrt(f(y=L[:,0])/f_theta(y=L[:,0],x=x))*(L[:,-1]>q_alpha_hat)\n",
      "/scratch/slurm_tmpdir/job_20161366/ipykernel_2977501/3406871675.py:15: RuntimeWarning: invalid value encountered in multiply\n",
      "  return np.sqrt(f(y=L[:,0])/f_theta(y=L[:,0],x=x))*(L[:,-1]>q_alpha_hat)\n"
     ]
    },
    {
     "output_type": "stream",
     "name": "stdout",
     "text": [
      "IS_NN: [-2.83742151  0.41114492]\n",
      "VaR_hat_NN: 8.389720916748047\n",
      "ES_hat_NN: 8.5526875067241\n",
      "q_alpha_IS_hat_RF: 8.390523343235248\n",
      "IS_RF: [-2.44669377  0.48853337]\n",
      "VaR_hat_RF: 8.331371313814525\n",
      "ES_hat_RF: 8.505476763405394\n",
      "41\n",
      "q_alpha_IS_hat_NN: 8.291399955749512\n"
     ]
    },
    {
     "output_type": "stream",
     "name": "stderr",
     "text": [
      "/scratch/slurm_tmpdir/job_20161366/ipykernel_2977501/3406871675.py:15: RuntimeWarning: divide by zero encountered in true_divide\n",
      "  return np.sqrt(f(y=L[:,0])/f_theta(y=L[:,0],x=x))*(L[:,-1]>q_alpha_hat)\n",
      "/scratch/slurm_tmpdir/job_20161366/ipykernel_2977501/3406871675.py:15: RuntimeWarning: overflow encountered in true_divide\n",
      "  return np.sqrt(f(y=L[:,0])/f_theta(y=L[:,0],x=x))*(L[:,-1]>q_alpha_hat)\n",
      "/scratch/slurm_tmpdir/job_20161366/ipykernel_2977501/3406871675.py:15: RuntimeWarning: invalid value encountered in multiply\n",
      "  return np.sqrt(f(y=L[:,0])/f_theta(y=L[:,0],x=x))*(L[:,-1]>q_alpha_hat)\n"
     ]
    },
    {
     "output_type": "stream",
     "name": "stdout",
     "text": [
      "IS_NN: [-2.84670701  0.35461145]\n",
      "VaR_hat_NN: 8.270227432250977\n",
      "ES_hat_NN: 8.441189408667485\n",
      "q_alpha_IS_hat_RF: 8.334536999108748\n"
     ]
    },
    {
     "output_type": "stream",
     "name": "stderr",
     "text": [
      "/scratch/slurm_tmpdir/job_20161366/ipykernel_2977501/3406871675.py:15: RuntimeWarning: divide by zero encountered in true_divide\n",
      "  return np.sqrt(f(y=L[:,0])/f_theta(y=L[:,0],x=x))*(L[:,-1]>q_alpha_hat)\n",
      "/scratch/slurm_tmpdir/job_20161366/ipykernel_2977501/3406871675.py:15: RuntimeWarning: overflow encountered in true_divide\n",
      "  return np.sqrt(f(y=L[:,0])/f_theta(y=L[:,0],x=x))*(L[:,-1]>q_alpha_hat)\n",
      "/scratch/slurm_tmpdir/job_20161366/ipykernel_2977501/3406871675.py:15: RuntimeWarning: invalid value encountered in multiply\n",
      "  return np.sqrt(f(y=L[:,0])/f_theta(y=L[:,0],x=x))*(L[:,-1]>q_alpha_hat)\n"
     ]
    },
    {
     "output_type": "stream",
     "name": "stdout",
     "text": [
      "IS_RF: [-2.64675344  0.40885733]\n",
      "VaR_hat_RF: 8.32956494168931\n",
      "ES_hat_RF: 8.495875956546037\n",
      "42\n",
      "q_alpha_IS_hat_NN: 7.692087650299072\n",
      "IS_NN: [-2.83554897  0.45993563]\n",
      "VaR_hat_NN: 8.394420623779297\n",
      "ES_hat_NN: 8.565676355105285\n",
      "q_alpha_IS_hat_RF: 8.791724513129049\n",
      "IS_RF: [-2.62043291  0.49618068]\n",
      "VaR_hat_RF: 8.318176985801864\n",
      "ES_hat_RF: 8.517003101185695\n",
      "43\n",
      "q_alpha_IS_hat_NN: 7.001940727233887\n"
     ]
    },
    {
     "output_type": "stream",
     "name": "stderr",
     "text": [
      "/scratch/slurm_tmpdir/job_20161366/ipykernel_2977501/3406871675.py:15: RuntimeWarning: divide by zero encountered in true_divide\n",
      "  return np.sqrt(f(y=L[:,0])/f_theta(y=L[:,0],x=x))*(L[:,-1]>q_alpha_hat)\n",
      "/scratch/slurm_tmpdir/job_20161366/ipykernel_2977501/3406871675.py:15: RuntimeWarning: overflow encountered in true_divide\n",
      "  return np.sqrt(f(y=L[:,0])/f_theta(y=L[:,0],x=x))*(L[:,-1]>q_alpha_hat)\n",
      "/scratch/slurm_tmpdir/job_20161366/ipykernel_2977501/3406871675.py:15: RuntimeWarning: invalid value encountered in multiply\n",
      "  return np.sqrt(f(y=L[:,0])/f_theta(y=L[:,0],x=x))*(L[:,-1]>q_alpha_hat)\n"
     ]
    },
    {
     "output_type": "stream",
     "name": "stdout",
     "text": [
      "IS_NN: [-2.50677749  0.19596844]\n",
      "VaR_hat_NN: 8.317150115966797\n",
      "ES_hat_NN: 8.433393289090048\n",
      "q_alpha_IS_hat_RF: 8.082305480850454\n",
      "IS_RF: [-2.62990148  0.49612087]\n",
      "VaR_hat_RF: 8.353939243331892\n",
      "ES_hat_RF: 8.527107742824626\n",
      "44\n",
      "q_alpha_IS_hat_NN: 8.107751846313477\n",
      "IS_NN: [-2.8511027   0.45992934]\n",
      "VaR_hat_NN: 8.314801216125488\n",
      "ES_hat_NN: 8.490103520183304\n",
      "q_alpha_IS_hat_RF: 8.396166146505019\n",
      "IS_RF: [-2.65200454  0.49552529]\n",
      "VaR_hat_RF: 8.340655228562339\n",
      "ES_hat_RF: 8.492914990659774\n",
      "45\n",
      "q_alpha_IS_hat_NN: 8.325769424438477\n"
     ]
    },
    {
     "output_type": "stream",
     "name": "stderr",
     "text": [
      "/scratch/slurm_tmpdir/job_20161366/ipykernel_2977501/3406871675.py:15: RuntimeWarning: divide by zero encountered in true_divide\n",
      "  return np.sqrt(f(y=L[:,0])/f_theta(y=L[:,0],x=x))*(L[:,-1]>q_alpha_hat)\n",
      "/scratch/slurm_tmpdir/job_20161366/ipykernel_2977501/3406871675.py:15: RuntimeWarning: overflow encountered in true_divide\n",
      "  return np.sqrt(f(y=L[:,0])/f_theta(y=L[:,0],x=x))*(L[:,-1]>q_alpha_hat)\n",
      "/scratch/slurm_tmpdir/job_20161366/ipykernel_2977501/3406871675.py:15: RuntimeWarning: invalid value encountered in multiply\n",
      "  return np.sqrt(f(y=L[:,0])/f_theta(y=L[:,0],x=x))*(L[:,-1]>q_alpha_hat)\n"
     ]
    },
    {
     "output_type": "stream",
     "name": "stdout",
     "text": [
      "IS_NN: [-2.84545466  0.3582889 ]\n",
      "VaR_hat_NN: 8.300626754760742\n",
      "ES_hat_NN: 8.470217899773514\n",
      "q_alpha_IS_hat_RF: 8.484271086922721\n"
     ]
    },
    {
     "output_type": "stream",
     "name": "stderr",
     "text": [
      "/scratch/slurm_tmpdir/job_20161366/ipykernel_2977501/3406871675.py:15: RuntimeWarning: divide by zero encountered in true_divide\n",
      "  return np.sqrt(f(y=L[:,0])/f_theta(y=L[:,0],x=x))*(L[:,-1]>q_alpha_hat)\n",
      "/scratch/slurm_tmpdir/job_20161366/ipykernel_2977501/3406871675.py:15: RuntimeWarning: overflow encountered in true_divide\n",
      "  return np.sqrt(f(y=L[:,0])/f_theta(y=L[:,0],x=x))*(L[:,-1]>q_alpha_hat)\n",
      "/scratch/slurm_tmpdir/job_20161366/ipykernel_2977501/3406871675.py:15: RuntimeWarning: invalid value encountered in multiply\n",
      "  return np.sqrt(f(y=L[:,0])/f_theta(y=L[:,0],x=x))*(L[:,-1]>q_alpha_hat)\n"
     ]
    },
    {
     "output_type": "stream",
     "name": "stdout",
     "text": [
      "IS_RF: [-2.592783    0.44200383]\n",
      "VaR_hat_RF: 8.381301844714315\n",
      "ES_hat_RF: 8.527198263310057\n",
      "46\n",
      "q_alpha_IS_hat_NN: 5.020830154418945\n",
      "IS_NN: [2.83287122 0.45503671]\n",
      "VaR_hat_NN: 2.907857656478882\n",
      "ES_hat_NN: 2.861516237258911\n",
      "q_alpha_IS_hat_RF: 8.228017848144004\n"
     ]
    },
    {
     "output_type": "stream",
     "name": "stderr",
     "text": [
      "/scratch/slurm_tmpdir/job_20161366/ipykernel_2977501/3406871675.py:15: RuntimeWarning: divide by zero encountered in true_divide\n",
      "  return np.sqrt(f(y=L[:,0])/f_theta(y=L[:,0],x=x))*(L[:,-1]>q_alpha_hat)\n",
      "/scratch/slurm_tmpdir/job_20161366/ipykernel_2977501/3406871675.py:15: RuntimeWarning: overflow encountered in true_divide\n",
      "  return np.sqrt(f(y=L[:,0])/f_theta(y=L[:,0],x=x))*(L[:,-1]>q_alpha_hat)\n",
      "/scratch/slurm_tmpdir/job_20161366/ipykernel_2977501/3406871675.py:15: RuntimeWarning: invalid value encountered in multiply\n",
      "  return np.sqrt(f(y=L[:,0])/f_theta(y=L[:,0],x=x))*(L[:,-1]>q_alpha_hat)\n"
     ]
    },
    {
     "output_type": "stream",
     "name": "stdout",
     "text": [
      "IS_RF: [-2.64608502  0.44044895]\n",
      "VaR_hat_RF: 8.334269590996872\n",
      "ES_hat_RF: 8.512728315530762\n",
      "47\n",
      "q_alpha_IS_hat_NN: 8.14388656616211\n"
     ]
    },
    {
     "output_type": "stream",
     "name": "stderr",
     "text": [
      "/scratch/slurm_tmpdir/job_20161366/ipykernel_2977501/3406871675.py:15: RuntimeWarning: divide by zero encountered in true_divide\n",
      "  return np.sqrt(f(y=L[:,0])/f_theta(y=L[:,0],x=x))*(L[:,-1]>q_alpha_hat)\n",
      "/scratch/slurm_tmpdir/job_20161366/ipykernel_2977501/3406871675.py:15: RuntimeWarning: overflow encountered in true_divide\n",
      "  return np.sqrt(f(y=L[:,0])/f_theta(y=L[:,0],x=x))*(L[:,-1]>q_alpha_hat)\n",
      "/scratch/slurm_tmpdir/job_20161366/ipykernel_2977501/3406871675.py:15: RuntimeWarning: invalid value encountered in multiply\n",
      "  return np.sqrt(f(y=L[:,0])/f_theta(y=L[:,0],x=x))*(L[:,-1]>q_alpha_hat)\n"
     ]
    },
    {
     "output_type": "stream",
     "name": "stdout",
     "text": [
      "IS_NN: [-2.84798701  0.37599613]\n",
      "VaR_hat_NN: 8.289448738098145\n",
      "ES_hat_NN: 8.47457412845461\n",
      "q_alpha_IS_hat_RF: 8.549845339728765\n"
     ]
    },
    {
     "output_type": "stream",
     "name": "stderr",
     "text": [
      "/scratch/slurm_tmpdir/job_20161366/ipykernel_2977501/3406871675.py:15: RuntimeWarning: divide by zero encountered in true_divide\n",
      "  return np.sqrt(f(y=L[:,0])/f_theta(y=L[:,0],x=x))*(L[:,-1]>q_alpha_hat)\n",
      "/scratch/slurm_tmpdir/job_20161366/ipykernel_2977501/3406871675.py:15: RuntimeWarning: overflow encountered in true_divide\n",
      "  return np.sqrt(f(y=L[:,0])/f_theta(y=L[:,0],x=x))*(L[:,-1]>q_alpha_hat)\n",
      "/scratch/slurm_tmpdir/job_20161366/ipykernel_2977501/3406871675.py:15: RuntimeWarning: invalid value encountered in multiply\n",
      "  return np.sqrt(f(y=L[:,0])/f_theta(y=L[:,0],x=x))*(L[:,-1]>q_alpha_hat)\n"
     ]
    },
    {
     "output_type": "stream",
     "name": "stdout",
     "text": [
      "IS_RF: [-2.64632163  0.42221124]\n",
      "VaR_hat_RF: 8.340711832595096\n",
      "ES_hat_RF: 8.515481099970657\n",
      "48\n",
      "q_alpha_IS_hat_NN: 8.223532676696777\n"
     ]
    },
    {
     "output_type": "stream",
     "name": "stderr",
     "text": [
      "/scratch/slurm_tmpdir/job_20161366/ipykernel_2977501/3406871675.py:15: RuntimeWarning: divide by zero encountered in true_divide\n",
      "  return np.sqrt(f(y=L[:,0])/f_theta(y=L[:,0],x=x))*(L[:,-1]>q_alpha_hat)\n",
      "/scratch/slurm_tmpdir/job_20161366/ipykernel_2977501/3406871675.py:15: RuntimeWarning: overflow encountered in true_divide\n",
      "  return np.sqrt(f(y=L[:,0])/f_theta(y=L[:,0],x=x))*(L[:,-1]>q_alpha_hat)\n",
      "/scratch/slurm_tmpdir/job_20161366/ipykernel_2977501/3406871675.py:15: RuntimeWarning: invalid value encountered in multiply\n",
      "  return np.sqrt(f(y=L[:,0])/f_theta(y=L[:,0],x=x))*(L[:,-1]>q_alpha_hat)\n"
     ]
    },
    {
     "output_type": "stream",
     "name": "stdout",
     "text": [
      "IS_NN: [-2.84334402  0.37185788]\n",
      "VaR_hat_NN: 8.354683876037598\n",
      "ES_hat_NN: 8.522711517240937\n",
      "q_alpha_IS_hat_RF: 8.496969233630681\n",
      "IS_RF: [-2.36397378  0.49673902]\n",
      "VaR_hat_RF: 8.36546758665222\n",
      "ES_hat_RF: 8.522182085099411\n",
      "49\n",
      "q_alpha_IS_hat_NN: 8.620099067687988\n"
     ]
    },
    {
     "output_type": "stream",
     "name": "stderr",
     "text": [
      "/scratch/slurm_tmpdir/job_20161366/ipykernel_2977501/3406871675.py:15: RuntimeWarning: divide by zero encountered in true_divide\n",
      "  return np.sqrt(f(y=L[:,0])/f_theta(y=L[:,0],x=x))*(L[:,-1]>q_alpha_hat)\n",
      "/scratch/slurm_tmpdir/job_20161366/ipykernel_2977501/3406871675.py:15: RuntimeWarning: overflow encountered in true_divide\n",
      "  return np.sqrt(f(y=L[:,0])/f_theta(y=L[:,0],x=x))*(L[:,-1]>q_alpha_hat)\n",
      "/scratch/slurm_tmpdir/job_20161366/ipykernel_2977501/3406871675.py:15: RuntimeWarning: invalid value encountered in multiply\n",
      "  return np.sqrt(f(y=L[:,0])/f_theta(y=L[:,0],x=x))*(L[:,-1]>q_alpha_hat)\n"
     ]
    },
    {
     "output_type": "stream",
     "name": "stdout",
     "text": [
      "IS_NN: [-2.83527078  0.37750622]\n",
      "VaR_hat_NN: 8.31003475189209\n",
      "ES_hat_NN: 8.489291086721806\n",
      "q_alpha_IS_hat_RF: 8.463624377432946\n",
      "IS_RF: [-2.48049284  0.49951641]\n",
      "VaR_hat_RF: 8.352158273735432\n",
      "ES_hat_RF: 8.510467178181125\n",
      "50\n",
      "q_alpha_IS_hat_NN: 8.025078773498535\n"
     ]
    },
    {
     "output_type": "stream",
     "name": "stderr",
     "text": [
      "/scratch/slurm_tmpdir/job_20161366/ipykernel_2977501/3406871675.py:15: RuntimeWarning: divide by zero encountered in true_divide\n",
      "  return np.sqrt(f(y=L[:,0])/f_theta(y=L[:,0],x=x))*(L[:,-1]>q_alpha_hat)\n",
      "/scratch/slurm_tmpdir/job_20161366/ipykernel_2977501/3406871675.py:15: RuntimeWarning: overflow encountered in true_divide\n",
      "  return np.sqrt(f(y=L[:,0])/f_theta(y=L[:,0],x=x))*(L[:,-1]>q_alpha_hat)\n",
      "/scratch/slurm_tmpdir/job_20161366/ipykernel_2977501/3406871675.py:15: RuntimeWarning: invalid value encountered in multiply\n",
      "  return np.sqrt(f(y=L[:,0])/f_theta(y=L[:,0],x=x))*(L[:,-1]>q_alpha_hat)\n"
     ]
    },
    {
     "output_type": "stream",
     "name": "stdout",
     "text": [
      "IS_NN: [-2.83269995  0.39268898]\n",
      "VaR_hat_NN: 8.453635215759277\n",
      "ES_hat_NN: 8.607154976734932\n",
      "q_alpha_IS_hat_RF: 8.899639348533263\n"
     ]
    },
    {
     "output_type": "stream",
     "name": "stderr",
     "text": [
      "/scratch/slurm_tmpdir/job_20161366/ipykernel_2977501/3406871675.py:15: RuntimeWarning: divide by zero encountered in true_divide\n",
      "  return np.sqrt(f(y=L[:,0])/f_theta(y=L[:,0],x=x))*(L[:,-1]>q_alpha_hat)\n",
      "/scratch/slurm_tmpdir/job_20161366/ipykernel_2977501/3406871675.py:15: RuntimeWarning: overflow encountered in true_divide\n",
      "  return np.sqrt(f(y=L[:,0])/f_theta(y=L[:,0],x=x))*(L[:,-1]>q_alpha_hat)\n",
      "/scratch/slurm_tmpdir/job_20161366/ipykernel_2977501/3406871675.py:15: RuntimeWarning: invalid value encountered in multiply\n",
      "  return np.sqrt(f(y=L[:,0])/f_theta(y=L[:,0],x=x))*(L[:,-1]>q_alpha_hat)\n"
     ]
    },
    {
     "output_type": "stream",
     "name": "stdout",
     "text": [
      "IS_RF: [-2.58107328  0.45365206]\n",
      "VaR_hat_RF: 8.345970666743561\n",
      "ES_hat_RF: 8.518859546999732\n",
      "51\n",
      "q_alpha_IS_hat_NN: 6.688331604003906\n"
     ]
    },
    {
     "output_type": "stream",
     "name": "stderr",
     "text": [
      "/scratch/slurm_tmpdir/job_20161366/ipykernel_2977501/3406871675.py:15: RuntimeWarning: divide by zero encountered in true_divide\n",
      "  return np.sqrt(f(y=L[:,0])/f_theta(y=L[:,0],x=x))*(L[:,-1]>q_alpha_hat)\n",
      "/scratch/slurm_tmpdir/job_20161366/ipykernel_2977501/3406871675.py:15: RuntimeWarning: overflow encountered in true_divide\n",
      "  return np.sqrt(f(y=L[:,0])/f_theta(y=L[:,0],x=x))*(L[:,-1]>q_alpha_hat)\n",
      "/scratch/slurm_tmpdir/job_20161366/ipykernel_2977501/3406871675.py:15: RuntimeWarning: invalid value encountered in multiply\n",
      "  return np.sqrt(f(y=L[:,0])/f_theta(y=L[:,0],x=x))*(L[:,-1]>q_alpha_hat)\n"
     ]
    },
    {
     "output_type": "stream",
     "name": "stdout",
     "text": [
      "IS_NN: [-2.84794108  0.38824273]\n",
      "VaR_hat_NN: 8.282530784606934\n",
      "ES_hat_NN: 8.464440972760736\n",
      "q_alpha_IS_hat_RF: 8.552184924864623\n"
     ]
    },
    {
     "output_type": "stream",
     "name": "stderr",
     "text": [
      "/scratch/slurm_tmpdir/job_20161366/ipykernel_2977501/3406871675.py:15: RuntimeWarning: divide by zero encountered in true_divide\n",
      "  return np.sqrt(f(y=L[:,0])/f_theta(y=L[:,0],x=x))*(L[:,-1]>q_alpha_hat)\n",
      "/scratch/slurm_tmpdir/job_20161366/ipykernel_2977501/3406871675.py:15: RuntimeWarning: overflow encountered in true_divide\n",
      "  return np.sqrt(f(y=L[:,0])/f_theta(y=L[:,0],x=x))*(L[:,-1]>q_alpha_hat)\n",
      "/scratch/slurm_tmpdir/job_20161366/ipykernel_2977501/3406871675.py:15: RuntimeWarning: invalid value encountered in multiply\n",
      "  return np.sqrt(f(y=L[:,0])/f_theta(y=L[:,0],x=x))*(L[:,-1]>q_alpha_hat)\n"
     ]
    },
    {
     "output_type": "stream",
     "name": "stdout",
     "text": [
      "IS_RF: [-2.69598492  0.42178242]\n",
      "VaR_hat_RF: 8.344256792780865\n",
      "ES_hat_RF: 8.533766319782663\n",
      "52\n",
      "q_alpha_IS_hat_NN: 8.23184585571289\n"
     ]
    },
    {
     "output_type": "stream",
     "name": "stderr",
     "text": [
      "/scratch/slurm_tmpdir/job_20161366/ipykernel_2977501/3406871675.py:15: RuntimeWarning: divide by zero encountered in true_divide\n",
      "  return np.sqrt(f(y=L[:,0])/f_theta(y=L[:,0],x=x))*(L[:,-1]>q_alpha_hat)\n",
      "/scratch/slurm_tmpdir/job_20161366/ipykernel_2977501/3406871675.py:15: RuntimeWarning: overflow encountered in true_divide\n",
      "  return np.sqrt(f(y=L[:,0])/f_theta(y=L[:,0],x=x))*(L[:,-1]>q_alpha_hat)\n",
      "/scratch/slurm_tmpdir/job_20161366/ipykernel_2977501/3406871675.py:15: RuntimeWarning: invalid value encountered in multiply\n",
      "  return np.sqrt(f(y=L[:,0])/f_theta(y=L[:,0],x=x))*(L[:,-1]>q_alpha_hat)\n"
     ]
    },
    {
     "output_type": "stream",
     "name": "stdout",
     "text": [
      "IS_NN: [-2.82791791  0.35614052]\n",
      "VaR_hat_NN: 8.341251373291016\n",
      "ES_hat_NN: 8.505143528866967\n",
      "q_alpha_IS_hat_RF: 8.237519808000334\n",
      "IS_RF: [-2.34985473  0.51773579]\n",
      "VaR_hat_RF: 8.33599017419828\n",
      "ES_hat_RF: 8.513037229469402\n",
      "53\n",
      "q_alpha_IS_hat_NN: 7.4111647605896\n"
     ]
    },
    {
     "output_type": "stream",
     "name": "stderr",
     "text": [
      "/scratch/slurm_tmpdir/job_20161366/ipykernel_2977501/3406871675.py:15: RuntimeWarning: divide by zero encountered in true_divide\n",
      "  return np.sqrt(f(y=L[:,0])/f_theta(y=L[:,0],x=x))*(L[:,-1]>q_alpha_hat)\n",
      "/scratch/slurm_tmpdir/job_20161366/ipykernel_2977501/3406871675.py:15: RuntimeWarning: overflow encountered in true_divide\n",
      "  return np.sqrt(f(y=L[:,0])/f_theta(y=L[:,0],x=x))*(L[:,-1]>q_alpha_hat)\n",
      "/scratch/slurm_tmpdir/job_20161366/ipykernel_2977501/3406871675.py:15: RuntimeWarning: invalid value encountered in multiply\n",
      "  return np.sqrt(f(y=L[:,0])/f_theta(y=L[:,0],x=x))*(L[:,-1]>q_alpha_hat)\n"
     ]
    },
    {
     "output_type": "stream",
     "name": "stdout",
     "text": [
      "IS_NN: [-2.83449765  0.36214658]\n",
      "VaR_hat_NN: 8.311370849609375\n",
      "ES_hat_NN: 8.490907386660766\n",
      "q_alpha_IS_hat_RF: 8.57125685109894\n"
     ]
    },
    {
     "output_type": "stream",
     "name": "stderr",
     "text": [
      "/scratch/slurm_tmpdir/job_20161366/ipykernel_2977501/3406871675.py:15: RuntimeWarning: divide by zero encountered in true_divide\n",
      "  return np.sqrt(f(y=L[:,0])/f_theta(y=L[:,0],x=x))*(L[:,-1]>q_alpha_hat)\n",
      "/scratch/slurm_tmpdir/job_20161366/ipykernel_2977501/3406871675.py:15: RuntimeWarning: overflow encountered in true_divide\n",
      "  return np.sqrt(f(y=L[:,0])/f_theta(y=L[:,0],x=x))*(L[:,-1]>q_alpha_hat)\n",
      "/scratch/slurm_tmpdir/job_20161366/ipykernel_2977501/3406871675.py:15: RuntimeWarning: invalid value encountered in multiply\n",
      "  return np.sqrt(f(y=L[:,0])/f_theta(y=L[:,0],x=x))*(L[:,-1]>q_alpha_hat)\n"
     ]
    },
    {
     "output_type": "stream",
     "name": "stdout",
     "text": [
      "IS_RF: [-2.71117043  0.39257123]\n",
      "VaR_hat_RF: 8.343065325530022\n",
      "ES_hat_RF: 8.514254404961576\n",
      "54\n",
      "q_alpha_IS_hat_NN: 8.302102088928223\n"
     ]
    },
    {
     "output_type": "stream",
     "name": "stderr",
     "text": [
      "/scratch/slurm_tmpdir/job_20161366/ipykernel_2977501/3406871675.py:15: RuntimeWarning: divide by zero encountered in true_divide\n",
      "  return np.sqrt(f(y=L[:,0])/f_theta(y=L[:,0],x=x))*(L[:,-1]>q_alpha_hat)\n",
      "/scratch/slurm_tmpdir/job_20161366/ipykernel_2977501/3406871675.py:15: RuntimeWarning: overflow encountered in true_divide\n",
      "  return np.sqrt(f(y=L[:,0])/f_theta(y=L[:,0],x=x))*(L[:,-1]>q_alpha_hat)\n",
      "/scratch/slurm_tmpdir/job_20161366/ipykernel_2977501/3406871675.py:15: RuntimeWarning: invalid value encountered in multiply\n",
      "  return np.sqrt(f(y=L[:,0])/f_theta(y=L[:,0],x=x))*(L[:,-1]>q_alpha_hat)\n"
     ]
    },
    {
     "output_type": "stream",
     "name": "stdout",
     "text": [
      "IS_NN: [-2.84639682  0.41905089]\n",
      "VaR_hat_NN: 8.304043769836426\n",
      "ES_hat_NN: 8.502726125129383\n",
      "q_alpha_IS_hat_RF: 8.374900408923235\n",
      "IS_RF: [-2.4771297   0.49693102]\n",
      "VaR_hat_RF: 8.371715314715015\n",
      "ES_hat_RF: 8.517809305775593\n",
      "55\n",
      "q_alpha_IS_hat_NN: 7.288469314575195\n",
      "IS_NN: [-2.80109     0.29833617]\n",
      "VaR_hat_NN: 8.366693496704102\n",
      "ES_hat_NN: 8.562596566546238\n",
      "q_alpha_IS_hat_RF: 8.26134569947761\n"
     ]
    },
    {
     "output_type": "stream",
     "name": "stderr",
     "text": [
      "/scratch/slurm_tmpdir/job_20161366/ipykernel_2977501/3406871675.py:15: RuntimeWarning: overflow encountered in true_divide\n",
      "  return np.sqrt(f(y=L[:,0])/f_theta(y=L[:,0],x=x))*(L[:,-1]>q_alpha_hat)\n",
      "/scratch/slurm_tmpdir/job_20161366/ipykernel_2977501/3406871675.py:15: RuntimeWarning: invalid value encountered in multiply\n",
      "  return np.sqrt(f(y=L[:,0])/f_theta(y=L[:,0],x=x))*(L[:,-1]>q_alpha_hat)\n"
     ]
    },
    {
     "output_type": "stream",
     "name": "stdout",
     "text": [
      "IS_RF: [-2.811446   0.3544795]\n",
      "VaR_hat_RF: 8.365529301581699\n",
      "ES_hat_RF: 8.524319042842816\n",
      "56\n",
      "q_alpha_IS_hat_NN: 8.411211013793945\n"
     ]
    },
    {
     "output_type": "stream",
     "name": "stderr",
     "text": [
      "/scratch/slurm_tmpdir/job_20161366/ipykernel_2977501/3406871675.py:15: RuntimeWarning: divide by zero encountered in true_divide\n",
      "  return np.sqrt(f(y=L[:,0])/f_theta(y=L[:,0],x=x))*(L[:,-1]>q_alpha_hat)\n",
      "/scratch/slurm_tmpdir/job_20161366/ipykernel_2977501/3406871675.py:15: RuntimeWarning: overflow encountered in true_divide\n",
      "  return np.sqrt(f(y=L[:,0])/f_theta(y=L[:,0],x=x))*(L[:,-1]>q_alpha_hat)\n",
      "/scratch/slurm_tmpdir/job_20161366/ipykernel_2977501/3406871675.py:15: RuntimeWarning: invalid value encountered in multiply\n",
      "  return np.sqrt(f(y=L[:,0])/f_theta(y=L[:,0],x=x))*(L[:,-1]>q_alpha_hat)\n"
     ]
    },
    {
     "output_type": "stream",
     "name": "stdout",
     "text": [
      "IS_NN: [-2.83212586  0.39572295]\n",
      "VaR_hat_NN: 8.269519805908203\n",
      "ES_hat_NN: 8.43468754762535\n",
      "q_alpha_IS_hat_RF: 8.425534453946486\n"
     ]
    },
    {
     "output_type": "stream",
     "name": "stderr",
     "text": [
      "/scratch/slurm_tmpdir/job_20161366/ipykernel_2977501/3406871675.py:15: RuntimeWarning: divide by zero encountered in true_divide\n",
      "  return np.sqrt(f(y=L[:,0])/f_theta(y=L[:,0],x=x))*(L[:,-1]>q_alpha_hat)\n",
      "/scratch/slurm_tmpdir/job_20161366/ipykernel_2977501/3406871675.py:15: RuntimeWarning: overflow encountered in true_divide\n",
      "  return np.sqrt(f(y=L[:,0])/f_theta(y=L[:,0],x=x))*(L[:,-1]>q_alpha_hat)\n",
      "/scratch/slurm_tmpdir/job_20161366/ipykernel_2977501/3406871675.py:15: RuntimeWarning: invalid value encountered in multiply\n",
      "  return np.sqrt(f(y=L[:,0])/f_theta(y=L[:,0],x=x))*(L[:,-1]>q_alpha_hat)\n"
     ]
    },
    {
     "output_type": "stream",
     "name": "stdout",
     "text": [
      "IS_RF: [-2.75385015  0.41583885]\n",
      "VaR_hat_RF: 8.345923059781159\n",
      "ES_hat_RF: 8.501749657679547\n",
      "57\n",
      "q_alpha_IS_hat_NN: 6.482161521911621\n"
     ]
    },
    {
     "output_type": "stream",
     "name": "stderr",
     "text": [
      "/scratch/slurm_tmpdir/job_20161366/ipykernel_2977501/3406871675.py:15: RuntimeWarning: divide by zero encountered in true_divide\n",
      "  return np.sqrt(f(y=L[:,0])/f_theta(y=L[:,0],x=x))*(L[:,-1]>q_alpha_hat)\n",
      "/scratch/slurm_tmpdir/job_20161366/ipykernel_2977501/3406871675.py:15: RuntimeWarning: overflow encountered in true_divide\n",
      "  return np.sqrt(f(y=L[:,0])/f_theta(y=L[:,0],x=x))*(L[:,-1]>q_alpha_hat)\n",
      "/scratch/slurm_tmpdir/job_20161366/ipykernel_2977501/3406871675.py:15: RuntimeWarning: invalid value encountered in multiply\n",
      "  return np.sqrt(f(y=L[:,0])/f_theta(y=L[:,0],x=x))*(L[:,-1]>q_alpha_hat)\n"
     ]
    },
    {
     "output_type": "stream",
     "name": "stdout",
     "text": [
      "IS_NN: [-2.71090603  0.18636336]\n",
      "VaR_hat_NN: 8.330083847045898\n",
      "ES_hat_NN: 8.500382718006069\n",
      "q_alpha_IS_hat_RF: 8.923974440332056\n"
     ]
    },
    {
     "output_type": "stream",
     "name": "stderr",
     "text": [
      "/scratch/slurm_tmpdir/job_20161366/ipykernel_2977501/3406871675.py:15: RuntimeWarning: divide by zero encountered in true_divide\n",
      "  return np.sqrt(f(y=L[:,0])/f_theta(y=L[:,0],x=x))*(L[:,-1]>q_alpha_hat)\n",
      "/scratch/slurm_tmpdir/job_20161366/ipykernel_2977501/3406871675.py:15: RuntimeWarning: overflow encountered in true_divide\n",
      "  return np.sqrt(f(y=L[:,0])/f_theta(y=L[:,0],x=x))*(L[:,-1]>q_alpha_hat)\n",
      "/scratch/slurm_tmpdir/job_20161366/ipykernel_2977501/3406871675.py:15: RuntimeWarning: invalid value encountered in multiply\n",
      "  return np.sqrt(f(y=L[:,0])/f_theta(y=L[:,0],x=x))*(L[:,-1]>q_alpha_hat)\n"
     ]
    },
    {
     "output_type": "stream",
     "name": "stdout",
     "text": [
      "IS_RF: [-2.69134054  0.38691762]\n",
      "VaR_hat_RF: 8.32093691231588\n",
      "ES_hat_RF: 8.500113423927013\n",
      "58\n"
     ]
    }
   ],
   "metadata": {}
  }
 ],
 "metadata": {
  "interpreter": {
   "hash": "5b88b057cf34efecd776605b6493619ffcb4d411e0887d16b1b551b502979a3a"
  },
  "kernelspec": {
   "display_name": "Python 3 (ipykernel)",
   "language": "python",
   "name": "python3"
  },
  "language_info": {
   "codemirror_mode": {
    "name": "ipython",
    "version": 3
   },
   "file_extension": ".py",
   "mimetype": "text/x-python",
   "name": "python",
   "nbconvert_exporter": "python",
   "pygments_lexer": "ipython3",
   "version": "3.8.0"
  }
 },
 "nbformat": 4,
 "nbformat_minor": 4
}