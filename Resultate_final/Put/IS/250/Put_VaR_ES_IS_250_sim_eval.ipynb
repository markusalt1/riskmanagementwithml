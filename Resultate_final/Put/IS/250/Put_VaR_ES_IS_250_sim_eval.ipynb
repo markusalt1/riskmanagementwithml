{
 "cells": [
  {
   "cell_type": "code",
   "execution_count": 1,
   "source": [
    "import joblib\r\n",
    "import os\r\n",
    "import numpy as np\r\n",
    "\r\n",
    "#folder with saved estimations produced by Put_VaR_ES_IS_250_sim.ipynb\r\n",
    "filepath = \".../Resultate_final/Put/IS/250/Put_VaR_ES_IS_250_sim_saved/\""
   ],
   "outputs": [],
   "metadata": {}
  },
  {
   "cell_type": "code",
   "execution_count": 2,
   "source": [
    "results_NN = []\r\n",
    "results_RF = []\r\n",
    "\r\n",
    "for filename in os.listdir(filepath):\r\n",
    "    if filename!='.ipynb_checkpoints':\r\n",
    "        results_NN.append(joblib.load(filepath+filename)[0])\r\n",
    "        results_RF.append(joblib.load(filepath+filename)[1])\r\n",
    "    \r\n",
    "results_NN_avg = np.mean(results_NN,axis=0)\r\n",
    "results_RF_avg = np.mean(results_RF,axis=0)\r\n",
    "results_NN_var = np.var(results_NN,axis=0)\r\n",
    "results_RF_var = np.var(results_RF,axis=0)"
   ],
   "outputs": [],
   "metadata": {}
  },
  {
   "cell_type": "markdown",
   "source": [
    "Averages and variances of resulting estimations and metrics. To see which value corresponds to what quantity, see how results are output at the end of Put_sim.ipynb."
   ],
   "metadata": {}
  },
  {
   "cell_type": "code",
   "execution_count": 3,
   "source": [
    "results_NN_avg"
   ],
   "outputs": [
    {
     "output_type": "execute_result",
     "data": {
      "text/plain": [
       "array([ 6.02884669e+01,  6.02846319e+01,  5.26229842e-03,  4.98811126e-02,\n",
       "        5.10669715e-03,  1.55601269e-04, -2.58120085e+00,  3.61649066e-01,\n",
       "        8.12560016e+00,  8.27777952e+00])"
      ]
     },
     "metadata": {},
     "execution_count": 3
    }
   ],
   "metadata": {}
  },
  {
   "cell_type": "code",
   "execution_count": 4,
   "source": [
    "results_RF_avg"
   ],
   "outputs": [
    {
     "output_type": "execute_result",
     "data": {
      "text/plain": [
       "array([ 6.08317245e+01,  6.08558974e+01,  5.92195730e-04,  1.92991063e-02,\n",
       "        5.90896469e-04,  0.00000000e+00, -2.64004656e+00,  4.34130532e-01,\n",
       "        8.34149941e+00,  8.51353880e+00])"
      ]
     },
     "metadata": {},
     "execution_count": 4
    }
   ],
   "metadata": {}
  },
  {
   "cell_type": "code",
   "execution_count": 5,
   "source": [
    "results_NN_var"
   ],
   "outputs": [
    {
     "output_type": "execute_result",
     "data": {
      "text/plain": [
       "array([7.34828620e+01, 7.34979147e+01, 9.31375810e-04, 7.04858306e-02,\n",
       "       9.29911989e-04, 3.05303739e-06, 9.91796525e-01, 5.20113058e-03,\n",
       "       9.56683493e-01, 1.03582529e+00])"
      ]
     },
     "metadata": {},
     "execution_count": 5
    }
   ],
   "metadata": {}
  },
  {
   "cell_type": "code",
   "execution_count": 6,
   "source": [
    "results_RF_var"
   ],
   "outputs": [
    {
     "output_type": "execute_result",
     "data": {
      "text/plain": [
       "array([7.46170358e-01, 7.66645372e-01, 1.46354125e-04, 1.08916597e-02,\n",
       "       1.46338700e-04, 0.00000000e+00, 1.05205712e-02, 1.05709031e-03,\n",
       "       3.91157892e-04, 9.12063796e-05])"
      ]
     },
     "metadata": {},
     "execution_count": 6
    }
   ],
   "metadata": {}
  },
  {
   "cell_type": "code",
   "execution_count": 7,
   "source": [
    "len(os.listdir(filepath))"
   ],
   "outputs": [
    {
     "output_type": "execute_result",
     "data": {
      "text/plain": [
       "101"
      ]
     },
     "metadata": {},
     "execution_count": 7
    }
   ],
   "metadata": {}
  }
 ],
 "metadata": {
  "kernelspec": {
   "display_name": "Python 3 (ipykernel)",
   "language": "python",
   "name": "python3"
  },
  "language_info": {
   "codemirror_mode": {
    "name": "ipython",
    "version": 3
   },
   "file_extension": ".py",
   "mimetype": "text/x-python",
   "name": "python",
   "nbconvert_exporter": "python",
   "pygments_lexer": "ipython3",
   "version": "3.8.0"
  }
 },
 "nbformat": 4,
 "nbformat_minor": 5
}