{
 "cells": [
  {
   "cell_type": "code",
   "execution_count": 1,
   "source": [
    "import joblib\r\n",
    "import os\r\n",
    "import numpy as np\r\n",
    "\r\n",
    "#folder with saved estimations produced by Put_GlueVaR_IS_500_sim.ipynb\r\n",
    "filepath = \".../Resultate_final/Put/IS/500/Put_GlueVaR_IS_500_sim_saved/\""
   ],
   "outputs": [],
   "metadata": {}
  },
  {
   "cell_type": "code",
   "execution_count": 2,
   "source": [
    "results_NN = []\r\n",
    "results_RF = []\r\n",
    "\r\n",
    "for filename in os.listdir(filepath):\r\n",
    "    if filename!='.ipynb_checkpoints':\r\n",
    "        results_NN.append(joblib.load(filepath+filename)[0])\r\n",
    "        results_RF.append(joblib.load(filepath+filename)[1])\r\n",
    "    \r\n",
    "results_NN_avg = np.mean(results_NN,axis=0)\r\n",
    "results_RF_avg = np.mean(results_RF,axis=0)\r\n",
    "results_NN_var = np.var(results_NN,axis=0)\r\n",
    "results_RF_var = np.var(results_RF,axis=0)"
   ],
   "outputs": [],
   "metadata": {}
  },
  {
   "cell_type": "markdown",
   "source": [
    "Averages and variances of resulting estimations and metrics. To see which value corresponds to what quantity, see how results are output at the end of Put_sim.ipynb."
   ],
   "metadata": {}
  },
  {
   "cell_type": "code",
   "execution_count": 3,
   "source": [
    "results_NN_avg"
   ],
   "outputs": [
    {
     "output_type": "execute_result",
     "data": {
      "text/plain": [
       "array([ 5.73181095e+01,  5.73153234e+01,  5.78356867e-04,  5.13919189e-03,\n",
       "        6.46792877e-04, -7.38245879e-05, -2.22658343e+00,  4.63827110e-01,\n",
       "        7.64840741e+00])"
      ]
     },
     "metadata": {},
     "execution_count": 3
    }
   ],
   "metadata": {}
  },
  {
   "cell_type": "code",
   "execution_count": 4,
   "source": [
    "results_RF_avg"
   ],
   "outputs": [
    {
     "output_type": "execute_result",
     "data": {
      "text/plain": [
       "array([ 5.57148677e+01,  5.57427867e+01,  1.09696045e-03,  1.75750046e-02,\n",
       "        8.90092314e-04,  2.22028173e-06, -2.05165342e+00,  5.21013880e-01,\n",
       "        7.69213471e+00])"
      ]
     },
     "metadata": {},
     "execution_count": 4
    }
   ],
   "metadata": {}
  },
  {
   "cell_type": "code",
   "execution_count": 5,
   "source": [
    "results_NN_var"
   ],
   "outputs": [
    {
     "output_type": "execute_result",
     "data": {
      "text/plain": [
       "array([1.62292571e+01, 1.61926330e+01, 8.62123038e-04, 5.58344812e-02,\n",
       "       8.61285845e-04, 5.39556909e-07, 2.04917168e-01, 9.84425560e-04,\n",
       "       1.76280416e-01])"
      ]
     },
     "metadata": {},
     "execution_count": 5
    }
   ],
   "metadata": {}
  },
  {
   "cell_type": "code",
   "execution_count": 6,
   "source": [
    "results_RF_var"
   ],
   "outputs": [
    {
     "output_type": "execute_result",
     "data": {
      "text/plain": [
       "array([2.41968428e-01, 2.49164202e-01, 1.47298177e-04, 8.54782183e-03,\n",
       "       1.47991990e-04, 4.28929689e-11, 2.82766072e-03, 3.79506043e-04,\n",
       "       1.34676418e-04])"
      ]
     },
     "metadata": {},
     "execution_count": 6
    }
   ],
   "metadata": {}
  },
  {
   "cell_type": "code",
   "execution_count": 7,
   "source": [
    "len(os.listdir(filepath))"
   ],
   "outputs": [
    {
     "output_type": "execute_result",
     "data": {
      "text/plain": [
       "100"
      ]
     },
     "metadata": {},
     "execution_count": 7
    }
   ],
   "metadata": {}
  }
 ],
 "metadata": {
  "kernelspec": {
   "display_name": "Python 3 (ipykernel)",
   "language": "python",
   "name": "python3"
  },
  "language_info": {
   "codemirror_mode": {
    "name": "ipython",
    "version": 3
   },
   "file_extension": ".py",
   "mimetype": "text/x-python",
   "name": "python",
   "nbconvert_exporter": "python",
   "pygments_lexer": "ipython3",
   "version": "3.8.0"
  }
 },
 "nbformat": 4,
 "nbformat_minor": 5
}