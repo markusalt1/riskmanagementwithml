{
 "cells": [
  {
   "cell_type": "code",
   "execution_count": 1,
   "source": [
    "#Results were produced in stints. This is the number of the last stint.\r\n",
    "run = 5"
   ],
   "outputs": [],
   "metadata": {}
  },
  {
   "cell_type": "code",
   "execution_count": 2,
   "source": [
    "import numpy as np\r\n",
    "import tensorflow as tf\r\n",
    "from sklearn.ensemble import RandomForestRegressor\r\n",
    "from sklearn.metrics import mean_squared_error\r\n",
    "import matplotlib.pyplot as plt\r\n",
    "from scipy import stats\r\n",
    "from scipy import optimize\r\n",
    "import joblib\r\n",
    "\r\n",
    "#folder for saving results\r\n",
    "filepath = \".../Resultate_final/Put/IS/500/Put_VaR_ES_IS_500_sim_saved/\""
   ],
   "outputs": [],
   "metadata": {}
  },
  {
   "cell_type": "code",
   "execution_count": 3,
   "source": [
    "#Market and option parameters as in section 4.1 of 'Assessing Asset-Liability Risk with Neural Networks' (Cheridito, Ery, Wüthrich 2020)\r\n",
    "s_0 = 100\r\n",
    "r = 0.01\r\n",
    "mu = 0.05\r\n",
    "sigma = 0.2\r\n",
    "tau = 1/52\r\n",
    "T = 1/3\r\n",
    "K = 100\r\n",
    "\r\n",
    "#Confidence levels and parameters for Value-at-Risk, Expected Shortfall\r\n",
    "alpha_VaR = 0.995\r\n",
    "alpha_ES = 0.99"
   ],
   "outputs": [],
   "metadata": {}
  },
  {
   "cell_type": "code",
   "execution_count": 4,
   "source": [
    "#Sizes for training set, validation set, test set, and set size for Monte Carlo estimation of the risk measures\r\n",
    "M_1 = 1500000\r\n",
    "M_2 = 500000\r\n",
    "M_3 = 500000\r\n",
    "M_MC = 500000\r\n",
    "#size of the set of data points used to calculate an IS density\r\n",
    "M_IS = 500000\r\n",
    "#quantile for which the IS density will be computed\r\n",
    "alpha_IS = 0.995"
   ],
   "outputs": [],
   "metadata": {}
  },
  {
   "cell_type": "code",
   "execution_count": 5,
   "source": [
    "#Function for calculating simulated values of S_tau and simulated payoffs P_T from simulations of standard normal random variables\r\n",
    "def data_gen(Z,V):\r\n",
    "    #simulate S_tau under P\r\n",
    "    S_tau = s_0 * np.exp( (mu-0.5*sigma**2)*tau + sigma*np.sqrt(tau)*Z)\r\n",
    "    #simulate S_T given S_tau under Q\r\n",
    "    S_T = S_tau * np.exp( (r-0.5*sigma**2)*(T-tau) + sigma*np.sqrt(T-tau)*V)\r\n",
    "    #calculate corresponding discounted payoffs\r\n",
    "    P_T = np.exp(-r*(T-tau)) * np.maximum(K-S_T,0)\r\n",
    "    return S_tau, P_T\r\n",
    "\r\n",
    "#The density function of Z\r\n",
    "def f(y):\r\n",
    "    return stats.norm.pdf(y, loc=0, scale=1)\r\n",
    "\r\n",
    "#The density function of Z_\\theta (note that \\theta is replaced by x; this is needed for the least-squares solver to work)\r\n",
    "def f_theta(x, y):\r\n",
    "    return stats.norm.pdf(y, loc=x[0], scale=x[1])\r\n",
    "\r\n",
    "#This function describes the approximation of the expression inside the sum of m_2(theta)\r\n",
    "def g_q_alpha_hat_reweighted(x,L,q_alpha_hat):\r\n",
    "    return np.sqrt(f(y=L[:,0])/f_theta(y=L[:,0],x=x))*(L[:,-1]>q_alpha_hat)\r\n",
    "\r\n",
    "#bounds for the IS density parameters (for the mean parameter no bound is necessary, the standard deviation however needs to be non-negative)\r\n",
    "bnds_lower = np.array([-np.inf,0])\r\n",
    "bnds_upper = np.array([np.inf,np.inf])"
   ],
   "outputs": [],
   "metadata": {}
  },
  {
   "cell_type": "code",
   "execution_count": 6,
   "source": [
    "for j in range(39):\r\n",
    "    #Generating realisations of standard normal random variables\r\n",
    "    Z_train = np.random.normal(loc=0, scale=1, size=M_1)\r\n",
    "    V_train = np.random.normal(loc=0, scale=1, size=M_1)\r\n",
    "    Z_val = np.random.normal(loc=0, scale=1, size=M_2)\r\n",
    "    V_val = np.random.normal(loc=0, scale=1, size=M_2)\r\n",
    "    Z_test = np.random.normal(loc=0, scale=1, size=M_3)\r\n",
    "    V_test = np.random.normal(loc=0, scale=1, size=M_3)\r\n",
    "    Z_MC = np.random.normal(loc=0, scale=1, size=M_MC)\r\n",
    "    V_MC = np.random.normal(loc=0, scale=1, size=M_MC)\r\n",
    "\r\n",
    "    Z_IS = np.random.normal(loc=0, scale=1, size=M_IS)\r\n",
    "    V_IS = np.random.normal(loc=0, scale=1, size=M_IS)\r\n",
    "    S_tau_IS, P_T_IS = data_gen(Z=Z_IS, V=V_IS)\r\n",
    "\r\n",
    "\r\n",
    "    #define and compile neural network model, setup as in section 4.1 of 'Assessing Asset-Liability Risk with Neural Networks' (Cheridito, Ery, Wüthrich 2020)\r\n",
    "    bi_IS = np.log( np.sum(P_T_IS)/len(P_T_IS))\r\n",
    "    model_IS = tf.keras.models.Sequential([\r\n",
    "        tf.keras.layers.BatchNormalization(input_shape=(1,)),\r\n",
    "        tf.keras.layers.Dense(5, activation='tanh'),\r\n",
    "        tf.keras.layers.Dense(1, activation='exponential', bias_initializer=tf.keras.initializers.Constant(value=bi_IS))])\r\n",
    "    model_IS.compile(loss='mse', optimizer='adam', metrics=['mse'])\r\n",
    "    #train the neural network\r\n",
    "    b=model_IS.fit(x=S_tau_IS, y=P_T_IS, epochs=40, batch_size=10000, verbose=0)\r\n",
    "\r\n",
    "    #computation of \\theta^*_{NN}\r\n",
    "    L_IS = np.column_stack((Z_IS, model_IS.predict(S_tau_IS)[:,0]))\r\n",
    "    L_IS = L_IS[L_IS[:,-1].argsort()[::-1]]\r\n",
    "    q_alpha_IS_hat = L_IS[int(M_IS*(1-alpha_IS)-1), -1]\r\n",
    "    print('q_alpha_IS_hat_NN:', q_alpha_IS_hat)\r\n",
    "    \r\n",
    "    IS_NN = optimize.least_squares(g_q_alpha_hat_reweighted, x0=np.array([0,1]), bounds=(bnds_lower,bnds_upper), args=(L_IS, q_alpha_IS_hat)).x\r\n",
    "    print('IS_NN:', IS_NN)\r\n",
    "    #a runtime warning may occur here but in all trial runs this was not of concern as the optimization algorithm still executed successfully and the result was meaningful\r\n",
    "\r\n",
    "    #calculating DT(Z,\\theta^*_{NN})\r\n",
    "    Z_train_NN = Z_train*IS_NN[1] + IS_NN[0]\r\n",
    "    Z_val_NN = Z_val*IS_NN[1] + IS_NN[0]\r\n",
    "    Z_test_NN = Z_test*IS_NN[1] + IS_NN[0]\r\n",
    "    Z_MC_NN = Z_MC*IS_NN[1] + IS_NN[0]\r\n",
    "    #calculating the risk factors under the IS distribution and corresponding option prices\r\n",
    "    S_tau_train_NN, P_T_train_NN = data_gen(Z=Z_train_NN, V=V_train)\r\n",
    "    S_tau_val_NN, P_T_val_NN = data_gen(Z=Z_val_NN, V=V_val)\r\n",
    "    S_tau_test_NN, P_T_test_NN = data_gen(Z=Z_test_NN, V=V_test)\r\n",
    "    S_tau_MC_NN, P_T_MC_NN = data_gen(Z=Z_MC_NN, V=V_MC)\r\n",
    "\r\n",
    "    #define and compile neural network model, setup as in paper\r\n",
    "    bi = np.log( np.sum(P_T_train_NN)/len(P_T_train_NN))\r\n",
    "    model = tf.keras.models.Sequential([\r\n",
    "        tf.keras.layers.BatchNormalization(input_shape=(1,)),\r\n",
    "        tf.keras.layers.Dense(5, activation='tanh'),\r\n",
    "        tf.keras.layers.Dense(1, activation='exponential', bias_initializer=tf.keras.initializers.Constant(value=bi))])\r\n",
    "    model.compile(loss='mse', optimizer='adam', metrics=['mse'])\r\n",
    "    #train the model\r\n",
    "    hist = model.fit(x=S_tau_train_NN, y=P_T_train_NN, epochs=40, batch_size=10000, validation_data=(S_tau_val_NN,P_T_val_NN), verbose=0)\r\n",
    "\r\n",
    "    #Calculating the parts of the test set that fall into B_1 and B_2\r\n",
    "    s_40 = s_0 * np.exp( (mu-0.5*sigma**2)*tau + sigma*np.sqrt(tau)*stats.norm.ppf(0.4, loc=0, scale=1))\r\n",
    "    s_70 = s_0 * np.exp( (mu-0.5*sigma**2)*tau + sigma*np.sqrt(tau)*stats.norm.ppf(0.7, loc=0, scale=1))\r\n",
    "    B_1_NN = S_tau_test_NN < s_40\r\n",
    "    B_2_NN = S_tau_test_NN > s_70\r\n",
    "\r\n",
    "    #computation of the metrics (a), (b), (c) with B_1 and (c) with B_2 for the neural network\r\n",
    "    P_T_pred_NN = model.predict(S_tau_test_NN)[:,0]\r\n",
    "    mse_train_NN = hist.history['mse'][-1]\r\n",
    "    mse_val_NN = hist.history['val_mse'][-1]\r\n",
    "    mc_tmp = P_T_pred_NN - P_T_test_NN\r\n",
    "    metric_a_NN = np.sum(mc_tmp)/len(P_T_test_NN)\r\n",
    "    metric_b_NN = np.sum((mc_tmp)*P_T_pred_NN)/len(P_T_test_NN)\r\n",
    "    metric_c_B_1_NN = np.sum(mc_tmp[B_1_NN])/len(P_T_test_NN)\r\n",
    "    metric_c_B_2_NN = np.sum(mc_tmp[B_2_NN])/len(P_T_test_NN)\r\n",
    "\r\n",
    "    #computation of Value-at-Risk and Expected Shortfall using the neural network\r\n",
    "    P_T_pred_MC_NN = model.predict(S_tau_MC_NN)[:,0]\r\n",
    "    MC = np.column_stack((Z_MC_NN, P_T_pred_MC_NN))\r\n",
    "    MC_sort = MC[MC[:,-1].argsort()[::-1]]\r\n",
    "    w = f(MC_sort[:,0])/(M_MC*f_theta(y=MC_sort[:,0], x=IS_NN))\r\n",
    "\r\n",
    "    j_VaR = 0\r\n",
    "    w_sum_tmp = 0\r\n",
    "    while (w_sum_tmp <= (1-alpha_VaR) and j_VaR<M_MC):\r\n",
    "        w_sum_tmp += w[j_VaR]\r\n",
    "        j_VaR += 1\r\n",
    "    VaR_hat_NN = MC_sort[j_VaR-1,-1]\r\n",
    "    print('VaR_hat_NN:',VaR_hat_NN)\r\n",
    "    \r\n",
    "    j_ES = 0\r\n",
    "    w_sum_tmp = 0\r\n",
    "    while (w_sum_tmp <= (1-alpha_ES) and j_ES<M_MC):\r\n",
    "        w_sum_tmp += w[j_ES]\r\n",
    "        j_ES += 1\r\n",
    "    ES_hat_NN = 1/(1-alpha_ES) * np.sum(w[0:j_ES-1]*MC_sort[0:j_ES-1,1]) + ( 1 - (1 / (1-alpha_ES)) * np.sum(w[0:j_ES-1]) )*MC_sort[j_ES,1]\r\n",
    "    print('ES_hat_NN:',ES_hat_NN)\r\n",
    "\r\n",
    "\r\n",
    "\r\n",
    "    #define and train random forest with the same hyperparameter as in Put_VaR_ES_IS_500.ipynb\r\n",
    "    rfr_IS = RandomForestRegressor(n_estimators=160, criterion='squared_error', min_samples_leaf=250, bootstrap=True, verbose=0, n_jobs=-1)\r\n",
    "    rfr_IS.fit(X=S_tau_IS.reshape(-1,1), y=P_T_IS)\r\n",
    "\r\n",
    "    #computation of \\theta^*_{RF}\r\n",
    "    L_IS = np.column_stack((Z_IS, rfr_IS.predict(S_tau_IS.reshape(-1,1))))\r\n",
    "    L_IS = L_IS[L_IS[:,-1].argsort()[::-1]]\r\n",
    "    q_alpha_IS_hat = L_IS[int(M_IS*(1-alpha_IS)-1), -1]\r\n",
    "    print('q_alpha_IS_hat_RF:', q_alpha_IS_hat)\r\n",
    "    \r\n",
    "    IS_RF = optimize.least_squares(g_q_alpha_hat_reweighted, x0=np.array([0,1]), bounds=(bnds_lower,bnds_upper), args=(L_IS, q_alpha_IS_hat)).x\r\n",
    "    print('IS_RF:', IS_RF)\r\n",
    "    #a runtime warning may occur here but in all trial runs this was not of concern as the optimization algorithm still executed successfully and the result was meaningful\r\n",
    "\r\n",
    "    #calculating DT(Z,\\theta^*_{RF})\r\n",
    "    Z_train_RF = Z_train*IS_RF[1] + IS_RF[0]\r\n",
    "    Z_val_RF = Z_val*IS_RF[1] + IS_RF[0]\r\n",
    "    Z_test_RF = Z_test*IS_RF[1] + IS_RF[0]\r\n",
    "    Z_MC_RF = Z_MC*IS_RF[1] + IS_RF[0]\r\n",
    "    #calculating the risk factors under the IS distribution and corresponding option prices\r\n",
    "    S_tau_train_RF, P_T_train_RF = data_gen(Z=Z_train_RF, V=V_train)\r\n",
    "    S_tau_val_RF, P_T_val_RF = data_gen(Z=Z_val_RF, V=V_val)\r\n",
    "    S_tau_test_RF, P_T_test_RF = data_gen(Z=Z_test_RF, V=V_test)\r\n",
    "    S_tau_MC_RF, P_T_MC_RF = data_gen(Z=Z_MC_RF, V=V_MC)\r\n",
    "    \r\n",
    "    #hypyerparameter tuning with orientation around the value found in Put_VaR_ES_IS_500.ipynb\r\n",
    "    min_samples_leaf_list = [5100,5300,5500]\r\n",
    "    opt_param = 0\r\n",
    "    opt_score = np.inf\r\n",
    "\r\n",
    "    for min_samples_leaf in min_samples_leaf_list:\r\n",
    "        rfr_tuning = RandomForestRegressor(n_estimators=160, min_samples_leaf=min_samples_leaf, bootstrap=True, criterion='squared_error', verbose=0, n_jobs=-1)\r\n",
    "        rfr_tuning.fit(X=S_tau_train_RF.reshape(-1,1), y=P_T_train_RF)\r\n",
    "        score = mean_squared_error(y_true=P_T_val_RF, y_pred=rfr_tuning.predict(S_tau_val_RF.reshape(-1,1)))\r\n",
    "        if score < opt_score:\r\n",
    "            opt_param = min_samples_leaf\r\n",
    "            opt_score = score\r\n",
    "\r\n",
    "    #definition and training of a random forest with hyperparameters found through grid search\r\n",
    "    rfr = RandomForestRegressor(n_estimators=400, criterion='squared_error', min_samples_leaf=int(opt_param), bootstrap=True, verbose=0, warm_start=True, n_jobs=-1)\r\n",
    "    rfr.fit(X=S_tau_train_RF.reshape(-1,1), y=P_T_train_RF)\r\n",
    "\r\n",
    "    #Calculating the parts of the test set that fall into B_1 and B_2\r\n",
    "    s_40 = s_0 * np.exp( (mu-0.5*sigma**2)*tau + sigma*np.sqrt(tau)*stats.norm.ppf(0.4, loc=0, scale=1))\r\n",
    "    s_70 = s_0 * np.exp( (mu-0.5*sigma**2)*tau + sigma*np.sqrt(tau)*stats.norm.ppf(0.7, loc=0, scale=1))\r\n",
    "    B_1_RF = S_tau_test_RF < s_40\r\n",
    "    B_2_RF = S_tau_test_RF > s_70\r\n",
    "\r\n",
    "    #computation of the metrics (a), (b), (c) with B_1 and (c) with B_2 and training/validation MSE for the random forest\r\n",
    "    mse_train_RF = mean_squared_error(y_pred=rfr.predict(S_tau_train_RF.reshape(-1,1)),y_true=P_T_train_RF)\r\n",
    "    P_T_pred_RF = rfr.predict(S_tau_test_RF.reshape(-1,1))\r\n",
    "    mse_val_RF = mean_squared_error(y_pred=P_T_pred_RF,y_true=P_T_test_RF)\r\n",
    "    mc_tmp = P_T_pred_RF - P_T_test_RF\r\n",
    "    metric_a_RF = np.sum(mc_tmp)/len(P_T_test_RF)\r\n",
    "    metric_b_RF = np.sum((mc_tmp)*P_T_pred_RF)/len(P_T_test_RF)\r\n",
    "    metric_c_B_1_RF = np.sum(mc_tmp[B_1_RF])/len(P_T_test_RF)\r\n",
    "    metric_c_B_2_RF = np.sum(mc_tmp[B_2_RF])/len(P_T_test_RF)\r\n",
    "\r\n",
    "    #computation of Value-at-Risk and Expected Shortfall using the neural network\r\n",
    "    P_T_pred_MC_RF = rfr.predict(S_tau_MC_RF.reshape(-1,1))\r\n",
    "    MC = np.column_stack((Z_MC_RF, P_T_pred_MC_RF))\r\n",
    "    MC_sort = MC[MC[:,-1].argsort()[::-1]]\r\n",
    "    w = f(MC_sort[:,0])/(M_MC*f_theta(y=MC_sort[:,0], x=IS_RF))\r\n",
    "\r\n",
    "    j_VaR = 0\r\n",
    "    w_sum_tmp = 0\r\n",
    "    while (w_sum_tmp <= (1-alpha_VaR) and j_VaR<M_MC):\r\n",
    "        w_sum_tmp += w[j_VaR]\r\n",
    "        j_VaR += 1\r\n",
    "    VaR_hat_RF = MC_sort[j_VaR-1,-1]\r\n",
    "    print('VaR_hat_RF:',VaR_hat_RF)\r\n",
    "    \r\n",
    "    j_ES = 0\r\n",
    "    w_sum_tmp = 0\r\n",
    "    while (w_sum_tmp <= (1-alpha_ES) and j_ES<M_MC):\r\n",
    "        w_sum_tmp += w[j_ES]\r\n",
    "        j_ES += 1\r\n",
    "    ES_hat_RF = 1/(1-alpha_ES) * np.sum(w[0:j_ES-1]*MC_sort[0:j_ES-1,1]) + ( 1 - (1 / (1-alpha_ES)) * np.sum(w[0:j_ES-1]) )*MC_sort[j_ES,1]\r\n",
    "    print('ES_hat_RF:',ES_hat_RF)\r\n",
    "\r\n",
    "\r\n",
    "    #save results for further evaluation\r\n",
    "    output = np.array([[mse_train_NN,mse_val_NN,metric_a_NN,metric_b_NN,metric_c_B_1_NN,metric_c_B_2_NN,IS_NN[0],IS_NN[1],VaR_hat_NN,ES_hat_NN],\r\n",
    "                      [mse_train_RF,mse_val_RF,metric_a_RF,metric_b_RF,metric_c_B_1_RF,metric_c_B_2_RF,IS_RF[0],IS_RF[1],VaR_hat_RF,ES_hat_RF]])\r\n",
    "\r\n",
    "    joblib.dump(output,filepath+'output_'+str(run)+'_'+str(j)+'.joblib')\r\n",
    "    #prints just for checking while the notebook is running\r\n",
    "    print(j)"
   ],
   "outputs": [
    {
     "output_type": "stream",
     "name": "stderr",
     "text": [
      "2021-11-07 21:25:55.410102: I tensorflow/core/platform/cpu_feature_guard.cc:142] This TensorFlow binary is optimized with oneAPI Deep Neural Network Library (oneDNN) to use the following CPU instructions in performance-critical operations:  AVX2 AVX512F FMA\n",
      "To enable them in other operations, rebuild TensorFlow with the appropriate compiler flags.\n",
      "2021-11-07 21:26:03.373381: I tensorflow/core/common_runtime/gpu/gpu_device.cc:1510] Created device /job:localhost/replica:0/task:0/device:GPU:0 with 30988 MB memory:  -> device: 0, name: Tesla V100-SXM2-32GB, pci bus id: 0000:3a:00.0, compute capability: 7.0\n",
      "2021-11-07 21:26:03.376375: I tensorflow/core/common_runtime/gpu/gpu_device.cc:1510] Created device /job:localhost/replica:0/task:0/device:GPU:1 with 30988 MB memory:  -> device: 1, name: Tesla V100-SXM2-32GB, pci bus id: 0000:89:00.0, compute capability: 7.0\n",
      "2021-11-07 21:26:03.378108: I tensorflow/core/common_runtime/gpu/gpu_device.cc:1510] Created device /job:localhost/replica:0/task:0/device:GPU:2 with 30988 MB memory:  -> device: 2, name: Tesla V100-SXM2-32GB, pci bus id: 0000:8a:00.0, compute capability: 7.0\n",
      "2021-11-07 21:26:03.379658: I tensorflow/core/common_runtime/gpu/gpu_device.cc:1510] Created device /job:localhost/replica:0/task:0/device:GPU:3 with 30988 MB memory:  -> device: 3, name: Tesla V100-SXM2-32GB, pci bus id: 0000:b2:00.0, compute capability: 7.0\n",
      "2021-11-07 21:26:04.454230: I tensorflow/compiler/mlir/mlir_graph_optimization_pass.cc:185] None of the MLIR Optimization Passes are enabled (registered 2)\n"
     ]
    },
    {
     "output_type": "stream",
     "name": "stdout",
     "text": [
      "q_alpha_IS_hat_NN: 8.329194068908691\n"
     ]
    },
    {
     "output_type": "stream",
     "name": "stderr",
     "text": [
      "/scratch/slurm_tmpdir/job_20161971/ipykernel_3598697/3406871675.py:15: RuntimeWarning: divide by zero encountered in true_divide\n",
      "  return np.sqrt(f(y=L[:,0])/f_theta(y=L[:,0],x=x))*(L[:,-1]>q_alpha_hat)\n",
      "/scratch/slurm_tmpdir/job_20161971/ipykernel_3598697/3406871675.py:15: RuntimeWarning: overflow encountered in true_divide\n",
      "  return np.sqrt(f(y=L[:,0])/f_theta(y=L[:,0],x=x))*(L[:,-1]>q_alpha_hat)\n",
      "/scratch/slurm_tmpdir/job_20161971/ipykernel_3598697/3406871675.py:15: RuntimeWarning: invalid value encountered in multiply\n",
      "  return np.sqrt(f(y=L[:,0])/f_theta(y=L[:,0],x=x))*(L[:,-1]>q_alpha_hat)\n"
     ]
    },
    {
     "output_type": "stream",
     "name": "stdout",
     "text": [
      "IS_NN: [-2.84827296  0.35758851]\n",
      "VaR_hat_NN: 8.35092544555664\n",
      "ES_hat_NN: 8.512830080343756\n",
      "q_alpha_IS_hat_RF: 8.434760061292442\n"
     ]
    },
    {
     "output_type": "stream",
     "name": "stderr",
     "text": [
      "/scratch/slurm_tmpdir/job_20161971/ipykernel_3598697/3406871675.py:15: RuntimeWarning: divide by zero encountered in true_divide\n",
      "  return np.sqrt(f(y=L[:,0])/f_theta(y=L[:,0],x=x))*(L[:,-1]>q_alpha_hat)\n",
      "/scratch/slurm_tmpdir/job_20161971/ipykernel_3598697/3406871675.py:15: RuntimeWarning: overflow encountered in true_divide\n",
      "  return np.sqrt(f(y=L[:,0])/f_theta(y=L[:,0],x=x))*(L[:,-1]>q_alpha_hat)\n",
      "/scratch/slurm_tmpdir/job_20161971/ipykernel_3598697/3406871675.py:15: RuntimeWarning: invalid value encountered in multiply\n",
      "  return np.sqrt(f(y=L[:,0])/f_theta(y=L[:,0],x=x))*(L[:,-1]>q_alpha_hat)\n"
     ]
    },
    {
     "output_type": "stream",
     "name": "stdout",
     "text": [
      "IS_RF: [-2.60784334  0.43278244]\n",
      "VaR_hat_RF: 8.374846862193811\n",
      "ES_hat_RF: 8.508109217164234\n",
      "0\n",
      "q_alpha_IS_hat_NN: 8.375049591064453\n"
     ]
    },
    {
     "output_type": "stream",
     "name": "stderr",
     "text": [
      "/scratch/slurm_tmpdir/job_20161971/ipykernel_3598697/3406871675.py:15: RuntimeWarning: divide by zero encountered in true_divide\n",
      "  return np.sqrt(f(y=L[:,0])/f_theta(y=L[:,0],x=x))*(L[:,-1]>q_alpha_hat)\n",
      "/scratch/slurm_tmpdir/job_20161971/ipykernel_3598697/3406871675.py:15: RuntimeWarning: overflow encountered in true_divide\n",
      "  return np.sqrt(f(y=L[:,0])/f_theta(y=L[:,0],x=x))*(L[:,-1]>q_alpha_hat)\n",
      "/scratch/slurm_tmpdir/job_20161971/ipykernel_3598697/3406871675.py:15: RuntimeWarning: invalid value encountered in multiply\n",
      "  return np.sqrt(f(y=L[:,0])/f_theta(y=L[:,0],x=x))*(L[:,-1]>q_alpha_hat)\n"
     ]
    },
    {
     "output_type": "stream",
     "name": "stdout",
     "text": [
      "IS_NN: [-2.84251282  0.39697051]\n",
      "VaR_hat_NN: 8.282183647155762\n",
      "ES_hat_NN: 8.46791116627376\n",
      "q_alpha_IS_hat_RF: 8.668816602490187\n"
     ]
    },
    {
     "output_type": "stream",
     "name": "stderr",
     "text": [
      "/scratch/slurm_tmpdir/job_20161971/ipykernel_3598697/3406871675.py:15: RuntimeWarning: divide by zero encountered in true_divide\n",
      "  return np.sqrt(f(y=L[:,0])/f_theta(y=L[:,0],x=x))*(L[:,-1]>q_alpha_hat)\n",
      "/scratch/slurm_tmpdir/job_20161971/ipykernel_3598697/3406871675.py:15: RuntimeWarning: overflow encountered in true_divide\n",
      "  return np.sqrt(f(y=L[:,0])/f_theta(y=L[:,0],x=x))*(L[:,-1]>q_alpha_hat)\n",
      "/scratch/slurm_tmpdir/job_20161971/ipykernel_3598697/3406871675.py:15: RuntimeWarning: invalid value encountered in multiply\n",
      "  return np.sqrt(f(y=L[:,0])/f_theta(y=L[:,0],x=x))*(L[:,-1]>q_alpha_hat)\n"
     ]
    },
    {
     "output_type": "stream",
     "name": "stdout",
     "text": [
      "IS_RF: [-2.76613813  0.4139801 ]\n",
      "VaR_hat_RF: 8.350602010589716\n",
      "ES_hat_RF: 8.519915805175167\n",
      "1\n",
      "q_alpha_IS_hat_NN: 8.30050277709961\n"
     ]
    },
    {
     "output_type": "stream",
     "name": "stderr",
     "text": [
      "/scratch/slurm_tmpdir/job_20161971/ipykernel_3598697/3406871675.py:15: RuntimeWarning: divide by zero encountered in true_divide\n",
      "  return np.sqrt(f(y=L[:,0])/f_theta(y=L[:,0],x=x))*(L[:,-1]>q_alpha_hat)\n",
      "/scratch/slurm_tmpdir/job_20161971/ipykernel_3598697/3406871675.py:15: RuntimeWarning: overflow encountered in true_divide\n",
      "  return np.sqrt(f(y=L[:,0])/f_theta(y=L[:,0],x=x))*(L[:,-1]>q_alpha_hat)\n",
      "/scratch/slurm_tmpdir/job_20161971/ipykernel_3598697/3406871675.py:15: RuntimeWarning: invalid value encountered in multiply\n",
      "  return np.sqrt(f(y=L[:,0])/f_theta(y=L[:,0],x=x))*(L[:,-1]>q_alpha_hat)\n"
     ]
    },
    {
     "output_type": "stream",
     "name": "stdout",
     "text": [
      "IS_NN: [-2.84983907  0.38123334]\n",
      "VaR_hat_NN: 8.375823974609375\n",
      "ES_hat_NN: 8.528658129541675\n",
      "q_alpha_IS_hat_RF: 8.455209404456399\n"
     ]
    },
    {
     "output_type": "stream",
     "name": "stderr",
     "text": [
      "/scratch/slurm_tmpdir/job_20161971/ipykernel_3598697/3406871675.py:15: RuntimeWarning: divide by zero encountered in true_divide\n",
      "  return np.sqrt(f(y=L[:,0])/f_theta(y=L[:,0],x=x))*(L[:,-1]>q_alpha_hat)\n",
      "/scratch/slurm_tmpdir/job_20161971/ipykernel_3598697/3406871675.py:15: RuntimeWarning: overflow encountered in true_divide\n",
      "  return np.sqrt(f(y=L[:,0])/f_theta(y=L[:,0],x=x))*(L[:,-1]>q_alpha_hat)\n",
      "/scratch/slurm_tmpdir/job_20161971/ipykernel_3598697/3406871675.py:15: RuntimeWarning: invalid value encountered in multiply\n",
      "  return np.sqrt(f(y=L[:,0])/f_theta(y=L[:,0],x=x))*(L[:,-1]>q_alpha_hat)\n"
     ]
    },
    {
     "output_type": "stream",
     "name": "stdout",
     "text": [
      "IS_RF: [-2.64555123  0.43457547]\n",
      "VaR_hat_RF: 8.378357701792918\n",
      "ES_hat_RF: 8.523299584063006\n",
      "2\n",
      "q_alpha_IS_hat_NN: 8.2657470703125\n"
     ]
    },
    {
     "output_type": "stream",
     "name": "stderr",
     "text": [
      "/scratch/slurm_tmpdir/job_20161971/ipykernel_3598697/3406871675.py:15: RuntimeWarning: divide by zero encountered in true_divide\n",
      "  return np.sqrt(f(y=L[:,0])/f_theta(y=L[:,0],x=x))*(L[:,-1]>q_alpha_hat)\n",
      "/scratch/slurm_tmpdir/job_20161971/ipykernel_3598697/3406871675.py:15: RuntimeWarning: overflow encountered in true_divide\n",
      "  return np.sqrt(f(y=L[:,0])/f_theta(y=L[:,0],x=x))*(L[:,-1]>q_alpha_hat)\n",
      "/scratch/slurm_tmpdir/job_20161971/ipykernel_3598697/3406871675.py:15: RuntimeWarning: invalid value encountered in multiply\n",
      "  return np.sqrt(f(y=L[:,0])/f_theta(y=L[:,0],x=x))*(L[:,-1]>q_alpha_hat)\n"
     ]
    },
    {
     "output_type": "stream",
     "name": "stdout",
     "text": [
      "IS_NN: [-2.82086089  0.40898856]\n",
      "VaR_hat_NN: 8.339129447937012\n",
      "ES_hat_NN: 8.502352135785582\n",
      "q_alpha_IS_hat_RF: 8.586006115992976\n"
     ]
    },
    {
     "output_type": "stream",
     "name": "stderr",
     "text": [
      "/scratch/slurm_tmpdir/job_20161971/ipykernel_3598697/3406871675.py:15: RuntimeWarning: divide by zero encountered in true_divide\n",
      "  return np.sqrt(f(y=L[:,0])/f_theta(y=L[:,0],x=x))*(L[:,-1]>q_alpha_hat)\n",
      "/scratch/slurm_tmpdir/job_20161971/ipykernel_3598697/3406871675.py:15: RuntimeWarning: overflow encountered in true_divide\n",
      "  return np.sqrt(f(y=L[:,0])/f_theta(y=L[:,0],x=x))*(L[:,-1]>q_alpha_hat)\n",
      "/scratch/slurm_tmpdir/job_20161971/ipykernel_3598697/3406871675.py:15: RuntimeWarning: invalid value encountered in multiply\n",
      "  return np.sqrt(f(y=L[:,0])/f_theta(y=L[:,0],x=x))*(L[:,-1]>q_alpha_hat)\n"
     ]
    },
    {
     "output_type": "stream",
     "name": "stdout",
     "text": [
      "IS_RF: [-2.63347297  0.45226946]\n",
      "VaR_hat_RF: 8.355579336333868\n",
      "ES_hat_RF: 8.520297954819789\n",
      "3\n",
      "q_alpha_IS_hat_NN: 8.11780071258545\n"
     ]
    },
    {
     "output_type": "stream",
     "name": "stderr",
     "text": [
      "/scratch/slurm_tmpdir/job_20161971/ipykernel_3598697/3406871675.py:15: RuntimeWarning: overflow encountered in true_divide\n",
      "  return np.sqrt(f(y=L[:,0])/f_theta(y=L[:,0],x=x))*(L[:,-1]>q_alpha_hat)\n",
      "/scratch/slurm_tmpdir/job_20161971/ipykernel_3598697/3406871675.py:15: RuntimeWarning: invalid value encountered in multiply\n",
      "  return np.sqrt(f(y=L[:,0])/f_theta(y=L[:,0],x=x))*(L[:,-1]>q_alpha_hat)\n"
     ]
    },
    {
     "output_type": "stream",
     "name": "stdout",
     "text": [
      "IS_NN: [-2.82276443  0.37378871]\n",
      "VaR_hat_NN: 8.309720039367676\n",
      "ES_hat_NN: 8.482532801557824\n",
      "q_alpha_IS_hat_RF: 8.615318879658728\n"
     ]
    },
    {
     "output_type": "stream",
     "name": "stderr",
     "text": [
      "/scratch/slurm_tmpdir/job_20161971/ipykernel_3598697/3406871675.py:15: RuntimeWarning: divide by zero encountered in true_divide\n",
      "  return np.sqrt(f(y=L[:,0])/f_theta(y=L[:,0],x=x))*(L[:,-1]>q_alpha_hat)\n",
      "/scratch/slurm_tmpdir/job_20161971/ipykernel_3598697/3406871675.py:15: RuntimeWarning: overflow encountered in true_divide\n",
      "  return np.sqrt(f(y=L[:,0])/f_theta(y=L[:,0],x=x))*(L[:,-1]>q_alpha_hat)\n",
      "/scratch/slurm_tmpdir/job_20161971/ipykernel_3598697/3406871675.py:15: RuntimeWarning: invalid value encountered in multiply\n",
      "  return np.sqrt(f(y=L[:,0])/f_theta(y=L[:,0],x=x))*(L[:,-1]>q_alpha_hat)\n"
     ]
    },
    {
     "output_type": "stream",
     "name": "stdout",
     "text": [
      "IS_RF: [-2.61115921  0.42675372]\n",
      "VaR_hat_RF: 8.361844236540536\n",
      "ES_hat_RF: 8.507887680480469\n",
      "4\n",
      "q_alpha_IS_hat_NN: 8.355432510375977\n"
     ]
    },
    {
     "output_type": "stream",
     "name": "stderr",
     "text": [
      "/scratch/slurm_tmpdir/job_20161971/ipykernel_3598697/3406871675.py:15: RuntimeWarning: divide by zero encountered in true_divide\n",
      "  return np.sqrt(f(y=L[:,0])/f_theta(y=L[:,0],x=x))*(L[:,-1]>q_alpha_hat)\n",
      "/scratch/slurm_tmpdir/job_20161971/ipykernel_3598697/3406871675.py:15: RuntimeWarning: overflow encountered in true_divide\n",
      "  return np.sqrt(f(y=L[:,0])/f_theta(y=L[:,0],x=x))*(L[:,-1]>q_alpha_hat)\n",
      "/scratch/slurm_tmpdir/job_20161971/ipykernel_3598697/3406871675.py:15: RuntimeWarning: invalid value encountered in multiply\n",
      "  return np.sqrt(f(y=L[:,0])/f_theta(y=L[:,0],x=x))*(L[:,-1]>q_alpha_hat)\n"
     ]
    },
    {
     "output_type": "stream",
     "name": "stdout",
     "text": [
      "IS_NN: [-2.83151259  0.44289619]\n",
      "VaR_hat_NN: 8.453546524047852\n",
      "ES_hat_NN: 8.576477162933182\n",
      "q_alpha_IS_hat_RF: 8.783950190896181\n"
     ]
    },
    {
     "output_type": "stream",
     "name": "stderr",
     "text": [
      "/scratch/slurm_tmpdir/job_20161971/ipykernel_3598697/3406871675.py:15: RuntimeWarning: divide by zero encountered in true_divide\n",
      "  return np.sqrt(f(y=L[:,0])/f_theta(y=L[:,0],x=x))*(L[:,-1]>q_alpha_hat)\n",
      "/scratch/slurm_tmpdir/job_20161971/ipykernel_3598697/3406871675.py:15: RuntimeWarning: overflow encountered in true_divide\n",
      "  return np.sqrt(f(y=L[:,0])/f_theta(y=L[:,0],x=x))*(L[:,-1]>q_alpha_hat)\n",
      "/scratch/slurm_tmpdir/job_20161971/ipykernel_3598697/3406871675.py:15: RuntimeWarning: invalid value encountered in multiply\n",
      "  return np.sqrt(f(y=L[:,0])/f_theta(y=L[:,0],x=x))*(L[:,-1]>q_alpha_hat)\n"
     ]
    },
    {
     "output_type": "stream",
     "name": "stdout",
     "text": [
      "IS_RF: [-2.67463413  0.47092845]\n",
      "VaR_hat_RF: 8.354564217007622\n",
      "ES_hat_RF: 8.525353711009968\n",
      "5\n",
      "q_alpha_IS_hat_NN: 7.2648539543151855\n"
     ]
    },
    {
     "output_type": "stream",
     "name": "stderr",
     "text": [
      "/scratch/slurm_tmpdir/job_20161971/ipykernel_3598697/3406871675.py:15: RuntimeWarning: divide by zero encountered in true_divide\n",
      "  return np.sqrt(f(y=L[:,0])/f_theta(y=L[:,0],x=x))*(L[:,-1]>q_alpha_hat)\n",
      "/scratch/slurm_tmpdir/job_20161971/ipykernel_3598697/3406871675.py:15: RuntimeWarning: overflow encountered in true_divide\n",
      "  return np.sqrt(f(y=L[:,0])/f_theta(y=L[:,0],x=x))*(L[:,-1]>q_alpha_hat)\n",
      "/scratch/slurm_tmpdir/job_20161971/ipykernel_3598697/3406871675.py:15: RuntimeWarning: invalid value encountered in multiply\n",
      "  return np.sqrt(f(y=L[:,0])/f_theta(y=L[:,0],x=x))*(L[:,-1]>q_alpha_hat)\n"
     ]
    },
    {
     "output_type": "stream",
     "name": "stdout",
     "text": [
      "IS_NN: [-2.82830002  0.28823686]\n",
      "VaR_hat_NN: 8.3033447265625\n",
      "ES_hat_NN: 8.50113525794121\n",
      "q_alpha_IS_hat_RF: 8.436281003027858\n"
     ]
    },
    {
     "output_type": "stream",
     "name": "stderr",
     "text": [
      "/scratch/slurm_tmpdir/job_20161971/ipykernel_3598697/3406871675.py:15: RuntimeWarning: divide by zero encountered in true_divide\n",
      "  return np.sqrt(f(y=L[:,0])/f_theta(y=L[:,0],x=x))*(L[:,-1]>q_alpha_hat)\n",
      "/scratch/slurm_tmpdir/job_20161971/ipykernel_3598697/3406871675.py:15: RuntimeWarning: overflow encountered in true_divide\n",
      "  return np.sqrt(f(y=L[:,0])/f_theta(y=L[:,0],x=x))*(L[:,-1]>q_alpha_hat)\n",
      "/scratch/slurm_tmpdir/job_20161971/ipykernel_3598697/3406871675.py:15: RuntimeWarning: invalid value encountered in multiply\n",
      "  return np.sqrt(f(y=L[:,0])/f_theta(y=L[:,0],x=x))*(L[:,-1]>q_alpha_hat)\n"
     ]
    },
    {
     "output_type": "stream",
     "name": "stdout",
     "text": [
      "IS_RF: [-2.6869842   0.47713266]\n",
      "VaR_hat_RF: 8.350370341499005\n",
      "ES_hat_RF: 8.525705537563843\n",
      "6\n",
      "q_alpha_IS_hat_NN: 8.304322242736816\n"
     ]
    },
    {
     "output_type": "stream",
     "name": "stderr",
     "text": [
      "/scratch/slurm_tmpdir/job_20161971/ipykernel_3598697/3406871675.py:15: RuntimeWarning: divide by zero encountered in true_divide\n",
      "  return np.sqrt(f(y=L[:,0])/f_theta(y=L[:,0],x=x))*(L[:,-1]>q_alpha_hat)\n",
      "/scratch/slurm_tmpdir/job_20161971/ipykernel_3598697/3406871675.py:15: RuntimeWarning: overflow encountered in true_divide\n",
      "  return np.sqrt(f(y=L[:,0])/f_theta(y=L[:,0],x=x))*(L[:,-1]>q_alpha_hat)\n",
      "/scratch/slurm_tmpdir/job_20161971/ipykernel_3598697/3406871675.py:15: RuntimeWarning: invalid value encountered in multiply\n",
      "  return np.sqrt(f(y=L[:,0])/f_theta(y=L[:,0],x=x))*(L[:,-1]>q_alpha_hat)\n"
     ]
    },
    {
     "output_type": "stream",
     "name": "stdout",
     "text": [
      "IS_NN: [-2.83467287  0.40369966]\n",
      "VaR_hat_NN: 8.304183959960938\n",
      "ES_hat_NN: 8.477154992481953\n",
      "q_alpha_IS_hat_RF: 8.612573307642661\n"
     ]
    },
    {
     "output_type": "stream",
     "name": "stderr",
     "text": [
      "/scratch/slurm_tmpdir/job_20161971/ipykernel_3598697/3406871675.py:15: RuntimeWarning: divide by zero encountered in true_divide\n",
      "  return np.sqrt(f(y=L[:,0])/f_theta(y=L[:,0],x=x))*(L[:,-1]>q_alpha_hat)\n",
      "/scratch/slurm_tmpdir/job_20161971/ipykernel_3598697/3406871675.py:15: RuntimeWarning: overflow encountered in true_divide\n",
      "  return np.sqrt(f(y=L[:,0])/f_theta(y=L[:,0],x=x))*(L[:,-1]>q_alpha_hat)\n",
      "/scratch/slurm_tmpdir/job_20161971/ipykernel_3598697/3406871675.py:15: RuntimeWarning: invalid value encountered in multiply\n",
      "  return np.sqrt(f(y=L[:,0])/f_theta(y=L[:,0],x=x))*(L[:,-1]>q_alpha_hat)\n"
     ]
    },
    {
     "output_type": "stream",
     "name": "stdout",
     "text": [
      "IS_RF: [-2.59831236  0.45387422]\n",
      "VaR_hat_RF: 8.322088100761954\n",
      "ES_hat_RF: 8.5124904862261\n",
      "7\n",
      "q_alpha_IS_hat_NN: 7.247715950012207\n"
     ]
    },
    {
     "output_type": "stream",
     "name": "stderr",
     "text": [
      "/scratch/slurm_tmpdir/job_20161971/ipykernel_3598697/3406871675.py:15: RuntimeWarning: divide by zero encountered in true_divide\n",
      "  return np.sqrt(f(y=L[:,0])/f_theta(y=L[:,0],x=x))*(L[:,-1]>q_alpha_hat)\n",
      "/scratch/slurm_tmpdir/job_20161971/ipykernel_3598697/3406871675.py:15: RuntimeWarning: overflow encountered in true_divide\n",
      "  return np.sqrt(f(y=L[:,0])/f_theta(y=L[:,0],x=x))*(L[:,-1]>q_alpha_hat)\n",
      "/scratch/slurm_tmpdir/job_20161971/ipykernel_3598697/3406871675.py:15: RuntimeWarning: invalid value encountered in multiply\n",
      "  return np.sqrt(f(y=L[:,0])/f_theta(y=L[:,0],x=x))*(L[:,-1]>q_alpha_hat)\n"
     ]
    },
    {
     "output_type": "stream",
     "name": "stdout",
     "text": [
      "IS_NN: [-2.83101804  0.38640501]\n",
      "VaR_hat_NN: 8.426342010498047\n",
      "ES_hat_NN: 8.567445980820544\n",
      "q_alpha_IS_hat_RF: 8.586843813910452\n",
      "IS_RF: [-2.68908647  0.41468977]\n",
      "VaR_hat_RF: 8.359519218510464\n",
      "ES_hat_RF: 8.525236123272407\n",
      "8\n",
      "q_alpha_IS_hat_NN: 7.92227029800415\n"
     ]
    },
    {
     "output_type": "stream",
     "name": "stderr",
     "text": [
      "/scratch/slurm_tmpdir/job_20161971/ipykernel_3598697/3406871675.py:15: RuntimeWarning: divide by zero encountered in true_divide\n",
      "  return np.sqrt(f(y=L[:,0])/f_theta(y=L[:,0],x=x))*(L[:,-1]>q_alpha_hat)\n",
      "/scratch/slurm_tmpdir/job_20161971/ipykernel_3598697/3406871675.py:15: RuntimeWarning: overflow encountered in true_divide\n",
      "  return np.sqrt(f(y=L[:,0])/f_theta(y=L[:,0],x=x))*(L[:,-1]>q_alpha_hat)\n",
      "/scratch/slurm_tmpdir/job_20161971/ipykernel_3598697/3406871675.py:15: RuntimeWarning: invalid value encountered in multiply\n",
      "  return np.sqrt(f(y=L[:,0])/f_theta(y=L[:,0],x=x))*(L[:,-1]>q_alpha_hat)\n"
     ]
    },
    {
     "output_type": "stream",
     "name": "stdout",
     "text": [
      "IS_NN: [-2.82792257  0.39713983]\n",
      "VaR_hat_NN: 8.322105407714844\n",
      "ES_hat_NN: 8.4775138811421\n",
      "q_alpha_IS_hat_RF: 8.666327008668489\n",
      "IS_RF: [-2.48418408  0.46721793]\n",
      "VaR_hat_RF: 8.376305255750413\n",
      "ES_hat_RF: 8.50214325887894\n",
      "9\n",
      "q_alpha_IS_hat_NN: 8.135498046875\n"
     ]
    },
    {
     "output_type": "stream",
     "name": "stderr",
     "text": [
      "/scratch/slurm_tmpdir/job_20161971/ipykernel_3598697/3406871675.py:15: RuntimeWarning: divide by zero encountered in true_divide\n",
      "  return np.sqrt(f(y=L[:,0])/f_theta(y=L[:,0],x=x))*(L[:,-1]>q_alpha_hat)\n",
      "/scratch/slurm_tmpdir/job_20161971/ipykernel_3598697/3406871675.py:15: RuntimeWarning: overflow encountered in true_divide\n",
      "  return np.sqrt(f(y=L[:,0])/f_theta(y=L[:,0],x=x))*(L[:,-1]>q_alpha_hat)\n",
      "/scratch/slurm_tmpdir/job_20161971/ipykernel_3598697/3406871675.py:15: RuntimeWarning: invalid value encountered in multiply\n",
      "  return np.sqrt(f(y=L[:,0])/f_theta(y=L[:,0],x=x))*(L[:,-1]>q_alpha_hat)\n"
     ]
    },
    {
     "output_type": "stream",
     "name": "stdout",
     "text": [
      "IS_NN: [-2.83126192  0.37481997]\n",
      "VaR_hat_NN: 8.309992790222168\n",
      "ES_hat_NN: 8.478839597034474\n",
      "q_alpha_IS_hat_RF: 8.297629755547723\n",
      "IS_RF: [-2.45632297  0.48494351]\n",
      "VaR_hat_RF: 8.33517310626026\n",
      "ES_hat_RF: 8.51071567440225\n",
      "10\n",
      "q_alpha_IS_hat_NN: 8.25613021850586\n"
     ]
    },
    {
     "output_type": "stream",
     "name": "stderr",
     "text": [
      "/scratch/slurm_tmpdir/job_20161971/ipykernel_3598697/3406871675.py:15: RuntimeWarning: divide by zero encountered in true_divide\n",
      "  return np.sqrt(f(y=L[:,0])/f_theta(y=L[:,0],x=x))*(L[:,-1]>q_alpha_hat)\n",
      "/scratch/slurm_tmpdir/job_20161971/ipykernel_3598697/3406871675.py:15: RuntimeWarning: overflow encountered in true_divide\n",
      "  return np.sqrt(f(y=L[:,0])/f_theta(y=L[:,0],x=x))*(L[:,-1]>q_alpha_hat)\n",
      "/scratch/slurm_tmpdir/job_20161971/ipykernel_3598697/3406871675.py:15: RuntimeWarning: invalid value encountered in multiply\n",
      "  return np.sqrt(f(y=L[:,0])/f_theta(y=L[:,0],x=x))*(L[:,-1]>q_alpha_hat)\n"
     ]
    },
    {
     "output_type": "stream",
     "name": "stdout",
     "text": [
      "IS_NN: [-2.84107521  0.3814548 ]\n",
      "VaR_hat_NN: 8.333605766296387\n",
      "ES_hat_NN: 8.500528276769431\n",
      "q_alpha_IS_hat_RF: 8.400033645991012\n",
      "IS_RF: [-2.34432737  0.56710373]\n",
      "VaR_hat_RF: 8.364081499017693\n",
      "ES_hat_RF: 8.506458096343396\n",
      "11\n",
      "q_alpha_IS_hat_NN: 8.346558570861816\n"
     ]
    },
    {
     "output_type": "stream",
     "name": "stderr",
     "text": [
      "/scratch/slurm_tmpdir/job_20161971/ipykernel_3598697/3406871675.py:15: RuntimeWarning: divide by zero encountered in true_divide\n",
      "  return np.sqrt(f(y=L[:,0])/f_theta(y=L[:,0],x=x))*(L[:,-1]>q_alpha_hat)\n",
      "/scratch/slurm_tmpdir/job_20161971/ipykernel_3598697/3406871675.py:15: RuntimeWarning: overflow encountered in true_divide\n",
      "  return np.sqrt(f(y=L[:,0])/f_theta(y=L[:,0],x=x))*(L[:,-1]>q_alpha_hat)\n",
      "/scratch/slurm_tmpdir/job_20161971/ipykernel_3598697/3406871675.py:15: RuntimeWarning: invalid value encountered in multiply\n",
      "  return np.sqrt(f(y=L[:,0])/f_theta(y=L[:,0],x=x))*(L[:,-1]>q_alpha_hat)\n"
     ]
    },
    {
     "output_type": "stream",
     "name": "stdout",
     "text": [
      "IS_NN: [-2.8418828   0.39243991]\n",
      "VaR_hat_NN: 8.244990348815918\n",
      "ES_hat_NN: 8.424156107637668\n",
      "q_alpha_IS_hat_RF: 8.72216189340647\n"
     ]
    },
    {
     "output_type": "stream",
     "name": "stderr",
     "text": [
      "/scratch/slurm_tmpdir/job_20161971/ipykernel_3598697/3406871675.py:15: RuntimeWarning: divide by zero encountered in true_divide\n",
      "  return np.sqrt(f(y=L[:,0])/f_theta(y=L[:,0],x=x))*(L[:,-1]>q_alpha_hat)\n",
      "/scratch/slurm_tmpdir/job_20161971/ipykernel_3598697/3406871675.py:15: RuntimeWarning: overflow encountered in true_divide\n",
      "  return np.sqrt(f(y=L[:,0])/f_theta(y=L[:,0],x=x))*(L[:,-1]>q_alpha_hat)\n",
      "/scratch/slurm_tmpdir/job_20161971/ipykernel_3598697/3406871675.py:15: RuntimeWarning: invalid value encountered in multiply\n",
      "  return np.sqrt(f(y=L[:,0])/f_theta(y=L[:,0],x=x))*(L[:,-1]>q_alpha_hat)\n"
     ]
    },
    {
     "output_type": "stream",
     "name": "stdout",
     "text": [
      "IS_RF: [-2.60634956  0.44408915]\n",
      "VaR_hat_RF: 8.326298945628697\n",
      "ES_hat_RF: 8.513171104572441\n",
      "12\n",
      "q_alpha_IS_hat_NN: 8.298674583435059\n"
     ]
    },
    {
     "output_type": "stream",
     "name": "stderr",
     "text": [
      "/scratch/slurm_tmpdir/job_20161971/ipykernel_3598697/3406871675.py:15: RuntimeWarning: divide by zero encountered in true_divide\n",
      "  return np.sqrt(f(y=L[:,0])/f_theta(y=L[:,0],x=x))*(L[:,-1]>q_alpha_hat)\n",
      "/scratch/slurm_tmpdir/job_20161971/ipykernel_3598697/3406871675.py:15: RuntimeWarning: overflow encountered in true_divide\n",
      "  return np.sqrt(f(y=L[:,0])/f_theta(y=L[:,0],x=x))*(L[:,-1]>q_alpha_hat)\n",
      "/scratch/slurm_tmpdir/job_20161971/ipykernel_3598697/3406871675.py:15: RuntimeWarning: invalid value encountered in multiply\n",
      "  return np.sqrt(f(y=L[:,0])/f_theta(y=L[:,0],x=x))*(L[:,-1]>q_alpha_hat)\n"
     ]
    },
    {
     "output_type": "stream",
     "name": "stdout",
     "text": [
      "IS_NN: [-2.83913351  0.39048647]\n",
      "VaR_hat_NN: 8.335140228271484\n",
      "ES_hat_NN: 8.504196555046208\n",
      "q_alpha_IS_hat_RF: 8.411982391938484\n"
     ]
    },
    {
     "output_type": "stream",
     "name": "stderr",
     "text": [
      "/scratch/slurm_tmpdir/job_20161971/ipykernel_3598697/3406871675.py:15: RuntimeWarning: divide by zero encountered in true_divide\n",
      "  return np.sqrt(f(y=L[:,0])/f_theta(y=L[:,0],x=x))*(L[:,-1]>q_alpha_hat)\n",
      "/scratch/slurm_tmpdir/job_20161971/ipykernel_3598697/3406871675.py:15: RuntimeWarning: overflow encountered in true_divide\n",
      "  return np.sqrt(f(y=L[:,0])/f_theta(y=L[:,0],x=x))*(L[:,-1]>q_alpha_hat)\n",
      "/scratch/slurm_tmpdir/job_20161971/ipykernel_3598697/3406871675.py:15: RuntimeWarning: invalid value encountered in multiply\n",
      "  return np.sqrt(f(y=L[:,0])/f_theta(y=L[:,0],x=x))*(L[:,-1]>q_alpha_hat)\n"
     ]
    },
    {
     "output_type": "stream",
     "name": "stdout",
     "text": [
      "IS_RF: [-2.64377018  0.43591289]\n",
      "VaR_hat_RF: 8.367192740979023\n",
      "ES_hat_RF: 8.530781878532586\n",
      "13\n",
      "q_alpha_IS_hat_NN: 8.467964172363281\n"
     ]
    },
    {
     "output_type": "stream",
     "name": "stderr",
     "text": [
      "/scratch/slurm_tmpdir/job_20161971/ipykernel_3598697/3406871675.py:15: RuntimeWarning: divide by zero encountered in true_divide\n",
      "  return np.sqrt(f(y=L[:,0])/f_theta(y=L[:,0],x=x))*(L[:,-1]>q_alpha_hat)\n",
      "/scratch/slurm_tmpdir/job_20161971/ipykernel_3598697/3406871675.py:15: RuntimeWarning: overflow encountered in true_divide\n",
      "  return np.sqrt(f(y=L[:,0])/f_theta(y=L[:,0],x=x))*(L[:,-1]>q_alpha_hat)\n",
      "/scratch/slurm_tmpdir/job_20161971/ipykernel_3598697/3406871675.py:15: RuntimeWarning: invalid value encountered in multiply\n",
      "  return np.sqrt(f(y=L[:,0])/f_theta(y=L[:,0],x=x))*(L[:,-1]>q_alpha_hat)\n"
     ]
    },
    {
     "output_type": "stream",
     "name": "stdout",
     "text": [
      "IS_NN: [-2.84245143  0.40112216]\n",
      "VaR_hat_NN: 8.31916332244873\n",
      "ES_hat_NN: 8.501148466040863\n",
      "q_alpha_IS_hat_RF: 8.428649081185766\n"
     ]
    },
    {
     "output_type": "stream",
     "name": "stderr",
     "text": [
      "/scratch/slurm_tmpdir/job_20161971/ipykernel_3598697/3406871675.py:15: RuntimeWarning: divide by zero encountered in true_divide\n",
      "  return np.sqrt(f(y=L[:,0])/f_theta(y=L[:,0],x=x))*(L[:,-1]>q_alpha_hat)\n",
      "/scratch/slurm_tmpdir/job_20161971/ipykernel_3598697/3406871675.py:15: RuntimeWarning: overflow encountered in true_divide\n",
      "  return np.sqrt(f(y=L[:,0])/f_theta(y=L[:,0],x=x))*(L[:,-1]>q_alpha_hat)\n",
      "/scratch/slurm_tmpdir/job_20161971/ipykernel_3598697/3406871675.py:15: RuntimeWarning: invalid value encountered in multiply\n",
      "  return np.sqrt(f(y=L[:,0])/f_theta(y=L[:,0],x=x))*(L[:,-1]>q_alpha_hat)\n"
     ]
    },
    {
     "output_type": "stream",
     "name": "stdout",
     "text": [
      "IS_RF: [-2.58672987  0.45959825]\n",
      "VaR_hat_RF: 8.340713096068292\n",
      "ES_hat_RF: 8.525584029345364\n",
      "14\n",
      "q_alpha_IS_hat_NN: 8.271739959716797\n"
     ]
    },
    {
     "output_type": "stream",
     "name": "stderr",
     "text": [
      "/scratch/slurm_tmpdir/job_20161971/ipykernel_3598697/3406871675.py:15: RuntimeWarning: divide by zero encountered in true_divide\n",
      "  return np.sqrt(f(y=L[:,0])/f_theta(y=L[:,0],x=x))*(L[:,-1]>q_alpha_hat)\n",
      "/scratch/slurm_tmpdir/job_20161971/ipykernel_3598697/3406871675.py:15: RuntimeWarning: overflow encountered in true_divide\n",
      "  return np.sqrt(f(y=L[:,0])/f_theta(y=L[:,0],x=x))*(L[:,-1]>q_alpha_hat)\n",
      "/scratch/slurm_tmpdir/job_20161971/ipykernel_3598697/3406871675.py:15: RuntimeWarning: invalid value encountered in multiply\n",
      "  return np.sqrt(f(y=L[:,0])/f_theta(y=L[:,0],x=x))*(L[:,-1]>q_alpha_hat)\n"
     ]
    },
    {
     "output_type": "stream",
     "name": "stdout",
     "text": [
      "IS_NN: [-2.84202428  0.37190036]\n",
      "VaR_hat_NN: 8.347454071044922\n",
      "ES_hat_NN: 8.547947732842536\n",
      "q_alpha_IS_hat_RF: 8.385595231920213\n"
     ]
    },
    {
     "output_type": "stream",
     "name": "stderr",
     "text": [
      "/scratch/slurm_tmpdir/job_20161971/ipykernel_3598697/3406871675.py:15: RuntimeWarning: divide by zero encountered in true_divide\n",
      "  return np.sqrt(f(y=L[:,0])/f_theta(y=L[:,0],x=x))*(L[:,-1]>q_alpha_hat)\n",
      "/scratch/slurm_tmpdir/job_20161971/ipykernel_3598697/3406871675.py:15: RuntimeWarning: overflow encountered in true_divide\n",
      "  return np.sqrt(f(y=L[:,0])/f_theta(y=L[:,0],x=x))*(L[:,-1]>q_alpha_hat)\n",
      "/scratch/slurm_tmpdir/job_20161971/ipykernel_3598697/3406871675.py:15: RuntimeWarning: invalid value encountered in multiply\n",
      "  return np.sqrt(f(y=L[:,0])/f_theta(y=L[:,0],x=x))*(L[:,-1]>q_alpha_hat)\n"
     ]
    },
    {
     "output_type": "stream",
     "name": "stdout",
     "text": [
      "IS_RF: [-2.6388817   0.42249206]\n",
      "VaR_hat_RF: 8.354291655959592\n",
      "ES_hat_RF: 8.521132837241353\n",
      "15\n",
      "q_alpha_IS_hat_NN: 7.999973773956299\n"
     ]
    },
    {
     "output_type": "stream",
     "name": "stderr",
     "text": [
      "/scratch/slurm_tmpdir/job_20161971/ipykernel_3598697/3406871675.py:15: RuntimeWarning: divide by zero encountered in true_divide\n",
      "  return np.sqrt(f(y=L[:,0])/f_theta(y=L[:,0],x=x))*(L[:,-1]>q_alpha_hat)\n",
      "/scratch/slurm_tmpdir/job_20161971/ipykernel_3598697/3406871675.py:15: RuntimeWarning: overflow encountered in true_divide\n",
      "  return np.sqrt(f(y=L[:,0])/f_theta(y=L[:,0],x=x))*(L[:,-1]>q_alpha_hat)\n",
      "/scratch/slurm_tmpdir/job_20161971/ipykernel_3598697/3406871675.py:15: RuntimeWarning: invalid value encountered in multiply\n",
      "  return np.sqrt(f(y=L[:,0])/f_theta(y=L[:,0],x=x))*(L[:,-1]>q_alpha_hat)\n"
     ]
    },
    {
     "output_type": "stream",
     "name": "stdout",
     "text": [
      "IS_NN: [-2.83891716  0.38290065]\n",
      "VaR_hat_NN: 8.307899475097656\n",
      "ES_hat_NN: 8.476432047663849\n",
      "q_alpha_IS_hat_RF: 8.420413848431652\n"
     ]
    },
    {
     "output_type": "stream",
     "name": "stderr",
     "text": [
      "/scratch/slurm_tmpdir/job_20161971/ipykernel_3598697/3406871675.py:15: RuntimeWarning: divide by zero encountered in true_divide\n",
      "  return np.sqrt(f(y=L[:,0])/f_theta(y=L[:,0],x=x))*(L[:,-1]>q_alpha_hat)\n",
      "/scratch/slurm_tmpdir/job_20161971/ipykernel_3598697/3406871675.py:15: RuntimeWarning: overflow encountered in true_divide\n",
      "  return np.sqrt(f(y=L[:,0])/f_theta(y=L[:,0],x=x))*(L[:,-1]>q_alpha_hat)\n",
      "/scratch/slurm_tmpdir/job_20161971/ipykernel_3598697/3406871675.py:15: RuntimeWarning: invalid value encountered in multiply\n",
      "  return np.sqrt(f(y=L[:,0])/f_theta(y=L[:,0],x=x))*(L[:,-1]>q_alpha_hat)\n"
     ]
    },
    {
     "output_type": "stream",
     "name": "stdout",
     "text": [
      "IS_RF: [-2.70164814  0.41556291]\n",
      "VaR_hat_RF: 8.333755419309167\n",
      "ES_hat_RF: 8.510015236917603\n",
      "16\n",
      "q_alpha_IS_hat_NN: 8.309271812438965\n"
     ]
    },
    {
     "output_type": "stream",
     "name": "stderr",
     "text": [
      "/scratch/slurm_tmpdir/job_20161971/ipykernel_3598697/3406871675.py:15: RuntimeWarning: divide by zero encountered in true_divide\n",
      "  return np.sqrt(f(y=L[:,0])/f_theta(y=L[:,0],x=x))*(L[:,-1]>q_alpha_hat)\n",
      "/scratch/slurm_tmpdir/job_20161971/ipykernel_3598697/3406871675.py:15: RuntimeWarning: overflow encountered in true_divide\n",
      "  return np.sqrt(f(y=L[:,0])/f_theta(y=L[:,0],x=x))*(L[:,-1]>q_alpha_hat)\n",
      "/scratch/slurm_tmpdir/job_20161971/ipykernel_3598697/3406871675.py:15: RuntimeWarning: invalid value encountered in multiply\n",
      "  return np.sqrt(f(y=L[:,0])/f_theta(y=L[:,0],x=x))*(L[:,-1]>q_alpha_hat)\n"
     ]
    },
    {
     "output_type": "stream",
     "name": "stdout",
     "text": [
      "IS_NN: [-2.82975136  0.38203248]\n",
      "VaR_hat_NN: 8.321012496948242\n",
      "ES_hat_NN: 8.510332447645302\n",
      "q_alpha_IS_hat_RF: 8.235848819088519\n"
     ]
    },
    {
     "output_type": "stream",
     "name": "stderr",
     "text": [
      "/scratch/slurm_tmpdir/job_20161971/ipykernel_3598697/3406871675.py:15: RuntimeWarning: divide by zero encountered in true_divide\n",
      "  return np.sqrt(f(y=L[:,0])/f_theta(y=L[:,0],x=x))*(L[:,-1]>q_alpha_hat)\n",
      "/scratch/slurm_tmpdir/job_20161971/ipykernel_3598697/3406871675.py:15: RuntimeWarning: overflow encountered in true_divide\n",
      "  return np.sqrt(f(y=L[:,0])/f_theta(y=L[:,0],x=x))*(L[:,-1]>q_alpha_hat)\n",
      "/scratch/slurm_tmpdir/job_20161971/ipykernel_3598697/3406871675.py:15: RuntimeWarning: invalid value encountered in multiply\n",
      "  return np.sqrt(f(y=L[:,0])/f_theta(y=L[:,0],x=x))*(L[:,-1]>q_alpha_hat)\n"
     ]
    },
    {
     "output_type": "stream",
     "name": "stdout",
     "text": [
      "IS_RF: [-2.62342126  0.43369313]\n",
      "VaR_hat_RF: 8.329814454695612\n",
      "ES_hat_RF: 8.509577921986244\n",
      "17\n",
      "q_alpha_IS_hat_NN: 8.063139915466309\n"
     ]
    },
    {
     "output_type": "stream",
     "name": "stderr",
     "text": [
      "/scratch/slurm_tmpdir/job_20161971/ipykernel_3598697/3406871675.py:15: RuntimeWarning: divide by zero encountered in true_divide\n",
      "  return np.sqrt(f(y=L[:,0])/f_theta(y=L[:,0],x=x))*(L[:,-1]>q_alpha_hat)\n",
      "/scratch/slurm_tmpdir/job_20161971/ipykernel_3598697/3406871675.py:15: RuntimeWarning: overflow encountered in true_divide\n",
      "  return np.sqrt(f(y=L[:,0])/f_theta(y=L[:,0],x=x))*(L[:,-1]>q_alpha_hat)\n",
      "/scratch/slurm_tmpdir/job_20161971/ipykernel_3598697/3406871675.py:15: RuntimeWarning: invalid value encountered in multiply\n",
      "  return np.sqrt(f(y=L[:,0])/f_theta(y=L[:,0],x=x))*(L[:,-1]>q_alpha_hat)\n"
     ]
    },
    {
     "output_type": "stream",
     "name": "stdout",
     "text": [
      "IS_NN: [-2.84851007  0.37595549]\n",
      "VaR_hat_NN: 8.306650161743164\n",
      "ES_hat_NN: 8.483730665671906\n",
      "q_alpha_IS_hat_RF: 8.474469001470226\n"
     ]
    },
    {
     "output_type": "stream",
     "name": "stderr",
     "text": [
      "/scratch/slurm_tmpdir/job_20161971/ipykernel_3598697/3406871675.py:15: RuntimeWarning: divide by zero encountered in true_divide\n",
      "  return np.sqrt(f(y=L[:,0])/f_theta(y=L[:,0],x=x))*(L[:,-1]>q_alpha_hat)\n",
      "/scratch/slurm_tmpdir/job_20161971/ipykernel_3598697/3406871675.py:15: RuntimeWarning: overflow encountered in true_divide\n",
      "  return np.sqrt(f(y=L[:,0])/f_theta(y=L[:,0],x=x))*(L[:,-1]>q_alpha_hat)\n",
      "/scratch/slurm_tmpdir/job_20161971/ipykernel_3598697/3406871675.py:15: RuntimeWarning: invalid value encountered in multiply\n",
      "  return np.sqrt(f(y=L[:,0])/f_theta(y=L[:,0],x=x))*(L[:,-1]>q_alpha_hat)\n"
     ]
    },
    {
     "output_type": "stream",
     "name": "stdout",
     "text": [
      "IS_RF: [-2.71776976  0.40986886]\n",
      "VaR_hat_RF: 8.327461209721852\n",
      "ES_hat_RF: 8.521745921043072\n",
      "18\n",
      "q_alpha_IS_hat_NN: 8.251781463623047\n"
     ]
    },
    {
     "output_type": "stream",
     "name": "stderr",
     "text": [
      "/scratch/slurm_tmpdir/job_20161971/ipykernel_3598697/3406871675.py:15: RuntimeWarning: divide by zero encountered in true_divide\n",
      "  return np.sqrt(f(y=L[:,0])/f_theta(y=L[:,0],x=x))*(L[:,-1]>q_alpha_hat)\n",
      "/scratch/slurm_tmpdir/job_20161971/ipykernel_3598697/3406871675.py:15: RuntimeWarning: overflow encountered in true_divide\n",
      "  return np.sqrt(f(y=L[:,0])/f_theta(y=L[:,0],x=x))*(L[:,-1]>q_alpha_hat)\n",
      "/scratch/slurm_tmpdir/job_20161971/ipykernel_3598697/3406871675.py:15: RuntimeWarning: invalid value encountered in multiply\n",
      "  return np.sqrt(f(y=L[:,0])/f_theta(y=L[:,0],x=x))*(L[:,-1]>q_alpha_hat)\n"
     ]
    },
    {
     "output_type": "stream",
     "name": "stdout",
     "text": [
      "IS_NN: [-2.83430742  0.40387603]\n",
      "VaR_hat_NN: 8.323625564575195\n",
      "ES_hat_NN: 8.491008078165452\n",
      "q_alpha_IS_hat_RF: 8.252710897599416\n",
      "IS_RF: [-2.40316907  0.50701792]\n",
      "VaR_hat_RF: 8.392544062905557\n",
      "ES_hat_RF: 8.524115713600617\n",
      "19\n",
      "q_alpha_IS_hat_NN: 7.7722930908203125\n"
     ]
    },
    {
     "output_type": "stream",
     "name": "stderr",
     "text": [
      "/scratch/slurm_tmpdir/job_20161971/ipykernel_3598697/3406871675.py:15: RuntimeWarning: divide by zero encountered in true_divide\n",
      "  return np.sqrt(f(y=L[:,0])/f_theta(y=L[:,0],x=x))*(L[:,-1]>q_alpha_hat)\n",
      "/scratch/slurm_tmpdir/job_20161971/ipykernel_3598697/3406871675.py:15: RuntimeWarning: overflow encountered in true_divide\n",
      "  return np.sqrt(f(y=L[:,0])/f_theta(y=L[:,0],x=x))*(L[:,-1]>q_alpha_hat)\n",
      "/scratch/slurm_tmpdir/job_20161971/ipykernel_3598697/3406871675.py:15: RuntimeWarning: invalid value encountered in multiply\n",
      "  return np.sqrt(f(y=L[:,0])/f_theta(y=L[:,0],x=x))*(L[:,-1]>q_alpha_hat)\n"
     ]
    },
    {
     "output_type": "stream",
     "name": "stdout",
     "text": [
      "IS_NN: [-2.83515036  0.36467535]\n",
      "VaR_hat_NN: 8.338129997253418\n",
      "ES_hat_NN: 8.525718598429908\n",
      "q_alpha_IS_hat_RF: 8.353972897625775\n"
     ]
    },
    {
     "output_type": "stream",
     "name": "stderr",
     "text": [
      "/scratch/slurm_tmpdir/job_20161971/ipykernel_3598697/3406871675.py:15: RuntimeWarning: divide by zero encountered in true_divide\n",
      "  return np.sqrt(f(y=L[:,0])/f_theta(y=L[:,0],x=x))*(L[:,-1]>q_alpha_hat)\n",
      "/scratch/slurm_tmpdir/job_20161971/ipykernel_3598697/3406871675.py:15: RuntimeWarning: overflow encountered in true_divide\n",
      "  return np.sqrt(f(y=L[:,0])/f_theta(y=L[:,0],x=x))*(L[:,-1]>q_alpha_hat)\n",
      "/scratch/slurm_tmpdir/job_20161971/ipykernel_3598697/3406871675.py:15: RuntimeWarning: invalid value encountered in multiply\n",
      "  return np.sqrt(f(y=L[:,0])/f_theta(y=L[:,0],x=x))*(L[:,-1]>q_alpha_hat)\n"
     ]
    },
    {
     "output_type": "stream",
     "name": "stdout",
     "text": [
      "IS_RF: [-2.68839657  0.40780654]\n",
      "VaR_hat_RF: 8.335851321291393\n",
      "ES_hat_RF: 8.523197259048706\n",
      "20\n",
      "q_alpha_IS_hat_NN: 7.99336576461792\n"
     ]
    },
    {
     "output_type": "stream",
     "name": "stderr",
     "text": [
      "/scratch/slurm_tmpdir/job_20161971/ipykernel_3598697/3406871675.py:15: RuntimeWarning: divide by zero encountered in true_divide\n",
      "  return np.sqrt(f(y=L[:,0])/f_theta(y=L[:,0],x=x))*(L[:,-1]>q_alpha_hat)\n",
      "/scratch/slurm_tmpdir/job_20161971/ipykernel_3598697/3406871675.py:15: RuntimeWarning: overflow encountered in true_divide\n",
      "  return np.sqrt(f(y=L[:,0])/f_theta(y=L[:,0],x=x))*(L[:,-1]>q_alpha_hat)\n",
      "/scratch/slurm_tmpdir/job_20161971/ipykernel_3598697/3406871675.py:15: RuntimeWarning: invalid value encountered in multiply\n",
      "  return np.sqrt(f(y=L[:,0])/f_theta(y=L[:,0],x=x))*(L[:,-1]>q_alpha_hat)\n"
     ]
    },
    {
     "output_type": "stream",
     "name": "stdout",
     "text": [
      "IS_NN: [-2.83810263  0.42718391]\n",
      "VaR_hat_NN: 8.331327438354492\n",
      "ES_hat_NN: 8.489408311577158\n",
      "q_alpha_IS_hat_RF: 8.640810392723271\n"
     ]
    },
    {
     "output_type": "stream",
     "name": "stderr",
     "text": [
      "/scratch/slurm_tmpdir/job_20161971/ipykernel_3598697/3406871675.py:15: RuntimeWarning: divide by zero encountered in true_divide\n",
      "  return np.sqrt(f(y=L[:,0])/f_theta(y=L[:,0],x=x))*(L[:,-1]>q_alpha_hat)\n",
      "/scratch/slurm_tmpdir/job_20161971/ipykernel_3598697/3406871675.py:15: RuntimeWarning: invalid value encountered in multiply\n",
      "  return np.sqrt(f(y=L[:,0])/f_theta(y=L[:,0],x=x))*(L[:,-1]>q_alpha_hat)\n"
     ]
    },
    {
     "output_type": "stream",
     "name": "stdout",
     "text": [
      "IS_RF: [-2.73685412  0.44678777]\n",
      "VaR_hat_RF: 8.358509817417815\n",
      "ES_hat_RF: 8.518697787310394\n",
      "21\n",
      "q_alpha_IS_hat_NN: 8.427526473999023\n"
     ]
    },
    {
     "output_type": "stream",
     "name": "stderr",
     "text": [
      "/scratch/slurm_tmpdir/job_20161971/ipykernel_3598697/3406871675.py:15: RuntimeWarning: divide by zero encountered in true_divide\n",
      "  return np.sqrt(f(y=L[:,0])/f_theta(y=L[:,0],x=x))*(L[:,-1]>q_alpha_hat)\n",
      "/scratch/slurm_tmpdir/job_20161971/ipykernel_3598697/3406871675.py:15: RuntimeWarning: overflow encountered in true_divide\n",
      "  return np.sqrt(f(y=L[:,0])/f_theta(y=L[:,0],x=x))*(L[:,-1]>q_alpha_hat)\n",
      "/scratch/slurm_tmpdir/job_20161971/ipykernel_3598697/3406871675.py:15: RuntimeWarning: invalid value encountered in multiply\n",
      "  return np.sqrt(f(y=L[:,0])/f_theta(y=L[:,0],x=x))*(L[:,-1]>q_alpha_hat)\n"
     ]
    },
    {
     "output_type": "stream",
     "name": "stdout",
     "text": [
      "IS_NN: [-2.84493692  0.41796277]\n",
      "VaR_hat_NN: 8.280406951904297\n",
      "ES_hat_NN: 8.476635095552533\n",
      "q_alpha_IS_hat_RF: 8.457367446889688\n"
     ]
    },
    {
     "output_type": "stream",
     "name": "stderr",
     "text": [
      "/scratch/slurm_tmpdir/job_20161971/ipykernel_3598697/3406871675.py:15: RuntimeWarning: divide by zero encountered in true_divide\n",
      "  return np.sqrt(f(y=L[:,0])/f_theta(y=L[:,0],x=x))*(L[:,-1]>q_alpha_hat)\n",
      "/scratch/slurm_tmpdir/job_20161971/ipykernel_3598697/3406871675.py:15: RuntimeWarning: overflow encountered in true_divide\n",
      "  return np.sqrt(f(y=L[:,0])/f_theta(y=L[:,0],x=x))*(L[:,-1]>q_alpha_hat)\n",
      "/scratch/slurm_tmpdir/job_20161971/ipykernel_3598697/3406871675.py:15: RuntimeWarning: invalid value encountered in multiply\n",
      "  return np.sqrt(f(y=L[:,0])/f_theta(y=L[:,0],x=x))*(L[:,-1]>q_alpha_hat)\n"
     ]
    },
    {
     "output_type": "stream",
     "name": "stdout",
     "text": [
      "IS_RF: [-2.63250069  0.46018364]\n",
      "VaR_hat_RF: 8.334430387804765\n",
      "ES_hat_RF: 8.50752426490902\n",
      "22\n",
      "q_alpha_IS_hat_NN: 8.115108489990234\n"
     ]
    },
    {
     "output_type": "stream",
     "name": "stderr",
     "text": [
      "/scratch/slurm_tmpdir/job_20161971/ipykernel_3598697/3406871675.py:15: RuntimeWarning: divide by zero encountered in true_divide\n",
      "  return np.sqrt(f(y=L[:,0])/f_theta(y=L[:,0],x=x))*(L[:,-1]>q_alpha_hat)\n",
      "/scratch/slurm_tmpdir/job_20161971/ipykernel_3598697/3406871675.py:15: RuntimeWarning: overflow encountered in true_divide\n",
      "  return np.sqrt(f(y=L[:,0])/f_theta(y=L[:,0],x=x))*(L[:,-1]>q_alpha_hat)\n",
      "/scratch/slurm_tmpdir/job_20161971/ipykernel_3598697/3406871675.py:15: RuntimeWarning: invalid value encountered in multiply\n",
      "  return np.sqrt(f(y=L[:,0])/f_theta(y=L[:,0],x=x))*(L[:,-1]>q_alpha_hat)\n"
     ]
    },
    {
     "output_type": "stream",
     "name": "stdout",
     "text": [
      "IS_NN: [-2.8500511   0.34842824]\n",
      "VaR_hat_NN: 8.332576751708984\n",
      "ES_hat_NN: 8.498293488158046\n",
      "q_alpha_IS_hat_RF: 8.595099857259367\n"
     ]
    },
    {
     "output_type": "stream",
     "name": "stderr",
     "text": [
      "/scratch/slurm_tmpdir/job_20161971/ipykernel_3598697/3406871675.py:15: RuntimeWarning: divide by zero encountered in true_divide\n",
      "  return np.sqrt(f(y=L[:,0])/f_theta(y=L[:,0],x=x))*(L[:,-1]>q_alpha_hat)\n",
      "/scratch/slurm_tmpdir/job_20161971/ipykernel_3598697/3406871675.py:15: RuntimeWarning: overflow encountered in true_divide\n",
      "  return np.sqrt(f(y=L[:,0])/f_theta(y=L[:,0],x=x))*(L[:,-1]>q_alpha_hat)\n",
      "/scratch/slurm_tmpdir/job_20161971/ipykernel_3598697/3406871675.py:15: RuntimeWarning: invalid value encountered in multiply\n",
      "  return np.sqrt(f(y=L[:,0])/f_theta(y=L[:,0],x=x))*(L[:,-1]>q_alpha_hat)\n"
     ]
    },
    {
     "output_type": "stream",
     "name": "stdout",
     "text": [
      "IS_RF: [-2.62178132  0.41021723]\n",
      "VaR_hat_RF: 8.350566468536762\n",
      "ES_hat_RF: 8.520532411522728\n",
      "23\n",
      "q_alpha_IS_hat_NN: 7.31969690322876\n"
     ]
    },
    {
     "output_type": "stream",
     "name": "stderr",
     "text": [
      "/scratch/slurm_tmpdir/job_20161971/ipykernel_3598697/3406871675.py:15: RuntimeWarning: divide by zero encountered in true_divide\n",
      "  return np.sqrt(f(y=L[:,0])/f_theta(y=L[:,0],x=x))*(L[:,-1]>q_alpha_hat)\n",
      "/scratch/slurm_tmpdir/job_20161971/ipykernel_3598697/3406871675.py:15: RuntimeWarning: overflow encountered in true_divide\n",
      "  return np.sqrt(f(y=L[:,0])/f_theta(y=L[:,0],x=x))*(L[:,-1]>q_alpha_hat)\n",
      "/scratch/slurm_tmpdir/job_20161971/ipykernel_3598697/3406871675.py:15: RuntimeWarning: invalid value encountered in multiply\n",
      "  return np.sqrt(f(y=L[:,0])/f_theta(y=L[:,0],x=x))*(L[:,-1]>q_alpha_hat)\n"
     ]
    },
    {
     "output_type": "stream",
     "name": "stdout",
     "text": [
      "IS_NN: [-2.82159727  0.30689705]\n",
      "VaR_hat_NN: 8.30628776550293\n",
      "ES_hat_NN: 8.48955922838632\n",
      "q_alpha_IS_hat_RF: 8.368434100618053\n"
     ]
    },
    {
     "output_type": "stream",
     "name": "stderr",
     "text": [
      "/scratch/slurm_tmpdir/job_20161971/ipykernel_3598697/3406871675.py:15: RuntimeWarning: divide by zero encountered in true_divide\n",
      "  return np.sqrt(f(y=L[:,0])/f_theta(y=L[:,0],x=x))*(L[:,-1]>q_alpha_hat)\n",
      "/scratch/slurm_tmpdir/job_20161971/ipykernel_3598697/3406871675.py:15: RuntimeWarning: overflow encountered in true_divide\n",
      "  return np.sqrt(f(y=L[:,0])/f_theta(y=L[:,0],x=x))*(L[:,-1]>q_alpha_hat)\n",
      "/scratch/slurm_tmpdir/job_20161971/ipykernel_3598697/3406871675.py:15: RuntimeWarning: invalid value encountered in multiply\n",
      "  return np.sqrt(f(y=L[:,0])/f_theta(y=L[:,0],x=x))*(L[:,-1]>q_alpha_hat)\n"
     ]
    },
    {
     "output_type": "stream",
     "name": "stdout",
     "text": [
      "IS_RF: [-2.62283891  0.43800592]\n",
      "VaR_hat_RF: 8.33179012264407\n",
      "ES_hat_RF: 8.518716680482589\n",
      "24\n",
      "q_alpha_IS_hat_NN: 8.106908798217773\n"
     ]
    },
    {
     "output_type": "stream",
     "name": "stderr",
     "text": [
      "/scratch/slurm_tmpdir/job_20161971/ipykernel_3598697/3406871675.py:15: RuntimeWarning: divide by zero encountered in true_divide\n",
      "  return np.sqrt(f(y=L[:,0])/f_theta(y=L[:,0],x=x))*(L[:,-1]>q_alpha_hat)\n",
      "/scratch/slurm_tmpdir/job_20161971/ipykernel_3598697/3406871675.py:15: RuntimeWarning: overflow encountered in true_divide\n",
      "  return np.sqrt(f(y=L[:,0])/f_theta(y=L[:,0],x=x))*(L[:,-1]>q_alpha_hat)\n",
      "/scratch/slurm_tmpdir/job_20161971/ipykernel_3598697/3406871675.py:15: RuntimeWarning: invalid value encountered in multiply\n",
      "  return np.sqrt(f(y=L[:,0])/f_theta(y=L[:,0],x=x))*(L[:,-1]>q_alpha_hat)\n"
     ]
    },
    {
     "output_type": "stream",
     "name": "stdout",
     "text": [
      "IS_NN: [-2.84658265  0.37729461]\n",
      "VaR_hat_NN: 8.380830764770508\n",
      "ES_hat_NN: 8.542817619373476\n",
      "q_alpha_IS_hat_RF: 8.243022761086488\n",
      "IS_RF: [-2.23777925  0.58110866]\n",
      "VaR_hat_RF: 8.373031007619899\n",
      "ES_hat_RF: 8.537459204840134\n",
      "25\n",
      "q_alpha_IS_hat_NN: 8.24880313873291\n"
     ]
    },
    {
     "output_type": "stream",
     "name": "stderr",
     "text": [
      "/scratch/slurm_tmpdir/job_20161971/ipykernel_3598697/3406871675.py:15: RuntimeWarning: divide by zero encountered in true_divide\n",
      "  return np.sqrt(f(y=L[:,0])/f_theta(y=L[:,0],x=x))*(L[:,-1]>q_alpha_hat)\n",
      "/scratch/slurm_tmpdir/job_20161971/ipykernel_3598697/3406871675.py:15: RuntimeWarning: overflow encountered in true_divide\n",
      "  return np.sqrt(f(y=L[:,0])/f_theta(y=L[:,0],x=x))*(L[:,-1]>q_alpha_hat)\n",
      "/scratch/slurm_tmpdir/job_20161971/ipykernel_3598697/3406871675.py:15: RuntimeWarning: invalid value encountered in multiply\n",
      "  return np.sqrt(f(y=L[:,0])/f_theta(y=L[:,0],x=x))*(L[:,-1]>q_alpha_hat)\n"
     ]
    },
    {
     "output_type": "stream",
     "name": "stdout",
     "text": [
      "IS_NN: [-2.8462957   0.37811977]\n",
      "VaR_hat_NN: 8.360787391662598\n",
      "ES_hat_NN: 8.518958282975502\n",
      "q_alpha_IS_hat_RF: 8.554469933361386\n"
     ]
    },
    {
     "output_type": "stream",
     "name": "stderr",
     "text": [
      "/scratch/slurm_tmpdir/job_20161971/ipykernel_3598697/3406871675.py:15: RuntimeWarning: divide by zero encountered in true_divide\n",
      "  return np.sqrt(f(y=L[:,0])/f_theta(y=L[:,0],x=x))*(L[:,-1]>q_alpha_hat)\n",
      "/scratch/slurm_tmpdir/job_20161971/ipykernel_3598697/3406871675.py:15: RuntimeWarning: overflow encountered in true_divide\n",
      "  return np.sqrt(f(y=L[:,0])/f_theta(y=L[:,0],x=x))*(L[:,-1]>q_alpha_hat)\n",
      "/scratch/slurm_tmpdir/job_20161971/ipykernel_3598697/3406871675.py:15: RuntimeWarning: invalid value encountered in multiply\n",
      "  return np.sqrt(f(y=L[:,0])/f_theta(y=L[:,0],x=x))*(L[:,-1]>q_alpha_hat)\n"
     ]
    },
    {
     "output_type": "stream",
     "name": "stdout",
     "text": [
      "IS_RF: [-2.61164938  0.43603504]\n",
      "VaR_hat_RF: 8.327491673502895\n",
      "ES_hat_RF: 8.495932294611329\n",
      "26\n",
      "q_alpha_IS_hat_NN: 8.356345176696777\n",
      "IS_NN: [-2.83952018  0.43548364]\n",
      "VaR_hat_NN: 8.392318725585938\n",
      "ES_hat_NN: 8.538846223757874\n",
      "q_alpha_IS_hat_RF: 8.652919186335074\n",
      "IS_RF: [-2.54170275  0.49068937]\n",
      "VaR_hat_RF: 8.334863303265807\n",
      "ES_hat_RF: 8.50985928834334\n",
      "27\n",
      "q_alpha_IS_hat_NN: 7.5119781494140625\n"
     ]
    },
    {
     "output_type": "stream",
     "name": "stderr",
     "text": [
      "/scratch/slurm_tmpdir/job_20161971/ipykernel_3598697/3406871675.py:15: RuntimeWarning: divide by zero encountered in true_divide\n",
      "  return np.sqrt(f(y=L[:,0])/f_theta(y=L[:,0],x=x))*(L[:,-1]>q_alpha_hat)\n",
      "/scratch/slurm_tmpdir/job_20161971/ipykernel_3598697/3406871675.py:15: RuntimeWarning: overflow encountered in true_divide\n",
      "  return np.sqrt(f(y=L[:,0])/f_theta(y=L[:,0],x=x))*(L[:,-1]>q_alpha_hat)\n",
      "/scratch/slurm_tmpdir/job_20161971/ipykernel_3598697/3406871675.py:15: RuntimeWarning: invalid value encountered in multiply\n",
      "  return np.sqrt(f(y=L[:,0])/f_theta(y=L[:,0],x=x))*(L[:,-1]>q_alpha_hat)\n"
     ]
    },
    {
     "output_type": "stream",
     "name": "stdout",
     "text": [
      "IS_NN: [-2.83561997  0.41979544]\n",
      "VaR_hat_NN: 8.33442211151123\n",
      "ES_hat_NN: 8.502964767697367\n",
      "q_alpha_IS_hat_RF: 8.61344815285514\n"
     ]
    },
    {
     "output_type": "stream",
     "name": "stderr",
     "text": [
      "/scratch/slurm_tmpdir/job_20161971/ipykernel_3598697/3406871675.py:15: RuntimeWarning: divide by zero encountered in true_divide\n",
      "  return np.sqrt(f(y=L[:,0])/f_theta(y=L[:,0],x=x))*(L[:,-1]>q_alpha_hat)\n",
      "/scratch/slurm_tmpdir/job_20161971/ipykernel_3598697/3406871675.py:15: RuntimeWarning: overflow encountered in true_divide\n",
      "  return np.sqrt(f(y=L[:,0])/f_theta(y=L[:,0],x=x))*(L[:,-1]>q_alpha_hat)\n",
      "/scratch/slurm_tmpdir/job_20161971/ipykernel_3598697/3406871675.py:15: RuntimeWarning: invalid value encountered in multiply\n",
      "  return np.sqrt(f(y=L[:,0])/f_theta(y=L[:,0],x=x))*(L[:,-1]>q_alpha_hat)\n"
     ]
    },
    {
     "output_type": "stream",
     "name": "stdout",
     "text": [
      "IS_RF: [-2.69578421  0.45245569]\n",
      "VaR_hat_RF: 8.33030921622198\n",
      "ES_hat_RF: 8.517789690459066\n",
      "28\n",
      "q_alpha_IS_hat_NN: 8.13591480255127\n"
     ]
    },
    {
     "output_type": "stream",
     "name": "stderr",
     "text": [
      "/scratch/slurm_tmpdir/job_20161971/ipykernel_3598697/3406871675.py:15: RuntimeWarning: divide by zero encountered in true_divide\n",
      "  return np.sqrt(f(y=L[:,0])/f_theta(y=L[:,0],x=x))*(L[:,-1]>q_alpha_hat)\n",
      "/scratch/slurm_tmpdir/job_20161971/ipykernel_3598697/3406871675.py:15: RuntimeWarning: overflow encountered in true_divide\n",
      "  return np.sqrt(f(y=L[:,0])/f_theta(y=L[:,0],x=x))*(L[:,-1]>q_alpha_hat)\n",
      "/scratch/slurm_tmpdir/job_20161971/ipykernel_3598697/3406871675.py:15: RuntimeWarning: invalid value encountered in multiply\n",
      "  return np.sqrt(f(y=L[:,0])/f_theta(y=L[:,0],x=x))*(L[:,-1]>q_alpha_hat)\n"
     ]
    },
    {
     "output_type": "stream",
     "name": "stdout",
     "text": [
      "IS_NN: [-2.83741018  0.3795482 ]\n",
      "VaR_hat_NN: 8.363471031188965\n",
      "ES_hat_NN: 8.531852070390807\n",
      "q_alpha_IS_hat_RF: 8.513190957832448\n"
     ]
    },
    {
     "output_type": "stream",
     "name": "stderr",
     "text": [
      "/scratch/slurm_tmpdir/job_20161971/ipykernel_3598697/3406871675.py:15: RuntimeWarning: divide by zero encountered in true_divide\n",
      "  return np.sqrt(f(y=L[:,0])/f_theta(y=L[:,0],x=x))*(L[:,-1]>q_alpha_hat)\n",
      "/scratch/slurm_tmpdir/job_20161971/ipykernel_3598697/3406871675.py:15: RuntimeWarning: overflow encountered in true_divide\n",
      "  return np.sqrt(f(y=L[:,0])/f_theta(y=L[:,0],x=x))*(L[:,-1]>q_alpha_hat)\n",
      "/scratch/slurm_tmpdir/job_20161971/ipykernel_3598697/3406871675.py:15: RuntimeWarning: invalid value encountered in multiply\n",
      "  return np.sqrt(f(y=L[:,0])/f_theta(y=L[:,0],x=x))*(L[:,-1]>q_alpha_hat)\n"
     ]
    },
    {
     "output_type": "stream",
     "name": "stdout",
     "text": [
      "IS_RF: [-2.79357067  0.39160339]\n",
      "VaR_hat_RF: 8.349050312665387\n",
      "ES_hat_RF: 8.514029452684902\n",
      "29\n",
      "q_alpha_IS_hat_NN: 8.359915733337402\n"
     ]
    },
    {
     "output_type": "stream",
     "name": "stderr",
     "text": [
      "/scratch/slurm_tmpdir/job_20161971/ipykernel_3598697/3406871675.py:15: RuntimeWarning: divide by zero encountered in true_divide\n",
      "  return np.sqrt(f(y=L[:,0])/f_theta(y=L[:,0],x=x))*(L[:,-1]>q_alpha_hat)\n",
      "/scratch/slurm_tmpdir/job_20161971/ipykernel_3598697/3406871675.py:15: RuntimeWarning: overflow encountered in true_divide\n",
      "  return np.sqrt(f(y=L[:,0])/f_theta(y=L[:,0],x=x))*(L[:,-1]>q_alpha_hat)\n",
      "/scratch/slurm_tmpdir/job_20161971/ipykernel_3598697/3406871675.py:15: RuntimeWarning: invalid value encountered in multiply\n",
      "  return np.sqrt(f(y=L[:,0])/f_theta(y=L[:,0],x=x))*(L[:,-1]>q_alpha_hat)\n"
     ]
    },
    {
     "output_type": "stream",
     "name": "stdout",
     "text": [
      "IS_NN: [-2.84518236  0.36972726]\n",
      "VaR_hat_NN: 8.376623153686523\n",
      "ES_hat_NN: 8.532585764215906\n",
      "q_alpha_IS_hat_RF: 8.41107057028394\n"
     ]
    },
    {
     "output_type": "stream",
     "name": "stderr",
     "text": [
      "/scratch/slurm_tmpdir/job_20161971/ipykernel_3598697/3406871675.py:15: RuntimeWarning: divide by zero encountered in true_divide\n",
      "  return np.sqrt(f(y=L[:,0])/f_theta(y=L[:,0],x=x))*(L[:,-1]>q_alpha_hat)\n",
      "/scratch/slurm_tmpdir/job_20161971/ipykernel_3598697/3406871675.py:15: RuntimeWarning: overflow encountered in true_divide\n",
      "  return np.sqrt(f(y=L[:,0])/f_theta(y=L[:,0],x=x))*(L[:,-1]>q_alpha_hat)\n",
      "/scratch/slurm_tmpdir/job_20161971/ipykernel_3598697/3406871675.py:15: RuntimeWarning: invalid value encountered in multiply\n",
      "  return np.sqrt(f(y=L[:,0])/f_theta(y=L[:,0],x=x))*(L[:,-1]>q_alpha_hat)\n"
     ]
    },
    {
     "output_type": "stream",
     "name": "stdout",
     "text": [
      "IS_RF: [-2.72692343  0.39913598]\n",
      "VaR_hat_RF: 8.337483034411061\n",
      "ES_hat_RF: 8.5015933864078\n",
      "30\n",
      "q_alpha_IS_hat_NN: 8.485702514648438\n"
     ]
    },
    {
     "output_type": "stream",
     "name": "stderr",
     "text": [
      "/scratch/slurm_tmpdir/job_20161971/ipykernel_3598697/3406871675.py:15: RuntimeWarning: divide by zero encountered in true_divide\n",
      "  return np.sqrt(f(y=L[:,0])/f_theta(y=L[:,0],x=x))*(L[:,-1]>q_alpha_hat)\n",
      "/scratch/slurm_tmpdir/job_20161971/ipykernel_3598697/3406871675.py:15: RuntimeWarning: overflow encountered in true_divide\n",
      "  return np.sqrt(f(y=L[:,0])/f_theta(y=L[:,0],x=x))*(L[:,-1]>q_alpha_hat)\n",
      "/scratch/slurm_tmpdir/job_20161971/ipykernel_3598697/3406871675.py:15: RuntimeWarning: invalid value encountered in multiply\n",
      "  return np.sqrt(f(y=L[:,0])/f_theta(y=L[:,0],x=x))*(L[:,-1]>q_alpha_hat)\n"
     ]
    },
    {
     "output_type": "stream",
     "name": "stdout",
     "text": [
      "IS_NN: [-2.85040564  0.40074754]\n",
      "VaR_hat_NN: 8.412383079528809\n",
      "ES_hat_NN: 8.572101846771535\n",
      "q_alpha_IS_hat_RF: 8.352501444795632\n"
     ]
    },
    {
     "output_type": "stream",
     "name": "stderr",
     "text": [
      "/scratch/slurm_tmpdir/job_20161971/ipykernel_3598697/3406871675.py:15: RuntimeWarning: divide by zero encountered in true_divide\n",
      "  return np.sqrt(f(y=L[:,0])/f_theta(y=L[:,0],x=x))*(L[:,-1]>q_alpha_hat)\n",
      "/scratch/slurm_tmpdir/job_20161971/ipykernel_3598697/3406871675.py:15: RuntimeWarning: overflow encountered in true_divide\n",
      "  return np.sqrt(f(y=L[:,0])/f_theta(y=L[:,0],x=x))*(L[:,-1]>q_alpha_hat)\n",
      "/scratch/slurm_tmpdir/job_20161971/ipykernel_3598697/3406871675.py:15: RuntimeWarning: invalid value encountered in multiply\n",
      "  return np.sqrt(f(y=L[:,0])/f_theta(y=L[:,0],x=x))*(L[:,-1]>q_alpha_hat)\n"
     ]
    },
    {
     "output_type": "stream",
     "name": "stdout",
     "text": [
      "IS_RF: [-2.60346269  0.4577171 ]\n",
      "VaR_hat_RF: 8.345713791302735\n",
      "ES_hat_RF: 8.50772060999839\n",
      "31\n",
      "q_alpha_IS_hat_NN: 8.490582466125488\n"
     ]
    },
    {
     "output_type": "stream",
     "name": "stderr",
     "text": [
      "/scratch/slurm_tmpdir/job_20161971/ipykernel_3598697/3406871675.py:15: RuntimeWarning: divide by zero encountered in true_divide\n",
      "  return np.sqrt(f(y=L[:,0])/f_theta(y=L[:,0],x=x))*(L[:,-1]>q_alpha_hat)\n",
      "/scratch/slurm_tmpdir/job_20161971/ipykernel_3598697/3406871675.py:15: RuntimeWarning: overflow encountered in true_divide\n",
      "  return np.sqrt(f(y=L[:,0])/f_theta(y=L[:,0],x=x))*(L[:,-1]>q_alpha_hat)\n",
      "/scratch/slurm_tmpdir/job_20161971/ipykernel_3598697/3406871675.py:15: RuntimeWarning: invalid value encountered in multiply\n",
      "  return np.sqrt(f(y=L[:,0])/f_theta(y=L[:,0],x=x))*(L[:,-1]>q_alpha_hat)\n"
     ]
    },
    {
     "output_type": "stream",
     "name": "stdout",
     "text": [
      "IS_NN: [-2.84562334  0.38848997]\n",
      "VaR_hat_NN: 8.346435546875\n",
      "ES_hat_NN: 8.512254302635355\n",
      "q_alpha_IS_hat_RF: 8.528324350077737\n",
      "IS_RF: [-2.48688838  0.47132866]\n",
      "VaR_hat_RF: 8.340561194297395\n",
      "ES_hat_RF: 8.51380920095166\n",
      "32\n",
      "q_alpha_IS_hat_NN: 8.299111366271973\n",
      "IS_NN: [-2.84187843  0.49173312]\n",
      "VaR_hat_NN: 8.3516845703125\n",
      "ES_hat_NN: 8.523221875784586\n",
      "q_alpha_IS_hat_RF: 8.602366818406201\n",
      "IS_RF: [-2.65335394  0.52358836]\n",
      "VaR_hat_RF: 8.327603910856894\n",
      "ES_hat_RF: 8.508791292976582\n",
      "33\n",
      "q_alpha_IS_hat_NN: 8.158342361450195\n"
     ]
    },
    {
     "output_type": "stream",
     "name": "stderr",
     "text": [
      "/scratch/slurm_tmpdir/job_20161971/ipykernel_3598697/3406871675.py:15: RuntimeWarning: divide by zero encountered in true_divide\n",
      "  return np.sqrt(f(y=L[:,0])/f_theta(y=L[:,0],x=x))*(L[:,-1]>q_alpha_hat)\n",
      "/scratch/slurm_tmpdir/job_20161971/ipykernel_3598697/3406871675.py:15: RuntimeWarning: overflow encountered in true_divide\n",
      "  return np.sqrt(f(y=L[:,0])/f_theta(y=L[:,0],x=x))*(L[:,-1]>q_alpha_hat)\n",
      "/scratch/slurm_tmpdir/job_20161971/ipykernel_3598697/3406871675.py:15: RuntimeWarning: invalid value encountered in multiply\n",
      "  return np.sqrt(f(y=L[:,0])/f_theta(y=L[:,0],x=x))*(L[:,-1]>q_alpha_hat)\n"
     ]
    },
    {
     "output_type": "stream",
     "name": "stdout",
     "text": [
      "IS_NN: [-2.84457737  0.4066277 ]\n",
      "VaR_hat_NN: 8.34870433807373\n",
      "ES_hat_NN: 8.5261863086184\n",
      "q_alpha_IS_hat_RF: 8.636583755360412\n",
      "IS_RF: [-2.41965161  0.51564942]\n",
      "VaR_hat_RF: 8.331226513425007\n",
      "ES_hat_RF: 8.517913476528747\n",
      "34\n",
      "q_alpha_IS_hat_NN: 8.175130844116211\n"
     ]
    },
    {
     "output_type": "stream",
     "name": "stderr",
     "text": [
      "/scratch/slurm_tmpdir/job_20161971/ipykernel_3598697/3406871675.py:15: RuntimeWarning: divide by zero encountered in true_divide\n",
      "  return np.sqrt(f(y=L[:,0])/f_theta(y=L[:,0],x=x))*(L[:,-1]>q_alpha_hat)\n",
      "/scratch/slurm_tmpdir/job_20161971/ipykernel_3598697/3406871675.py:15: RuntimeWarning: overflow encountered in true_divide\n",
      "  return np.sqrt(f(y=L[:,0])/f_theta(y=L[:,0],x=x))*(L[:,-1]>q_alpha_hat)\n",
      "/scratch/slurm_tmpdir/job_20161971/ipykernel_3598697/3406871675.py:15: RuntimeWarning: invalid value encountered in multiply\n",
      "  return np.sqrt(f(y=L[:,0])/f_theta(y=L[:,0],x=x))*(L[:,-1]>q_alpha_hat)\n"
     ]
    },
    {
     "output_type": "stream",
     "name": "stdout",
     "text": [
      "IS_NN: [-2.83191394  0.38994867]\n",
      "VaR_hat_NN: 8.419390678405762\n",
      "ES_hat_NN: 8.562276634105853\n",
      "q_alpha_IS_hat_RF: 8.567437837642665\n"
     ]
    },
    {
     "output_type": "stream",
     "name": "stderr",
     "text": [
      "/scratch/slurm_tmpdir/job_20161971/ipykernel_3598697/3406871675.py:15: RuntimeWarning: divide by zero encountered in true_divide\n",
      "  return np.sqrt(f(y=L[:,0])/f_theta(y=L[:,0],x=x))*(L[:,-1]>q_alpha_hat)\n",
      "/scratch/slurm_tmpdir/job_20161971/ipykernel_3598697/3406871675.py:15: RuntimeWarning: overflow encountered in true_divide\n",
      "  return np.sqrt(f(y=L[:,0])/f_theta(y=L[:,0],x=x))*(L[:,-1]>q_alpha_hat)\n",
      "/scratch/slurm_tmpdir/job_20161971/ipykernel_3598697/3406871675.py:15: RuntimeWarning: invalid value encountered in multiply\n",
      "  return np.sqrt(f(y=L[:,0])/f_theta(y=L[:,0],x=x))*(L[:,-1]>q_alpha_hat)\n"
     ]
    },
    {
     "output_type": "stream",
     "name": "stdout",
     "text": [
      "IS_RF: [-2.6440521   0.43110773]\n",
      "VaR_hat_RF: 8.356899541796802\n",
      "ES_hat_RF: 8.52552722349161\n",
      "35\n",
      "q_alpha_IS_hat_NN: 8.05130386352539\n"
     ]
    },
    {
     "output_type": "stream",
     "name": "stderr",
     "text": [
      "/scratch/slurm_tmpdir/job_20161971/ipykernel_3598697/3406871675.py:15: RuntimeWarning: divide by zero encountered in true_divide\n",
      "  return np.sqrt(f(y=L[:,0])/f_theta(y=L[:,0],x=x))*(L[:,-1]>q_alpha_hat)\n",
      "/scratch/slurm_tmpdir/job_20161971/ipykernel_3598697/3406871675.py:15: RuntimeWarning: overflow encountered in true_divide\n",
      "  return np.sqrt(f(y=L[:,0])/f_theta(y=L[:,0],x=x))*(L[:,-1]>q_alpha_hat)\n",
      "/scratch/slurm_tmpdir/job_20161971/ipykernel_3598697/3406871675.py:15: RuntimeWarning: invalid value encountered in multiply\n",
      "  return np.sqrt(f(y=L[:,0])/f_theta(y=L[:,0],x=x))*(L[:,-1]>q_alpha_hat)\n"
     ]
    },
    {
     "output_type": "stream",
     "name": "stdout",
     "text": [
      "IS_NN: [-2.83807801  0.37605005]\n",
      "VaR_hat_NN: 8.354121208190918\n",
      "ES_hat_NN: 8.515334602310356\n",
      "q_alpha_IS_hat_RF: 8.50906059223038\n"
     ]
    },
    {
     "output_type": "stream",
     "name": "stderr",
     "text": [
      "/scratch/slurm_tmpdir/job_20161971/ipykernel_3598697/3406871675.py:15: RuntimeWarning: divide by zero encountered in true_divide\n",
      "  return np.sqrt(f(y=L[:,0])/f_theta(y=L[:,0],x=x))*(L[:,-1]>q_alpha_hat)\n",
      "/scratch/slurm_tmpdir/job_20161971/ipykernel_3598697/3406871675.py:15: RuntimeWarning: overflow encountered in true_divide\n",
      "  return np.sqrt(f(y=L[:,0])/f_theta(y=L[:,0],x=x))*(L[:,-1]>q_alpha_hat)\n",
      "/scratch/slurm_tmpdir/job_20161971/ipykernel_3598697/3406871675.py:15: RuntimeWarning: invalid value encountered in multiply\n",
      "  return np.sqrt(f(y=L[:,0])/f_theta(y=L[:,0],x=x))*(L[:,-1]>q_alpha_hat)\n"
     ]
    },
    {
     "output_type": "stream",
     "name": "stdout",
     "text": [
      "IS_RF: [-2.6187513   0.44127853]\n",
      "VaR_hat_RF: 8.335427000531304\n",
      "ES_hat_RF: 8.510804967376627\n",
      "36\n",
      "q_alpha_IS_hat_NN: 8.174012184143066\n"
     ]
    },
    {
     "output_type": "stream",
     "name": "stderr",
     "text": [
      "/scratch/slurm_tmpdir/job_20161971/ipykernel_3598697/3406871675.py:15: RuntimeWarning: divide by zero encountered in true_divide\n",
      "  return np.sqrt(f(y=L[:,0])/f_theta(y=L[:,0],x=x))*(L[:,-1]>q_alpha_hat)\n",
      "/scratch/slurm_tmpdir/job_20161971/ipykernel_3598697/3406871675.py:15: RuntimeWarning: overflow encountered in true_divide\n",
      "  return np.sqrt(f(y=L[:,0])/f_theta(y=L[:,0],x=x))*(L[:,-1]>q_alpha_hat)\n",
      "/scratch/slurm_tmpdir/job_20161971/ipykernel_3598697/3406871675.py:15: RuntimeWarning: invalid value encountered in multiply\n",
      "  return np.sqrt(f(y=L[:,0])/f_theta(y=L[:,0],x=x))*(L[:,-1]>q_alpha_hat)\n"
     ]
    },
    {
     "output_type": "stream",
     "name": "stdout",
     "text": [
      "IS_NN: [-2.83449678  0.39102364]\n",
      "VaR_hat_NN: 8.358487129211426\n",
      "ES_hat_NN: 8.522532901226876\n",
      "q_alpha_IS_hat_RF: 8.363657793207413\n",
      "IS_RF: [-2.50385684  0.46914424]\n",
      "VaR_hat_RF: 8.355002454442243\n",
      "ES_hat_RF: 8.516295449055022\n",
      "37\n",
      "q_alpha_IS_hat_NN: 7.865207672119141\n"
     ]
    },
    {
     "output_type": "stream",
     "name": "stderr",
     "text": [
      "/scratch/slurm_tmpdir/job_20161971/ipykernel_3598697/3406871675.py:15: RuntimeWarning: divide by zero encountered in true_divide\n",
      "  return np.sqrt(f(y=L[:,0])/f_theta(y=L[:,0],x=x))*(L[:,-1]>q_alpha_hat)\n",
      "/scratch/slurm_tmpdir/job_20161971/ipykernel_3598697/3406871675.py:15: RuntimeWarning: overflow encountered in true_divide\n",
      "  return np.sqrt(f(y=L[:,0])/f_theta(y=L[:,0],x=x))*(L[:,-1]>q_alpha_hat)\n",
      "/scratch/slurm_tmpdir/job_20161971/ipykernel_3598697/3406871675.py:15: RuntimeWarning: invalid value encountered in multiply\n",
      "  return np.sqrt(f(y=L[:,0])/f_theta(y=L[:,0],x=x))*(L[:,-1]>q_alpha_hat)\n"
     ]
    },
    {
     "output_type": "stream",
     "name": "stdout",
     "text": [
      "IS_NN: [-2.84340111  0.39114849]\n",
      "VaR_hat_NN: 8.348210334777832\n",
      "ES_hat_NN: 8.511427603818532\n",
      "q_alpha_IS_hat_RF: 8.62023634847324\n"
     ]
    },
    {
     "output_type": "stream",
     "name": "stderr",
     "text": [
      "/scratch/slurm_tmpdir/job_20161971/ipykernel_3598697/3406871675.py:15: RuntimeWarning: divide by zero encountered in true_divide\n",
      "  return np.sqrt(f(y=L[:,0])/f_theta(y=L[:,0],x=x))*(L[:,-1]>q_alpha_hat)\n",
      "/scratch/slurm_tmpdir/job_20161971/ipykernel_3598697/3406871675.py:15: RuntimeWarning: overflow encountered in true_divide\n",
      "  return np.sqrt(f(y=L[:,0])/f_theta(y=L[:,0],x=x))*(L[:,-1]>q_alpha_hat)\n",
      "/scratch/slurm_tmpdir/job_20161971/ipykernel_3598697/3406871675.py:15: RuntimeWarning: invalid value encountered in multiply\n",
      "  return np.sqrt(f(y=L[:,0])/f_theta(y=L[:,0],x=x))*(L[:,-1]>q_alpha_hat)\n"
     ]
    },
    {
     "output_type": "stream",
     "name": "stdout",
     "text": [
      "IS_RF: [-2.70750889  0.42019202]\n",
      "VaR_hat_RF: 8.38059331725033\n",
      "ES_hat_RF: 8.510981787603118\n",
      "38\n"
     ]
    }
   ],
   "metadata": {}
  }
 ],
 "metadata": {
  "interpreter": {
   "hash": "5b88b057cf34efecd776605b6493619ffcb4d411e0887d16b1b551b502979a3a"
  },
  "kernelspec": {
   "display_name": "Python 3 (ipykernel)",
   "language": "python",
   "name": "python3"
  },
  "language_info": {
   "codemirror_mode": {
    "name": "ipython",
    "version": 3
   },
   "file_extension": ".py",
   "mimetype": "text/x-python",
   "name": "python",
   "nbconvert_exporter": "python",
   "pygments_lexer": "ipython3",
   "version": "3.8.0"
  }
 },
 "nbformat": 4,
 "nbformat_minor": 4
}