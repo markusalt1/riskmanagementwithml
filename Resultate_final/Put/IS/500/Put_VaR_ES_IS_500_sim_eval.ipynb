{
 "cells": [
  {
   "cell_type": "code",
   "execution_count": 1,
   "source": [
    "import joblib\r\n",
    "import os\r\n",
    "import numpy as np\r\n",
    "\r\n",
    "#folder with saved estimations produced by Put_VaR_ES_IS_500_sim.ipynb\r\n",
    "filepath = \".../Resultate_final/Put/IS/500/Put_VaR_ES_IS_500_sim_saved/\""
   ],
   "outputs": [],
   "metadata": {}
  },
  {
   "cell_type": "code",
   "execution_count": 2,
   "source": [
    "results_NN = []\r\n",
    "results_RF = []\r\n",
    "\r\n",
    "for filename in os.listdir(filepath):\r\n",
    "    if filename!='.ipynb_checkpoints':\r\n",
    "        results_NN.append(joblib.load(filepath+filename)[0])\r\n",
    "        results_RF.append(joblib.load(filepath+filename)[1])\r\n",
    "    \r\n",
    "results_NN_avg = np.mean(results_NN,axis=0)\r\n",
    "results_RF_avg = np.mean(results_RF,axis=0)\r\n",
    "results_NN_var = np.var(results_NN,axis=0)\r\n",
    "results_RF_var = np.var(results_RF,axis=0)"
   ],
   "outputs": [],
   "metadata": {}
  },
  {
   "cell_type": "markdown",
   "source": [
    "Averages and variances of resulting estimations and metrics. To see which value corresponds to what quantity, see how results are output at the end of Put_sim.ipynb."
   ],
   "metadata": {}
  },
  {
   "cell_type": "code",
   "execution_count": 3,
   "source": [
    "results_NN_avg"
   ],
   "outputs": [
    {
     "output_type": "execute_result",
     "data": {
      "text/plain": [
       "array([ 6.17241358e+01,  6.17129883e+01, -9.19624446e-04, -7.97114742e-03,\n",
       "       -1.03008435e-03,  1.10459905e-04, -2.74936574e+00,  3.86850836e-01,\n",
       "        8.26568230e+00,  8.42764095e+00])"
      ]
     },
     "metadata": {},
     "execution_count": 3
    }
   ],
   "metadata": {}
  },
  {
   "cell_type": "code",
   "execution_count": 4,
   "source": [
    "results_RF_avg"
   ],
   "outputs": [
    {
     "output_type": "execute_result",
     "data": {
      "text/plain": [
       "array([ 6.07150072e+01,  6.07342254e+01, -6.58317024e-04,  5.57613213e-03,\n",
       "       -6.64208491e-04,  0.00000000e+00, -2.62682264e+00,  4.48940366e-01,\n",
       "        8.34371304e+00,  8.51294860e+00])"
      ]
     },
     "metadata": {},
     "execution_count": 4
    }
   ],
   "metadata": {}
  },
  {
   "cell_type": "code",
   "execution_count": 5,
   "source": [
    "results_NN_var"
   ],
   "outputs": [
    {
     "output_type": "execute_result",
     "data": {
      "text/plain": [
       "array([2.58290839e+01, 2.58688983e+01, 9.73780295e-04, 7.66663020e-02,\n",
       "       9.72344791e-04, 1.20793768e-06, 3.49302077e-01, 2.60360791e-03,\n",
       "       3.06404651e-01, 3.32607439e-01])"
      ]
     },
     "metadata": {},
     "execution_count": 5
    }
   ],
   "metadata": {}
  },
  {
   "cell_type": "code",
   "execution_count": 6,
   "source": [
    "results_RF_var"
   ],
   "outputs": [
    {
     "output_type": "execute_result",
     "data": {
      "text/plain": [
       "array([7.96202972e-01, 8.05556125e-01, 1.52861546e-04, 1.08474796e-02,\n",
       "       1.52833082e-04, 0.00000000e+00, 1.09162914e-02, 1.30345165e-03,\n",
       "       3.91639423e-04, 8.23012774e-05])"
      ]
     },
     "metadata": {},
     "execution_count": 6
    }
   ],
   "metadata": {}
  },
  {
   "cell_type": "code",
   "execution_count": 7,
   "source": [
    "len(os.listdir(filepath))"
   ],
   "outputs": [
    {
     "output_type": "execute_result",
     "data": {
      "text/plain": [
       "100"
      ]
     },
     "metadata": {},
     "execution_count": 7
    }
   ],
   "metadata": {}
  }
 ],
 "metadata": {
  "kernelspec": {
   "display_name": "Python 3 (ipykernel)",
   "language": "python",
   "name": "python3"
  },
  "language_info": {
   "codemirror_mode": {
    "name": "ipython",
    "version": 3
   },
   "file_extension": ".py",
   "mimetype": "text/x-python",
   "name": "python",
   "nbconvert_exporter": "python",
   "pygments_lexer": "ipython3",
   "version": "3.8.0"
  }
 },
 "nbformat": 4,
 "nbformat_minor": 5
}